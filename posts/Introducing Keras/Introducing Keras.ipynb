{
 "cells": [
  {
   "cell_type": "markdown",
   "source": [
    "---\n",
    "title: \"Introducing Keras\"\n",
    "format:\n",
    "  html:\n",
    "    code-fold: true\n",
    "jupyter: python3\n",
    "author: \"kakamana\"\n",
    "date: \"2023-04-06\"\n",
    "categories: [python, datacamp, machine learning, deep learning, keras, neural network]\n",
    "image: \"introKeras.png\"\n",
    "\n",
    "---"
   ],
   "metadata": {
    "collapsed": false
   }
  },
  {
   "cell_type": "markdown",
   "source": [
    "# Introducing Keras\n",
    "\n",
    "The purpose of this first chapter is to introduce you to neural networks, to understand what kinds of problems they can solve, and when they should be used. Moreover, you will build several networks and save the earth by training a regression model that approximates the orbit of a meteor approaching the earth.\n",
    "\n",
    "This **Introducing Keras** is part of [Datacamp course: Introduction to Deep Learning with Keras] There is no denying that deep learning is here to stay! A powerful innovation tool, it is used to solve complex problems arising from unstructured data. It is among the frameworks that make it easier to develop deep learning models, and it is versatile enough to build industry-ready models quickly. In this course, you will learn regression and save the earth by predicting asteroid trajectory, apply binary classification to distinguish real and fake dollar bills, learn to apply multiclass classification to decide who threw which dart at a dart board, and use neural networks to reconstruct noisy images. Additionally, you will learn how to tune your models to enhance their performance during training.\n",
    "\n",
    "This is my learning experience of data science through DataCamp. These repository contributions are part of my learning journey through my graduate program masters of applied data sciences (MADS) at University Of Michigan, [DeepLearning.AI], [Coursera] & [DataCamp]. You can find my similar articles & more stories at my [medium] & [LinkedIn] profile. I am available at [kaggle] & [github blogs] & [github repos]. Thank you for your motivation, support & valuable feedback.\n",
    "\n",
    "These include projects, coursework & notebook which I learned through my data science journey. They are created for reproducible & future reference purpose only. All source code, slides or screenshot are intellactual property of respective content authors. If you find these contents beneficial, kindly consider learning subscription from [DeepLearning.AI Subscription], [Coursera], [DataCamp]\n",
    "\n",
    "\n",
    "\n",
    "[DeepLearning.AI]: https://www.deeplearning.ai\n",
    "[DeepLearning.AI Subscription]: https://www.deeplearning.ai\n",
    "[Coursera]: https://www.coursera.org\n",
    "[DataCamp]: https://www.datacamp.com\n",
    "[medium]: https://medium.com/@kamig4u\n",
    "[LinkedIn]: https://www.linkedin.com/in/asadenterprisearchitect\n",
    "[kaggle]: https://www.kaggle.com/kakamana\n",
    "[github blogs]: https://kakamana.github.io\n",
    "[github repos]: https://github.com/kakamana\n",
    "[Datacamp course: Introduction to Natural Language Processing in Python]: (https://app.datacamp.com/learn/courses/introduction-to-deep-learning-with-keras)"
   ],
   "metadata": {
    "collapsed": false
   }
  },
  {
   "cell_type": "code",
   "execution_count": 8,
   "outputs": [],
   "source": [
    "import numpy as np\n",
    "import pandas as pd\n",
    "import tensorflow as tf\n",
    "import matplotlib.pyplot as plt\n",
    "\n",
    "plt.rcParams['figure.figsize'] = (8, 8)"
   ],
   "metadata": {
    "collapsed": false
   }
  },
  {
   "cell_type": "markdown",
   "source": [
    "# What is Keras?\n",
    "\n",
    "* Keras + Tensorflow\n",
    "    * Tensorflow's high level framework of choice\n",
    "    * Keras is complementary to Tensorflow\n",
    "* Deep learning framework\n",
    "* Enable fast experimentation\n",
    "* Runs on top of other frameworks\n",
    "* Feature Engineering\n",
    "\n",
    "![](IntroKeras-1.png)\n",
    "\n",
    "* Why use Keras?\n",
    "    * Fast industry-ready models\n",
    "    * For beginners and expers\n",
    "    * Less code\n",
    "    * Build any architecture\n",
    "    * Deploy models in multiple platforms\n",
    "\n",
    "![](IntroKeras-2.png)\n",
    "\n",
    "\n"
   ],
   "metadata": {
    "collapsed": false
   }
  },
  {
   "cell_type": "markdown",
   "source": [
    "# First neural network\n",
    "\n",
    "![](IntroKeras-3.png)\n",
    "![](IntroKeras-4.png)\n",
    "![](IntroKeras-5.png)\n",
    "![](IntroKeras-6.png)"
   ],
   "metadata": {
    "collapsed": false
   }
  },
  {
   "cell_type": "markdown",
   "source": [
    "## Hello nets!\n",
    "You're going to build a simple neural network to get a feeling of how quickly it is to accomplish this in Keras.\n",
    "\n",
    "You will build a network that takes two numbers as an input, passes them through a hidden layer of 10 neurons, and finally outputs a single non-constrained number.\n",
    "\n",
    "A non-constrained output can be obtained by avoiding setting an activation function in the output layer. This is useful for problems like regression, when we want our output to be able to take any non-constrained value\n",
    "\n",
    "![](IntroKeras-6.png)"
   ],
   "metadata": {
    "collapsed": false
   }
  },
  {
   "cell_type": "code",
   "execution_count": 9,
   "outputs": [
    {
     "name": "stdout",
     "output_type": "stream",
     "text": [
      "Model: \"sequential_4\"\n",
      "_________________________________________________________________\n",
      " Layer (type)                Output Shape              Param #   \n",
      "=================================================================\n",
      " dense_8 (Dense)             (None, 10)                30        \n",
      "                                                                 \n",
      " dense_9 (Dense)             (None, 1)                 11        \n",
      "                                                                 \n",
      "=================================================================\n",
      "Total params: 41\n",
      "Trainable params: 41\n",
      "Non-trainable params: 0\n",
      "_________________________________________________________________\n"
     ]
    }
   ],
   "source": [
    "# Import the Sequential model and Dense layer\n",
    "from tensorflow.keras.models import Sequential\n",
    "from tensorflow.keras.layers import Dense\n",
    "\n",
    "# Create a Sequential model\n",
    "model = Sequential()\n",
    "\n",
    "# Add an input layer and a hidden layer with 10 neurons\n",
    "model.add(Dense(10, input_shape=(2,), activation=\"relu\"))\n",
    "\n",
    "# Add a 1-neuron output layer\n",
    "model.add(Dense(1))\n",
    "\n",
    "# Summarise your model\n",
    "model.summary()"
   ],
   "metadata": {
    "collapsed": false
   }
  },
  {
   "cell_type": "markdown",
   "source": [
    "## Counting parameters\n",
    "\n",
    "You’ve just created a neural network. Create a new one now and take some time to think about the weights of each layer. The Keras Dense layer and the Sequential model are already loaded for you to use\n",
    "\n",
    "![](IntroKeras-8.png)\n",
    "\n",
    "This is network you are creating"
   ],
   "metadata": {
    "collapsed": false
   }
  },
  {
   "cell_type": "code",
   "execution_count": 10,
   "outputs": [
    {
     "name": "stdout",
     "output_type": "stream",
     "text": [
      "Model: \"sequential_5\"\n",
      "_________________________________________________________________\n",
      " Layer (type)                Output Shape              Param #   \n",
      "=================================================================\n",
      " dense_10 (Dense)            (None, 5)                 20        \n",
      "                                                                 \n",
      " dense_11 (Dense)            (None, 1)                 6         \n",
      "                                                                 \n",
      "=================================================================\n",
      "Total params: 26\n",
      "Trainable params: 26\n",
      "Non-trainable params: 0\n",
      "_________________________________________________________________\n"
     ]
    }
   ],
   "source": [
    "# Instantiate a new Sequential model\n",
    "model = Sequential()\n",
    "\n",
    "# Add a Dense layer with five neurons and three inputs\n",
    "model.add(Dense(5, input_shape=(3,), activation=\"relu\"))\n",
    "\n",
    "# Add a final Dense layer with one neuron and no activation\n",
    "model.add(Dense(1))\n",
    "\n",
    "# Summarize your model\n",
    "model.summary()"
   ],
   "metadata": {
    "collapsed": false
   }
  },
  {
   "cell_type": "markdown",
   "source": [
    "## Build as shown!\n",
    "\n",
    "You will take on a final challenge before moving on to the next lesson. Build the network shown in the picture below.\n",
    "\n",
    "![](IntroKeras-9.png)"
   ],
   "metadata": {
    "collapsed": false
   }
  },
  {
   "cell_type": "code",
   "execution_count": 11,
   "outputs": [
    {
     "name": "stdout",
     "output_type": "stream",
     "text": [
      "Model: \"sequential_6\"\n",
      "_________________________________________________________________\n",
      " Layer (type)                Output Shape              Param #   \n",
      "=================================================================\n",
      " dense_12 (Dense)            (None, 3)                 9         \n",
      "                                                                 \n",
      " dense_13 (Dense)            (None, 1)                 4         \n",
      "                                                                 \n",
      "=================================================================\n",
      "Total params: 13\n",
      "Trainable params: 13\n",
      "Non-trainable params: 0\n",
      "_________________________________________________________________\n"
     ]
    }
   ],
   "source": [
    "from tensorflow.keras.models import Sequential\n",
    "from tensorflow.keras.layers import Dense\n",
    "\n",
    "# Instantiate a Sequential model\n",
    "model = Sequential()\n",
    "\n",
    "# Build the input and hidden layer\n",
    "model.add(Dense(3,input_shape=(2,)))\n",
    "\n",
    "# Add the ouput layer\n",
    "model.add(Dense(1))\n",
    "\n",
    "model.summary()"
   ],
   "metadata": {
    "collapsed": false
   }
  },
  {
   "cell_type": "markdown",
   "source": [
    "# Surviving a meteor strike\n",
    "\n",
    "![](IntroKeras-10.png)"
   ],
   "metadata": {
    "collapsed": false
   }
  },
  {
   "cell_type": "markdown",
   "source": [
    "## Specifying a model\n",
    "You will build a simple regression model to predict the orbit of the meteor!\n",
    "\n",
    "Your training data consist of measurements taken at time steps from -10 minutes before the impact region to +10 minutes after. Each time step can be viewed as an X coordinate in our graph, which has an associated position Y for the meteor orbit at that time step.\n",
    "\n",
    "\n",
    "Note that you can view this problem as approximating a quadratic function via the use of neural networks.\n",
    "\n",
    "![](IntroKeras-11.png)\n",
    "\n",
    "This data is stored in two numpy arrays: one called time_steps , what we call features, and another called y_positions, with the labels. Go on and build your model! It should be able to predict the y positions for the meteor orbit at future time steps."
   ],
   "metadata": {
    "collapsed": false
   }
  },
  {
   "cell_type": "code",
   "execution_count": 12,
   "outputs": [
    {
     "data": {
      "text/plain": "   time_steps           y\n0  -10.000000  100.000000\n1   -9.989995   99.800000\n2   -9.979990   99.600200\n3   -9.969985   99.400601\n4   -9.959980   99.201201",
      "text/html": "<div>\n<style scoped>\n    .dataframe tbody tr th:only-of-type {\n        vertical-align: middle;\n    }\n\n    .dataframe tbody tr th {\n        vertical-align: top;\n    }\n\n    .dataframe thead th {\n        text-align: right;\n    }\n</style>\n<table border=\"1\" class=\"dataframe\">\n  <thead>\n    <tr style=\"text-align: right;\">\n      <th></th>\n      <th>time_steps</th>\n      <th>y</th>\n    </tr>\n  </thead>\n  <tbody>\n    <tr>\n      <th>0</th>\n      <td>-10.000000</td>\n      <td>100.000000</td>\n    </tr>\n    <tr>\n      <th>1</th>\n      <td>-9.989995</td>\n      <td>99.800000</td>\n    </tr>\n    <tr>\n      <th>2</th>\n      <td>-9.979990</td>\n      <td>99.600200</td>\n    </tr>\n    <tr>\n      <th>3</th>\n      <td>-9.969985</td>\n      <td>99.400601</td>\n    </tr>\n    <tr>\n      <th>4</th>\n      <td>-9.959980</td>\n      <td>99.201201</td>\n    </tr>\n  </tbody>\n</table>\n</div>"
     },
     "execution_count": 12,
     "metadata": {},
     "output_type": "execute_result"
    }
   ],
   "source": [
    "orbit = pd.read_csv('dataset/orbit.csv')\n",
    "orbit.head()"
   ],
   "metadata": {
    "collapsed": false
   }
  },
  {
   "cell_type": "code",
   "execution_count": 13,
   "outputs": [],
   "source": [
    "time_steps = orbit['time_steps'].to_numpy()\n",
    "y_positions = orbit['y'].to_numpy()"
   ],
   "metadata": {
    "collapsed": false
   }
  },
  {
   "cell_type": "code",
   "execution_count": 14,
   "outputs": [
    {
     "name": "stdout",
     "output_type": "stream",
     "text": [
      "\n",
      "You are closer to forecasting the meteor orbit! It's important to note we aren't using an activation function in our output layer since y_positions aren't bounded and they can take any value. Your model is built to perform a regression task\n"
     ]
    }
   ],
   "source": [
    "model = Sequential()\n",
    "\n",
    "# Add a Dense layer with 50 neurons and an input of 1 neuron\n",
    "model.add(Dense(50, input_shape=(1, ), activation='relu'))\n",
    "\n",
    "# Add two Dense layers with 50 neurons and relu activation\n",
    "model.add(Dense(50, activation='relu'))\n",
    "model.add(Dense(50, activation='relu'))\n",
    "\n",
    "# End your model with a Dense layer and no activation\n",
    "model.add(Dense(1))\n",
    "print(\"\\nYou are closer to forecasting the meteor orbit! It's important to note we aren't using an activation function in our output layer since y_positions aren't bounded and they can take any value. Your model is built to perform a regression task\")"
   ],
   "metadata": {
    "collapsed": false
   }
  },
  {
   "cell_type": "markdown",
   "source": [
    "## Training\n",
    "You're going to train your first model in this course, and for a good cause!\n",
    "\n",
    "Remember that before training your Keras models you need to compile them. This can be done with the .compile() method. The .compile() method takes arguments such as the optimizer, used for weight updating, and the loss function, which is what we want to minimize. Training your model is as easy as calling the .fit() method, passing on the features, labels and a number of epochs to train for. Train it and evaluate it on this very same data, let's see if your model can learn the meteor's trajectory."
   ],
   "metadata": {
    "collapsed": false
   }
  },
  {
   "cell_type": "code",
   "execution_count": 15,
   "outputs": [
    {
     "name": "stdout",
     "output_type": "stream",
     "text": [
      "Training started..., this can take a while:\n",
      "Epoch 1/30\n"
     ]
    },
    {
     "name": "stderr",
     "output_type": "stream",
     "text": [
      "2023-04-06 07:31:30.483461: W tensorflow/tsl/platform/profile_utils/cpu_utils.cc:128] Failed to get CPU frequency: 0 Hz\n"
     ]
    },
    {
     "name": "stdout",
     "output_type": "stream",
     "text": [
      "63/63 [==============================] - 1s 5ms/step - loss: 1555.1772\n",
      "Epoch 2/30\n",
      "63/63 [==============================] - 0s 4ms/step - loss: 250.0806\n",
      "Epoch 3/30\n",
      "63/63 [==============================] - 0s 4ms/step - loss: 137.0985\n",
      "Epoch 4/30\n",
      "63/63 [==============================] - 0s 4ms/step - loss: 117.7206\n",
      "Epoch 5/30\n",
      "63/63 [==============================] - 0s 4ms/step - loss: 95.1392\n",
      "Epoch 6/30\n",
      "63/63 [==============================] - 0s 4ms/step - loss: 73.8897\n",
      "Epoch 7/30\n",
      "63/63 [==============================] - 0s 4ms/step - loss: 53.5082\n",
      "Epoch 8/30\n",
      "63/63 [==============================] - 0s 4ms/step - loss: 37.2037\n",
      "Epoch 9/30\n",
      "63/63 [==============================] - 0s 4ms/step - loss: 24.1432\n",
      "Epoch 10/30\n",
      "63/63 [==============================] - 0s 4ms/step - loss: 15.4662\n",
      "Epoch 11/30\n",
      "63/63 [==============================] - 0s 4ms/step - loss: 9.9149\n",
      "Epoch 12/30\n",
      "63/63 [==============================] - 0s 4ms/step - loss: 7.0810\n",
      "Epoch 13/30\n",
      "63/63 [==============================] - 0s 4ms/step - loss: 4.8009\n",
      "Epoch 14/30\n",
      "63/63 [==============================] - 0s 4ms/step - loss: 3.5325\n",
      "Epoch 15/30\n",
      "63/63 [==============================] - 0s 4ms/step - loss: 2.7641\n",
      "Epoch 16/30\n",
      "63/63 [==============================] - 0s 4ms/step - loss: 2.1755\n",
      "Epoch 17/30\n",
      "63/63 [==============================] - 0s 4ms/step - loss: 1.5552\n",
      "Epoch 18/30\n",
      "63/63 [==============================] - 0s 4ms/step - loss: 1.2003\n",
      "Epoch 19/30\n",
      "63/63 [==============================] - 0s 4ms/step - loss: 1.1083\n",
      "Epoch 20/30\n",
      "63/63 [==============================] - 0s 4ms/step - loss: 0.8658\n",
      "Epoch 21/30\n",
      "63/63 [==============================] - 0s 4ms/step - loss: 0.6793\n",
      "Epoch 22/30\n",
      "63/63 [==============================] - 0s 4ms/step - loss: 0.5371\n",
      "Epoch 23/30\n",
      "63/63 [==============================] - 0s 4ms/step - loss: 0.4561\n",
      "Epoch 24/30\n",
      "63/63 [==============================] - 0s 4ms/step - loss: 0.4162\n",
      "Epoch 25/30\n",
      "63/63 [==============================] - 0s 4ms/step - loss: 0.3474\n",
      "Epoch 26/30\n",
      "63/63 [==============================] - 0s 4ms/step - loss: 0.3001\n",
      "Epoch 27/30\n",
      "63/63 [==============================] - 0s 4ms/step - loss: 0.3633\n",
      "Epoch 28/30\n",
      "63/63 [==============================] - 0s 4ms/step - loss: 0.2325\n",
      "Epoch 29/30\n",
      "63/63 [==============================] - 0s 4ms/step - loss: 0.1830\n",
      "Epoch 30/30\n",
      "63/63 [==============================] - 0s 4ms/step - loss: 0.1686\n",
      "63/63 [==============================] - 0s 3ms/step - loss: 0.1349\n",
      "Final loss value: 0.13486835360527039\n",
      "\n",
      "You can check the console to see how the loss function decreased as epochs went by. Your model is now ready to make predictions on unseen data\n"
     ]
    }
   ],
   "source": [
    "model.compile(optimizer='adam', loss='mse')\n",
    "\n",
    "print('Training started..., this can take a while:')\n",
    "\n",
    "# Fit your model on your data for 30 epochs\n",
    "model.fit(time_steps, y_positions, epochs=30)\n",
    "\n",
    "# Evaluate your model\n",
    "print(\"Final loss value:\", model.evaluate(time_steps, y_positions))\n",
    "print(\"\\nYou can check the console to see how the loss function decreased as epochs went by. Your model is now ready to make predictions on unseen data\")"
   ],
   "metadata": {
    "collapsed": false
   }
  },
  {
   "cell_type": "markdown",
   "source": [
    "## Predicting the orbit!\n",
    "You've already trained a model that approximates the orbit of the meteor approaching Earth and it's loaded for you to use.\n",
    "\n",
    "Since you trained your model for values between -10 and 10 minutes, your model hasn't yet seen any other values for different time steps. You will now visualize how your model behaves on unseen data.\n",
    "\n",
    "Hurry up, the Earth is running out of time!\n",
    "\n",
    "Remember np.arange(x,y) produces a range of values from x to y-1. That is the [x, y) interval."
   ],
   "metadata": {
    "collapsed": false
   }
  },
  {
   "cell_type": "code",
   "execution_count": 16,
   "outputs": [],
   "source": [
    "def plot_orbit(model_preds):\n",
    "    axeslim = int(len(model_preds) / 2)\n",
    "    plt.plot(np.arange(-axeslim, axeslim + 1),np.arange(-axeslim, axeslim + 1) ** 2,\n",
    "             color=\"mediumslateblue\")\n",
    "    plt.plot(np.arange(-axeslim, axeslim + 1),model_preds,color=\"orange\")\n",
    "    plt.axis([-40, 41, -5, 550])\n",
    "    plt.legend([\"Scientist's Orbit\", 'Your orbit'],loc=\"lower left\")\n",
    "    plt.title(\"Predicted orbit vs Scientist's Orbit\")"
   ],
   "metadata": {
    "collapsed": false
   }
  },
  {
   "cell_type": "code",
   "execution_count": 17,
   "outputs": [
    {
     "name": "stdout",
     "output_type": "stream",
     "text": [
      "1/1 [==============================] - 0s 58ms/step\n"
     ]
    },
    {
     "data": {
      "text/plain": "<Figure size 800x800 with 1 Axes>",
      "image/png": "[encoded data removed]"
     },
     "metadata": {},
     "output_type": "display_data"
    }
   ],
   "source": [
    "twenty_min_orbit = model.predict(np.arange(-10, 11))\n",
    "\n",
    "# Plot the twenty minute orbit\n",
    "plot_orbit(twenty_min_orbit)"
   ],
   "metadata": {
    "collapsed": false
   }
  },
  {
   "cell_type": "code",
   "execution_count": 18,
   "outputs": [
    {
     "name": "stdout",
     "output_type": "stream",
     "text": [
      "3/3 [==============================] - 0s 11ms/step\n"
     ]
    },
    {
     "data": {
      "text/plain": "<Figure size 800x800 with 1 Axes>",
      "image/png": "[encoded data removed]"
     },
     "metadata": {},
     "output_type": "display_data"
    }
   ],
   "source": [
    "eighty_min_orbit = model.predict(np.arange(-40, 41))\n",
    "\n",
    "# Plot the eighty minute orbit\n",
    "plot_orbit(eighty_min_orbit)"
   ],
   "metadata": {
    "collapsed": false
   }
  },
  {
   "cell_type": "code",
   "execution_count": 20,
   "outputs": [
    {
     "name": "stdout",
     "output_type": "stream",
     "text": [
      "\n",
      "Your model fits perfectly to the scientists trajectory for time values between -10 to +10, the region where the meteor crosses the impact region, so we won't be hit! However, it starts to diverge when predicting for new values we haven't trained for. This shows neural networks learn according to the data they are fed with. Data quality and diversity are very important.\n"
     ]
    }
   ],
   "source": [
    "print(\"\\nYour model fits perfectly to the scientists trajectory for time values between -10 to +10, the region where the meteor crosses the impact region, so we won't be hit! However, it starts to diverge when predicting for new values we haven't trained for. This shows neural networks learn according to the data they are fed with. Data quality and diversity are very important.\")"
   ],
   "metadata": {
    "collapsed": false
   }
  },
  {
   "cell_type": "code",
   "execution_count": null,
   "outputs": [],
   "source": [],
   "metadata": {
    "collapsed": false
   }
  }
 ],
 "metadata": {
  "kernelspec": {
   "display_name": "Python 3",
   "language": "python",
   "name": "python3"
  },
  "language_info": {
   "codemirror_mode": {
    "name": "ipython",
    "version": 2
   },
   "file_extension": ".py",
   "mimetype": "text/x-python",
   "name": "python",
   "nbconvert_exporter": "python",
   "pygments_lexer": "ipython2",
   "version": "2.7.6"
  }
 },
 "nbformat": 4,
 "nbformat_minor": 0
}
