{
 "cells": [
  {
   "cell_type": "markdown",
   "source": [
    "---\n",
    "title: \"Sampling Methods\"\n",
    "format:\n",
    "  html:\n",
    "    code-fold: true\n",
    "jupyter: python3\n",
    "author: \"kakamana\"\n",
    "date: \"2023-01-13\"\n",
    "categories: [python, datacamp, statistics, machine learning, sampling ]\n",
    "image: \"samplingMethods.jpg\"\n",
    "\n",
    "---"
   ],
   "metadata": {
    "collapsed": false,
    "pycharm": {
     "name": "#%% md\n"
    }
   }
  },
  {
   "cell_type": "markdown",
   "source": [
    "# Sampling Methods\n",
    "\n",
    "It’s time to get hands-on and perform the four random sampling methods in Python: simple, systematic, stratified, and cluster.\n",
    "\n",
    "This **Sampling Methods** is part of [Datacamp course: Introduction to sampling](https://app.datacamp.com/learn/courses/sampling-in-python)\n",
    "\n",
    "This is my learning experience of data science through DataCamp"
   ],
   "metadata": {
    "collapsed": false,
    "pycharm": {
     "name": "#%% md\n"
    }
   }
  },
  {
   "cell_type": "code",
   "execution_count": 1,
   "outputs": [],
   "source": [
    "# Import seaborn with alias sns\n",
    "import pandas as pd\n",
    "import seaborn as sns\n",
    "import numpy as np\n",
    "\n",
    "# Import matplotlib.pyplot with alias plt\n",
    "import matplotlib.pyplot as plt"
   ],
   "metadata": {
    "collapsed": false,
    "pycharm": {
     "name": "#%%\n"
    }
   }
  },
  {
   "cell_type": "markdown",
   "source": [
    "## Simple random and systematic sampling\n",
    "\n",
    "Although there are several sampling methods such as:\n",
    "* Simple random sampling\n",
    "* Systematic random sampling\n",
    "* Stratified & weight random sampling\n",
    "* Cluster sampling\n",
    "\n",
    "* Simple random sampling: Work like raffle or lottery & consider simplest method of sampling a population. involves picking rows at random, one at a time, where each row has the same chance of being picked as any other\n",
    "* Systematic random sampling: This samples the population at regular intervals and this method avoid randomness"
   ],
   "metadata": {
    "collapsed": false,
    "pycharm": {
     "name": "#%% md\n"
    }
   }
  },
  {
   "cell_type": "markdown",
   "source": [
    "### Simple random sampling"
   ],
   "metadata": {
    "collapsed": false,
    "pycharm": {
     "name": "#%% md\n"
    }
   }
  },
  {
   "cell_type": "code",
   "execution_count": 2,
   "outputs": [
    {
     "data": {
      "text/plain": "   Age  Attrition     BusinessTravel  DailyRate            Department  \\\n0   21        0.0      Travel_Rarely        391  Research_Development   \n1   19        1.0      Travel_Rarely        528                 Sales   \n2   18        1.0      Travel_Rarely        230  Research_Development   \n3   18        0.0      Travel_Rarely        812                 Sales   \n4   18        1.0  Travel_Frequently       1306                 Sales   \n\n   DistanceFromHome      Education EducationField EnvironmentSatisfaction  \\\n0                15        College  Life_Sciences                    High   \n1                22  Below_College      Marketing               Very_High   \n2                 3       Bachelor  Life_Sciences                    High   \n3                10       Bachelor        Medical               Very_High   \n4                 5       Bachelor      Marketing                  Medium   \n\n   Gender  ...  PerformanceRating RelationshipSatisfaction  StockOptionLevel  \\\n0    Male  ...          Excellent                Very_High                 0   \n1    Male  ...          Excellent                Very_High                 0   \n2    Male  ...          Excellent                     High                 0   \n3  Female  ...          Excellent                      Low                 0   \n4    Male  ...          Excellent                Very_High                 0   \n\n  TotalWorkingYears TrainingTimesLastYear WorkLifeBalance  YearsAtCompany  \\\n0                 0                     6          Better               0   \n1                 0                     2            Good               0   \n2                 0                     2          Better               0   \n3                 0                     2          Better               0   \n4                 0                     3          Better               0   \n\n   YearsInCurrentRole  YearsSinceLastPromotion YearsWithCurrManager  \n0                   0                        0                    0  \n1                   0                        0                    0  \n2                   0                        0                    0  \n3                   0                        0                    0  \n4                   0                        0                    0  \n\n[5 rows x 31 columns]",
      "text/html": "<div>\n<style scoped>\n    .dataframe tbody tr th:only-of-type {\n        vertical-align: middle;\n    }\n\n    .dataframe tbody tr th {\n        vertical-align: top;\n    }\n\n    .dataframe thead th {\n        text-align: right;\n    }\n</style>\n<table border=\"1\" class=\"dataframe\">\n  <thead>\n    <tr style=\"text-align: right;\">\n      <th></th>\n      <th>Age</th>\n      <th>Attrition</th>\n      <th>BusinessTravel</th>\n      <th>DailyRate</th>\n      <th>Department</th>\n      <th>DistanceFromHome</th>\n      <th>Education</th>\n      <th>EducationField</th>\n      <th>EnvironmentSatisfaction</th>\n      <th>Gender</th>\n      <th>...</th>\n      <th>PerformanceRating</th>\n      <th>RelationshipSatisfaction</th>\n      <th>StockOptionLevel</th>\n      <th>TotalWorkingYears</th>\n      <th>TrainingTimesLastYear</th>\n      <th>WorkLifeBalance</th>\n      <th>YearsAtCompany</th>\n      <th>YearsInCurrentRole</th>\n      <th>YearsSinceLastPromotion</th>\n      <th>YearsWithCurrManager</th>\n    </tr>\n  </thead>\n  <tbody>\n    <tr>\n      <th>0</th>\n      <td>21</td>\n      <td>0.0</td>\n      <td>Travel_Rarely</td>\n      <td>391</td>\n      <td>Research_Development</td>\n      <td>15</td>\n      <td>College</td>\n      <td>Life_Sciences</td>\n      <td>High</td>\n      <td>Male</td>\n      <td>...</td>\n      <td>Excellent</td>\n      <td>Very_High</td>\n      <td>0</td>\n      <td>0</td>\n      <td>6</td>\n      <td>Better</td>\n      <td>0</td>\n      <td>0</td>\n      <td>0</td>\n      <td>0</td>\n    </tr>\n    <tr>\n      <th>1</th>\n      <td>19</td>\n      <td>1.0</td>\n      <td>Travel_Rarely</td>\n      <td>528</td>\n      <td>Sales</td>\n      <td>22</td>\n      <td>Below_College</td>\n      <td>Marketing</td>\n      <td>Very_High</td>\n      <td>Male</td>\n      <td>...</td>\n      <td>Excellent</td>\n      <td>Very_High</td>\n      <td>0</td>\n      <td>0</td>\n      <td>2</td>\n      <td>Good</td>\n      <td>0</td>\n      <td>0</td>\n      <td>0</td>\n      <td>0</td>\n    </tr>\n    <tr>\n      <th>2</th>\n      <td>18</td>\n      <td>1.0</td>\n      <td>Travel_Rarely</td>\n      <td>230</td>\n      <td>Research_Development</td>\n      <td>3</td>\n      <td>Bachelor</td>\n      <td>Life_Sciences</td>\n      <td>High</td>\n      <td>Male</td>\n      <td>...</td>\n      <td>Excellent</td>\n      <td>High</td>\n      <td>0</td>\n      <td>0</td>\n      <td>2</td>\n      <td>Better</td>\n      <td>0</td>\n      <td>0</td>\n      <td>0</td>\n      <td>0</td>\n    </tr>\n    <tr>\n      <th>3</th>\n      <td>18</td>\n      <td>0.0</td>\n      <td>Travel_Rarely</td>\n      <td>812</td>\n      <td>Sales</td>\n      <td>10</td>\n      <td>Bachelor</td>\n      <td>Medical</td>\n      <td>Very_High</td>\n      <td>Female</td>\n      <td>...</td>\n      <td>Excellent</td>\n      <td>Low</td>\n      <td>0</td>\n      <td>0</td>\n      <td>2</td>\n      <td>Better</td>\n      <td>0</td>\n      <td>0</td>\n      <td>0</td>\n      <td>0</td>\n    </tr>\n    <tr>\n      <th>4</th>\n      <td>18</td>\n      <td>1.0</td>\n      <td>Travel_Frequently</td>\n      <td>1306</td>\n      <td>Sales</td>\n      <td>5</td>\n      <td>Bachelor</td>\n      <td>Marketing</td>\n      <td>Medium</td>\n      <td>Male</td>\n      <td>...</td>\n      <td>Excellent</td>\n      <td>Very_High</td>\n      <td>0</td>\n      <td>0</td>\n      <td>3</td>\n      <td>Better</td>\n      <td>0</td>\n      <td>0</td>\n      <td>0</td>\n      <td>0</td>\n    </tr>\n  </tbody>\n</table>\n<p>5 rows × 31 columns</p>\n</div>"
     },
     "execution_count": 2,
     "metadata": {},
     "output_type": "execute_result"
    }
   ],
   "source": [
    "attrition_pop=pd.read_feather('dataset/attrition.feather')\n",
    "attrition_pop.head()"
   ],
   "metadata": {
    "collapsed": false,
    "pycharm": {
     "name": "#%%\n"
    }
   }
  },
  {
   "cell_type": "code",
   "execution_count": 3,
   "outputs": [
    {
     "name": "stdout",
     "output_type": "stream",
     "text": [
      "      Age  Attrition     BusinessTravel  DailyRate            Department  \\\n",
      "1134   35        0.0      Travel_Rarely        583  Research_Development   \n",
      "1150   52        0.0         Non-Travel        585                 Sales   \n",
      "531    33        0.0      Travel_Rarely        931  Research_Development   \n",
      "395    31        0.0      Travel_Rarely       1332  Research_Development   \n",
      "392    29        0.0      Travel_Rarely        942  Research_Development   \n",
      "...   ...        ...                ...        ...                   ...   \n",
      "361    27        0.0  Travel_Frequently       1410                 Sales   \n",
      "1180   36        0.0      Travel_Rarely        530                 Sales   \n",
      "230    26        0.0      Travel_Rarely       1443                 Sales   \n",
      "211    29        0.0  Travel_Frequently        410  Research_Development   \n",
      "890    30        0.0  Travel_Frequently       1312  Research_Development   \n",
      "\n",
      "      DistanceFromHome      Education    EducationField  \\\n",
      "1134                25         Master           Medical   \n",
      "1150                29         Master     Life_Sciences   \n",
      "531                 14       Bachelor           Medical   \n",
      "395                 11        College           Medical   \n",
      "392                 15  Below_College     Life_Sciences   \n",
      "...                ...            ...               ...   \n",
      "361                  3  Below_College           Medical   \n",
      "1180                 2         Master     Life_Sciences   \n",
      "230                 23       Bachelor         Marketing   \n",
      "211                  2  Below_College     Life_Sciences   \n",
      "890                  2         Master  Technical_Degree   \n",
      "\n",
      "     EnvironmentSatisfaction  Gender  ...  PerformanceRating  \\\n",
      "1134                    High  Female  ...          Excellent   \n",
      "1150                     Low    Male  ...          Excellent   \n",
      "531                Very_High  Female  ...          Excellent   \n",
      "395                     High    Male  ...          Excellent   \n",
      "392                   Medium  Female  ...          Excellent   \n",
      "...                      ...     ...  ...                ...   \n",
      "361                Very_High  Female  ...        Outstanding   \n",
      "1180                    High  Female  ...          Excellent   \n",
      "230                     High  Female  ...          Excellent   \n",
      "211                Very_High  Female  ...          Excellent   \n",
      "890                Very_High  Female  ...          Excellent   \n",
      "\n",
      "     RelationshipSatisfaction  StockOptionLevel TotalWorkingYears  \\\n",
      "1134                     High                 1                16   \n",
      "1150                   Medium                 2                16   \n",
      "531                 Very_High                 1                 8   \n",
      "395                 Very_High                 0                 6   \n",
      "392                       Low                 1                 6   \n",
      "...                       ...               ...               ...   \n",
      "361                    Medium                 2                 6   \n",
      "1180                     High                 0                17   \n",
      "230                      High                 1                 5   \n",
      "211                      High                 3                 4   \n",
      "890                 Very_High                 0                10   \n",
      "\n",
      "     TrainingTimesLastYear WorkLifeBalance  YearsAtCompany  \\\n",
      "1134                     3            Good              16   \n",
      "1150                     3            Good               9   \n",
      "531                      5          Better               8   \n",
      "395                      2            Good               6   \n",
      "392                      2            Good               5   \n",
      "...                    ...             ...             ...   \n",
      "361                      3          Better               6   \n",
      "1180                     2            Good              13   \n",
      "230                      2            Good               2   \n",
      "211                      3          Better               3   \n",
      "890                      2          Better               9   \n",
      "\n",
      "      YearsInCurrentRole  YearsSinceLastPromotion YearsWithCurrManager  \n",
      "1134                  10                       10                    1  \n",
      "1150                   8                        0                    0  \n",
      "531                    7                        1                    6  \n",
      "395                    5                        0                    1  \n",
      "392                    4                        1                    3  \n",
      "...                  ...                      ...                  ...  \n",
      "361                    5                        0                    4  \n",
      "1180                   7                        6                    7  \n",
      "230                    2                        0                    0  \n",
      "211                    2                        0                    2  \n",
      "890                    7                        0                    7  \n",
      "\n",
      "[70 rows x 31 columns]\n"
     ]
    }
   ],
   "source": [
    "# Sample 70 rows using simple random sampling and set the seed\n",
    "attrition_samp = attrition_pop.sample(n=70, random_state=18900217)\n",
    "\n",
    "# Print the sample\n",
    "print(attrition_samp)"
   ],
   "metadata": {
    "collapsed": false,
    "pycharm": {
     "name": "#%%\n"
    }
   }
  },
  {
   "cell_type": "markdown",
   "source": [
    "### Systematic random sampling"
   ],
   "metadata": {
    "collapsed": false,
    "pycharm": {
     "name": "#%% md\n"
    }
   }
  },
  {
   "cell_type": "code",
   "execution_count": 4,
   "outputs": [
    {
     "name": "stdout",
     "output_type": "stream",
     "text": [
      "      Age  Attrition BusinessTravel  DailyRate            Department  \\\n",
      "0      21        0.0  Travel_Rarely        391  Research_Development   \n",
      "21     19        0.0  Travel_Rarely       1181  Research_Development   \n",
      "42     45        0.0  Travel_Rarely        252  Research_Development   \n",
      "63     23        0.0  Travel_Rarely        373  Research_Development   \n",
      "84     30        1.0  Travel_Rarely        945                 Sales   \n",
      "...   ...        ...            ...        ...                   ...   \n",
      "1365   48        0.0  Travel_Rarely        715  Research_Development   \n",
      "1386   48        0.0  Travel_Rarely       1355  Research_Development   \n",
      "1407   50        0.0  Travel_Rarely        989  Research_Development   \n",
      "1428   50        0.0     Non-Travel        881  Research_Development   \n",
      "1449   52        0.0  Travel_Rarely        699  Research_Development   \n",
      "\n",
      "      DistanceFromHome      Education EducationField EnvironmentSatisfaction  \\\n",
      "0                   15        College  Life_Sciences                    High   \n",
      "21                   3  Below_College        Medical                  Medium   \n",
      "42                   2       Bachelor  Life_Sciences                  Medium   \n",
      "63                   1        College  Life_Sciences               Very_High   \n",
      "84                   9       Bachelor        Medical                  Medium   \n",
      "...                ...            ...            ...                     ...   \n",
      "1365                 1       Bachelor  Life_Sciences               Very_High   \n",
      "1386                 4         Master  Life_Sciences                    High   \n",
      "1407                 7        College        Medical                  Medium   \n",
      "1428                 2         Master  Life_Sciences                     Low   \n",
      "1449                 1         Master  Life_Sciences                    High   \n",
      "\n",
      "      Gender  ...  PerformanceRating RelationshipSatisfaction  \\\n",
      "0       Male  ...          Excellent                Very_High   \n",
      "21    Female  ...          Excellent                Very_High   \n",
      "42    Female  ...          Excellent                Very_High   \n",
      "63      Male  ...        Outstanding                Very_High   \n",
      "84      Male  ...          Excellent                     High   \n",
      "...      ...  ...                ...                      ...   \n",
      "1365    Male  ...          Excellent                     High   \n",
      "1386    Male  ...          Excellent                   Medium   \n",
      "1407  Female  ...          Excellent                Very_High   \n",
      "1428    Male  ...          Excellent                Very_High   \n",
      "1449    Male  ...          Excellent                      Low   \n",
      "\n",
      "      StockOptionLevel TotalWorkingYears TrainingTimesLastYear  \\\n",
      "0                    0                 0                     6   \n",
      "21                   0                 1                     3   \n",
      "42                   0                 1                     3   \n",
      "63                   1                 1                     2   \n",
      "84                   0                 1                     3   \n",
      "...                ...               ...                   ...   \n",
      "1365                 0                25                     3   \n",
      "1386                 0                27                     3   \n",
      "1407                 1                29                     2   \n",
      "1428                 1                31                     3   \n",
      "1449                 1                34                     5   \n",
      "\n",
      "     WorkLifeBalance  YearsAtCompany  YearsInCurrentRole  \\\n",
      "0             Better               0                   0   \n",
      "21            Better               1                   0   \n",
      "42            Better               1                   0   \n",
      "63            Better               1                   0   \n",
      "84              Good               1                   0   \n",
      "...              ...             ...                 ...   \n",
      "1365            Best               1                   0   \n",
      "1386          Better              15                  11   \n",
      "1407            Good              27                   3   \n",
      "1428          Better              31                   6   \n",
      "1449          Better              33                  18   \n",
      "\n",
      "      YearsSinceLastPromotion YearsWithCurrManager  \n",
      "0                           0                    0  \n",
      "21                          0                    0  \n",
      "42                          0                    0  \n",
      "63                          0                    1  \n",
      "84                          0                    0  \n",
      "...                       ...                  ...  \n",
      "1365                        0                    0  \n",
      "1386                        4                    8  \n",
      "1407                       13                    8  \n",
      "1428                       14                    7  \n",
      "1449                       11                    9  \n",
      "\n",
      "[70 rows x 31 columns]\n"
     ]
    }
   ],
   "source": [
    "# Set the sample size to 70\n",
    "sample_size = 70\n",
    "\n",
    "# Calculate the population size from attrition_pop\n",
    "pop_size = len(attrition_pop)\n",
    "\n",
    "# Calculate the interval\n",
    "interval = pop_size // sample_size\n",
    "\n",
    "# Systematically sample 70 rows\n",
    "attrition_sys_samp = attrition_pop.iloc[::interval]\n",
    "\n",
    "# Print the sample\n",
    "print(attrition_sys_samp)"
   ],
   "metadata": {
    "collapsed": false,
    "pycharm": {
     "name": "#%%\n"
    }
   }
  },
  {
   "cell_type": "markdown",
   "source": [
    "### Do you think systematic sampling is appropriate?\n",
    "\n",
    "In the case of systematic sampling, there is a problem: if the data has been sorted or there is a pattern or meaning behind the row order, then the resulting sample may not be representative of the entire population. If the rows are shuffled, the problem can be solved, but then systematic sampling becomes equivalent to simple random sampling."
   ],
   "metadata": {
    "collapsed": false,
    "pycharm": {
     "name": "#%% md\n"
    }
   }
  },
  {
   "cell_type": "code",
   "execution_count": 5,
   "outputs": [
    {
     "data": {
      "text/plain": "<Figure size 432x288 with 1 Axes>",
      "image/png": "[encoded data removed]"
     },
     "metadata": {
      "needs_background": "light"
     },
     "output_type": "display_data"
    }
   ],
   "source": [
    "# Add an index column to attrition_pop\n",
    "attrition_pop_id = attrition_pop.reset_index()\n",
    "\n",
    "# Plot YearsAtCompany vs. index for attrition_pop_id\n",
    "attrition_pop_id.plot(x='index',y='YearsAtCompany',kind='scatter')\n",
    "plt.show()"
   ],
   "metadata": {
    "collapsed": false,
    "pycharm": {
     "name": "#%%\n"
    }
   }
  },
  {
   "cell_type": "code",
   "execution_count": 6,
   "outputs": [
    {
     "data": {
      "text/plain": "<Figure size 432x288 with 1 Axes>",
      "image/png": "[encoded data removed]"
     },
     "metadata": {
      "needs_background": "light"
     },
     "output_type": "display_data"
    }
   ],
   "source": [
    "# Shuffle the rows of attrition_pop\n",
    "attrition_shuffled = attrition_pop.sample(frac=1)\n",
    "\n",
    "# Reset the row indexes and create an index column\n",
    "attrition_shuffled = attrition_shuffled.reset_index(drop=True).reset_index()\n",
    "\n",
    "# Plot YearsAtCompany vs. index for attrition_shuffled\n",
    "attrition_shuffled.plot(x='index',y='YearsAtCompany',kind='scatter')\n",
    "plt.show()"
   ],
   "metadata": {
    "collapsed": false,
    "pycharm": {
     "name": "#%%\n"
    }
   }
  },
  {
   "cell_type": "markdown",
   "source": [
    "### Stratified and weighted random sampling\n",
    "\n",
    "Stratified sampling is a technique that allows us to sample a population that contains subgroups\n",
    "\n",
    "* Weighted random sampling\n",
    "\n",
    "A close relative of stratified sampling that provides even more flexibility is weighted random sampling. In this variant, we create a column of weights that adjust the relative probability of sampling each row."
   ],
   "metadata": {
    "collapsed": false,
    "pycharm": {
     "name": "#%% md\n"
    }
   }
  },
  {
   "cell_type": "markdown",
   "source": [
    "### Sampling by proportional stratification\n",
    "\n",
    "You may need to carefully control the counts of each subgroup within the population if you are interested in subgroups within the population. As a result of proportional stratified sampling, the subgroup sizes within the sample are representative of the subgroup sizes within the population as a whole."
   ],
   "metadata": {
    "collapsed": false,
    "pycharm": {
     "name": "#%% md\n"
    }
   }
  },
  {
   "cell_type": "code",
   "execution_count": 7,
   "outputs": [
    {
     "name": "stdout",
     "output_type": "stream",
     "text": [
      "Bachelor         0.389116\n",
      "Master           0.270748\n",
      "College          0.191837\n",
      "Below_College    0.115646\n",
      "Doctor           0.032653\n",
      "Name: Education, dtype: float64\n"
     ]
    }
   ],
   "source": [
    "# Proportion of employees by Education level\n",
    "education_counts_pop = attrition_pop['Education'].value_counts(normalize=True)\n",
    "\n",
    "# Print education_counts_pop\n",
    "print(education_counts_pop)"
   ],
   "metadata": {
    "collapsed": false,
    "pycharm": {
     "name": "#%%\n"
    }
   }
  },
  {
   "cell_type": "code",
   "execution_count": 8,
   "outputs": [
    {
     "name": "stdout",
     "output_type": "stream",
     "text": [
      "      Age  Attrition     BusinessTravel  DailyRate            Department  \\\n",
      "1191   53        0.0      Travel_Rarely        238                 Sales   \n",
      "407    29        0.0  Travel_Frequently        995  Research_Development   \n",
      "1233   59        0.0  Travel_Frequently       1225                 Sales   \n",
      "366    37        0.0      Travel_Rarely        571  Research_Development   \n",
      "702    31        0.0  Travel_Frequently        163  Research_Development   \n",
      "...   ...        ...                ...        ...                   ...   \n",
      "733    38        0.0  Travel_Frequently        653  Research_Development   \n",
      "1061   44        0.0  Travel_Frequently        602       Human_Resources   \n",
      "1307   41        0.0      Travel_Rarely       1276                 Sales   \n",
      "1060   33        0.0      Travel_Rarely        516  Research_Development   \n",
      "177    29        0.0      Travel_Rarely        738  Research_Development   \n",
      "\n",
      "      DistanceFromHome      Education    EducationField  \\\n",
      "1191                 1  Below_College           Medical   \n",
      "407                  2  Below_College     Life_Sciences   \n",
      "1233                 1  Below_College     Life_Sciences   \n",
      "366                 10  Below_College     Life_Sciences   \n",
      "702                 24  Below_College  Technical_Degree   \n",
      "...                ...            ...               ...   \n",
      "733                 29         Doctor     Life_Sciences   \n",
      "1061                 1         Doctor   Human_Resources   \n",
      "1307                 2         Doctor     Life_Sciences   \n",
      "1060                 8         Doctor     Life_Sciences   \n",
      "177                  9         Doctor             Other   \n",
      "\n",
      "     EnvironmentSatisfaction  Gender  ...  PerformanceRating  \\\n",
      "1191               Very_High  Female  ...        Outstanding   \n",
      "407                      Low    Male  ...          Excellent   \n",
      "1233                     Low  Female  ...          Excellent   \n",
      "366                Very_High  Female  ...          Excellent   \n",
      "702                Very_High  Female  ...        Outstanding   \n",
      "...                      ...     ...  ...                ...   \n",
      "733                Very_High  Female  ...          Excellent   \n",
      "1061                     Low    Male  ...          Excellent   \n",
      "1307                  Medium  Female  ...          Excellent   \n",
      "1060               Very_High    Male  ...          Excellent   \n",
      "177                   Medium    Male  ...          Excellent   \n",
      "\n",
      "     RelationshipSatisfaction  StockOptionLevel TotalWorkingYears  \\\n",
      "1191                Very_High                 0                18   \n",
      "407                 Very_High                 1                 6   \n",
      "1233                Very_High                 0                20   \n",
      "366                    Medium                 2                 6   \n",
      "702                 Very_High                 0                 9   \n",
      "...                       ...               ...               ...   \n",
      "733                 Very_High                 0                10   \n",
      "1061                     High                 0                14   \n",
      "1307                   Medium                 1                22   \n",
      "1060                      Low                 0                14   \n",
      "177                      High                 0                 4   \n",
      "\n",
      "     TrainingTimesLastYear WorkLifeBalance  YearsAtCompany  \\\n",
      "1191                     2            Best              14   \n",
      "407                      0            Best               6   \n",
      "1233                     2            Good               4   \n",
      "366                      3            Good               5   \n",
      "702                      3            Good               5   \n",
      "...                    ...             ...             ...   \n",
      "733                      2          Better              10   \n",
      "1061                     3          Better              10   \n",
      "1307                     2          Better              18   \n",
      "1060                     6          Better               0   \n",
      "177                      2          Better               3   \n",
      "\n",
      "      YearsInCurrentRole  YearsSinceLastPromotion YearsWithCurrManager  \n",
      "1191                   7                        8                   10  \n",
      "407                    4                        1                    3  \n",
      "1233                   3                        1                    3  \n",
      "366                    3                        4                    3  \n",
      "702                    4                        1                    4  \n",
      "...                  ...                      ...                  ...  \n",
      "733                    3                        9                    9  \n",
      "1061                   7                        0                    2  \n",
      "1307                  16                       11                    8  \n",
      "1060                   0                        0                    0  \n",
      "177                    2                        2                    2  \n",
      "\n",
      "[588 rows x 31 columns]\n"
     ]
    }
   ],
   "source": [
    "# Proportional stratified sampling for 40% of each Education group\n",
    "attrition_strat = attrition_pop.groupby('Education').sample(frac=0.4, random_state=2022)\n",
    "\n",
    "# Print the sample\n",
    "print(attrition_strat)"
   ],
   "metadata": {
    "collapsed": false,
    "pycharm": {
     "name": "#%%\n"
    }
   }
  },
  {
   "cell_type": "code",
   "execution_count": 10,
   "outputs": [
    {
     "name": "stdout",
     "output_type": "stream",
     "text": [
      "Bachelor         0.389456\n",
      "Master           0.270408\n",
      "College          0.192177\n",
      "Below_College    0.115646\n",
      "Doctor           0.032313\n",
      "Name: Education, dtype: float64\n",
      "\n",
      "By grouping then sampling, the size of each group in the sample is representative of the size of the sample in the population.\n"
     ]
    }
   ],
   "source": [
    "# Calculate the Education level proportions from attrition_strat\n",
    "education_counts_strat = attrition_strat['Education'].value_counts(normalize=True)\n",
    "\n",
    "# Print education_counts_strat\n",
    "print(education_counts_strat)\n",
    "print('\\nBy grouping then sampling, the size of each group in the sample is representative of the size of the sample in the population.')"
   ],
   "metadata": {
    "collapsed": false,
    "pycharm": {
     "name": "#%%\n"
    }
   }
  },
  {
   "cell_type": "markdown",
   "source": [
    "### A stratified sampling method based on equal counts\n",
    "\n",
    "When one subgroup is larger than another in the population, but you do not want to factor this difference into your analysis, you can use equal counts stratified sampling to generate samples in which each subgroup has the same amount of data."
   ],
   "metadata": {
    "collapsed": false,
    "pycharm": {
     "name": "#%% md\n"
    }
   }
  },
  {
   "cell_type": "code",
   "execution_count": 11,
   "outputs": [
    {
     "name": "stdout",
     "output_type": "stream",
     "text": [
      "      Age  Attrition     BusinessTravel  DailyRate            Department  \\\n",
      "1191   53        0.0      Travel_Rarely        238                 Sales   \n",
      "407    29        0.0  Travel_Frequently        995  Research_Development   \n",
      "1233   59        0.0  Travel_Frequently       1225                 Sales   \n",
      "366    37        0.0      Travel_Rarely        571  Research_Development   \n",
      "702    31        0.0  Travel_Frequently        163  Research_Development   \n",
      "...   ...        ...                ...        ...                   ...   \n",
      "774    33        0.0      Travel_Rarely        922  Research_Development   \n",
      "869    45        0.0      Travel_Rarely       1015  Research_Development   \n",
      "530    32        0.0      Travel_Rarely        120  Research_Development   \n",
      "1049   48        0.0      Travel_Rarely        163                 Sales   \n",
      "350    29        1.0      Travel_Rarely        408  Research_Development   \n",
      "\n",
      "      DistanceFromHome      Education    EducationField  \\\n",
      "1191                 1  Below_College           Medical   \n",
      "407                  2  Below_College     Life_Sciences   \n",
      "1233                 1  Below_College     Life_Sciences   \n",
      "366                 10  Below_College     Life_Sciences   \n",
      "702                 24  Below_College  Technical_Degree   \n",
      "...                ...            ...               ...   \n",
      "774                  1         Doctor           Medical   \n",
      "869                  5         Doctor           Medical   \n",
      "530                  6         Doctor     Life_Sciences   \n",
      "1049                 2         Doctor         Marketing   \n",
      "350                 25         Doctor  Technical_Degree   \n",
      "\n",
      "     EnvironmentSatisfaction  Gender  ...  PerformanceRating  \\\n",
      "1191               Very_High  Female  ...        Outstanding   \n",
      "407                      Low    Male  ...          Excellent   \n",
      "1233                     Low  Female  ...          Excellent   \n",
      "366                Very_High  Female  ...          Excellent   \n",
      "702                Very_High  Female  ...        Outstanding   \n",
      "...                      ...     ...  ...                ...   \n",
      "774                      Low  Female  ...          Excellent   \n",
      "869                     High  Female  ...          Excellent   \n",
      "530                     High    Male  ...        Outstanding   \n",
      "1049                  Medium  Female  ...          Excellent   \n",
      "350                     High  Female  ...          Excellent   \n",
      "\n",
      "     RelationshipSatisfaction  StockOptionLevel TotalWorkingYears  \\\n",
      "1191                Very_High                 0                18   \n",
      "407                 Very_High                 1                 6   \n",
      "1233                Very_High                 0                20   \n",
      "366                    Medium                 2                 6   \n",
      "702                 Very_High                 0                 9   \n",
      "...                       ...               ...               ...   \n",
      "774                      High                 1                10   \n",
      "869                       Low                 0                10   \n",
      "530                       Low                 0                 8   \n",
      "1049                      Low                 1                14   \n",
      "350                    Medium                 0                 6   \n",
      "\n",
      "     TrainingTimesLastYear WorkLifeBalance  YearsAtCompany  \\\n",
      "1191                     2            Best              14   \n",
      "407                      0            Best               6   \n",
      "1233                     2            Good               4   \n",
      "366                      3            Good               5   \n",
      "702                      3            Good               5   \n",
      "...                    ...             ...             ...   \n",
      "774                      2          Better               6   \n",
      "869                      3          Better              10   \n",
      "530                      2          Better               5   \n",
      "1049                     2          Better               9   \n",
      "350                      2            Best               2   \n",
      "\n",
      "      YearsInCurrentRole  YearsSinceLastPromotion YearsWithCurrManager  \n",
      "1191                   7                        8                   10  \n",
      "407                    4                        1                    3  \n",
      "1233                   3                        1                    3  \n",
      "366                    3                        4                    3  \n",
      "702                    4                        1                    4  \n",
      "...                  ...                      ...                  ...  \n",
      "774                    1                        0                    5  \n",
      "869                    7                        1                    4  \n",
      "530                    4                        1                    4  \n",
      "1049                   7                        6                    7  \n",
      "350                    2                        1                    1  \n",
      "\n",
      "[150 rows x 31 columns]\n"
     ]
    }
   ],
   "source": [
    "# Get 30 employees from each Education group\n",
    "attrition_eq = attrition_pop.groupby('Education').sample(n=30, random_state=2022)\n",
    "\n",
    "# Print the sample\n",
    "print(attrition_eq)"
   ],
   "metadata": {
    "collapsed": false,
    "pycharm": {
     "name": "#%%\n"
    }
   }
  },
  {
   "cell_type": "code",
   "execution_count": 12,
   "outputs": [
    {
     "name": "stdout",
     "output_type": "stream",
     "text": [
      "Below_College    0.2\n",
      "College          0.2\n",
      "Bachelor         0.2\n",
      "Master           0.2\n",
      "Doctor           0.2\n",
      "Name: Education, dtype: float64\n"
     ]
    }
   ],
   "source": [
    "# Get the proportions from attrition_eq\n",
    "education_counts_eq = attrition_eq['Education'].value_counts(normalize=True)\n",
    "\n",
    "# Print the results\n",
    "print(education_counts_eq)"
   ],
   "metadata": {
    "collapsed": false,
    "pycharm": {
     "name": "#%%\n"
    }
   }
  },
  {
   "cell_type": "markdown",
   "source": [
    "### Weighted sampling\n",
    "\n",
    "The stratified sampling method determines the probability of picking rows from your dataset based on the subgroups within your dataset. A generalization of this is weighted sampling, which allows you to specify rules regarding the probability of selecting rows at the row level. A row's probability of being selected is proportional to its weight value."
   ],
   "metadata": {
    "collapsed": false,
    "pycharm": {
     "name": "#%% md\n"
    }
   }
  },
  {
   "cell_type": "code",
   "execution_count": 13,
   "outputs": [
    {
     "data": {
      "text/plain": "<Figure size 432x288 with 1 Axes>",
      "image/png": "[encoded data removed]"
     },
     "metadata": {
      "needs_background": "light"
     },
     "output_type": "display_data"
    }
   ],
   "source": [
    "# Plot YearsAtCompany from attrition_pop as a histogram\n",
    "attrition_pop['YearsAtCompany'].hist(bins=np.arange(0,41,1))\n",
    "plt.show()"
   ],
   "metadata": {
    "collapsed": false,
    "pycharm": {
     "name": "#%%\n"
    }
   }
  },
  {
   "cell_type": "code",
   "execution_count": 14,
   "outputs": [
    {
     "name": "stdout",
     "output_type": "stream",
     "text": [
      "      Age  Attrition     BusinessTravel  DailyRate            Department  \\\n",
      "853    36        0.0      Travel_Rarely        172  Research_Development   \n",
      "481    34        0.0  Travel_Frequently        618  Research_Development   \n",
      "1148   38        0.0      Travel_Rarely       1321                 Sales   \n",
      "1430   51        0.0  Travel_Frequently        237                 Sales   \n",
      "517    39        0.0      Travel_Rarely        835  Research_Development   \n",
      "...   ...        ...                ...        ...                   ...   \n",
      "1351   45        0.0      Travel_Rarely       1038  Research_Development   \n",
      "1412   54        0.0      Travel_Rarely        971  Research_Development   \n",
      "1248   47        0.0  Travel_Frequently       1379  Research_Development   \n",
      "1210   36        0.0  Travel_Frequently        688  Research_Development   \n",
      "1328   55        0.0  Travel_Frequently       1091  Research_Development   \n",
      "\n",
      "      DistanceFromHome      Education EducationField EnvironmentSatisfaction  \\\n",
      "853                  4         Master  Life_Sciences                     Low   \n",
      "481                  3  Below_College  Life_Sciences                     Low   \n",
      "1148                 1         Master  Life_Sciences               Very_High   \n",
      "1430                 9       Bachelor  Life_Sciences               Very_High   \n",
      "517                 19         Master          Other               Very_High   \n",
      "...                ...            ...            ...                     ...   \n",
      "1351                20       Bachelor        Medical                  Medium   \n",
      "1412                 1       Bachelor        Medical               Very_High   \n",
      "1248                16         Master        Medical                    High   \n",
      "1210                 4        College  Life_Sciences               Very_High   \n",
      "1328                 2  Below_College  Life_Sciences               Very_High   \n",
      "\n",
      "      Gender  ...  PerformanceRating RelationshipSatisfaction  \\\n",
      "853     Male  ...          Excellent                     High   \n",
      "481     Male  ...          Excellent                     High   \n",
      "1148    Male  ...          Excellent                      Low   \n",
      "1430    Male  ...        Outstanding                      Low   \n",
      "517     Male  ...          Excellent                   Medium   \n",
      "...      ...  ...                ...                      ...   \n",
      "1351    Male  ...          Excellent                   Medium   \n",
      "1412  Female  ...          Excellent                Very_High   \n",
      "1248    Male  ...          Excellent                     High   \n",
      "1210  Female  ...          Excellent                   Medium   \n",
      "1328    Male  ...          Excellent                   Medium   \n",
      "\n",
      "      StockOptionLevel TotalWorkingYears TrainingTimesLastYear  \\\n",
      "853                  0                10                     2   \n",
      "481                  0                 7                     1   \n",
      "1148                 2                16                     3   \n",
      "1430                 1                31                     5   \n",
      "517                  3                 7                     2   \n",
      "...                ...               ...                   ...   \n",
      "1351                 1                24                     2   \n",
      "1412                 0                29                     3   \n",
      "1248                 0                20                     3   \n",
      "1210                 3                18                     3   \n",
      "1328                 1                23                     4   \n",
      "\n",
      "     WorkLifeBalance  YearsAtCompany  YearsInCurrentRole  \\\n",
      "853             Good              10                   4   \n",
      "481             Good               6                   2   \n",
      "1148          Better              15                  13   \n",
      "1430            Good              29                  10   \n",
      "517           Better               2                   2   \n",
      "...              ...             ...                 ...   \n",
      "1351          Better               7                   7   \n",
      "1412            Good              20                   7   \n",
      "1248            Best              19                  10   \n",
      "1210          Better               4                   2   \n",
      "1328          Better               3                   2   \n",
      "\n",
      "      YearsSinceLastPromotion YearsWithCurrManager  \n",
      "853                         1                    8  \n",
      "481                         0                    4  \n",
      "1148                        5                    8  \n",
      "1430                       11                   10  \n",
      "517                         2                    2  \n",
      "...                       ...                  ...  \n",
      "1351                        0                    7  \n",
      "1412                       12                    7  \n",
      "1248                        2                    7  \n",
      "1210                        0                    2  \n",
      "1328                        1                    2  \n",
      "\n",
      "[400 rows x 31 columns]\n"
     ]
    }
   ],
   "source": [
    "# Sample 400 employees weighted by YearsAtCompany\n",
    "attrition_weight = attrition_pop.sample(n=400, weights='YearsAtCompany')\n",
    "\n",
    "# Print the sample\n",
    "print(attrition_weight)"
   ],
   "metadata": {
    "collapsed": false,
    "pycharm": {
     "name": "#%%\n"
    }
   }
  },
  {
   "cell_type": "code",
   "execution_count": 15,
   "outputs": [
    {
     "data": {
      "text/plain": "<Figure size 432x288 with 1 Axes>",
      "image/png": "[encoded data removed]"
     },
     "metadata": {
      "needs_background": "light"
     },
     "output_type": "display_data"
    }
   ],
   "source": [
    "# Plot YearsAtCompany from attrition_weight as a histogram\n",
    "attrition_weight['YearsAtCompany'].hist(bins=np.arange(0,41,1))\n",
    "plt.show()"
   ],
   "metadata": {
    "collapsed": false,
    "pycharm": {
     "name": "#%%\n"
    }
   }
  },
  {
   "cell_type": "code",
   "execution_count": 16,
   "outputs": [
    {
     "data": {
      "text/plain": "<Figure size 432x288 with 1 Axes>",
      "image/png": "[encoded data removed]"
     },
     "metadata": {
      "needs_background": "light"
     },
     "output_type": "display_data"
    },
    {
     "data": {
      "text/plain": "<Figure size 432x288 with 1 Axes>",
      "image/png": "[encoded data removed]"
     },
     "metadata": {
      "needs_background": "light"
     },
     "output_type": "display_data"
    }
   ],
   "source": [
    "# Plot YearsAtCompany from attrition_pop as a histogram\n",
    "attrition_pop['YearsAtCompany'].hist(bins=np.arange(0, 41, 1))\n",
    "plt.show()\n",
    "\n",
    "# Sample 400 employees weighted by YearsAtCompany\n",
    "attrition_weight = attrition_pop.sample(n=400, weights=\"YearsAtCompany\")\n",
    "\n",
    "# Plot YearsAtCompany from attrition_weight as a histogram\n",
    "attrition_weight['YearsAtCompany'].hist(bins=np.arange(0,41,1))\n",
    "plt.show()"
   ],
   "metadata": {
    "collapsed": false,
    "pycharm": {
     "name": "#%%\n"
    }
   }
  },
  {
   "cell_type": "markdown",
   "source": [
    "### Cluster sampling\n",
    "\n",
    "Stratified sampling vs. cluster sampling\n",
    "* Stratified sampling:\n",
    "    * Split the population into subgroups\n",
    "    * Use simple random sampling on every subgroup\n",
    "* Cluster sampling\n",
    "    * Use simple random sampling to pick some subgroups\n",
    "    * Use simple random sampling on only those subgroups"
   ],
   "metadata": {
    "collapsed": false,
    "pycharm": {
     "name": "#%% md\n"
    }
   }
  },
  {
   "cell_type": "code",
   "execution_count": 18,
   "outputs": [
    {
     "name": "stdout",
     "output_type": "stream",
     "text": [
      "['Research_Director', 'Sales_Executive', 'Sales_Representative', 'Laboratory_Technician']\n"
     ]
    }
   ],
   "source": [
    "import random\n",
    "# Create a list of unique JobRole values\n",
    "job_roles_pop = list(attrition_pop['JobRole'].unique())\n",
    "\n",
    "# Randomly sample four JobRole values\n",
    "job_roles_samp = random.sample(job_roles_pop,k=4)\n",
    "\n",
    "# Print the result\n",
    "print(job_roles_samp)"
   ],
   "metadata": {
    "collapsed": false,
    "pycharm": {
     "name": "#%%\n"
    }
   }
  },
  {
   "cell_type": "code",
   "execution_count": 19,
   "outputs": [
    {
     "name": "stdout",
     "output_type": "stream",
     "text": [
      "      Age  Attrition     BusinessTravel  DailyRate            Department  \\\n",
      "1      19        1.0      Travel_Rarely        528                 Sales   \n",
      "2      18        1.0      Travel_Rarely        230  Research_Development   \n",
      "3      18        0.0      Travel_Rarely        812                 Sales   \n",
      "4      18        1.0  Travel_Frequently       1306                 Sales   \n",
      "7      18        1.0         Non-Travel        247  Research_Development   \n",
      "...   ...        ...                ...        ...                   ...   \n",
      "1457   55        0.0      Travel_Rarely        692  Research_Development   \n",
      "1458   56        0.0  Travel_Frequently        906                 Sales   \n",
      "1459   54        0.0      Travel_Rarely        685  Research_Development   \n",
      "1467   58        0.0      Travel_Rarely        682                 Sales   \n",
      "1469   58        1.0      Travel_Rarely        286  Research_Development   \n",
      "\n",
      "      DistanceFromHome      Education EducationField EnvironmentSatisfaction  \\\n",
      "1                   22  Below_College      Marketing               Very_High   \n",
      "2                    3       Bachelor  Life_Sciences                    High   \n",
      "3                   10       Bachelor        Medical               Very_High   \n",
      "4                    5       Bachelor      Marketing                  Medium   \n",
      "7                    8  Below_College        Medical                    High   \n",
      "...                ...            ...            ...                     ...   \n",
      "1457                14         Master        Medical                    High   \n",
      "1458                 6       Bachelor  Life_Sciences                    High   \n",
      "1459                 3       Bachelor  Life_Sciences               Very_High   \n",
      "1467                10         Master        Medical               Very_High   \n",
      "1469                 2         Master  Life_Sciences               Very_High   \n",
      "\n",
      "      Gender  ...  PerformanceRating RelationshipSatisfaction  \\\n",
      "1       Male  ...          Excellent                Very_High   \n",
      "2       Male  ...          Excellent                     High   \n",
      "3     Female  ...          Excellent                      Low   \n",
      "4       Male  ...          Excellent                Very_High   \n",
      "7       Male  ...          Excellent                Very_High   \n",
      "...      ...  ...                ...                      ...   \n",
      "1457    Male  ...          Excellent                Very_High   \n",
      "1458  Female  ...          Excellent                Very_High   \n",
      "1459    Male  ...          Excellent                      Low   \n",
      "1467    Male  ...          Excellent                     High   \n",
      "1469    Male  ...          Excellent                Very_High   \n",
      "\n",
      "      StockOptionLevel TotalWorkingYears TrainingTimesLastYear  \\\n",
      "1                    0                 0                     2   \n",
      "2                    0                 0                     2   \n",
      "3                    0                 0                     2   \n",
      "4                    0                 0                     3   \n",
      "7                    0                 0                     0   \n",
      "...                ...               ...                   ...   \n",
      "1457                 0                36                     3   \n",
      "1458                 3                36                     0   \n",
      "1459                 0                36                     2   \n",
      "1467                 0                38                     1   \n",
      "1469                 0                40                     2   \n",
      "\n",
      "     WorkLifeBalance  YearsAtCompany  YearsInCurrentRole  \\\n",
      "1               Good               0                   0   \n",
      "2             Better               0                   0   \n",
      "3             Better               0                   0   \n",
      "4             Better               0                   0   \n",
      "7             Better               0                   0   \n",
      "...              ...             ...                 ...   \n",
      "1457          Better              24                  15   \n",
      "1458            Good               7                   7   \n",
      "1459          Better              10                   9   \n",
      "1467            Good              37                  10   \n",
      "1469          Better              31                  15   \n",
      "\n",
      "      YearsSinceLastPromotion YearsWithCurrManager  \n",
      "1                           0                    0  \n",
      "2                           0                    0  \n",
      "3                           0                    0  \n",
      "4                           0                    0  \n",
      "7                           0                    0  \n",
      "...                       ...                  ...  \n",
      "1457                        2                   15  \n",
      "1458                        7                    7  \n",
      "1459                        0                    9  \n",
      "1467                        1                    8  \n",
      "1469                       13                    8  \n",
      "\n",
      "[748 rows x 31 columns]\n"
     ]
    }
   ],
   "source": [
    "# Filter for rows where JobRole is in job_roles_samp\n",
    "jobrole_condition = attrition_pop['JobRole'].isin(job_roles_samp)\n",
    "attrition_filtered = attrition_pop[jobrole_condition]\n",
    "\n",
    "# Print the result\n",
    "print(attrition_filtered)"
   ],
   "metadata": {
    "collapsed": false,
    "pycharm": {
     "name": "#%%\n"
    }
   }
  },
  {
   "cell_type": "code",
   "execution_count": 21,
   "outputs": [
    {
     "name": "stdout",
     "output_type": "stream",
     "text": [
      "      Age  Attrition     BusinessTravel  DailyRate            Department  \\\n",
      "1124   36        0.0      Travel_Rarely       1396  Research_Development   \n",
      "576    45        0.0      Travel_Rarely        974  Research_Development   \n",
      "995    42        0.0  Travel_Frequently        748  Research_Development   \n",
      "1243   50        0.0      Travel_Rarely       1207  Research_Development   \n",
      "869    45        0.0      Travel_Rarely       1015  Research_Development   \n",
      "599    33        0.0      Travel_Rarely       1099  Research_Development   \n",
      "117    24        0.0      Travel_Rarely        350  Research_Development   \n",
      "472    30        0.0      Travel_Rarely        921  Research_Development   \n",
      "149    27        0.0         Non-Travel       1277  Research_Development   \n",
      "49     20        1.0      Travel_Rarely        129  Research_Development   \n",
      "1302   40        0.0      Travel_Rarely       1416  Research_Development   \n",
      "1126   42        0.0      Travel_Rarely        810  Research_Development   \n",
      "1216   38        0.0      Travel_Rarely        849  Research_Development   \n",
      "1362   43        0.0      Travel_Rarely        982  Research_Development   \n",
      "1327   46        0.0      Travel_Rarely        430  Research_Development   \n",
      "664    27        0.0      Travel_Rarely        269  Research_Development   \n",
      "1284   40        0.0      Travel_Rarely       1308  Research_Development   \n",
      "1440   50        0.0  Travel_Frequently        333  Research_Development   \n",
      "790    36        0.0         Non-Travel        427  Research_Development   \n",
      "1432   55        0.0      Travel_Rarely       1136  Research_Development   \n",
      "941    36        0.0      Travel_Rarely        329                 Sales   \n",
      "454    27        0.0  Travel_Frequently       1242                 Sales   \n",
      "460    37        0.0      Travel_Rarely        228                 Sales   \n",
      "636    45        0.0      Travel_Rarely       1268                 Sales   \n",
      "293    33        0.0  Travel_Frequently        430                 Sales   \n",
      "976    39        1.0      Travel_Rarely       1162                 Sales   \n",
      "813    30        0.0      Travel_Rarely        231                 Sales   \n",
      "288    35        1.0  Travel_Frequently        662                 Sales   \n",
      "1111   53        1.0      Travel_Rarely       1168                 Sales   \n",
      "1075   40        0.0      Travel_Rarely        630                 Sales   \n",
      "133    34        1.0  Travel_Frequently        296                 Sales   \n",
      "725    36        1.0      Travel_Rarely       1218                 Sales   \n",
      "4      18        1.0  Travel_Frequently       1306                 Sales   \n",
      "169    41        1.0      Travel_Rarely       1356                 Sales   \n",
      "1      19        1.0      Travel_Rarely        528                 Sales   \n",
      "48     19        1.0      Travel_Rarely        419                 Sales   \n",
      "150    31        0.0  Travel_Frequently        793                 Sales   \n",
      "130    21        0.0         Non-Travel        895                 Sales   \n",
      "3      18        0.0      Travel_Rarely        812                 Sales   \n",
      "99     31        0.0  Travel_Frequently        444                 Sales   \n",
      "\n",
      "      DistanceFromHome      Education    EducationField  \\\n",
      "1124                 5        College     Life_Sciences   \n",
      "576                  1         Master           Medical   \n",
      "995                  9        College           Medical   \n",
      "1243                28  Below_College           Medical   \n",
      "869                  5         Doctor           Medical   \n",
      "599                  4         Master           Medical   \n",
      "117                 21        College  Technical_Degree   \n",
      "472                  1       Bachelor     Life_Sciences   \n",
      "149                  8         Doctor     Life_Sciences   \n",
      "49                   4       Bachelor  Technical_Degree   \n",
      "1302                 2        College           Medical   \n",
      "1126                23         Doctor     Life_Sciences   \n",
      "1216                25        College     Life_Sciences   \n",
      "1362                12       Bachelor     Life_Sciences   \n",
      "1327                 1         Master           Medical   \n",
      "664                  5  Below_College  Technical_Degree   \n",
      "1284                14       Bachelor           Medical   \n",
      "1440                22         Doctor           Medical   \n",
      "790                  8       Bachelor     Life_Sciences   \n",
      "1432                 1         Master           Medical   \n",
      "941                 16         Master         Marketing   \n",
      "454                 20       Bachelor     Life_Sciences   \n",
      "460                  6         Master           Medical   \n",
      "636                  4        College     Life_Sciences   \n",
      "293                  7       Bachelor           Medical   \n",
      "976                  3        College           Medical   \n",
      "813                  8        College             Other   \n",
      "288                 18         Master         Marketing   \n",
      "1111                24         Master     Life_Sciences   \n",
      "1075                 4         Master         Marketing   \n",
      "133                  6        College         Marketing   \n",
      "725                  9         Master     Life_Sciences   \n",
      "4                    5       Bachelor         Marketing   \n",
      "169                 20        College         Marketing   \n",
      "1                   22  Below_College         Marketing   \n",
      "48                  21       Bachelor             Other   \n",
      "150                 20       Bachelor     Life_Sciences   \n",
      "130                  9        College           Medical   \n",
      "3                   10       Bachelor           Medical   \n",
      "99                   5       Bachelor         Marketing   \n",
      "\n",
      "     EnvironmentSatisfaction  Gender  ...  PerformanceRating  \\\n",
      "1124               Very_High    Male  ...          Excellent   \n",
      "576                Very_High  Female  ...          Excellent   \n",
      "995                      Low  Female  ...          Excellent   \n",
      "1243               Very_High    Male  ...          Excellent   \n",
      "869                     High  Female  ...          Excellent   \n",
      "599                      Low  Female  ...          Excellent   \n",
      "117                     High    Male  ...          Excellent   \n",
      "472                Very_High    Male  ...        Outstanding   \n",
      "149                      Low    Male  ...          Excellent   \n",
      "49                       Low    Male  ...          Excellent   \n",
      "1302                     Low    Male  ...          Excellent   \n",
      "1126                     Low  Female  ...          Excellent   \n",
      "1216                     Low  Female  ...          Excellent   \n",
      "1362                     Low    Male  ...          Excellent   \n",
      "1327               Very_High    Male  ...          Excellent   \n",
      "664                     High    Male  ...          Excellent   \n",
      "1284                    High    Male  ...          Excellent   \n",
      "1440                    High    Male  ...          Excellent   \n",
      "790                      Low  Female  ...          Excellent   \n",
      "1432                  Medium    Male  ...          Excellent   \n",
      "941                     High  Female  ...          Excellent   \n",
      "454                Very_High  Female  ...          Excellent   \n",
      "460                     High    Male  ...          Excellent   \n",
      "636                     High  Female  ...          Excellent   \n",
      "293                Very_High    Male  ...          Excellent   \n",
      "976                Very_High  Female  ...          Excellent   \n",
      "813                     High    Male  ...          Excellent   \n",
      "288                Very_High  Female  ...          Excellent   \n",
      "1111                     Low    Male  ...          Excellent   \n",
      "1075                    High    Male  ...          Excellent   \n",
      "133                Very_High  Female  ...          Excellent   \n",
      "725                     High    Male  ...        Outstanding   \n",
      "4                     Medium    Male  ...          Excellent   \n",
      "169                   Medium  Female  ...        Outstanding   \n",
      "1                  Very_High    Male  ...          Excellent   \n",
      "48                 Very_High    Male  ...          Excellent   \n",
      "150                     High    Male  ...          Excellent   \n",
      "130                      Low    Male  ...        Outstanding   \n",
      "3                  Very_High  Female  ...          Excellent   \n",
      "99                 Very_High  Female  ...          Excellent   \n",
      "\n",
      "     RelationshipSatisfaction  StockOptionLevel TotalWorkingYears  \\\n",
      "1124                Very_High                 0                16   \n",
      "576                 Very_High                 2                 8   \n",
      "995                      High                 0                12   \n",
      "1243                     High                 3                20   \n",
      "869                       Low                 0                10   \n",
      "599                 Very_High                 0                 8   \n",
      "117                    Medium                 3                 2   \n",
      "472                      High                 2                 7   \n",
      "149                 Very_High                 3                 3   \n",
      "49                     Medium                 0                 1   \n",
      "1302                Very_High                 1                22   \n",
      "1126                   Medium                 0                16   \n",
      "1216                     High                 1                19   \n",
      "1362                     High                 1                25   \n",
      "1327                Very_High                 2                23   \n",
      "664                    Medium                 1                 9   \n",
      "1284                      Low                 0                21   \n",
      "1440                Very_High                 0                32   \n",
      "790                       Low                 1                10   \n",
      "1432                Very_High                 2                31   \n",
      "941                       Low                 2                11   \n",
      "454                 Very_High                 0                 7   \n",
      "460                    Medium                 1                 7   \n",
      "636                       Low                 1                 9   \n",
      "293                       Low                 2                 5   \n",
      "976                       Low                 0                12   \n",
      "813                       Low                 1                10   \n",
      "288                      High                 1                 5   \n",
      "1111                   Medium                 0                15   \n",
      "1075                      Low                 1                15   \n",
      "133                 Very_High                 1                 3   \n",
      "725                    Medium                 0                10   \n",
      "4                   Very_High                 0                 0   \n",
      "169                 Very_High                 0                 4   \n",
      "1                   Very_High                 0                 0   \n",
      "48                     Medium                 0                 1   \n",
      "150                       Low                 1                 3   \n",
      "130                      High                 0                 3   \n",
      "3                         Low                 0                 0   \n",
      "99                       High                 1                 2   \n",
      "\n",
      "     TrainingTimesLastYear WorkLifeBalance  YearsAtCompany  \\\n",
      "1124                     3            Best              13   \n",
      "576                      2          Better               5   \n",
      "995                      3          Better              12   \n",
      "1243                     3          Better              20   \n",
      "869                      3          Better              10   \n",
      "599                      5          Better               5   \n",
      "117                      3          Better               1   \n",
      "472                      2          Better               2   \n",
      "149                      4          Better               3   \n",
      "49                       2          Better               1   \n",
      "1302                     5          Better              21   \n",
      "1126                     2          Better               1   \n",
      "1216                     2          Better              10   \n",
      "1362                     3          Better              25   \n",
      "1327                     0          Better               2   \n",
      "664                      3          Better               9   \n",
      "1284                     2            Best              20   \n",
      "1440                     2          Better              32   \n",
      "790                      2          Better               8   \n",
      "1432                     4            Best               7   \n",
      "941                      3            Good               3   \n",
      "454                      2          Better               7   \n",
      "460                      5            Best               5   \n",
      "636                      3            Best               5   \n",
      "293                      2          Better               4   \n",
      "976                      3            Good               1   \n",
      "813                      2            Best               8   \n",
      "288                      0            Good               4   \n",
      "1111                     2            Good               2   \n",
      "1075                     2            Good              12   \n",
      "133                      3            Good               2   \n",
      "725                      4          Better               5   \n",
      "4                        3          Better               0   \n",
      "169                      5            Good               4   \n",
      "1                        2            Good               0   \n",
      "48                       3            Best               1   \n",
      "150                      4          Better               2   \n",
      "130                      3            Good               3   \n",
      "3                        2          Better               0   \n",
      "99                       5            Good               2   \n",
      "\n",
      "      YearsInCurrentRole  YearsSinceLastPromotion YearsWithCurrManager  \n",
      "1124                  11                        3                    7  \n",
      "576                    3                        0                    2  \n",
      "995                    9                        5                    8  \n",
      "1243                   8                        3                    8  \n",
      "869                    7                        1                    4  \n",
      "599                    4                        0                    2  \n",
      "117                    1                        0                    0  \n",
      "472                    2                        0                    2  \n",
      "149                    2                        1                    2  \n",
      "49                     0                        0                    0  \n",
      "1302                   7                        3                    9  \n",
      "1126                   0                        0                    0  \n",
      "1216                   8                        0                    1  \n",
      "1362                  10                        3                    9  \n",
      "1327                   2                        2                    2  \n",
      "664                    8                        0                    8  \n",
      "1284                   7                        4                    9  \n",
      "1440                   6                       13                    9  \n",
      "790                    7                        0                    5  \n",
      "1432                   7                        0                    0  \n",
      "941                    2                        0                    2  \n",
      "454                    7                        0                    7  \n",
      "460                    4                        0                    1  \n",
      "636                    4                        0                    3  \n",
      "293                    3                        0                    3  \n",
      "976                    0                        0                    0  \n",
      "813                    4                        7                    7  \n",
      "288                    2                        3                    2  \n",
      "1111                   2                        2                    2  \n",
      "1075                  11                        2                   11  \n",
      "133                    2                        1                    0  \n",
      "725                    3                        0                    3  \n",
      "4                      0                        0                    0  \n",
      "169                    3                        0                    2  \n",
      "1                      0                        0                    0  \n",
      "48                     0                        0                    0  \n",
      "150                    2                        2                    2  \n",
      "130                    2                        2                    2  \n",
      "3                      0                        0                    0  \n",
      "99                     2                        2                    2  \n",
      "\n",
      "[40 rows x 31 columns]\n",
      "\n",
      " The two-stage sampling technique gives you control over sampling both between subgroups and within subgroups.\n"
     ]
    },
    {
     "name": "stderr",
     "output_type": "stream",
     "text": [
      "C:\\Users\\dghr201\\AppData\\Local\\Temp\\ipykernel_28748\\2564666783.py:2: SettingWithCopyWarning: \n",
      "A value is trying to be set on a copy of a slice from a DataFrame.\n",
      "Try using .loc[row_indexer,col_indexer] = value instead\n",
      "\n",
      "See the caveats in the documentation: https://pandas.pydata.org/pandas-docs/stable/user_guide/indexing.html#returning-a-view-versus-a-copy\n",
      "  attrition_filtered['JobRole'] = attrition_filtered['JobRole'].cat.remove_unused_categories()\n"
     ]
    }
   ],
   "source": [
    "# Remove categories with no rows\n",
    "attrition_filtered['JobRole'] = attrition_filtered['JobRole'].cat.remove_unused_categories()\n",
    "\n",
    "# Randomly sample 10 employees from each sampled job role\n",
    "attrition_clust = attrition_filtered.groupby('JobRole').sample(n=10,random_state=2022)\n",
    "\n",
    "# Print the sample\n",
    "print(attrition_clust)\n",
    "\n",
    "print(\"\\n The two-stage sampling technique gives you control over sampling both between subgroups and within subgroups.\")"
   ],
   "metadata": {
    "collapsed": false,
    "pycharm": {
     "name": "#%%\n"
    }
   }
  },
  {
   "cell_type": "markdown",
   "source": [
    "### 3 kinds of sampling\n",
    "\n",
    "You're going to compare the performance of point estimates using simple, stratified, and cluster sampling. Before doing that, you'll have to set up the samples"
   ],
   "metadata": {
    "collapsed": false,
    "pycharm": {
     "name": "#%% md\n"
    }
   }
  },
  {
   "cell_type": "code",
   "execution_count": 23,
   "outputs": [
    {
     "data": {
      "text/plain": "(368, 31)"
     },
     "execution_count": 23,
     "metadata": {},
     "output_type": "execute_result"
    }
   ],
   "source": [
    "# Perform simple random sampling to get 0.25 of the population\n",
    "attrition_srs = attrition_pop.sample(frac=1/4, random_state=2022)\n",
    "attrition_srs.shape"
   ],
   "metadata": {
    "collapsed": false,
    "pycharm": {
     "name": "#%%\n"
    }
   }
  },
  {
   "cell_type": "code",
   "execution_count": 24,
   "outputs": [
    {
     "data": {
      "text/plain": "(368, 31)"
     },
     "execution_count": 24,
     "metadata": {},
     "output_type": "execute_result"
    }
   ],
   "source": [
    "# Perform stratified sampling to get 0.25 of each relationship group\n",
    "attrition_strat = attrition_pop.groupby('RelationshipSatisfaction').sample(frac=1/4, random_state=2022)\n",
    "attrition_strat.shape"
   ],
   "metadata": {
    "collapsed": false,
    "pycharm": {
     "name": "#%%\n"
    }
   }
  },
  {
   "cell_type": "code",
   "execution_count": 26,
   "outputs": [
    {
     "name": "stderr",
     "output_type": "stream",
     "text": [
      "C:\\Users\\dghr201\\AppData\\Local\\Temp\\ipykernel_28748\\1225069142.py:10: SettingWithCopyWarning: \n",
      "A value is trying to be set on a copy of a slice from a DataFrame.\n",
      "Try using .loc[row_indexer,col_indexer] = value instead\n",
      "\n",
      "See the caveats in the documentation: https://pandas.pydata.org/pandas-docs/stable/user_guide/indexing.html#returning-a-view-versus-a-copy\n",
      "  attrition_clust_prep['RelationshipSatisfaction'] = attrition_clust_prep['RelationshipSatisfaction'].cat.remove_unused_categories()\n"
     ]
    },
    {
     "ename": "ValueError",
     "evalue": "Cannot take a larger sample than population when 'replace=False'",
     "output_type": "error",
     "traceback": [
      "\u001B[1;31m---------------------------------------------------------------------------\u001B[0m",
      "\u001B[1;31mValueError\u001B[0m                                Traceback (most recent call last)",
      "Input \u001B[1;32mIn [26]\u001B[0m, in \u001B[0;36m<cell line: 13>\u001B[1;34m()\u001B[0m\n\u001B[0;32m     10\u001B[0m attrition_clust_prep[\u001B[38;5;124m'\u001B[39m\u001B[38;5;124mRelationshipSatisfaction\u001B[39m\u001B[38;5;124m'\u001B[39m] \u001B[38;5;241m=\u001B[39m attrition_clust_prep[\u001B[38;5;124m'\u001B[39m\u001B[38;5;124mRelationshipSatisfaction\u001B[39m\u001B[38;5;124m'\u001B[39m]\u001B[38;5;241m.\u001B[39mcat\u001B[38;5;241m.\u001B[39mremove_unused_categories()\n\u001B[0;32m     12\u001B[0m \u001B[38;5;66;03m# Perform cluster sampling on the selected group, getting 0.25 of attrition_pop\u001B[39;00m\n\u001B[1;32m---> 13\u001B[0m attrition_clust \u001B[38;5;241m=\u001B[39m \u001B[43mattrition_clust_prep\u001B[49m\u001B[38;5;241;43m.\u001B[39;49m\u001B[43mgroupby\u001B[49m\u001B[43m(\u001B[49m\u001B[38;5;124;43m\"\u001B[39;49m\u001B[38;5;124;43mRelationshipSatisfaction\u001B[39;49m\u001B[38;5;124;43m\"\u001B[39;49m\u001B[43m)\u001B[49m\u001B[43m\\\u001B[49m\n\u001B[0;32m     14\u001B[0m \u001B[43m    \u001B[49m\u001B[38;5;241;43m.\u001B[39;49m\u001B[43msample\u001B[49m\u001B[43m(\u001B[49m\u001B[43mn\u001B[49m\u001B[38;5;241;43m=\u001B[39;49m\u001B[38;5;28;43mlen\u001B[39;49m\u001B[43m(\u001B[49m\u001B[43mattrition_pop\u001B[49m\u001B[43m)\u001B[49m\u001B[43m \u001B[49m\u001B[38;5;241;43m/\u001B[39;49m\u001B[38;5;241;43m/\u001B[39;49m\u001B[43m \u001B[49m\u001B[38;5;241;43m4\u001B[39;49m\u001B[43m,\u001B[49m\u001B[43m \u001B[49m\u001B[43mrandom_state\u001B[49m\u001B[38;5;241;43m=\u001B[39;49m\u001B[38;5;241;43m2022\u001B[39;49m\u001B[43m)\u001B[49m\n",
      "File \u001B[1;32m~\\AppData\\Local\\Programs\\Python\\Python39\\lib\\site-packages\\pandas\\core\\groupby\\groupby.py:3803\u001B[0m, in \u001B[0;36mGroupBy.sample\u001B[1;34m(self, n, frac, replace, weights, random_state)\u001B[0m\n\u001B[0;32m   3800\u001B[0m         \u001B[38;5;28;01massert\u001B[39;00m frac \u001B[38;5;129;01mis\u001B[39;00m \u001B[38;5;129;01mnot\u001B[39;00m \u001B[38;5;28;01mNone\u001B[39;00m\n\u001B[0;32m   3801\u001B[0m         sample_size \u001B[38;5;241m=\u001B[39m \u001B[38;5;28mround\u001B[39m(frac \u001B[38;5;241m*\u001B[39m group_size)\n\u001B[1;32m-> 3803\u001B[0m     grp_sample \u001B[38;5;241m=\u001B[39m \u001B[43msample\u001B[49m\u001B[38;5;241;43m.\u001B[39;49m\u001B[43msample\u001B[49m\u001B[43m(\u001B[49m\n\u001B[0;32m   3804\u001B[0m \u001B[43m        \u001B[49m\u001B[43mgroup_size\u001B[49m\u001B[43m,\u001B[49m\n\u001B[0;32m   3805\u001B[0m \u001B[43m        \u001B[49m\u001B[43msize\u001B[49m\u001B[38;5;241;43m=\u001B[39;49m\u001B[43msample_size\u001B[49m\u001B[43m,\u001B[49m\n\u001B[0;32m   3806\u001B[0m \u001B[43m        \u001B[49m\u001B[43mreplace\u001B[49m\u001B[38;5;241;43m=\u001B[39;49m\u001B[43mreplace\u001B[49m\u001B[43m,\u001B[49m\n\u001B[0;32m   3807\u001B[0m \u001B[43m        \u001B[49m\u001B[43mweights\u001B[49m\u001B[38;5;241;43m=\u001B[39;49m\u001B[38;5;28;43;01mNone\u001B[39;49;00m\u001B[43m \u001B[49m\u001B[38;5;28;43;01mif\u001B[39;49;00m\u001B[43m \u001B[49m\u001B[43mweights\u001B[49m\u001B[43m \u001B[49m\u001B[38;5;129;43;01mis\u001B[39;49;00m\u001B[43m \u001B[49m\u001B[38;5;28;43;01mNone\u001B[39;49;00m\u001B[43m \u001B[49m\u001B[38;5;28;43;01melse\u001B[39;49;00m\u001B[43m \u001B[49m\u001B[43mweights_arr\u001B[49m\u001B[43m[\u001B[49m\u001B[43mgrp_indices\u001B[49m\u001B[43m]\u001B[49m\u001B[43m,\u001B[49m\n\u001B[0;32m   3808\u001B[0m \u001B[43m        \u001B[49m\u001B[43mrandom_state\u001B[49m\u001B[38;5;241;43m=\u001B[39;49m\u001B[43mrandom_state\u001B[49m\u001B[43m,\u001B[49m\n\u001B[0;32m   3809\u001B[0m \u001B[43m    \u001B[49m\u001B[43m)\u001B[49m\n\u001B[0;32m   3810\u001B[0m     sampled_indices\u001B[38;5;241m.\u001B[39mappend(grp_indices[grp_sample])\n\u001B[0;32m   3812\u001B[0m sampled_indices \u001B[38;5;241m=\u001B[39m np\u001B[38;5;241m.\u001B[39mconcatenate(sampled_indices)\n",
      "File \u001B[1;32m~\\AppData\\Local\\Programs\\Python\\Python39\\lib\\site-packages\\pandas\\core\\sample.py:150\u001B[0m, in \u001B[0;36msample\u001B[1;34m(obj_len, size, replace, weights, random_state)\u001B[0m\n\u001B[0;32m    147\u001B[0m     \u001B[38;5;28;01melse\u001B[39;00m:\n\u001B[0;32m    148\u001B[0m         \u001B[38;5;28;01mraise\u001B[39;00m \u001B[38;5;167;01mValueError\u001B[39;00m(\u001B[38;5;124m\"\u001B[39m\u001B[38;5;124mInvalid weights: weights sum to zero\u001B[39m\u001B[38;5;124m\"\u001B[39m)\n\u001B[1;32m--> 150\u001B[0m \u001B[38;5;28;01mreturn\u001B[39;00m \u001B[43mrandom_state\u001B[49m\u001B[38;5;241;43m.\u001B[39;49m\u001B[43mchoice\u001B[49m\u001B[43m(\u001B[49m\u001B[43mobj_len\u001B[49m\u001B[43m,\u001B[49m\u001B[43m \u001B[49m\u001B[43msize\u001B[49m\u001B[38;5;241;43m=\u001B[39;49m\u001B[43msize\u001B[49m\u001B[43m,\u001B[49m\u001B[43m \u001B[49m\u001B[43mreplace\u001B[49m\u001B[38;5;241;43m=\u001B[39;49m\u001B[43mreplace\u001B[49m\u001B[43m,\u001B[49m\u001B[43m \u001B[49m\u001B[43mp\u001B[49m\u001B[38;5;241;43m=\u001B[39;49m\u001B[43mweights\u001B[49m\u001B[43m)\u001B[49m\u001B[38;5;241m.\u001B[39mastype(\n\u001B[0;32m    151\u001B[0m     np\u001B[38;5;241m.\u001B[39mintp, copy\u001B[38;5;241m=\u001B[39m\u001B[38;5;28;01mFalse\u001B[39;00m\n\u001B[0;32m    152\u001B[0m )\n",
      "File \u001B[1;32mmtrand.pyx:965\u001B[0m, in \u001B[0;36mnumpy.random.mtrand.RandomState.choice\u001B[1;34m()\u001B[0m\n",
      "\u001B[1;31mValueError\u001B[0m: Cannot take a larger sample than population when 'replace=False'"
     ]
    }
   ],
   "source": [
    "# Create a list of unique RelationshipSatisfaction values\n",
    "satisfaction_unique = list(attrition_pop['RelationshipSatisfaction'].unique())\n",
    "\n",
    "# Randomly sample 2 unique satisfaction values\n",
    "satisfaction_samp = random.sample(satisfaction_unique, k=2)\n",
    "\n",
    "# Filter for satisfaction_samp and clear unused categories from RelationshipSatisfaction\n",
    "satis_condition = attrition_pop['RelationshipSatisfaction'].isin(satisfaction_samp)\n",
    "attrition_clust_prep = attrition_pop[satis_condition]\n",
    "attrition_clust_prep['RelationshipSatisfaction'] = attrition_clust_prep['RelationshipSatisfaction'].cat.remove_unused_categories()\n",
    "\n",
    "# Perform cluster sampling on the selected group, getting 0.25 of attrition_pop\n",
    "attrition_clust = attrition_clust_prep.groupby(\"RelationshipSatisfaction\")\\\n",
    "    .sample(n=len(attrition_pop) // 4, random_state=2022)"
   ],
   "metadata": {
    "collapsed": false,
    "pycharm": {
     "name": "#%%\n"
    }
   }
  },
  {
   "cell_type": "markdown",
   "source": [
    "### Comparing point estimates"
   ],
   "metadata": {
    "collapsed": false,
    "pycharm": {
     "name": "#%% md\n"
    }
   }
  },
  {
   "cell_type": "code",
   "execution_count": 27,
   "outputs": [
    {
     "name": "stdout",
     "output_type": "stream",
     "text": [
      "RelationshipSatisfaction\n",
      "Low          0.206522\n",
      "Medium       0.148515\n",
      "High         0.154684\n",
      "Very_High    0.148148\n",
      "Name: Attrition, dtype: float64\n"
     ]
    }
   ],
   "source": [
    "# Mean Attrition by RelationshipSatisfaction group\n",
    "mean_attrition_pop = attrition_pop.groupby('RelationshipSatisfaction')['Attrition'].mean()\n",
    "\n",
    "# Print the result\n",
    "print(mean_attrition_pop)"
   ],
   "metadata": {
    "collapsed": false,
    "pycharm": {
     "name": "#%%\n"
    }
   }
  },
  {
   "cell_type": "code",
   "execution_count": 28,
   "outputs": [
    {
     "name": "stdout",
     "output_type": "stream",
     "text": [
      "RelationshipSatisfaction\n",
      "Low          0.134328\n",
      "Medium       0.164179\n",
      "High         0.160000\n",
      "Very_High    0.155963\n",
      "Name: Attrition, dtype: float64\n"
     ]
    }
   ],
   "source": [
    "# Calculate the same thing for the simple random sample\n",
    "mean_attrition_srs = attrition_srs.groupby('RelationshipSatisfaction')['Attrition'].mean()\n",
    "\n",
    "# Print the result\n",
    "print(mean_attrition_srs)"
   ],
   "metadata": {
    "collapsed": false,
    "pycharm": {
     "name": "#%%\n"
    }
   }
  },
  {
   "cell_type": "code",
   "execution_count": 29,
   "outputs": [
    {
     "name": "stdout",
     "output_type": "stream",
     "text": [
      "RelationshipSatisfaction\n",
      "Low          0.144928\n",
      "Medium       0.078947\n",
      "High         0.165217\n",
      "Very_High    0.129630\n",
      "Name: Attrition, dtype: float64\n"
     ]
    }
   ],
   "source": [
    "# Calculate the same thing for the stratified sample\n",
    "mean_attrition_strat = attrition_strat.groupby('RelationshipSatisfaction')['Attrition'].mean()\n",
    "\n",
    "# Print the result\n",
    "print(mean_attrition_strat)"
   ],
   "metadata": {
    "collapsed": false,
    "pycharm": {
     "name": "#%%\n"
    }
   }
  },
  {
   "cell_type": "code",
   "execution_count": 30,
   "outputs": [
    {
     "name": "stdout",
     "output_type": "stream",
     "text": [
      "RelationshipSatisfaction\n",
      "Low          0.090909\n",
      "Medium       0.500000\n",
      "High         0.125000\n",
      "Very_High    0.307692\n",
      "Name: Attrition, dtype: float64\n"
     ]
    }
   ],
   "source": [
    "# Calculate the same thing for the cluster sample\n",
    "mean_attrition_clust = attrition_clust.groupby('RelationshipSatisfaction')['Attrition'].mean()\n",
    "\n",
    "# Print the result\n",
    "print(mean_attrition_clust)"
   ],
   "metadata": {
    "collapsed": false,
    "pycharm": {
     "name": "#%%\n"
    }
   }
  },
  {
   "cell_type": "code",
   "execution_count": null,
   "outputs": [],
   "source": [],
   "metadata": {
    "collapsed": false,
    "pycharm": {
     "name": "#%%\n"
    }
   }
  }
 ],
 "metadata": {
  "kernelspec": {
   "display_name": "Python 3",
   "language": "python",
   "name": "python3"
  },
  "language_info": {
   "codemirror_mode": {
    "name": "ipython",
    "version": 2
   },
   "file_extension": ".py",
   "mimetype": "text/x-python",
   "name": "python",
   "nbconvert_exporter": "python",
   "pygments_lexer": "ipython2",
   "version": "2.7.6"
  }
 },
 "nbformat": 4,
 "nbformat_minor": 0
}