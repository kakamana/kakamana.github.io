{
 "cells": [
  {
   "cell_type": "markdown",
   "source": [
    "---\n",
    "title: \"Multiple Outputs\"\n",
    "format:\n",
    "  html:\n",
    "    code-fold: true\n",
    "jupyter: python3\n",
    "author: \"kakamana\"\n",
    "date: \"2023-04-08\"\n",
    "categories: [python, datacamp, machine learning, deep learning, tensorflow, keraas, neural network]\n",
    "image: \"multipleOutputs-1\"\n",
    "\n",
    "---"
   ],
   "metadata": {
    "collapsed": false
   }
  },
  {
   "cell_type": "markdown",
   "source": [
    "# Multiple Outputs\n",
    "\n",
    "You will build neural networks with multiple outputs in this chapter, which can be used to solve regression problems with multiple targets. Additionally, you will build a model that simultaneously solves a regression problem and a classification problem.\n",
    "\n",
    "This **Multiple Outputs** is part of [Datacamp course: Advanced Deep Learning with Keras] You will learn how to use the versatile Keras functional API to solve a variety of problems. The course will begin with simple, multi-layer dense networks (also known as multi-layer perceptrons) and progress to more sophisticated architectures. This course will cover how to construct models with multiple inputs and a single output, as well as how to share weights between layers in a model. Additionally, we will discuss advanced topics such as category embeddings and multiple output networks. This course will teach you how to train a network that performs both classification and regression.\n",
    "\n",
    "This is my learning experience of data science through DataCamp. These repository contributions are part of my learning journey through my graduate program masters of applied data sciences (MADS) at University Of Michigan, [DeepLearning.AI], [Coursera] & [DataCamp]. You can find my similar articles & more stories at my [medium] & [LinkedIn] profile. I am available at [kaggle] & [github blogs] & [github repos]. Thank you for your motivation, support & valuable feedback.\n",
    "\n",
    "These include projects, coursework & notebook which I learned through my data science journey. They are created for reproducible & future reference purpose only. All source code, slides or screenshot are intellactual property of respective content authors. If you find these contents beneficial, kindly consider learning subscription from [DeepLearning.AI Subscription], [Coursera], [DataCamp]\n",
    "\n",
    "\n",
    "\n",
    "[DeepLearning.AI]: https://www.deeplearning.ai\n",
    "[DeepLearning.AI Subscription]: https://www.deeplearning.ai\n",
    "[Coursera]: https://www.coursera.org\n",
    "[DataCamp]: https://www.datacamp.com\n",
    "[medium]: https://medium.com/@kamig4u\n",
    "[LinkedIn]: https://www.linkedin.com/in/asadenterprisearchitect\n",
    "[kaggle]: https://www.kaggle.com/kakamana\n",
    "[github blogs]: https://kakamana.github.io\n",
    "[github repos]: https://github.com/kakamana\n",
    "[Datacamp course: Introduction to Natural Language Processing in Python]: (https://app.datacamp.com/learn/courses/advanced-deep-learning-with-keras)"
   ],
   "metadata": {
    "collapsed": false
   }
  },
  {
   "cell_type": "code",
   "execution_count": 1,
   "outputs": [],
   "source": [
    "import tensorflow as tf\n",
    "import numpy as np\n",
    "import pandas as pd\n",
    "import matplotlib.pyplot as plt\n",
    "\n",
    "plt.rcParams['figure.figsize'] = (8, 8)"
   ],
   "metadata": {
    "collapsed": false
   }
  },
  {
   "cell_type": "markdown",
   "source": [
    "# Two-output models\n",
    "## Simple two-output model\n",
    "In this exercise, you will use the tournament data to build one model that makes two predictions: the scores of both teams in a given game. Your inputs will be the seed difference of the two teams, as well as the predicted score difference from the model you built in chapter 3.\n",
    "\n",
    "The output from your model will be the predicted score for team 1 as well as team 2. This is called \"multiple target regression\": one model making more than one prediction"
   ],
   "metadata": {
    "collapsed": false
   }
  },
  {
   "cell_type": "code",
   "execution_count": 2,
   "outputs": [
    {
     "name": "stdout",
     "output_type": "stream",
     "text": [
      "Metal device set to: Apple M2 Pro\n"
     ]
    }
   ],
   "source": [
    "from tensorflow.keras.layers import Input, Dense\n",
    "from tensorflow.keras.models import Model\n",
    "\n",
    "# Define the input\n",
    "input_tensor = Input(shape=(2, ))\n",
    "\n",
    "# Define the output\n",
    "output_tensor = Dense(2)(input_tensor)\n",
    "\n",
    "# Create a model\n",
    "model = Model(input_tensor, output_tensor)\n",
    "\n",
    "# Compile the model\n",
    "model.compile(optimizer='adam', loss='mean_absolute_error')"
   ],
   "metadata": {
    "collapsed": false
   }
  },
  {
   "cell_type": "markdown",
   "source": [
    "## Fit a model with two outputs\n",
    "Now that you've defined your 2-output model, fit it to the tournament data. I've split the data into games_tourney_train and games_tourney_test, so use the training set to fit for now.\n",
    "\n",
    "This model will use the pre-tournament seeds, as well as your pre-tournament predictions from the regular season model you built previously in this course.\n",
    "\n",
    "As a reminder, this model will predict the scores of both teams."
   ],
   "metadata": {
    "collapsed": false
   }
  },
  {
   "cell_type": "code",
   "execution_count": 3,
   "outputs": [
    {
     "data": {
      "text/plain": "   season  team_1  team_2  home  seed_diff  score_diff  score_1  score_2  won\n0    1985     288      73     0         -3          -9       41       50    0\n1    1985    5929      73     0          4           6       61       55    1\n2    1985    9884      73     0          5          -4       59       63    0\n3    1985      73     288     0          3           9       50       41    1\n4    1985    3920     410     0          1          -9       54       63    0",
      "text/html": "<div>\n<style scoped>\n    .dataframe tbody tr th:only-of-type {\n        vertical-align: middle;\n    }\n\n    .dataframe tbody tr th {\n        vertical-align: top;\n    }\n\n    .dataframe thead th {\n        text-align: right;\n    }\n</style>\n<table border=\"1\" class=\"dataframe\">\n  <thead>\n    <tr style=\"text-align: right;\">\n      <th></th>\n      <th>season</th>\n      <th>team_1</th>\n      <th>team_2</th>\n      <th>home</th>\n      <th>seed_diff</th>\n      <th>score_diff</th>\n      <th>score_1</th>\n      <th>score_2</th>\n      <th>won</th>\n    </tr>\n  </thead>\n  <tbody>\n    <tr>\n      <th>0</th>\n      <td>1985</td>\n      <td>288</td>\n      <td>73</td>\n      <td>0</td>\n      <td>-3</td>\n      <td>-9</td>\n      <td>41</td>\n      <td>50</td>\n      <td>0</td>\n    </tr>\n    <tr>\n      <th>1</th>\n      <td>1985</td>\n      <td>5929</td>\n      <td>73</td>\n      <td>0</td>\n      <td>4</td>\n      <td>6</td>\n      <td>61</td>\n      <td>55</td>\n      <td>1</td>\n    </tr>\n    <tr>\n      <th>2</th>\n      <td>1985</td>\n      <td>9884</td>\n      <td>73</td>\n      <td>0</td>\n      <td>5</td>\n      <td>-4</td>\n      <td>59</td>\n      <td>63</td>\n      <td>0</td>\n    </tr>\n    <tr>\n      <th>3</th>\n      <td>1985</td>\n      <td>73</td>\n      <td>288</td>\n      <td>0</td>\n      <td>3</td>\n      <td>9</td>\n      <td>50</td>\n      <td>41</td>\n      <td>1</td>\n    </tr>\n    <tr>\n      <th>4</th>\n      <td>1985</td>\n      <td>3920</td>\n      <td>410</td>\n      <td>0</td>\n      <td>1</td>\n      <td>-9</td>\n      <td>54</td>\n      <td>63</td>\n      <td>0</td>\n    </tr>\n  </tbody>\n</table>\n</div>"
     },
     "execution_count": 3,
     "metadata": {},
     "output_type": "execute_result"
    }
   ],
   "source": [
    "games_tourney = pd.read_csv('dataset/games_tourney.csv')\n",
    "games_tourney.head()"
   ],
   "metadata": {
    "collapsed": false
   }
  },
  {
   "cell_type": "code",
   "execution_count": 4,
   "outputs": [
    {
     "data": {
      "text/plain": "   season  team_1  team_2  home  score_diff  score_1  score_2  won\n0    1985    3745    6664     0          17       81       64    1\n1    1985     126    7493     1           7       77       70    1\n2    1985     288    3593     1           7       63       56    1\n3    1985    1846    9881     1          16       70       54    1\n4    1985    2675   10298     1          12       86       74    1",
      "text/html": "<div>\n<style scoped>\n    .dataframe tbody tr th:only-of-type {\n        vertical-align: middle;\n    }\n\n    .dataframe tbody tr th {\n        vertical-align: top;\n    }\n\n    .dataframe thead th {\n        text-align: right;\n    }\n</style>\n<table border=\"1\" class=\"dataframe\">\n  <thead>\n    <tr style=\"text-align: right;\">\n      <th></th>\n      <th>season</th>\n      <th>team_1</th>\n      <th>team_2</th>\n      <th>home</th>\n      <th>score_diff</th>\n      <th>score_1</th>\n      <th>score_2</th>\n      <th>won</th>\n    </tr>\n  </thead>\n  <tbody>\n    <tr>\n      <th>0</th>\n      <td>1985</td>\n      <td>3745</td>\n      <td>6664</td>\n      <td>0</td>\n      <td>17</td>\n      <td>81</td>\n      <td>64</td>\n      <td>1</td>\n    </tr>\n    <tr>\n      <th>1</th>\n      <td>1985</td>\n      <td>126</td>\n      <td>7493</td>\n      <td>1</td>\n      <td>7</td>\n      <td>77</td>\n      <td>70</td>\n      <td>1</td>\n    </tr>\n    <tr>\n      <th>2</th>\n      <td>1985</td>\n      <td>288</td>\n      <td>3593</td>\n      <td>1</td>\n      <td>7</td>\n      <td>63</td>\n      <td>56</td>\n      <td>1</td>\n    </tr>\n    <tr>\n      <th>3</th>\n      <td>1985</td>\n      <td>1846</td>\n      <td>9881</td>\n      <td>1</td>\n      <td>16</td>\n      <td>70</td>\n      <td>54</td>\n      <td>1</td>\n    </tr>\n    <tr>\n      <th>4</th>\n      <td>1985</td>\n      <td>2675</td>\n      <td>10298</td>\n      <td>1</td>\n      <td>12</td>\n      <td>86</td>\n      <td>74</td>\n      <td>1</td>\n    </tr>\n  </tbody>\n</table>\n</div>"
     },
     "execution_count": 4,
     "metadata": {},
     "output_type": "execute_result"
    }
   ],
   "source": [
    "games_season = pd.read_csv('dataset/games_season.csv')\n",
    "games_season.head()"
   ],
   "metadata": {
    "collapsed": false
   }
  },
  {
   "cell_type": "code",
   "execution_count": 5,
   "outputs": [
    {
     "name": "stderr",
     "output_type": "stream",
     "text": [
      "2023-04-08 01:04:42.790937: W tensorflow/tsl/platform/profile_utils/cpu_utils.cc:128] Failed to get CPU frequency: 0 Hz\n"
     ]
    },
    {
     "name": "stdout",
     "output_type": "stream",
     "text": [
      "138/138 [==============================] - 3s 11ms/step - loss: 12.2298 - val_loss: 11.6713\n",
      "133/133 [==============================] - 0s 2ms/step\n"
     ]
    }
   ],
   "source": [
    "from tensorflow.keras.layers import Embedding, Input, Flatten, Concatenate, Dense\n",
    "from tensorflow.keras.models import Model\n",
    "\n",
    "# Count the unique number of teams\n",
    "n_teams = np.unique(games_season['team_1']).shape[0]\n",
    "\n",
    "# Create an embedding layer\n",
    "team_lookup = Embedding(input_dim=n_teams,\n",
    "                        output_dim=1,\n",
    "                        input_length=1,\n",
    "                        name='Team-Strength')\n",
    "\n",
    "# Create an input layer for the team ID\n",
    "teamid_in = Input(shape=(1, ))\n",
    "\n",
    "# Lookup the input in the team strength embedding layer\n",
    "strength_lookup = team_lookup(teamid_in)\n",
    "\n",
    "# Flatten the output\n",
    "strength_lookup_flat = Flatten()(strength_lookup)\n",
    "\n",
    "# Combine the operations into a single, re-usable model\n",
    "team_strength_model = Model(teamid_in, strength_lookup_flat, name='Team-Strength-Model')\n",
    "\n",
    "# Create an Input for each team\n",
    "team_in_1 = Input(shape=(1, ), name='Team-1-In')\n",
    "team_in_2 = Input(shape=(1, ), name='Team-2-In')\n",
    "\n",
    "# Create an input for home vs away\n",
    "home_in = Input(shape=(1, ), name='Home-In')\n",
    "\n",
    "# Lookup the team inputs in the team strength model\n",
    "team_1_strength = team_strength_model(team_in_1)\n",
    "team_2_strength = team_strength_model(team_in_2)\n",
    "\n",
    "# Combine the team strengths with the home input using a Concatenate layer,\n",
    "# then add a Dense layer\n",
    "\n",
    "out = Concatenate()([team_1_strength, team_2_strength, home_in])\n",
    "out = Dense(1)(out)\n",
    "\n",
    "# Make a model\n",
    "p_model = Model([team_in_1, team_in_2, home_in], out)\n",
    "\n",
    "# Compile the model\n",
    "p_model.compile(optimizer='adam', loss='mean_absolute_error')\n",
    "\n",
    "# Fit the model to the games_season dataset\n",
    "p_model.fit([games_season['team_1'], games_season['team_2'], games_season['home']],\n",
    "          games_season['score_diff'],\n",
    "          epochs=1, verbose=True, validation_split=0.1, batch_size=2048)\n",
    "\n",
    "games_tourney['pred'] = p_model.predict([games_tourney['team_1'],\n",
    "                                       games_tourney['team_2'],\n",
    "                                       games_tourney['home']])"
   ],
   "metadata": {
    "collapsed": false
   }
  },
  {
   "cell_type": "code",
   "execution_count": 6,
   "outputs": [],
   "source": [
    "games_tourney_train = games_tourney[games_tourney['season'] <= 2010]\n",
    "games_tourney_test = games_tourney[games_tourney['season'] > 2010]"
   ],
   "metadata": {
    "collapsed": false
   }
  },
  {
   "cell_type": "code",
   "execution_count": 7,
   "outputs": [],
   "source": [
    "model.fit(games_tourney_train[['seed_diff', 'pred']],\n",
    "          games_tourney_train[['score_1', 'score_2']],\n",
    "          verbose=False,\n",
    "          epochs=10000,\n",
    "          batch_size=256);"
   ],
   "metadata": {
    "collapsed": false
   }
  },
  {
   "cell_type": "markdown",
   "source": [
    "## Inspect the model (I)\n",
    "Now that you've fit your model, let's take a look at it. You can use the .get_weights() method to inspect your model's weights.\n",
    "\n",
    "The input layer will have 4 weights: 2 for each input times 2 for each output.\n",
    "\n",
    "The output layer will have 2 weights, one for each output."
   ],
   "metadata": {
    "collapsed": false
   }
  },
  {
   "cell_type": "code",
   "execution_count": 8,
   "outputs": [
    {
     "name": "stdout",
     "output_type": "stream",
     "text": [
      "[array([[ 0.57821244, -0.66847074],\n",
      "       [23.578228  , 21.29037   ]], dtype=float32), array([67.67261, 68.08015], dtype=float32)]\n",
      "season        1997.548544\n",
      "team_1        5560.890777\n",
      "team_2        5560.890777\n",
      "home             0.000000\n",
      "seed_diff        0.000000\n",
      "score_diff       0.000000\n",
      "score_1         71.786711\n",
      "score_2         71.786711\n",
      "won              0.500000\n",
      "pred             0.141091\n",
      "dtype: float64\n"
     ]
    }
   ],
   "source": [
    "# Print the model's weights\n",
    "print(model.get_weights())\n",
    "\n",
    "# Print the column means of the training data\n",
    "print(games_tourney_train.mean())"
   ],
   "metadata": {
    "collapsed": false
   }
  },
  {
   "cell_type": "markdown",
   "source": [
    "## Evaluate the model\n",
    "Now that you've fit your model and inspected it's weights to make sure it makes sense, evaluate it on the tournament test set to see how well it performs on new data."
   ],
   "metadata": {
    "collapsed": false
   }
  },
  {
   "cell_type": "code",
   "execution_count": 9,
   "outputs": [
    {
     "name": "stdout",
     "output_type": "stream",
     "text": [
      "8.862776756286621\n"
     ]
    }
   ],
   "source": [
    "print(model.evaluate(games_tourney_test[['seed_diff', 'pred']],\n",
    "                     games_tourney_test[['score_1', 'score_2']],\n",
    "                     verbose=False))"
   ],
   "metadata": {
    "collapsed": false
   }
  },
  {
   "cell_type": "markdown",
   "source": [
    "# Single model for classification and regression\n",
    "\n",
    "## Classification and regression in one model\n",
    "Now you will create a different kind of 2-output model. This time, you will predict the score difference, instead of both team's scores and then you will predict the probability that team 1 won the game. This is a pretty cool model: it is going to do both classification and regression!\n",
    "\n",
    "In this model, turn off the bias, or intercept for each layer. Your inputs (seed difference and predicted score difference) have a mean of very close to zero, and your outputs both have means that are close to zero, so your model shouldn't need the bias term to fit the data well."
   ],
   "metadata": {
    "collapsed": false
   }
  },
  {
   "cell_type": "code",
   "execution_count": 10,
   "outputs": [],
   "source": [
    "input_tensor = Input(shape=(2, ))\n",
    "\n",
    "# Create the first output\n",
    "output_tensor_1 = Dense(1, activation='linear', use_bias=False)(input_tensor)\n",
    "\n",
    "# Create the second output(use the first output as input here)\n",
    "output_tensor_2 = Dense(1, activation='sigmoid', use_bias=False)(output_tensor_1)\n",
    "\n",
    "# Create a model with 2 outputs\n",
    "model = Model(input_tensor, [output_tensor_1, output_tensor_2])"
   ],
   "metadata": {
    "collapsed": false
   }
  },
  {
   "cell_type": "code",
   "execution_count": 11,
   "outputs": [
    {
     "data": {
      "text/plain": "<Figure size 800x800 with 1 Axes>",
      "image/png": "[encoded data removed]"
     },
     "metadata": {},
     "output_type": "display_data"
    }
   ],
   "source": [
    "from tensorflow.keras.utils import plot_model\n",
    "\n",
    "plot_model(model, to_file='Images/multi_output_model.png')\n",
    "\n",
    "data = plt.imread('Images/multi_output_model.png')\n",
    "plt.imshow(data);"
   ],
   "metadata": {
    "collapsed": false
   }
  },
  {
   "cell_type": "markdown",
   "source": [
    "## Compile and fit the model\n",
    "Now that you have a model with 2 outputs, compile it with 2 loss functions: mean absolute error (MAE) for 'score_diff' and binary cross-entropy (also known as logloss) for 'won'. Then fit the model with 'seed_diff' and 'pred' as inputs. For outputs, predict 'score_diff' and 'won'.\n",
    "\n",
    "This model can use the scores of the games to make sure that close games (small score diff) have lower win probabilities than blowouts (large score diff).\n",
    "\n",
    "The regression problem is easier than the classification problem because MAE punishes the model less for a loss due to random chance. For example, if score_diff is -1 and won is 0, that means team_1 had some bad luck and lost by a single free throw. The data for the easy problem helps the model find a solution to the hard problem."
   ],
   "metadata": {
    "collapsed": false
   }
  },
  {
   "cell_type": "code",
   "execution_count": 12,
   "outputs": [
    {
     "name": "stderr",
     "output_type": "stream",
     "text": [
      "WARNING:absl:At this time, the v2.11+ optimizer `tf.keras.optimizers.Adam` runs slowly on M1/M2 Macs, please use the legacy Keras optimizer instead, located at `tf.keras.optimizers.legacy.Adam`.\n",
      "WARNING:absl:`lr` is deprecated in Keras optimizer, please use `learning_rate` or use the legacy optimizer, e.g.,tf.keras.optimizers.legacy.Adam.\n",
      "WARNING:absl:There is a known slowdown when using v2.11+ Keras optimizers on M1/M2 Macs. Falling back to the legacy Keras optimizer, i.e., `tf.keras.optimizers.legacy.Adam`.\n"
     ]
    },
    {
     "name": "stdout",
     "output_type": "stream",
     "text": [
      "Epoch 1/20\n",
      "1/1 [==============================] - 1s 832ms/step - loss: 11.3476 - dense_2_loss: 10.6665 - dense_3_loss: 0.6811\n",
      "Epoch 2/20\n",
      "1/1 [==============================] - 0s 13ms/step - loss: 11.3453 - dense_2_loss: 10.6633 - dense_3_loss: 0.6820\n",
      "Epoch 3/20\n",
      "1/1 [==============================] - 0s 12ms/step - loss: 11.3429 - dense_2_loss: 10.6601 - dense_3_loss: 0.6828\n",
      "Epoch 4/20\n",
      "1/1 [==============================] - 0s 12ms/step - loss: 11.3406 - dense_2_loss: 10.6569 - dense_3_loss: 0.6837\n",
      "Epoch 5/20\n",
      "1/1 [==============================] - 0s 11ms/step - loss: 11.3382 - dense_2_loss: 10.6537 - dense_3_loss: 0.6846\n",
      "Epoch 6/20\n",
      "1/1 [==============================] - 0s 10ms/step - loss: 11.3359 - dense_2_loss: 10.6504 - dense_3_loss: 0.6855\n",
      "Epoch 7/20\n",
      "1/1 [==============================] - 0s 9ms/step - loss: 11.3336 - dense_2_loss: 10.6472 - dense_3_loss: 0.6863\n",
      "Epoch 8/20\n",
      "1/1 [==============================] - 0s 12ms/step - loss: 11.3312 - dense_2_loss: 10.6440 - dense_3_loss: 0.6872\n",
      "Epoch 9/20\n",
      "1/1 [==============================] - 0s 9ms/step - loss: 11.3289 - dense_2_loss: 10.6408 - dense_3_loss: 0.6881\n",
      "Epoch 10/20\n",
      "1/1 [==============================] - 0s 9ms/step - loss: 11.3266 - dense_2_loss: 10.6376 - dense_3_loss: 0.6890\n",
      "Epoch 11/20\n",
      "1/1 [==============================] - 0s 10ms/step - loss: 11.3243 - dense_2_loss: 10.6344 - dense_3_loss: 0.6898\n",
      "Epoch 12/20\n",
      "1/1 [==============================] - 0s 9ms/step - loss: 11.3219 - dense_2_loss: 10.6312 - dense_3_loss: 0.6907\n",
      "Epoch 13/20\n",
      "1/1 [==============================] - 0s 9ms/step - loss: 11.3196 - dense_2_loss: 10.6280 - dense_3_loss: 0.6916\n",
      "Epoch 14/20\n",
      "1/1 [==============================] - 0s 9ms/step - loss: 11.3173 - dense_2_loss: 10.6248 - dense_3_loss: 0.6924\n",
      "Epoch 15/20\n",
      "1/1 [==============================] - 0s 8ms/step - loss: 11.3150 - dense_2_loss: 10.6216 - dense_3_loss: 0.6933\n",
      "Epoch 16/20\n",
      "1/1 [==============================] - 0s 9ms/step - loss: 11.3126 - dense_2_loss: 10.6184 - dense_3_loss: 0.6942\n",
      "Epoch 17/20\n",
      "1/1 [==============================] - 0s 9ms/step - loss: 11.3103 - dense_2_loss: 10.6152 - dense_3_loss: 0.6951\n",
      "Epoch 18/20\n",
      "1/1 [==============================] - 0s 9ms/step - loss: 11.3080 - dense_2_loss: 10.6121 - dense_3_loss: 0.6959\n",
      "Epoch 19/20\n",
      "1/1 [==============================] - 0s 17ms/step - loss: 11.3056 - dense_2_loss: 10.6089 - dense_3_loss: 0.6968\n",
      "Epoch 20/20\n",
      "1/1 [==============================] - 0s 9ms/step - loss: 11.3033 - dense_2_loss: 10.6057 - dense_3_loss: 0.6977\n"
     ]
    }
   ],
   "source": [
    "from tensorflow.keras.optimizers import Adam\n",
    "\n",
    "# Compile the model with 2 losses and the Adam optimizer with a higher learning rate\n",
    "model.compile(loss=['mean_absolute_error', 'binary_crossentropy'], optimizer=Adam(lr=0.01))\n",
    "\n",
    "# Fit the model to the tournament training data, with 2 inputs and 2 outputs\n",
    "model.fit(games_tourney_train[['seed_diff', 'pred']],\n",
    "          [games_tourney_train[['score_diff']], games_tourney_train[['won']]],\n",
    "          epochs=20,\n",
    "          verbose=True,\n",
    "          batch_size=16384);"
   ],
   "metadata": {
    "collapsed": false
   }
  },
  {
   "cell_type": "markdown",
   "source": [
    "## Inspect the model (II)\n",
    "Now you should take a look at the weights for this model. In particular, note the last weight of the model. This weight converts the predicted score difference to a predicted win probability. If you multiply the predicted score difference by the last weight of the model and then apply the sigmoid function, you get the win probability of the game."
   ],
   "metadata": {
    "collapsed": false
   }
  },
  {
   "cell_type": "code",
   "execution_count": 13,
   "outputs": [
    {
     "name": "stdout",
     "output_type": "stream",
     "text": [
      "[array([[ 0.33446303],\n",
      "       [-1.1826252 ]], dtype=float32), array([[1.3517005]], dtype=float32)]\n",
      "season        1997.548544\n",
      "team_1        5560.890777\n",
      "team_2        5560.890777\n",
      "home             0.000000\n",
      "seed_diff        0.000000\n",
      "score_diff       0.000000\n",
      "score_1         71.786711\n",
      "score_2         71.786711\n",
      "won              0.500000\n",
      "pred             0.141091\n",
      "dtype: float64\n"
     ]
    }
   ],
   "source": [
    "# Print the model weights\n",
    "print(model.get_weights())\n",
    "\n",
    "# Print the training data means\n",
    "print(games_tourney_train.mean())"
   ],
   "metadata": {
    "collapsed": false
   }
  },
  {
   "cell_type": "code",
   "execution_count": 14,
   "outputs": [
    {
     "name": "stdout",
     "output_type": "stream",
     "text": [
      "0.5349429451582145\n",
      "0.8021838885585818\n"
     ]
    }
   ],
   "source": [
    "from scipy.special import expit as sigmoid\n",
    "\n",
    "# Weight from the model\n",
    "weight=0.14\n",
    "\n",
    "# Print the approximate win probability predicted close game\n",
    "print(sigmoid(1 * weight))\n",
    "\n",
    "# Print the approximate win probability predicted blowout game\n",
    "print(sigmoid(10 * weight))"
   ],
   "metadata": {
    "collapsed": false
   }
  },
  {
   "cell_type": "markdown",
   "source": [
    "## Evaluate on new data with two metrics\n",
    "Now that you've fit your model and inspected its weights to make sure they make sense, evaluate your model on the tournament test set to see how well it does on new data.\n",
    "\n",
    "Note that in this case, Keras will return 3 numbers: the first number will be the sum of both the loss functions, and then the next 2 numbers will be the loss functions you used when defining the model."
   ],
   "metadata": {
    "collapsed": false
   }
  },
  {
   "cell_type": "code",
   "execution_count": 15,
   "outputs": [
    {
     "name": "stdout",
     "output_type": "stream",
     "text": [
      "[11.036083221435547, 10.24341106414795, 0.7926721572875977]\n"
     ]
    }
   ],
   "source": [
    "print(model.evaluate(games_tourney_test[['seed_diff', 'pred']],\n",
    "                    [games_tourney_test[['score_diff']], games_tourney_test[['won']]],\n",
    "                     verbose=False))\n"
   ],
   "metadata": {
    "collapsed": false
   }
  },
  {
   "cell_type": "code",
   "execution_count": null,
   "outputs": [],
   "source": [],
   "metadata": {
    "collapsed": false
   }
  }
 ],
 "metadata": {
  "kernelspec": {
   "display_name": "Python 3",
   "language": "python",
   "name": "python3"
  },
  "language_info": {
   "codemirror_mode": {
    "name": "ipython",
    "version": 2
   },
   "file_extension": ".py",
   "mimetype": "text/x-python",
   "name": "python",
   "nbconvert_exporter": "python",
   "pygments_lexer": "ipython2",
   "version": "2.7.6"
  }
 },
 "nbformat": 4,
 "nbformat_minor": 0
}
