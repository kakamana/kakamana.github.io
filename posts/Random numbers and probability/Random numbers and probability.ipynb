{
 "cells": [
  {
   "cell_type": "markdown",
   "source": [
    "---\n",
    "title: \"Random Numbers and Probability\"\n",
    "format:\n",
    "  html:\n",
    "    code-fold: true\n",
    "jupyter: python3\n",
    "author: \"kakamana\"\n",
    "date: \"2022-12-27\"\n",
    "categories: [python, datacamp, statistics, distribution]\n",
    "image: \"randomProb.jpg\"\n",
    "---"
   ],
   "metadata": {
    "collapsed": false,
    "pycharm": {
     "name": "#%% md\n"
    }
   }
  },
  {
   "cell_type": "code",
   "execution_count": 18,
   "outputs": [],
   "source": [
    "import pandas as pd\n",
    "import numpy as np\n",
    "import matplotlib.pyplot as plt"
   ],
   "metadata": {
    "collapsed": false,
    "pycharm": {
     "name": "#%%\n"
    }
   }
  },
  {
   "cell_type": "markdown",
   "source": [
    "# **Random Numbers and Probability**\n",
    "\n",
    "This **Random Numbers and Probability** is part of [Datacamp course: Introduction to Statistic in Python](https://app.datacamp.com/learn/courses/introduction-to-statistics-in-python)\n",
    "\n",
    "Here we'll explore how to generate random samples and measure chance using probability.We will work with real-world sales data to calculate the probability of a salesperson being successful. Finally, we will try to use the binomial distribution to model events with binary outcomes.\n",
    "\n",
    "This is my learning experience of data science through DataCamp"
   ],
   "metadata": {
    "collapsed": false,
    "pycharm": {
     "name": "#%% md\n"
    }
   }
  },
  {
   "cell_type": "markdown",
   "source": [
    "### **Measuring chance**\n",
    "\n",
    " $$ P(\\text{event}) = \\frac{\\text{# ways event can happen}}{\\text{total # of possible outcomes}} $$\n",
    "\n",
    "**Sampling with replacement vs sampling without replacement**\n",
    "\n",
    "sampling without replacement, in which a subset of the observations are selected randomly, and once an observation is selected it cannot be selected again. sampling with replacement, in which a subset of observations are selected randomly, and an observation may be selected more than once"
   ],
   "metadata": {
    "collapsed": false,
    "pycharm": {
     "name": "#%% md\n"
    }
   }
  },
  {
   "cell_type": "markdown",
   "source": [
    "### **Calculating probabilities**\n",
    "\n",
    "You're in charge of the sales team, and it's time for performance reviews, starting with Amir. As part of the review, you want to randomly select a few of the deals that he's worked on over the past year so that you can look at them more deeply. Before you start selecting deals, you'll first figure out what the chances are of selecting certain deals.\n",
    "\n",
    "Recall that the probability of an event can be calculated by\n",
    "\n",
    "$$ P(\\text{event}) = \\frac{\\text{# ways event can happen}}{\\text{total # of possible outcomes}} $$"
   ],
   "metadata": {
    "collapsed": false,
    "pycharm": {
     "name": "#%% md\n"
    }
   }
  },
  {
   "cell_type": "code",
   "execution_count": 2,
   "outputs": [
    {
     "data": {
      "text/plain": "     product   client status   amount  num_users\n1  Product F  Current    Won  7389.52         19\n2  Product C      New    Won  4493.01         43\n3  Product B      New    Won  5738.09         87\n4  Product I  Current    Won  2591.24         83\n5  Product E  Current    Won  6622.97         17",
      "text/html": "<div>\n<style scoped>\n    .dataframe tbody tr th:only-of-type {\n        vertical-align: middle;\n    }\n\n    .dataframe tbody tr th {\n        vertical-align: top;\n    }\n\n    .dataframe thead th {\n        text-align: right;\n    }\n</style>\n<table border=\"1\" class=\"dataframe\">\n  <thead>\n    <tr style=\"text-align: right;\">\n      <th></th>\n      <th>product</th>\n      <th>client</th>\n      <th>status</th>\n      <th>amount</th>\n      <th>num_users</th>\n    </tr>\n  </thead>\n  <tbody>\n    <tr>\n      <th>1</th>\n      <td>Product F</td>\n      <td>Current</td>\n      <td>Won</td>\n      <td>7389.52</td>\n      <td>19</td>\n    </tr>\n    <tr>\n      <th>2</th>\n      <td>Product C</td>\n      <td>New</td>\n      <td>Won</td>\n      <td>4493.01</td>\n      <td>43</td>\n    </tr>\n    <tr>\n      <th>3</th>\n      <td>Product B</td>\n      <td>New</td>\n      <td>Won</td>\n      <td>5738.09</td>\n      <td>87</td>\n    </tr>\n    <tr>\n      <th>4</th>\n      <td>Product I</td>\n      <td>Current</td>\n      <td>Won</td>\n      <td>2591.24</td>\n      <td>83</td>\n    </tr>\n    <tr>\n      <th>5</th>\n      <td>Product E</td>\n      <td>Current</td>\n      <td>Won</td>\n      <td>6622.97</td>\n      <td>17</td>\n    </tr>\n  </tbody>\n</table>\n</div>"
     },
     "execution_count": 2,
     "metadata": {},
     "output_type": "execute_result"
    }
   ],
   "source": [
    "amir_deals = pd.read_csv('amir_deals.csv', index_col=0)\n",
    "amir_deals.head()"
   ],
   "metadata": {
    "collapsed": false,
    "pycharm": {
     "name": "#%%\n"
    }
   }
  },
  {
   "cell_type": "code",
   "execution_count": 3,
   "outputs": [
    {
     "name": "stdout",
     "output_type": "stream",
     "text": [
      "Product B    62\n",
      "Product D    40\n",
      "Product A    23\n",
      "Product C    15\n",
      "Product F    11\n",
      "Product H     8\n",
      "Product I     7\n",
      "Product E     5\n",
      "Product N     3\n",
      "Product G     2\n",
      "Product J     2\n",
      "Name: product, dtype: int64\n",
      "Product B    0.348315\n",
      "Product D    0.224719\n",
      "Product A    0.129213\n",
      "Product C    0.084270\n",
      "Product F    0.061798\n",
      "Product H    0.044944\n",
      "Product I    0.039326\n",
      "Product E    0.028090\n",
      "Product N    0.016854\n",
      "Product G    0.011236\n",
      "Product J    0.011236\n",
      "Name: product, dtype: float64\n"
     ]
    }
   ],
   "source": [
    "counts = amir_deals['product'].value_counts()\n",
    "print(counts)\n",
    "\n",
    "# Calculate probability of picking a deal with each product\n",
    "probs = counts / len(amir_deals['product'])\n",
    "print(probs)"
   ],
   "metadata": {
    "collapsed": false,
    "pycharm": {
     "name": "#%%\n"
    }
   }
  },
  {
   "cell_type": "markdown",
   "source": [
    "### **Sampling deals**\n",
    "\n",
    "In the previous exercise, you counted the deals Amir worked on. Now it's time to randomly pick five deals so that you can reach out to each customer and ask if they were satisfied with the service they received. You'll try doing this both with and without replacement.\n",
    "\n",
    "Additionally, you want to make sure this is done randomly and that it can be reproduced in case you get asked how you chose the deals, so you'll need to set the random seed before sampling from the deals."
   ],
   "metadata": {
    "collapsed": false,
    "pycharm": {
     "name": "#%% md\n"
    }
   }
  },
  {
   "cell_type": "code",
   "execution_count": 4,
   "outputs": [
    {
     "name": "stdout",
     "output_type": "stream",
     "text": [
      "       product   client status   amount  num_users\n",
      "128  Product B  Current    Won  2070.25          7\n",
      "149  Product D  Current    Won  3485.48         52\n",
      "78   Product B  Current    Won  6252.30         27\n",
      "105  Product D  Current    Won  4110.98         39\n",
      "167  Product C      New   Lost  3779.86         11\n"
     ]
    }
   ],
   "source": [
    "# Set random seed\n",
    "np.random.seed(24)\n",
    "\n",
    "# Sample 5 deals without replacement\n",
    "sample_without_replacement = amir_deals.sample(5,replace=False)\n",
    "print(sample_without_replacement)"
   ],
   "metadata": {
    "collapsed": false,
    "pycharm": {
     "name": "#%%\n"
    }
   }
  },
  {
   "cell_type": "code",
   "execution_count": 5,
   "outputs": [
    {
     "name": "stdout",
     "output_type": "stream",
     "text": [
      "       product   client status   amount  num_users\n",
      "163  Product D  Current    Won  6755.66         59\n",
      "132  Product B  Current    Won  6872.29         25\n",
      "88   Product C  Current    Won  3579.63          3\n",
      "146  Product A  Current    Won  4682.94         63\n",
      "146  Product A  Current    Won  4682.94         63\n"
     ]
    }
   ],
   "source": [
    "# Set random seed\n",
    "np.random.seed(24)\n",
    "\n",
    "# Sample 5 deals with replacement\n",
    "sample_with_replacement = amir_deals.sample(5,replace=True)\n",
    "print(sample_with_replacement)"
   ],
   "metadata": {
    "collapsed": false,
    "pycharm": {
     "name": "#%%\n"
    }
   }
  },
  {
   "cell_type": "markdown",
   "source": [
    "### **Discrete distributions**\n",
    "\n",
    "* Probability distribution\n",
    "    * Describe probability of each possible outcome in a scenario\n",
    "    * Expected value: mean of probability distribution\n",
    "* Law of large number (LLN): as size of sample increases, sample mean will approach expected value."
   ],
   "metadata": {
    "collapsed": false,
    "pycharm": {
     "name": "#%% md\n"
    }
   }
  },
  {
   "cell_type": "markdown",
   "source": [
    "### **Creating a probability distribution**\n",
    "\n",
    "Restaurant management wants to optimize seating space based on the size of the groups that come most often to a new restaurant. One night, 10 groups of people are waiting to be seated at the restaurant, but instead of being called in the order they arrived, they will be called randomly. This exercise examines the probability of picking groups of different sizes.\n",
    "\n",
    "Remember that expected value can be calculated by multiplying each possible outcome with its corresponding probability and taking the sum"
   ],
   "metadata": {
    "collapsed": false,
    "pycharm": {
     "name": "#%% md\n"
    }
   }
  },
  {
   "cell_type": "code",
   "execution_count": 6,
   "outputs": [
    {
     "data": {
      "text/plain": "  group_id  group_size\n0        A           2\n1        B           4\n2        C           6\n3        D           2\n4        E           2",
      "text/html": "<div>\n<style scoped>\n    .dataframe tbody tr th:only-of-type {\n        vertical-align: middle;\n    }\n\n    .dataframe tbody tr th {\n        vertical-align: top;\n    }\n\n    .dataframe thead th {\n        text-align: right;\n    }\n</style>\n<table border=\"1\" class=\"dataframe\">\n  <thead>\n    <tr style=\"text-align: right;\">\n      <th></th>\n      <th>group_id</th>\n      <th>group_size</th>\n    </tr>\n  </thead>\n  <tbody>\n    <tr>\n      <th>0</th>\n      <td>A</td>\n      <td>2</td>\n    </tr>\n    <tr>\n      <th>1</th>\n      <td>B</td>\n      <td>4</td>\n    </tr>\n    <tr>\n      <th>2</th>\n      <td>C</td>\n      <td>6</td>\n    </tr>\n    <tr>\n      <th>3</th>\n      <td>D</td>\n      <td>2</td>\n    </tr>\n    <tr>\n      <th>4</th>\n      <td>E</td>\n      <td>2</td>\n    </tr>\n  </tbody>\n</table>\n</div>"
     },
     "execution_count": 6,
     "metadata": {},
     "output_type": "execute_result"
    }
   ],
   "source": [
    "restaurant_groups = pd.read_csv('restaurant_groups.csv')\n",
    "restaurant_groups.head()"
   ],
   "metadata": {
    "collapsed": false,
    "pycharm": {
     "name": "#%%\n"
    }
   }
  },
  {
   "cell_type": "code",
   "execution_count": 7,
   "outputs": [
    {
     "data": {
      "text/plain": "<AxesSubplot:>"
     },
     "execution_count": 7,
     "metadata": {},
     "output_type": "execute_result"
    },
    {
     "data": {
      "text/plain": "<Figure size 432x288 with 1 Axes>",
      "image/png": "[encoded data removed]"
     },
     "metadata": {
      "needs_background": "light"
     },
     "output_type": "display_data"
    }
   ],
   "source": [
    "# Create a histogram of restaurant_groups and show plot\n",
    "restaurant_groups['group_size'].hist(bins=[2, 3, 4, 5, 6])"
   ],
   "metadata": {
    "collapsed": false,
    "pycharm": {
     "name": "#%%\n"
    }
   }
  },
  {
   "cell_type": "code",
   "execution_count": 13,
   "outputs": [
    {
     "name": "stdout",
     "output_type": "stream",
     "text": [
      "   group_size  prob\n",
      "0           2   0.6\n",
      "1           4   0.2\n",
      "2           6   0.1\n",
      "3           3   0.1\n",
      "2.9000000000000004\n",
      "0.30000000000000004\n"
     ]
    }
   ],
   "source": [
    "# Create probability distribution\n",
    "size_dist = restaurant_groups['group_size'].value_counts() / restaurant_groups.shape[0]\n",
    "# Reset index and rename columns\n",
    "size_dist = size_dist.reset_index()\n",
    "size_dist.columns = ['group_size', 'prob']\n",
    "print(size_dist)\n",
    "\n",
    "# Expected value\n",
    "expected_value = np.sum(size_dist['group_size'] * size_dist['prob'])\n",
    "print(expected_value)\n",
    "\n",
    "# Subset groups of size 4 or more\n",
    "groups_4_or_more = size_dist[size_dist['group_size'] >=4]\n",
    "\n",
    "# Sum the probabilities of groups_4_or_more\n",
    "prob_4_or_more = groups_4_or_more['prob'].sum()\n",
    "print(prob_4_or_more)"
   ],
   "metadata": {
    "collapsed": false,
    "pycharm": {
     "name": "#%%\n"
    }
   }
  },
  {
   "cell_type": "markdown",
   "source": [
    "### **Continuous distributions**\n",
    "\n",
    "**Data back-ups**\n",
    "\n",
    "Your company's sales software backs itself up automatically, but no one knows exactly when the back-ups take place. It is known, however, that back-ups occur every 30 minutes. Amir updates the client data after sales meetings at random times. When will his newly-entered data be backed up? Answer Amir's questions using your new knowledge of continuous uniform distributions"
   ],
   "metadata": {
    "collapsed": false,
    "pycharm": {
     "name": "#%% md\n"
    }
   }
  },
  {
   "cell_type": "code",
   "execution_count": 14,
   "outputs": [
    {
     "name": "stdout",
     "output_type": "stream",
     "text": [
      "0.16666666666666666\n",
      "0.8333333333333334\n",
      "0.3333333333333333\n"
     ]
    }
   ],
   "source": [
    "from scipy.stats import uniform\n",
    "\n",
    "# Min and max wait times for back-up that happens every 30 min\n",
    "min_time = 0\n",
    "max_time = 30\n",
    "\n",
    "# Calculate probability of waiting less than 5 mins\n",
    "prob_less_than_5 = uniform.cdf(5, min_time, max_time)\n",
    "print(prob_less_than_5)\n",
    "\n",
    "# Calculate probability of waiting more than 5 mins\n",
    "prob_greater_than_5 = 1 - uniform.cdf(5, min_time, max_time)\n",
    "print(prob_greater_than_5)\n",
    "\n",
    "# Calculate probability of waiting 10-20 mins\n",
    "prob_between_10_and_20 = uniform.cdf(20, min_time, max_time) - \\\n",
    "                        uniform.cdf(10, min_time, max_time)\n",
    "print(prob_between_10_and_20)"
   ],
   "metadata": {
    "collapsed": false,
    "pycharm": {
     "name": "#%%\n"
    }
   }
  },
  {
   "cell_type": "markdown",
   "source": [
    "### **Simulating wait times**\n",
    "\n",
    "To give Amir a better idea of how long he'll have to wait, you'll simulate Amir waiting 1000 times and create a histogram to show him what he should expect. Recall from the last exercise that his minimum wait time is 0 minutes and his maximum wait time is 30 minutes."
   ],
   "metadata": {
    "collapsed": false,
    "pycharm": {
     "name": "#%% md\n"
    }
   }
  },
  {
   "cell_type": "code",
   "execution_count": 20,
   "outputs": [
    {
     "name": "stdout",
     "output_type": "stream",
     "text": [
      "[ 7.144097    0.97455866  3.72802787  5.11644319  8.70602482 24.69140099\n",
      " 23.98012075  3.19592668 25.1985306  17.89048629]\n",
      "Unless Amir figures out exactly what time each backup happens, he won't be able to time his data entry so it gets backed up sooner, but it looks like he'll wait about 15 minutes on average\n",
      "\n"
     ]
    },
    {
     "data": {
      "text/plain": "<Figure size 432x288 with 1 Axes>",
      "image/png": "[encoded data removed]"
     },
     "metadata": {
      "needs_background": "light"
     },
     "output_type": "display_data"
    }
   ],
   "source": [
    "np.random.seed(334)\n",
    "\n",
    "# Generates 1000 wait times between 0 and 30 mins\n",
    "wait_times = uniform.rvs(min_time, max_time, 1000)\n",
    "print(wait_times[:10])\n",
    "\n",
    "# Create a histogram of simulated times and show plot\n",
    "plt.hist(wait_times);\n",
    "print (\"Unless Amir figures out exactly what time each backup happens, he won't be able to time his data entry so it gets backed up sooner, but it looks like he'll wait about 15 minutes on average\\n\")"
   ],
   "metadata": {
    "collapsed": false,
    "pycharm": {
     "name": "#%%\n"
    }
   }
  },
  {
   "cell_type": "markdown",
   "source": [
    "### **The binomial distribution**\n",
    "\n",
    "* Binomial distribution\n",
    "    * Probability distribution of number of successes in a sequence of independent trials\n",
    "    * Described by n and p\n",
    "        * n: total number of trials\n",
    "        * p: probability of success\n",
    "    * Expected value: n * p\n",
    "    * Independence: The binomial distribution is a probability distribution of number of successes in a sequence of independent trials\n",
    "\n"
   ],
   "metadata": {
    "collapsed": false,
    "pycharm": {
     "name": "#%% md\n"
    }
   }
  },
  {
   "cell_type": "markdown",
   "source": [
    "### **Simulating sales deals**\n",
    "\n",
    "Assume that Amir usually works on 3 deals per week, and overall, he wins 30% of deals he works on. Each deal has a binary outcome: it's either lost, or won, so you can model his sales deals with a binomial distribution. In this exercise, you'll help Amir simulate a year's worth of his deals so he can better understand his performance."
   ],
   "metadata": {
    "collapsed": false,
    "pycharm": {
     "name": "#%% md\n"
    }
   }
  },
  {
   "cell_type": "code",
   "execution_count": 21,
   "outputs": [
    {
     "name": "stdout",
     "output_type": "stream",
     "text": [
      "[1]\n",
      "[0]\n",
      "0.8461538461538461\n",
      "\n",
      "In this simulated year, Amir won 0.83 deals on average each week\n"
     ]
    }
   ],
   "source": [
    "# Import binom from scipy.stats\n",
    "from scipy.stats import binom\n",
    "\n",
    "# Set random seed to 10\n",
    "np.random.seed(10)\n",
    "\n",
    "# Simulate a single deal\n",
    "print(binom.rvs(1, 0.3, size=1))\n",
    "\n",
    "# Simulate 1 week of 3 deals\n",
    "print(binom.rvs(3,0.3,size=1))\n",
    "\n",
    "# Simulate 52 weeks of 3 deals\n",
    "deals = binom.rvs(3,0.3,size=52)\n",
    "\n",
    "# Print mean deals won per week\n",
    "print(np.mean(deals))\n",
    "\n",
    "print('\\nIn this simulated year, Amir won 0.83 deals on average each week')"
   ],
   "metadata": {
    "collapsed": false,
    "pycharm": {
     "name": "#%%\n"
    }
   }
  },
  {
   "cell_type": "markdown",
   "source": [
    "### **Calculating binomial probabilities**\n",
    "\n",
    "Just as in the last exercise, assume that Amir wins 30% of deals. He wants to get an idea of how likely he is to close a certain number of deals each week. In this exercise, you'll calculate what the chances are of him closing different numbers of deals using the binomial distribution."
   ],
   "metadata": {
    "collapsed": false,
    "pycharm": {
     "name": "#%% md\n"
    }
   }
  },
  {
   "cell_type": "code",
   "execution_count": 22,
   "outputs": [
    {
     "name": "stdout",
     "output_type": "stream",
     "text": [
      "0.026999999999999996\n",
      "0.784\n",
      "0.21599999999999997\n",
      "\n",
      "Amir has about a 22% chance of closing more than one deal in a week.\n"
     ]
    }
   ],
   "source": [
    "# Probability of closing 3 out of 3 deals\n",
    "prob_3 = binom.pmf(3,3,0.3)\n",
    "print(prob_3)\n",
    "\n",
    "# Probability of closing <= 1 deal out of 3 deals\n",
    "prob_less_than_or_equal_1 = binom.cdf(1,3,0.3)\n",
    "print(prob_less_than_or_equal_1)\n",
    "\n",
    "# Probability of closing > 1 deal out of 3 deals\n",
    "prob_greater_than_1 =1- binom.cdf(1,3,0.3)\n",
    "print(prob_greater_than_1)\n",
    "\n",
    "print(\"\\nAmir has about a 22% chance of closing more than one deal in a week.\")"
   ],
   "metadata": {
    "collapsed": false,
    "pycharm": {
     "name": "#%%\n"
    }
   }
  },
  {
   "cell_type": "markdown",
   "source": [
    "### **How many sales will be won?**\n",
    "\n",
    "Now Amir wants to know how many deals he can expect to close each week if his win rate changes. Luckily, you can use your binomial distribution knowledge to help him calculate the expected value in different situations. Recall from the video that the expected value of a binomial distribution can be calculated by n*p"
   ],
   "metadata": {
    "collapsed": false,
    "pycharm": {
     "name": "#%% md\n"
    }
   }
  },
  {
   "cell_type": "code",
   "execution_count": 24,
   "outputs": [
    {
     "name": "stdout",
     "output_type": "stream",
     "text": [
      "0.8999999999999999\n",
      "0.75\n",
      "1.0499999999999998\n",
      "\n",
      "If Amirs win rate goes up by 5%, he can expect to close more than 1 deal on average each week\n"
     ]
    }
   ],
   "source": [
    "# Expected number won with 30% win rate\n",
    "won_30pct = 3 * 0.3\n",
    "print(won_30pct)\n",
    "\n",
    "# Expected number won with 25% win rate\n",
    "won_25pct = 3 * 0.25\n",
    "print(won_25pct)\n",
    "\n",
    "# Expected number won with 35% win rate\n",
    "won_35pct = 3 * 0.35\n",
    "print(won_35pct)\n",
    "\n",
    "print('\\nIf Amirs win rate goes up by 5%, he can expect to close more than 1 deal on average each week')"
   ],
   "metadata": {
    "collapsed": false,
    "pycharm": {
     "name": "#%%\n"
    }
   }
  },
  {
   "cell_type": "code",
   "execution_count": null,
   "outputs": [],
   "source": [],
   "metadata": {
    "collapsed": false,
    "pycharm": {
     "name": "#%%\n"
    }
   }
  }
 ],
 "metadata": {
  "kernelspec": {
   "display_name": "Python 3",
   "language": "python",
   "name": "python3"
  },
  "language_info": {
   "codemirror_mode": {
    "name": "ipython",
    "version": 2
   },
   "file_extension": ".py",
   "mimetype": "text/x-python",
   "name": "python",
   "nbconvert_exporter": "python",
   "pygments_lexer": "ipython2",
   "version": "2.7.6"
  }
 },
 "nbformat": 4,
 "nbformat_minor": 0
}