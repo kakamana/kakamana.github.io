{
 "cells": [
  {
   "cell_type": "markdown",
   "id": "aba436df",
   "metadata": {},
   "source": [
    "---\n",
    "title: \"Unraveling the Impact of Randomization Techniques: A Case Study on Uber's Tipping Experiment\"\n",
    "description: \"This post is continuation of my understanding about experimental design & analysis, here I am trying to discuss about randomization technique with help of uber tipping experiment use case for their drivers conducted couple of years back.\"\n",
    "format:\n",
    "  html:\n",
    "    code-fold: true\n",
    "jupyter: python3\n",
    "author: \"kakamana\"\n",
    "date: \"2024-03-25\"\n",
    "categories: [python, university of michigan, randomization, statistical analysis]\n",
    "image: \"three randomization techniques.png\"\n",
    "\n",
    "---"
   ]
  },
  {
   "cell_type": "code",
   "execution_count": 1,
   "id": "2c46bd46",
   "metadata": {
    "_cell_guid": "b1076dfc-b9ad-4769-8c92-a6c4dae69d19",
    "_uuid": "8f2839f25d086af736a60e9eeb907d3b93b6e0e5",
    "execution": {
     "iopub.execute_input": "2024-03-17T18:46:51.611450Z",
     "iopub.status.busy": "2024-03-17T18:46:51.611065Z",
     "iopub.status.idle": "2024-03-17T18:46:52.720502Z",
     "shell.execute_reply": "2024-03-17T18:46:52.719447Z"
    },
    "papermill": {
     "duration": 1.120128,
     "end_time": "2024-03-17T18:46:52.723250",
     "exception": false,
     "start_time": "2024-03-17T18:46:51.603122",
     "status": "completed"
    },
    "tags": []
   },
   "outputs": [],
   "source": [
    "# This Python 3 environment comes with many helpful analytics libraries installed\n",
    "# It is defined by the kaggle/python Docker image: https://github.com/kaggle/docker-python\n",
    "# For example, here's several helpful packages to load\n",
    "\n",
    "import numpy as np # linear algebra\n",
    "import pandas as pd # data processing, CSV file I/O (e.g. pd.read_csv)\n",
    "\n",
    "# Input data files are available in the read-only \"../input/\" directory\n",
    "# For example, running this (by clicking run or pressing Shift+Enter) will list all files under the input directory\n",
    "\n",
    "import os\n",
    "for dirname, _, filenames in os.walk('/kaggle/input'):\n",
    "    for filename in filenames:\n",
    "        print(os.path.join(dirname, filename))\n",
    "\n",
    "# You can write up to 20GB to the current directory (/kaggle/working/) that gets preserved as output when you create a version using \"Save & Run All\" \n",
    "# You can also write temporary files to /kaggle/temp/, but they won't be saved outside of the current session"
   ]
  },
  {
   "cell_type": "markdown",
   "id": "c061af9d",
   "metadata": {
    "papermill": {
     "duration": 0.004844,
     "end_time": "2024-03-17T18:46:52.733659",
     "exception": false,
     "start_time": "2024-03-17T18:46:52.728815",
     "status": "completed"
    },
    "tags": []
   },
   "source": [
    "This notebook is part of learning journey through my graduate applied data science program at University Of Michigan, along with courses of Datacamp, Coursera & LinkedIn etc.\n",
    "\n",
    "This notobook is continuation of my understanding about experimental design & analysis, here I am trying to discuss about randomization technique with help of uber tipping experiment use case for their drivers conducted couple of years back.\n",
    "\n",
    "You can refer to [my story](https://medium.com/@kamig4u/unraveling-the-impact-of-randomization-techniques-a-case-study-on-ubers-tipping-experiment-356c7c9cc9a0) at [medium](https://medium.com/@kamig4u) and my [article](https://www.linkedin.com/feed/update/urn:li:linkedInArticle:7175185168029151232/?lipi=urn%3Ali%3Apage%3Ad_flagship3_pulse_read%3B1BuBqedIQ72C6s1VoxfK%2BA%3D%3D) at [linkedin](https://www.linkedin.com/in/asadenterprisearchitect/) for more details"
   ]
  },
  {
   "cell_type": "markdown",
   "id": "447e21a2",
   "metadata": {
    "papermill": {
     "duration": 0.004781,
     "end_time": "2024-03-17T18:46:52.743624",
     "exception": false,
     "start_time": "2024-03-17T18:46:52.738843",
     "status": "completed"
    },
    "tags": []
   },
   "source": [
    " This article includes:\n",
    "\n",
    "\n",
    "*     A brief introduction\n",
    "*     Access Randomization \n",
    "*     Timing Randomization \n",
    "*     Encouragement Randomization\n",
    "*     Quick references\n",
    "*     Conclusion"
   ]
  },
  {
   "cell_type": "markdown",
   "id": "a5a29ee0",
   "metadata": {
    "papermill": {
     "duration": 0.004747,
     "end_time": "2024-03-17T18:46:52.753472",
     "exception": false,
     "start_time": "2024-03-17T18:46:52.748725",
     "status": "completed"
    },
    "tags": []
   },
   "source": [
    "# **Introduction**\n",
    "\n",
    "Randomization stands as a cornerstone in the edifice of experimental design, offering a robust defense against biases and confounding variables. This blog post embarks on an exploration of three pivotal randomization techniques — access, timing, and encouragement randomization. Each method plays a vital role in fortifying the integrity of experimental outcomes, ensuring that the causal inferences drawn are devoid of bias. To bring these concepts to life, we delve into the Uber tipping experiment, elucidating how each randomization technique can be applied. We further enhance our exploration with Python illustrations, showcasing their practical implementation and offering insights through statistical models."
   ]
  },
  {
   "cell_type": "markdown",
   "id": "f3add748",
   "metadata": {
    "papermill": {
     "duration": 0.004719,
     "end_time": "2024-03-17T18:46:52.763186",
     "exception": false,
     "start_time": "2024-03-17T18:46:52.758467",
     "status": "completed"
    },
    "tags": []
   },
   "source": [
    "# **Access Randomization**\n",
    "\n",
    "At the heart of access randomization lies the equitable distribution of subjects into treatment and control groups. This approach ensures that the intervention under scrutiny is exclusively available to the treatment group, providing a clear demarcation for comparative analysis.\n",
    "\n",
    "**Uber Tipping Experiment Application:**\n",
    "\n",
    "Imagine a scenario where Uber wishes to assess the impact of a new tipping feature on driver satisfaction. Utilizing access randomization, drivers are bifurcated into two cohorts; one gains access to the tipping functionality (treatment), while the other continues without it (control)."
   ]
  },
  {
   "cell_type": "code",
   "execution_count": 2,
   "id": "9e6bd69d",
   "metadata": {
    "execution": {
     "iopub.execute_input": "2024-03-17T18:46:52.775275Z",
     "iopub.status.busy": "2024-03-17T18:46:52.774704Z",
     "iopub.status.idle": "2024-03-17T18:46:52.780612Z",
     "shell.execute_reply": "2024-03-17T18:46:52.779745Z"
    },
    "papermill": {
     "duration": 0.014819,
     "end_time": "2024-03-17T18:46:52.782989",
     "exception": false,
     "start_time": "2024-03-17T18:46:52.768170",
     "status": "completed"
    },
    "tags": []
   },
   "outputs": [],
   "source": [
    "import random\n",
    "\n",
    "def access_randomization(drivers):\n",
    "    treatment_group = random.sample(drivers, len(drivers) // 2)\n",
    "    control_group = [driver for driver in drivers if driver not in treatment_group]\n",
    "    return treatment_group, control_group"
   ]
  },
  {
   "cell_type": "code",
   "execution_count": 3,
   "id": "ba156171",
   "metadata": {
    "execution": {
     "iopub.execute_input": "2024-03-17T18:46:52.796731Z",
     "iopub.status.busy": "2024-03-17T18:46:52.796094Z",
     "iopub.status.idle": "2024-03-17T18:46:52.802170Z",
     "shell.execute_reply": "2024-03-17T18:46:52.801078Z"
    },
    "papermill": {
     "duration": 0.015367,
     "end_time": "2024-03-17T18:46:52.804626",
     "exception": false,
     "start_time": "2024-03-17T18:46:52.789259",
     "status": "completed"
    },
    "tags": []
   },
   "outputs": [],
   "source": [
    "import numpy as np\n",
    "\n",
    "# Simulating driver IDs\n",
    "drivers = np.arange(1, 101)\n",
    "\n",
    "# Randomly assigning drivers to treatment and control groups\n",
    "np.random.shuffle(drivers)\n",
    "treatment_group = drivers[:50]  # First 50 drivers\n",
    "control_group = drivers[50:]  # Remaining drivers"
   ]
  },
  {
   "cell_type": "markdown",
   "id": "696c9219",
   "metadata": {
    "papermill": {
     "duration": 0.005133,
     "end_time": "2024-03-17T18:46:52.815282",
     "exception": false,
     "start_time": "2024-03-17T18:46:52.810149",
     "status": "completed"
    },
    "tags": []
   },
   "source": [
    "# Timing Randomization:\n",
    "\n",
    "Timing randomization introduces variability in the temporal aspect of treatment delivery. This method is particularly beneficial when all subjects are destined to receive the treatment, but the sequence of administration is randomized.\n",
    "\n",
    "**Uber Tipping Experiment Application:**\n",
    "\n",
    "In applying this to our Uber case, let’s consider a phased rollout of the tipping feature. Drivers are randomly assigned to different phases, ensuring an unbiased evaluation of the feature’s impact over time."
   ]
  },
  {
   "cell_type": "code",
   "execution_count": 4,
   "id": "75cb1822",
   "metadata": {
    "execution": {
     "iopub.execute_input": "2024-03-17T18:46:52.828862Z",
     "iopub.status.busy": "2024-03-17T18:46:52.828016Z",
     "iopub.status.idle": "2024-03-17T18:46:52.835678Z",
     "shell.execute_reply": "2024-03-17T18:46:52.834801Z"
    },
    "papermill": {
     "duration": 0.017101,
     "end_time": "2024-03-17T18:46:52.838169",
     "exception": false,
     "start_time": "2024-03-17T18:46:52.821068",
     "status": "completed"
    },
    "tags": []
   },
   "outputs": [],
   "source": [
    "def timing_randomization(drivers, num_waves):\n",
    "    random.shuffle(drivers)\n",
    "    wave_size = len(drivers) // num_waves\n",
    "    waves = [drivers[i:i+wave_size] for i in range(0, len(drivers), wave_size)]\n",
    "    return waves"
   ]
  },
  {
   "cell_type": "code",
   "execution_count": 5,
   "id": "47839871",
   "metadata": {
    "execution": {
     "iopub.execute_input": "2024-03-17T18:46:52.850958Z",
     "iopub.status.busy": "2024-03-17T18:46:52.850519Z",
     "iopub.status.idle": "2024-03-17T18:46:52.861544Z",
     "shell.execute_reply": "2024-03-17T18:46:52.860073Z"
    },
    "papermill": {
     "duration": 0.021081,
     "end_time": "2024-03-17T18:46:52.864852",
     "exception": false,
     "start_time": "2024-03-17T18:46:52.843771",
     "status": "completed"
    },
    "tags": []
   },
   "outputs": [
    {
     "name": "stdout",
     "output_type": "stream",
     "text": [
      "Phase 1 Drivers: 31\n",
      "Phase 2 Drivers: 38\n",
      "Phase 3 Drivers: 31\n"
     ]
    }
   ],
   "source": [
    "# Defining phases for feature rollout\n",
    "phases = ['Phase 1', 'Phase 2', 'Phase 3']\n",
    "\n",
    "# Assigning drivers to phases\n",
    "driver_phases = np.random.choice(phases, size=len(drivers))\n",
    "\n",
    "# Analyzing the distribution of drivers across phases\n",
    "for phase in phases:\n",
    "    print(f\"{phase} Drivers:\", np.sum(driver_phases == phase))"
   ]
  },
  {
   "cell_type": "markdown",
   "id": "90fc738b",
   "metadata": {
    "papermill": {
     "duration": 0.006828,
     "end_time": "2024-03-17T18:46:52.878421",
     "exception": false,
     "start_time": "2024-03-17T18:46:52.871593",
     "status": "completed"
    },
    "tags": []
   },
   "source": [
    "# **Encouragement Randomization**:\n",
    "\n",
    "Encouragement randomization is employed when the treatment is universally accessible, but a nudge is given to a randomly selected subgroup to encourage participation. This technique is instrumental in discerning the effect of encouragement on treatment uptake.\n",
    "\n",
    "**Uber Tipping Experiment Application:**\n",
    "\n",
    "In this context, while the tipping feature is available to all drivers, a randomized subset receives motivational messages or incentives to encourage the use of this feature, aiding in the assessment of encouragement’s effectiveness."
   ]
  },
  {
   "cell_type": "code",
   "execution_count": 6,
   "id": "3377a1fa",
   "metadata": {
    "execution": {
     "iopub.execute_input": "2024-03-17T18:46:52.892316Z",
     "iopub.status.busy": "2024-03-17T18:46:52.891937Z",
     "iopub.status.idle": "2024-03-17T18:46:52.898419Z",
     "shell.execute_reply": "2024-03-17T18:46:52.896914Z"
    },
    "papermill": {
     "duration": 0.017032,
     "end_time": "2024-03-17T18:46:52.901360",
     "exception": false,
     "start_time": "2024-03-17T18:46:52.884328",
     "status": "completed"
    },
    "tags": []
   },
   "outputs": [],
   "source": [
    "def encouragement_randomization(drivers, encouragement_ratio):\n",
    "    num_encouraged = int(len(drivers) * encouragement_ratio)\n",
    "    encouraged_group = random.sample(drivers, num_encouraged)\n",
    "    not_encouraged_group = [driver for driver in drivers if driver not in encouraged_group]\n",
    "    return encouraged_group, not_encouraged_group"
   ]
  },
  {
   "cell_type": "code",
   "execution_count": 7,
   "id": "4a0c2658",
   "metadata": {
    "execution": {
     "iopub.execute_input": "2024-03-17T18:46:52.916787Z",
     "iopub.status.busy": "2024-03-17T18:46:52.915432Z",
     "iopub.status.idle": "2024-03-17T18:46:52.925128Z",
     "shell.execute_reply": "2024-03-17T18:46:52.923999Z"
    },
    "papermill": {
     "duration": 0.02058,
     "end_time": "2024-03-17T18:46:52.927996",
     "exception": false,
     "start_time": "2024-03-17T18:46:52.907416",
     "status": "completed"
    },
    "tags": []
   },
   "outputs": [
    {
     "name": "stdout",
     "output_type": "stream",
     "text": [
      "Encouraged Drivers: [66 41 47 75  5 34 54 17 20 59 73 24 95 29 16 65 44 23 45 11 70 25 76 74\n",
      " 80 63 85 50 38 72]\n"
     ]
    }
   ],
   "source": [
    "# Defining encouragement proportion\n",
    "encouragement_ratio = 0.3\n",
    "\n",
    "# Randomly selecting drivers for encouragement\n",
    "encouraged_drivers = np.random.choice(drivers, size=int(len(drivers) * encouragement_ratio), replace=False)\n",
    "\n",
    "# Examining the encouraged group\n",
    "print(\"Encouraged Drivers:\", encouraged_drivers)"
   ]
  },
  {
   "cell_type": "markdown",
   "id": "657577bf",
   "metadata": {
    "papermill": {
     "duration": 0.006005,
     "end_time": "2024-03-17T18:46:52.940315",
     "exception": false,
     "start_time": "2024-03-17T18:46:52.934310",
     "status": "completed"
    },
    "tags": []
   },
   "source": [
    "# **Statistical Analysis with Regression**:\n",
    "\n",
    "To delve deeper into the data’s story, a regression analysis can provide quantifiable insights into the factors influencing tipping behavior.\n",
    "\n",
    "**Regression Model Summary:**"
   ]
  },
  {
   "cell_type": "code",
   "execution_count": 8,
   "id": "5cc51d82",
   "metadata": {
    "execution": {
     "iopub.execute_input": "2024-03-17T18:46:52.955117Z",
     "iopub.status.busy": "2024-03-17T18:46:52.954636Z",
     "iopub.status.idle": "2024-03-17T18:46:56.879601Z",
     "shell.execute_reply": "2024-03-17T18:46:56.877923Z"
    },
    "papermill": {
     "duration": 3.935234,
     "end_time": "2024-03-17T18:46:56.881461",
     "exception": true,
     "start_time": "2024-03-17T18:46:52.946227",
     "status": "failed"
    },
    "tags": []
   },
   "outputs": [
    {
     "ename": "NameError",
     "evalue": "name 'df' is not defined",
     "output_type": "error",
     "traceback": [
      "\u001b[0;31m---------------------------------------------------------------------------\u001b[0m",
      "\u001b[0;31mNameError\u001b[0m                                 Traceback (most recent call last)",
      "Cell \u001b[0;32mIn[8], line 4\u001b[0m\n\u001b[1;32m      1\u001b[0m \u001b[38;5;28;01mimport\u001b[39;00m \u001b[38;5;21;01mstatsmodels\u001b[39;00m\u001b[38;5;21;01m.\u001b[39;00m\u001b[38;5;21;01mapi\u001b[39;00m \u001b[38;5;28;01mas\u001b[39;00m \u001b[38;5;21;01msm\u001b[39;00m\n\u001b[1;32m      3\u001b[0m \u001b[38;5;66;03m# Assuming 'df' is a DataFrame with 'tip_amount', 'treated', 'encouraged', and other relevant variables\u001b[39;00m\n\u001b[0;32m----> 4\u001b[0m X \u001b[38;5;241m=\u001b[39m sm\u001b[38;5;241m.\u001b[39madd_constant(\u001b[43mdf\u001b[49m[[\u001b[38;5;124m'\u001b[39m\u001b[38;5;124mtreated\u001b[39m\u001b[38;5;124m'\u001b[39m, \u001b[38;5;124m'\u001b[39m\u001b[38;5;124mencouraged\u001b[39m\u001b[38;5;124m'\u001b[39m]])\n\u001b[1;32m      5\u001b[0m y \u001b[38;5;241m=\u001b[39m df[\u001b[38;5;124m'\u001b[39m\u001b[38;5;124mtip_amount\u001b[39m\u001b[38;5;124m'\u001b[39m]\n\u001b[1;32m      7\u001b[0m \u001b[38;5;66;03m# Fitting an OLS regression model\u001b[39;00m\n",
      "\u001b[0;31mNameError\u001b[0m: name 'df' is not defined"
     ]
    }
   ],
   "source": [
    "import statsmodels.api as sm\n",
    "\n",
    "# Assuming 'df' is a DataFrame with 'tip_amount', 'treated', 'encouraged', and other relevant variables\n",
    "X = sm.add_constant(df[['treated', 'encouraged']])\n",
    "y = df['tip_amount']\n",
    "\n",
    "# Fitting an OLS regression model\n",
    "model = sm.OLS(y, X).fit()\n",
    "\n",
    "# Displaying the model summary\n",
    "print(model.summary())"
   ]
  },
  {
   "cell_type": "markdown",
   "id": "a92a0be4",
   "metadata": {
    "papermill": {
     "duration": null,
     "end_time": null,
     "exception": null,
     "start_time": null,
     "status": "pending"
    },
    "tags": []
   },
   "source": [
    "This model allows us to parse the influence of being in the treatment group and receiving encouragement on the tipping amounts, controlling for other variables as necessary."
   ]
  },
  {
   "cell_type": "markdown",
   "id": "5ac8cb55",
   "metadata": {
    "papermill": {
     "duration": null,
     "end_time": null,
     "exception": null,
     "start_time": null,
     "status": "pending"
    },
    "tags": []
   },
   "source": [
    "# **Quick References**\n",
    "\n",
    "*     “Randomized Controlled Trials: Design and Implementation for Community-Based Psychosocial Interventions” by Phyllis Solomon, Mary M. Cavanaugh, and Jeffrey Draine. This book offers insights into the application of randomized controlled trials in community settings. [1](https://www.amazon.com/Randomized-Controlled-Trials-Implementation-Community-Based/dp/0195333195)\n",
    "*     “Design and Analysis of Experiments” by Douglas C. Montgomery. This classic text provides a comprehensive overview of experimental design principles, including randomization techniques. [2](https://www.wiley.com/en-ae/Design+and+Analysis+of+Experiments%2C+10th+Edition-p-9781119492443)\n",
    "\n",
    "**Timing Randomization:**\n",
    "\n",
    "*     “The Handbook of Experimental Economics, Volume 2” by John H. Kagel and Alvin E. Roth, eds. This collection includes chapters that discuss the importance of timing in experimental economics. [3](https://www.jstor.org/stable/j.ctvc77b40)\n",
    "*     “Field Experiments and Their Critics: Essays on the Uses and Abuses of Experimentation in the Social Sciences” by Dawn Langan Teele. This work debates the use of field experiments and discusses timing randomization among other topics. [4](https://yalebooks.yale.edu/book/9780300169409/field-experiments-and-their-critics/)\n",
    "\n",
    "**Encouragement Randomization:**\n",
    "\n",
    "*     “Mostly Harmless Econometrics: An Empiricist’s Companion” by Joshua D. Angrist and Jörn-Steffen Pischke. This book simplifies the application of econometric techniques, including instrumental variables often used in encouragement randomization. [5](https://www.jstor.org/stable/j.ctvcm4j72)\n",
    "*     “Instrumental Variables: An Econometrician’s Perspective” by Guido W. Imbens. A detailed discussion on instrumental variables, closely related to encouragement randomization, providing a solid statistical foundation. [6](https://www.jstor.org/stable/43288511)\n",
    "\n",
    "**General Experimental Design and Analysis:**\n",
    "\n",
    "*     “Experimental and Quasi-Experimental Designs for Generalized Causal Inference” by William R. Shadish, Thomas D. Cook, and Donald T. Campbell. A key text for understanding the principles behind experimental design and causal inference. [7](https://www.amazon.com/Experimental-Quasi-Experimental-Designs-Generalized-Inference/dp/0395615569)\n",
    "*     “Python for Data Analysis” by Wes McKinney. Ideal for readers looking to implement experimental design techniques in Python, written by the creator of the pandas library. [8](https://wesmckinney.com/book/)"
   ]
  }
 ],
 "metadata": {
  "kaggle": {
   "accelerator": "none",
   "dataSources": [],
   "dockerImageVersionId": 30664,
   "isGpuEnabled": false,
   "isInternetEnabled": true,
   "language": "python",
   "sourceType": "notebook"
  },
  "kernelspec": {
   "display_name": "Python 3",
   "language": "python",
   "name": "python3"
  },
  "language_info": {
   "codemirror_mode": {
    "name": "ipython",
    "version": 3
   },
   "file_extension": ".py",
   "mimetype": "text/x-python",
   "name": "python",
   "nbconvert_exporter": "python",
   "pygments_lexer": "ipython3",
   "version": "3.10.13"
  },
  "papermill": {
   "default_parameters": {},
   "duration": 9.310471,
   "end_time": "2024-03-17T18:46:57.611412",
   "environment_variables": {},
   "exception": true,
   "input_path": "__notebook__.ipynb",
   "output_path": "__notebook__.ipynb",
   "parameters": {},
   "start_time": "2024-03-17T18:46:48.300941",
   "version": "2.5.0"
  }
 },
 "nbformat": 4,
 "nbformat_minor": 5
}
