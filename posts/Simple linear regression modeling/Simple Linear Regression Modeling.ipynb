{
 "cells": [
  {
   "cell_type": "markdown",
   "source": [
    "---\n",
    "title: \"Simple Linear Regression Modeling\"\n",
    "format:\n",
    "  html:\n",
    "    code-fold: true\n",
    "jupyter: python3\n",
    "author: \"kakamana\"\n",
    "date: \"2023-01-08\"\n",
    "categories: [python, datacamp, statistics, machine learning, linear regression, logistic regression ]\n",
    "image: \"simpleLinearRegressionModeling.jpg\"\n",
    "\n",
    "---"
   ],
   "metadata": {
    "collapsed": false,
    "pycharm": {
     "name": "#%% md\n"
    }
   }
  },
  {
   "cell_type": "markdown",
   "source": [
    "# Simple Linear Regression Modeling\n",
    "\n",
    "We will learn the basics of this popular statistical model, what regression is, and how linear and logistic regressions differ. We’ll then learn how to fit simple linear regression models with numeric and categorical explanatory variables, and how to describe the relationship between the response and explanatory variables using model coefficients\n",
    "\n",
    "This **Simple Linear Regression Modeling** is part of [Datacamp course: Introduction to Regression with statsmodels in Python](https://app.datacamp.com/learn/courses/introduction-to-regression-with-statsmodels-in-python)\n",
    "\n",
    "This is my learning experience of data science through DataCamp"
   ],
   "metadata": {
    "collapsed": false,
    "pycharm": {
     "name": "#%% md\n"
    }
   }
  },
  {
   "cell_type": "code",
   "execution_count": 21,
   "outputs": [],
   "source": [
    "# Import seaborn with alias sns\n",
    "import pandas as pd\n",
    "import seaborn as sns\n",
    "\n",
    "# Import matplotlib.pyplot with alias plt\n",
    "import matplotlib.pyplot as plt"
   ],
   "metadata": {
    "collapsed": false,
    "pycharm": {
     "name": "#%%\n"
    }
   }
  },
  {
   "cell_type": "code",
   "execution_count": 22,
   "outputs": [
    {
     "data": {
      "text/plain": "   dist_to_mrt_m  n_convenience house_age_years  price_twd_msq\n0       84.87882             10        30 to 45      11.467474\n1      306.59470              9        15 to 30      12.768533\n2      561.98450              5         0 to 15      14.311649\n3      561.98450              5         0 to 15      16.580938\n4      390.56840              5         0 to 15      13.040847",
      "text/html": "<div>\n<style scoped>\n    .dataframe tbody tr th:only-of-type {\n        vertical-align: middle;\n    }\n\n    .dataframe tbody tr th {\n        vertical-align: top;\n    }\n\n    .dataframe thead th {\n        text-align: right;\n    }\n</style>\n<table border=\"1\" class=\"dataframe\">\n  <thead>\n    <tr style=\"text-align: right;\">\n      <th></th>\n      <th>dist_to_mrt_m</th>\n      <th>n_convenience</th>\n      <th>house_age_years</th>\n      <th>price_twd_msq</th>\n    </tr>\n  </thead>\n  <tbody>\n    <tr>\n      <th>0</th>\n      <td>84.87882</td>\n      <td>10</td>\n      <td>30 to 45</td>\n      <td>11.467474</td>\n    </tr>\n    <tr>\n      <th>1</th>\n      <td>306.59470</td>\n      <td>9</td>\n      <td>15 to 30</td>\n      <td>12.768533</td>\n    </tr>\n    <tr>\n      <th>2</th>\n      <td>561.98450</td>\n      <td>5</td>\n      <td>0 to 15</td>\n      <td>14.311649</td>\n    </tr>\n    <tr>\n      <th>3</th>\n      <td>561.98450</td>\n      <td>5</td>\n      <td>0 to 15</td>\n      <td>16.580938</td>\n    </tr>\n    <tr>\n      <th>4</th>\n      <td>390.56840</td>\n      <td>5</td>\n      <td>0 to 15</td>\n      <td>13.040847</td>\n    </tr>\n  </tbody>\n</table>\n</div>"
     },
     "execution_count": 22,
     "metadata": {},
     "output_type": "execute_result"
    }
   ],
   "source": [
    "taiwan_real_estate=pd.read_csv(\"dataset/taiwan_real_estate2.csv\")\n",
    "taiwan_real_estate.head()"
   ],
   "metadata": {
    "collapsed": false,
    "pycharm": {
     "name": "#%%\n"
    }
   }
  },
  {
   "cell_type": "markdown",
   "source": [
    "# What is regression?\n",
    "\n",
    "Before diving into **Regression** we need to have brief overview of **Descriptive statistics**\n",
    "\n",
    "**Descriptive statistics**:\n",
    "An example of descriptive statistics would be a summary of a given data set, which can be either a complete representation of a population or a sample of that population. There are two types of descriptive statistics: measures of central tendency and measures of variability (spread). The mean, median, and mode are measures of central tendency, whereas the standard deviation, variance, minimum and maximum variables, kurtosis, and skewness are measures of variability\n",
    "\n",
    "**Variables & their relationship**:\n",
    "\n",
    "While finding relationship b/w two variables (there can be more than two variables, but lets stick to two variable consideration for this article), we can identify following type of variables:\n",
    "\n",
    "    x = independent / explanatory variable\n",
    "    y = dependent / response variable.\n",
    "\n",
    "\n",
    "**Regression**:\n",
    "A regression is a statistical technique that relates a dependent variable to one or more independent (explanatory) variables\n",
    "\n",
    "* Statistical models to explore the relationship a response variable and some explanatory variables.\n",
    "* It is possible to predict the values of the response variable based on the values of the explanatory variables\n",
    "\n",
    "**Types of regression**:\n",
    "* Linear regression: The response variable is numeric.\n",
    "* Logistic regression: The response variable is logical.\n",
    "\n",
    "In simple linear/logistic regression, there is only one explanatory variable\n",
    "\n",
    "In python there are two packages / libraries for regression mostly uses are:\n",
    "* statsmodel: Optimized for insights\n",
    "* scikit-learn: Optimized for prediction"
   ],
   "metadata": {
    "collapsed": false,
    "pycharm": {
     "name": "#%% md\n"
    }
   }
  },
  {
   "cell_type": "markdown",
   "source": [
    "### Visualizing two numeric variables with linear trend line\n",
    "\n",
    "We'll look at the relationship between house price per area and the number of nearby convenience stores using the Taiwan real estate dataset.\n",
    "\n",
    "One challenge in this dataset is that the number of convenience stores contains integer data, causing points to overlap. To solve this, you will make the points transparent."
   ],
   "metadata": {
    "collapsed": false,
    "pycharm": {
     "name": "#%% md\n"
    }
   }
  },
  {
   "cell_type": "code",
   "execution_count": 23,
   "outputs": [
    {
     "data": {
      "text/plain": "<Figure size 432x288 with 1 Axes>",
      "image/png": "[encoded data removed]"
     },
     "metadata": {
      "needs_background": "light"
     },
     "output_type": "display_data"
    }
   ],
   "source": [
    "# Draw the scatter plot\n",
    "sns.scatterplot(x='n_convenience', y='price_twd_msq', data=taiwan_real_estate)\n",
    "# Draw a trend line on the scatter plot of price_twd_msq vs. n_convenience\n",
    "sns.regplot(x=\"n_convenience\",  y=\"price_twd_msq\",                data=taiwan_real_estate,\n",
    "         ci=None,\n",
    "         scatter_kws={'alpha': 0.5})\n",
    "# Show the plot\n",
    "plt.show()"
   ],
   "metadata": {
    "collapsed": false,
    "pycharm": {
     "name": "#%%\n"
    }
   }
  },
  {
   "cell_type": "markdown",
   "source": [
    "## Fitting a linear regression\n",
    "\n",
    "Straight lines are defined by two things:\n",
    "\n",
    "* Intercept: The y value at the point when x is zero.\n",
    "* Slope: The amount the y value increases if you increase x by one.\n",
    "* Equation: y = intercept + slope ∗ x\n",
    "\n",
    "![](Images/estimating slope.png)"
   ],
   "metadata": {
    "collapsed": false,
    "pycharm": {
     "name": "#%% md\n"
    }
   }
  },
  {
   "cell_type": "markdown",
   "source": [
    "## Linear regression with ols()\n",
    "\n",
    "While sns.regplot() can display a linear regression trend line, it doesn't give you access to the intercept and slope as variables, or allow you to work with the model results as variables. That means that sometimes you'll need to run a linear regression yourself."
   ],
   "metadata": {
    "collapsed": false,
    "pycharm": {
     "name": "#%% md\n"
    }
   }
  },
  {
   "cell_type": "code",
   "execution_count": 24,
   "outputs": [
    {
     "name": "stdout",
     "output_type": "stream",
     "text": [
      "Intercept        8.224237\n",
      "n_convenience    0.798080\n",
      "dtype: float64\n"
     ]
    }
   ],
   "source": [
    "# Import the ols function\n",
    "from statsmodels.formula.api import ols\n",
    "\n",
    "# Create the model object\n",
    "mdl_price_vs_conv = ols(\"price_twd_msq ~ n_convenience\", data=taiwan_real_estate)\n",
    "\n",
    "# Fit the model\n",
    "mdl_price_vs_conv = mdl_price_vs_conv.fit()\n",
    "\n",
    "# Print the parameters of the fitted model\n",
    "print(mdl_price_vs_conv.params)"
   ],
   "metadata": {
    "collapsed": false,
    "pycharm": {
     "name": "#%%\n"
    }
   }
  },
  {
   "cell_type": "markdown",
   "source": [
    "## Categorical explanatory variables\n",
    "\n",
    "Variables that categorize observations are known as categorical variables. Known as levels, they have a limited number of values. Gender is a categorical variable that can take two levels: Male or Female.\n",
    "\n",
    "Numbers are required for regression analysis. It is therefore necessary to make the results interpretable when a categorical variable is included in a regression model.\n",
    "\n",
    "A set of binary variables is created by recoding categorical variables. The recoding process creates a contrast matrix table by \"dummy coding\"\n",
    "\n",
    "There are two type of data variables:\n",
    "* Quantitative data: refers to amount\n",
    "    * Data collected quantitatively represents actual amounts that can be added, subtracted, divided, etc. Quantitative variables can be:\n",
    "         * discrete (integer variables): count of individual items in record e.g. No. of players\n",
    "         * continuous (ratio variables): continuous / non-finite value measurements e.g. distance, age etc\n",
    "* Categorical: refers to grouping\n",
    "    There are three types of categorical variables:\n",
    "        * binary: yes / no e.g. head/tail of coin flip\n",
    "        * nominal: group with no rank or order b/w them e.g. color, brand, species etc\n",
    "        * ordinal: group that can be ranked in specific order e.g. rating scale in survey result\n",
    "\n"
   ],
   "metadata": {
    "collapsed": false,
    "pycharm": {
     "name": "#%% md\n"
    }
   }
  },
  {
   "cell_type": "markdown",
   "source": [
    "## Visualizing numeric vs. categorical\n",
    "\n",
    "If the explanatory variable is categorical, the scatter plot that you used before to visualize the data doesn't make sense. Instead, a good option is to draw a histogram for each category."
   ],
   "metadata": {
    "collapsed": false,
    "pycharm": {
     "name": "#%% md\n"
    }
   }
  },
  {
   "cell_type": "code",
   "execution_count": 25,
   "outputs": [
    {
     "data": {
      "text/plain": "<Figure size 1080x360 with 3 Axes>",
      "image/png": "[encoded data removed]"
     },
     "metadata": {
      "needs_background": "light"
     },
     "output_type": "display_data"
    },
    {
     "name": "stdout",
     "output_type": "stream",
     "text": [
      "\n",
      "It appears that new houses are the most expensive on average, and the medium aged ones (15 to 30 years) are the cheapest.\n"
     ]
    }
   ],
   "source": [
    "# Histograms of price_twd_msq with 10 bins, split by the age of each house\n",
    "sns.displot(data=taiwan_real_estate,\n",
    "         x='price_twd_msq',\n",
    "         col='house_age_years',\n",
    "         bins=10)\n",
    "\n",
    "# Show the plot\n",
    "plt.show()\n",
    "print(\"\\nIt appears that new houses are the most expensive on average, and the medium aged ones (15 to 30 years) are the cheapest.\")"
   ],
   "metadata": {
    "collapsed": false,
    "pycharm": {
     "name": "#%%\n"
    }
   }
  },
  {
   "cell_type": "markdown",
   "source": [
    "## Using categories to calculate means\n",
    "\n",
    "Using summary statistics for each category is a good way to explore categorical variables further. Using a categorical variable, you can calculate the mean and median of your response variable. Therefore, you can compare each category in more detail."
   ],
   "metadata": {
    "collapsed": false,
    "pycharm": {
     "name": "#%% md\n"
    }
   }
  },
  {
   "cell_type": "code",
   "execution_count": 26,
   "outputs": [
    {
     "name": "stdout",
     "output_type": "stream",
     "text": [
      "house_age_years\n",
      "0 to 15     12.637471\n",
      "15 to 30     9.876743\n",
      "30 to 45    11.393264\n",
      "Name: price_twd_msq, dtype: float64\n"
     ]
    }
   ],
   "source": [
    "# Calculate the mean of price_twd_msq, grouped by house age\n",
    "mean_price_by_age = taiwan_real_estate.groupby('house_age_years')['price_twd_msq'].mean()\n",
    "\n",
    "# Print the result\n",
    "print(mean_price_by_age)"
   ],
   "metadata": {
    "collapsed": false,
    "pycharm": {
     "name": "#%%\n"
    }
   }
  },
  {
   "cell_type": "markdown",
   "source": [
    "## Is coefficient of linear regression model is mean of each category?\n",
    "\n",
    "While calculating linear regression with categorical explanatory variable, means of each category will also coefficient of linear regression but this hold true in case with only one categorical variable. Lets verify this"
   ],
   "metadata": {
    "collapsed": false,
    "pycharm": {
     "name": "#%% md\n"
    }
   }
  },
  {
   "cell_type": "code",
   "execution_count": 27,
   "outputs": [
    {
     "name": "stdout",
     "output_type": "stream",
     "text": [
      "Intercept                      12.637471\n",
      "house_age_years[T.15 to 30]    -2.760728\n",
      "house_age_years[T.30 to 45]    -1.244207\n",
      "dtype: float64\n"
     ]
    }
   ],
   "source": [
    "# Create the model, fit it\n",
    "mdl_price_vs_age = ols(\"price_twd_msq ~ house_age_years\", data=taiwan_real_estate).fit()\n",
    "\n",
    "# Print the parameters of the fitted model\n",
    "print(mdl_price_vs_age.params)"
   ],
   "metadata": {
    "collapsed": false,
    "pycharm": {
     "name": "#%%\n"
    }
   }
  },
  {
   "cell_type": "code",
   "execution_count": 28,
   "outputs": [
    {
     "name": "stdout",
     "output_type": "stream",
     "text": [
      "house_age_years[0 to 15]     12.637471\n",
      "house_age_years[15 to 30]     9.876743\n",
      "house_age_years[30 to 45]    11.393264\n",
      "dtype: float64\n",
      "\n",
      " The coefficients of the model are just the means of each category you calculated previously. Fantastic job! \n"
     ]
    }
   ],
   "source": [
    "# Update the model formula to remove the intercept\n",
    "mdl_price_vs_age0 = ols(\"price_twd_msq ~ house_age_years + 0\", data=taiwan_real_estate).fit()\n",
    "\n",
    "# Print the parameters of the fitted model\n",
    "print(mdl_price_vs_age0.params)\n",
    "print(\"\\n The coefficients of the model are just the means of each category you calculated previously. Fantastic job! \")"
   ],
   "metadata": {
    "collapsed": false,
    "pycharm": {
     "name": "#%%\n"
    }
   }
  },
  {
   "cell_type": "code",
   "execution_count": 28,
   "outputs": [],
   "source": [],
   "metadata": {
    "collapsed": false,
    "pycharm": {
     "name": "#%%\n"
    }
   }
  }
 ],
 "metadata": {
  "kernelspec": {
   "display_name": "Python 3",
   "language": "python",
   "name": "python3"
  },
  "language_info": {
   "codemirror_mode": {
    "name": "ipython",
    "version": 2
   },
   "file_extension": ".py",
   "mimetype": "text/x-python",
   "name": "python",
   "nbconvert_exporter": "python",
   "pygments_lexer": "ipython2",
   "version": "2.7.6"
  }
 },
 "nbformat": 4,
 "nbformat_minor": 0
}