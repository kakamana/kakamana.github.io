{
 "cells": [
  {
   "cell_type": "markdown",
   "source": [
    "---\n",
    "title: \"Introduction to Data Preprocessing\"\n",
    "format:\n",
    "  html:\n",
    "    code-fold: true\n",
    "jupyter: python3\n",
    "author: \"kakamana\"\n",
    "date: \"2023-01-23\"\n",
    "categories: [python, datacamp,  machine learning, EDA ]\n",
    "image: \"introDataPreprocessing.png\"\n",
    "\n",
    "---\n"
   ],
   "metadata": {
    "collapsed": false
   }
  },
  {
   "cell_type": "markdown",
   "source": [
    "# Introduction to Data Preprocessing\n",
    "\n",
    "In order to understand exactly what data preprocessing is all about, you will need to take the first steps in your preprocessing journey, which includes exploring data types and dealing with missing data.\n",
    "\n",
    "This **Introduction to Data Preprocessing** is part of [Datacamp course: Preprocessing for Machine Learning in Python](https://app.datacamp.com/learn/courses/preprocessing-for-machine-learning-in-python)\n",
    "\n",
    "This is my learning experience of data science through DataCamp"
   ],
   "metadata": {
    "collapsed": false
   }
  },
  {
   "cell_type": "code",
   "execution_count": 1,
   "outputs": [],
   "source": [
    "import pandas as pd"
   ],
   "metadata": {
    "collapsed": false
   }
  },
  {
   "cell_type": "markdown",
   "source": [
    "## What is data preprocessing?\n",
    "- Data Preprocessing\n",
    "    - Beyond cleaning and exploratory data analysis\n",
    "    - Prepping data for modeling\n",
    "    - Modeling in python requires numerical input"
   ],
   "metadata": {
    "collapsed": false
   }
  },
  {
   "cell_type": "markdown",
   "source": [
    "### Missing data - columns\n",
    "We have a dataset comprised of volunteer information from New York City. The dataset has a number of features, but we want to get rid of features that have at least 3 missing values."
   ],
   "metadata": {
    "collapsed": false
   }
  },
  {
   "cell_type": "code",
   "execution_count": 2,
   "outputs": [
    {
     "data": {
      "text/plain": "   opportunity_id  content_id  vol_requests  event_time  \\\n0            4996       37004            50           0   \n1            5008       37036             2           0   \n2            5016       37143            20           0   \n3            5022       37237           500           0   \n4            5055       37425            15           0   \n\n                                               title  hits  \\\n0  Volunteers Needed For Rise Up & Stay Put! Home...   737   \n1                                       Web designer    22   \n2      Urban Adventures - Ice Skating at Lasker Rink    62   \n3  Fight global hunger and support women farmers ...    14   \n4                                      Stop 'N' Swap    31   \n\n                                             summary is_priority  category_id  \\\n0  Building on successful events last summer and ...         NaN          NaN   \n1             Build a website for an Afghan business         NaN          1.0   \n2  Please join us and the students from Mott Hall...         NaN          1.0   \n3  The Oxfam Action Corps is a group of dedicated...         NaN          1.0   \n4  Stop 'N' Swap reduces NYC's waste by finding n...         NaN          4.0   \n\n               category_desc  ...     end_date_date    status Latitude  \\\n0                        NaN  ...      July 30 2011  approved      NaN   \n1  Strengthening Communities  ...  February 01 2011  approved      NaN   \n2  Strengthening Communities  ...   January 29 2011  approved      NaN   \n3  Strengthening Communities  ...     March 31 2012  approved      NaN   \n4                Environment  ...  February 05 2011  approved      NaN   \n\n   Longitude  Community Board Community Council  Census Tract  BIN  BBL NTA  \n0        NaN              NaN                NaN          NaN  NaN  NaN NaN  \n1        NaN              NaN                NaN          NaN  NaN  NaN NaN  \n2        NaN              NaN                NaN          NaN  NaN  NaN NaN  \n3        NaN              NaN                NaN          NaN  NaN  NaN NaN  \n4        NaN              NaN                NaN          NaN  NaN  NaN NaN  \n\n[5 rows x 35 columns]",
      "text/html": "<div>\n<style scoped>\n    .dataframe tbody tr th:only-of-type {\n        vertical-align: middle;\n    }\n\n    .dataframe tbody tr th {\n        vertical-align: top;\n    }\n\n    .dataframe thead th {\n        text-align: right;\n    }\n</style>\n<table border=\"1\" class=\"dataframe\">\n  <thead>\n    <tr style=\"text-align: right;\">\n      <th></th>\n      <th>opportunity_id</th>\n      <th>content_id</th>\n      <th>vol_requests</th>\n      <th>event_time</th>\n      <th>title</th>\n      <th>hits</th>\n      <th>summary</th>\n      <th>is_priority</th>\n      <th>category_id</th>\n      <th>category_desc</th>\n      <th>...</th>\n      <th>end_date_date</th>\n      <th>status</th>\n      <th>Latitude</th>\n      <th>Longitude</th>\n      <th>Community Board</th>\n      <th>Community Council</th>\n      <th>Census Tract</th>\n      <th>BIN</th>\n      <th>BBL</th>\n      <th>NTA</th>\n    </tr>\n  </thead>\n  <tbody>\n    <tr>\n      <th>0</th>\n      <td>4996</td>\n      <td>37004</td>\n      <td>50</td>\n      <td>0</td>\n      <td>Volunteers Needed For Rise Up &amp; Stay Put! Home...</td>\n      <td>737</td>\n      <td>Building on successful events last summer and ...</td>\n      <td>NaN</td>\n      <td>NaN</td>\n      <td>NaN</td>\n      <td>...</td>\n      <td>July 30 2011</td>\n      <td>approved</td>\n      <td>NaN</td>\n      <td>NaN</td>\n      <td>NaN</td>\n      <td>NaN</td>\n      <td>NaN</td>\n      <td>NaN</td>\n      <td>NaN</td>\n      <td>NaN</td>\n    </tr>\n    <tr>\n      <th>1</th>\n      <td>5008</td>\n      <td>37036</td>\n      <td>2</td>\n      <td>0</td>\n      <td>Web designer</td>\n      <td>22</td>\n      <td>Build a website for an Afghan business</td>\n      <td>NaN</td>\n      <td>1.0</td>\n      <td>Strengthening Communities</td>\n      <td>...</td>\n      <td>February 01 2011</td>\n      <td>approved</td>\n      <td>NaN</td>\n      <td>NaN</td>\n      <td>NaN</td>\n      <td>NaN</td>\n      <td>NaN</td>\n      <td>NaN</td>\n      <td>NaN</td>\n      <td>NaN</td>\n    </tr>\n    <tr>\n      <th>2</th>\n      <td>5016</td>\n      <td>37143</td>\n      <td>20</td>\n      <td>0</td>\n      <td>Urban Adventures - Ice Skating at Lasker Rink</td>\n      <td>62</td>\n      <td>Please join us and the students from Mott Hall...</td>\n      <td>NaN</td>\n      <td>1.0</td>\n      <td>Strengthening Communities</td>\n      <td>...</td>\n      <td>January 29 2011</td>\n      <td>approved</td>\n      <td>NaN</td>\n      <td>NaN</td>\n      <td>NaN</td>\n      <td>NaN</td>\n      <td>NaN</td>\n      <td>NaN</td>\n      <td>NaN</td>\n      <td>NaN</td>\n    </tr>\n    <tr>\n      <th>3</th>\n      <td>5022</td>\n      <td>37237</td>\n      <td>500</td>\n      <td>0</td>\n      <td>Fight global hunger and support women farmers ...</td>\n      <td>14</td>\n      <td>The Oxfam Action Corps is a group of dedicated...</td>\n      <td>NaN</td>\n      <td>1.0</td>\n      <td>Strengthening Communities</td>\n      <td>...</td>\n      <td>March 31 2012</td>\n      <td>approved</td>\n      <td>NaN</td>\n      <td>NaN</td>\n      <td>NaN</td>\n      <td>NaN</td>\n      <td>NaN</td>\n      <td>NaN</td>\n      <td>NaN</td>\n      <td>NaN</td>\n    </tr>\n    <tr>\n      <th>4</th>\n      <td>5055</td>\n      <td>37425</td>\n      <td>15</td>\n      <td>0</td>\n      <td>Stop 'N' Swap</td>\n      <td>31</td>\n      <td>Stop 'N' Swap reduces NYC's waste by finding n...</td>\n      <td>NaN</td>\n      <td>4.0</td>\n      <td>Environment</td>\n      <td>...</td>\n      <td>February 05 2011</td>\n      <td>approved</td>\n      <td>NaN</td>\n      <td>NaN</td>\n      <td>NaN</td>\n      <td>NaN</td>\n      <td>NaN</td>\n      <td>NaN</td>\n      <td>NaN</td>\n      <td>NaN</td>\n    </tr>\n  </tbody>\n</table>\n<p>5 rows × 35 columns</p>\n</div>"
     },
     "execution_count": 2,
     "metadata": {},
     "output_type": "execute_result"
    }
   ],
   "source": [
    "volunteer = pd.read_csv('dataset/volunteer_opportunities.csv')\n",
    "volunteer.head()"
   ],
   "metadata": {
    "collapsed": false
   }
  },
  {
   "cell_type": "code",
   "execution_count": 3,
   "outputs": [
    {
     "name": "stdout",
     "output_type": "stream",
     "text": [
      "<class 'pandas.core.frame.DataFrame'>\n",
      "RangeIndex: 665 entries, 0 to 664\n",
      "Data columns (total 35 columns):\n",
      " #   Column              Non-Null Count  Dtype  \n",
      "---  ------              --------------  -----  \n",
      " 0   opportunity_id      665 non-null    int64  \n",
      " 1   content_id          665 non-null    int64  \n",
      " 2   vol_requests        665 non-null    int64  \n",
      " 3   event_time          665 non-null    int64  \n",
      " 4   title               665 non-null    object \n",
      " 5   hits                665 non-null    int64  \n",
      " 6   summary             665 non-null    object \n",
      " 7   is_priority         62 non-null     object \n",
      " 8   category_id         617 non-null    float64\n",
      " 9   category_desc       617 non-null    object \n",
      " 10  amsl                0 non-null      float64\n",
      " 11  amsl_unit           0 non-null      float64\n",
      " 12  org_title           665 non-null    object \n",
      " 13  org_content_id      665 non-null    int64  \n",
      " 14  addresses_count     665 non-null    int64  \n",
      " 15  locality            595 non-null    object \n",
      " 16  region              665 non-null    object \n",
      " 17  postalcode          659 non-null    float64\n",
      " 18  primary_loc         0 non-null      float64\n",
      " 19  display_url         665 non-null    object \n",
      " 20  recurrence_type     665 non-null    object \n",
      " 21  hours               665 non-null    int64  \n",
      " 22  created_date        665 non-null    object \n",
      " 23  last_modified_date  665 non-null    object \n",
      " 24  start_date_date     665 non-null    object \n",
      " 25  end_date_date       665 non-null    object \n",
      " 26  status              665 non-null    object \n",
      " 27  Latitude            0 non-null      float64\n",
      " 28  Longitude           0 non-null      float64\n",
      " 29  Community Board     0 non-null      float64\n",
      " 30  Community Council   0 non-null      float64\n",
      " 31  Census Tract        0 non-null      float64\n",
      " 32  BIN                 0 non-null      float64\n",
      " 33  BBL                 0 non-null      float64\n",
      " 34  NTA                 0 non-null      float64\n",
      "dtypes: float64(13), int64(8), object(14)\n",
      "memory usage: 182.0+ KB\n"
     ]
    }
   ],
   "source": [
    "volunteer.info()"
   ],
   "metadata": {
    "collapsed": false
   }
  },
  {
   "cell_type": "code",
   "execution_count": 4,
   "outputs": [
    {
     "data": {
      "text/plain": "(665, 24)"
     },
     "execution_count": 4,
     "metadata": {},
     "output_type": "execute_result"
    }
   ],
   "source": [
    "volunteer.dropna(axis=1, thresh=3).shape"
   ],
   "metadata": {
    "collapsed": false
   }
  },
  {
   "cell_type": "code",
   "execution_count": 5,
   "outputs": [
    {
     "data": {
      "text/plain": "(665, 35)"
     },
     "execution_count": 5,
     "metadata": {},
     "output_type": "execute_result"
    }
   ],
   "source": [
    "volunteer.shape"
   ],
   "metadata": {
    "collapsed": false
   }
  },
  {
   "cell_type": "markdown",
   "source": [
    "### Missing data - rows\n",
    "Taking a look at the `volunteer` dataset again, we want to drop rows where the `category_desc` column values are missing. We're going to do this using boolean indexing, by checking to see if we have any null values, and then filtering the dataset so that we only have rows with those values."
   ],
   "metadata": {
    "collapsed": false
   }
  },
  {
   "cell_type": "code",
   "execution_count": 6,
   "outputs": [
    {
     "name": "stdout",
     "output_type": "stream",
     "text": [
      "48\n",
      "(617, 35)\n"
     ]
    }
   ],
   "source": [
    "# Check how many values are missing in the category_desc column\n",
    "print(volunteer['category_desc'].isnull().sum())\n",
    "\n",
    "# Subset the volunteer dataset\n",
    "volunteer_subset = volunteer[volunteer['category_desc'].notnull()]\n",
    "\n",
    "# Print out the shape of the subset\n",
    "print(volunteer_subset.shape)"
   ],
   "metadata": {
    "collapsed": false
   }
  },
  {
   "cell_type": "markdown",
   "source": [
    "## Working with data types\n",
    "- dtypes in pandas\n",
    "    - object: string/mixed types\n",
    "    - int64: integer\n",
    "    - float64: float\n",
    "    - datetime64 (or timedelta): datetime"
   ],
   "metadata": {
    "collapsed": false
   }
  },
  {
   "cell_type": "markdown",
   "source": [
    "### Exploring data types\n",
    "Taking another look at the dataset comprised of volunteer information from New York City, we want to know what types we'll be working with as we start to do more preprocessing."
   ],
   "metadata": {
    "collapsed": false
   }
  },
  {
   "cell_type": "code",
   "execution_count": 7,
   "outputs": [
    {
     "data": {
      "text/plain": "opportunity_id          int64\ncontent_id              int64\nvol_requests            int64\nevent_time              int64\ntitle                  object\nhits                    int64\nsummary                object\nis_priority            object\ncategory_id           float64\ncategory_desc          object\namsl                  float64\namsl_unit             float64\norg_title              object\norg_content_id          int64\naddresses_count         int64\nlocality               object\nregion                 object\npostalcode            float64\nprimary_loc           float64\ndisplay_url            object\nrecurrence_type        object\nhours                   int64\ncreated_date           object\nlast_modified_date     object\nstart_date_date        object\nend_date_date          object\nstatus                 object\nLatitude              float64\nLongitude             float64\nCommunity Board       float64\nCommunity Council     float64\nCensus Tract          float64\nBIN                   float64\nBBL                   float64\nNTA                   float64\ndtype: object"
     },
     "execution_count": 7,
     "metadata": {},
     "output_type": "execute_result"
    }
   ],
   "source": [
    "volunteer.dtypes"
   ],
   "metadata": {
    "collapsed": false
   }
  },
  {
   "cell_type": "markdown",
   "source": [
    "### Converting a column type\n",
    "If you take a look at the `volunteer` dataset types, you'll see that the column `hits` is type `object`. But, if you actually look at the column, you'll see that it consists of integers. Let's convert that column to type `int`."
   ],
   "metadata": {
    "collapsed": false
   }
  },
  {
   "cell_type": "code",
   "execution_count": 8,
   "outputs": [
    {
     "name": "stdout",
     "output_type": "stream",
     "text": [
      "0    737\n",
      "1     22\n",
      "2     62\n",
      "3     14\n",
      "4     31\n",
      "Name: hits, dtype: int64\n",
      "opportunity_id          int64\n",
      "content_id              int64\n",
      "vol_requests            int64\n",
      "event_time              int64\n",
      "title                  object\n",
      "hits                    int32\n",
      "summary                object\n",
      "is_priority            object\n",
      "category_id           float64\n",
      "category_desc          object\n",
      "amsl                  float64\n",
      "amsl_unit             float64\n",
      "org_title              object\n",
      "org_content_id          int64\n",
      "addresses_count         int64\n",
      "locality               object\n",
      "region                 object\n",
      "postalcode            float64\n",
      "primary_loc           float64\n",
      "display_url            object\n",
      "recurrence_type        object\n",
      "hours                   int64\n",
      "created_date           object\n",
      "last_modified_date     object\n",
      "start_date_date        object\n",
      "end_date_date          object\n",
      "status                 object\n",
      "Latitude              float64\n",
      "Longitude             float64\n",
      "Community Board       float64\n",
      "Community Council     float64\n",
      "Census Tract          float64\n",
      "BIN                   float64\n",
      "BBL                   float64\n",
      "NTA                   float64\n",
      "dtype: object\n"
     ]
    }
   ],
   "source": [
    "# Print the head of the hits column\n",
    "print(volunteer['hits'].head())\n",
    "\n",
    "# Convert the hits column to type int\n",
    "volunteer['hits'] = volunteer['hits'].astype(int)\n",
    "\n",
    "# Look at the dtypes of the dataset\n",
    "print(volunteer.dtypes)"
   ],
   "metadata": {
    "collapsed": false
   }
  },
  {
   "cell_type": "markdown",
   "source": [
    "## Class distribution\n",
    "- Stratified sampling\n",
    "    - A way of sampling that takes into account the distribution of classes or features in your dataset"
   ],
   "metadata": {
    "collapsed": false
   }
  },
  {
   "cell_type": "markdown",
   "source": [
    "### Class imbalance\n",
    "In the `volunteer` dataset, we're thinking about trying to predict the `category_desc` variable using the other features in the dataset. First, though, we need to know what the class distribution (and imbalance) is for that label."
   ],
   "metadata": {
    "collapsed": false
   }
  },
  {
   "cell_type": "code",
   "execution_count": 9,
   "outputs": [
    {
     "data": {
      "text/plain": "Strengthening Communities    307\nHelping Neighbors in Need    119\nEducation                     92\nHealth                        52\nEnvironment                   32\nEmergency Preparedness        15\nName: category_desc, dtype: int64"
     },
     "execution_count": 9,
     "metadata": {},
     "output_type": "execute_result"
    }
   ],
   "source": [
    "volunteer['category_desc'].value_counts()"
   ],
   "metadata": {
    "collapsed": false
   }
  },
  {
   "cell_type": "markdown",
   "source": [
    "### Stratified sampling\n",
    "We know that the distribution of variables in the `category_desc` column in the volunteer dataset is uneven. If we wanted to train a model to try to predict `category_desc`, we would want to train the model on a sample of data that is representative of the entire dataset. Stratified sampling is a way to achieve this."
   ],
   "metadata": {
    "collapsed": false
   }
  },
  {
   "cell_type": "code",
   "execution_count": 10,
   "outputs": [
    {
     "name": "stdout",
     "output_type": "stream",
     "text": [
      "Strengthening Communities    230\n",
      "Helping Neighbors in Need     89\n",
      "Education                     69\n",
      "Health                        39\n",
      "Environment                   24\n",
      "Emergency Preparedness        11\n",
      "Name: category_desc, dtype: int64\n"
     ]
    }
   ],
   "source": [
    "from sklearn.model_selection import train_test_split\n",
    "\n",
    "# Create a data with all columns except category_desc\n",
    "volunteer_X = volunteer.dropna(subset=['category_desc'], axis=0)\n",
    "\n",
    "# Create a category_desc labels dataset\n",
    "volunteer_y = volunteer.dropna(subset=['category_desc'], axis=0)[['category_desc']]\n",
    "\n",
    "# Use stratified sampling to split up the dataset according to the volunteer_y dataset\n",
    "X_train, X_test, y_train, y_test = train_test_split(volunteer_X, volunteer_y, stratify=volunteer_y)\n",
    "\n",
    "# Print out the category_desc counts on the training y labels\n",
    "print(y_train['category_desc'].value_counts())"
   ],
   "metadata": {
    "collapsed": false
   }
  },
  {
   "cell_type": "markdown",
   "source": [
    "> Warning: stratify sampling on `train_test_split` cannot handle the `NaN` data, so you need to drop NaN values before sampling"
   ],
   "metadata": {
    "collapsed": false
   }
  },
  {
   "cell_type": "code",
   "execution_count": null,
   "outputs": [],
   "source": [],
   "metadata": {
    "collapsed": false
   }
  }
 ],
 "metadata": {
  "kernelspec": {
   "display_name": "Python 3",
   "language": "python",
   "name": "python3"
  },
  "language_info": {
   "codemirror_mode": {
    "name": "ipython",
    "version": 2
   },
   "file_extension": ".py",
   "mimetype": "text/x-python",
   "name": "python",
   "nbconvert_exporter": "python",
   "pygments_lexer": "ipython2",
   "version": "2.7.6"
  }
 },
 "nbformat": 4,
 "nbformat_minor": 0
}
