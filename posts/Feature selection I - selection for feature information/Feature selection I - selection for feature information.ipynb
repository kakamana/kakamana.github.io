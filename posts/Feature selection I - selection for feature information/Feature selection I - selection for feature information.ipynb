{
 "cells": [
  {
   "cell_type": "markdown",
   "source": [
    "---\n",
    "title: \"Feature Selection I - Selecting for Feature Information\"\n",
    "format:\n",
    "  html:\n",
    "    code-fold: true\n",
    "jupyter: python3\n",
    "author: \"kakamana\"\n",
    "date: \"2023-01-22\"\n",
    "categories: [python, datacamp, feature engineering, machine learning, dimension reduction]\n",
    "image: \"featureSelectionI.png\"\n",
    "\n",
    "---"
   ],
   "metadata": {
    "collapsed": false
   }
  },
  {
   "cell_type": "markdown",
   "source": [
    "# Feature Selection I - Selecting for Feature Information\n",
    "\n",
    "As we progress through feature selection, we'll learn how dimensionality reduction can help us overcome its curse. We'll be introduced to a variety of techniques for identifying and removing features that don't add much value to your data. Either because they have little variance, too many missing values, or because they are strongly correlated with other features.\n",
    "\n",
    "This **Feature Selection I - Selecting for Feature Information** is part of [Datacamp course: Dimensionality Reduction in Python](https://app.datacamp.com/learn/courses/hypothesis-testing-in-python)\n",
    "\n",
    "This is my learning experience of data science through DataCamp"
   ],
   "metadata": {
    "collapsed": false
   }
  },
  {
   "cell_type": "code",
   "execution_count": 29,
   "outputs": [],
   "source": [
    "import pandas as pd\n",
    "import numpy as np\n",
    "import matplotlib.pyplot as plt\n",
    "import seaborn as sns\n",
    "\n",
    "plt.rcParams['figure.figsize'] = (7, 7)"
   ],
   "metadata": {
    "collapsed": false
   }
  },
  {
   "cell_type": "markdown",
   "source": [
    "## The curse of dimensionality\n"
   ],
   "metadata": {
    "collapsed": false
   }
  },
  {
   "cell_type": "markdown",
   "source": [
    "### Train - test split\n",
    "We will keep working with the ANSUR dataset. Before we can build a model on our dataset, we should first decide on which feature you want to predict. In this case, we're trying to predict gender.\n",
    "\n",
    "we need to extract the column holding this feature from the dataset and then split the data into a training and test set. The training set will be used to train the model and the test set will be used to check its performance on unseen data."
   ],
   "metadata": {
    "collapsed": false
   }
  },
  {
   "cell_type": "code",
   "execution_count": 30,
   "outputs": [],
   "source": [
    "ansur_male = pd.read_csv('dataset/ANSUR_II_MALE.csv')\n",
    "ansur_female = pd.read_csv('dataset/ANSUR_II_FEMALE.csv')\n",
    "\n",
    "ansur_df = pd.concat([ansur_male, ansur_female])\n",
    "# unused columns in the dataset\n",
    "unused = ['Branch', 'Component', 'BMI_class', 'Height_class', 'BMI', 'weight_kg', 'stature_m']\n",
    "\n",
    "# Drop the non-numeric columns from df\n",
    "ansur_df.drop(unused, axis=1, inplace=True)"
   ],
   "metadata": {
    "collapsed": false
   }
  },
  {
   "cell_type": "code",
   "execution_count": 31,
   "outputs": [
    {
     "name": "stdout",
     "output_type": "stream",
     "text": [
      "1821 rows in test set vs. 4247 in training set. 91 Features.\n"
     ]
    }
   ],
   "source": [
    "from sklearn.model_selection import train_test_split\n",
    "\n",
    "# Select the Gender column as the feature to be predict (y)\n",
    "y = ansur_df['Gender']\n",
    "\n",
    "# Remove the Gender column to create the training data\n",
    "X = ansur_df.drop('Gender', axis=1)\n",
    "\n",
    "# Perform a 70% train and 30% test data split\n",
    "X_train, X_test, y_train, y_test = train_test_split(X, y, test_size=0.3)\n",
    "\n",
    "print(\"{} rows in test set vs. {} in training set. {} Features.\".format(\n",
    "    X_test.shape[0], X_train.shape[0], X_test.shape[1]\n",
    "))"
   ],
   "metadata": {
    "collapsed": false
   }
  },
  {
   "cell_type": "markdown",
   "source": [
    "### Fitting and testing the model\n",
    "Above we split the dataset into `X_train`, `X_test`, `y_train`, and `y_test`. These datasets have been pre-loaded for you. We'll now create a support vector machine classifier model (`SVC()`) and fit that to the training data. You'll then calculate the accuracy on both the test and training set to detect overfitting."
   ],
   "metadata": {
    "collapsed": false
   }
  },
  {
   "cell_type": "code",
   "execution_count": 32,
   "outputs": [
    {
     "name": "stdout",
     "output_type": "stream",
     "text": [
      "98.9% accuracy on test set vs. 99.0% on training set\n",
      "\n",
      "Current data doesn't show overfitting. But example in datacamp shows overfitting from dataset.\n"
     ]
    }
   ],
   "source": [
    "from sklearn.svm import SVC\n",
    "from sklearn.metrics import accuracy_score\n",
    "\n",
    "# Create an instance of the Support Vector Classification class\n",
    "svc = SVC()\n",
    "\n",
    "# Fit the model to the training data\n",
    "svc.fit(X_train, y_train)\n",
    "\n",
    "# Calculate accuracy scores on both train and test data\n",
    "accuracy_train = accuracy_score(y_train, svc.predict(X_train))\n",
    "accuracy_test = accuracy_score(y_test, svc.predict(X_test))\n",
    "\n",
    "print(\"{0:.1%} accuracy on test set vs. {1:.1%} on training set\".format(accuracy_test,\n",
    "                                                                       accuracy_train))\n",
    "print(\"\\nCurrent data doesn't show overfitting. But example in datacamp shows overfitting from dataset.\")"
   ],
   "metadata": {
    "collapsed": false
   }
  },
  {
   "cell_type": "code",
   "execution_count": 33,
   "outputs": [
    {
     "name": "stdout",
     "output_type": "stream",
     "text": [
      "300 rows in test set vs. 700 in training set. 91 Features.\n",
      "91.0% accuracy on test set vs. 94.9% on training set\n"
     ]
    }
   ],
   "source": [
    "ansur_df_overfit = pd.read_csv('dataset/ansur_overfit.csv')\n",
    "\n",
    "# Select the Gender column as the feature to be predict (y)\n",
    "y = ansur_df_overfit['Gender']\n",
    "\n",
    "# Remove the Gender column to create the training data\n",
    "X = ansur_df_overfit.drop('Gender', axis=1)\n",
    "\n",
    "# Perform a 70% train and 30% test data split\n",
    "X_train, X_test, y_train, y_test = train_test_split(X, y, test_size=0.3)\n",
    "\n",
    "print(\"{} rows in test set vs. {} in training set. {} Features.\".format(\n",
    "    X_test.shape[0], X_train.shape[0], X_test.shape[1]\n",
    "))\n",
    "\n",
    "# Create an instance of the Support Vector Classification class\n",
    "svc = SVC()\n",
    "\n",
    "# Fit the model to the training data\n",
    "svc.fit(X_train, y_train)\n",
    "\n",
    "# Calculate accuracy scores on both train and test data\n",
    "accuracy_train = accuracy_score(y_train, svc.predict(X_train))\n",
    "accuracy_test = accuracy_score(y_test, svc.predict(X_test))\n",
    "\n",
    "print(\"{0:.1%} accuracy on test set vs. {1:.1%} on training set\".format(accuracy_test,\n",
    "                                                                       accuracy_train))"
   ],
   "metadata": {
    "collapsed": false
   }
  },
  {
   "cell_type": "markdown",
   "source": [
    "### Accuracy after dimensionality reduction\n",
    "You'll reduce the overfit with the help of dimensionality reduction. In this case, you'll apply a rather drastic form of dimensionality reduction by only selecting a single column that has some good information to distinguish between genders. You'll repeat the train-test split, model fit and prediction steps to compare the accuracy on test vs. training data."
   ],
   "metadata": {
    "collapsed": false
   }
  },
  {
   "cell_type": "code",
   "execution_count": 34,
   "outputs": [
    {
     "name": "stdout",
     "output_type": "stream",
     "text": [
      "93.7% accuracy on test set vs. 94.6% on training set\n",
      "\n",
      "On the full dataset the model is overfitted but with a single feature we can make good predictions? This is an example of the curse of dimensionality! The model badly overfits when we feed it too many features. It overlooks that neck circumference by itself is pretty different for males and females.\n"
     ]
    }
   ],
   "source": [
    "# Assign just the 'neckcircumferencebase' column from ansur_df to X\n",
    "X = ansur_df_overfit[['neckcircumferencebase']]\n",
    "\n",
    "# SPlit the data, instantiate a classifier and fit the data\n",
    "X_train, X_test, y_train, y_test = train_test_split(X, y, test_size=0.3)\n",
    "svc = SVC()\n",
    "svc.fit(X_train, y_train)\n",
    "\n",
    "# Calculate accuracy scores on both train and test data\n",
    "accuracy_train = accuracy_score(y_train, svc.predict(X_train))\n",
    "accuracy_test = accuracy_score(y_test, svc.predict(X_test))\n",
    "\n",
    "print(\"{0:.1%} accuracy on test set vs. {1:.1%} on training set\".format(accuracy_test,\n",
    "                                                                       accuracy_train))\n",
    "print(\"\\nOn the full dataset the model is overfitted but with a single feature we can make good predictions? This is an example of the curse of dimensionality! The model badly overfits when we feed it too many features. It overlooks that neck circumference by itself is pretty different for males and females.\")"
   ],
   "metadata": {
    "collapsed": false
   }
  },
  {
   "cell_type": "markdown",
   "source": [
    "## Features with missing values or little variance"
   ],
   "metadata": {
    "collapsed": false
   }
  },
  {
   "cell_type": "markdown",
   "source": [
    "![featureSelector1](featureSelector1.png)\n",
    "![featureSelector2](featureSelector2.png)\n",
    "![featureSelector3](featureSelector3.png)\n",
    "![featureSelector4](featureSelector4.png)\n",
    "![featureSelector5](featureSelector5.png)"
   ],
   "metadata": {
    "collapsed": false
   }
  },
  {
   "cell_type": "markdown",
   "source": [
    "### Finding a good variance threshold\n",
    "You'll be working on a slightly modified subsample of the ANSUR dataset with just head measurements"
   ],
   "metadata": {
    "collapsed": false
   }
  },
  {
   "cell_type": "code",
   "execution_count": 35,
   "outputs": [
    {
     "data": {
      "text/plain": "   headbreadth  headcircumference  headlength  tragiontopofhead  \\\n0          150                583         206               140   \n1          146                568         201               120   \n2          148                573         202               125   \n3          158                576         199               127   \n4          153                566         197               122   \n\n         n_hairs  measurement_error  \n0  100016.243454                0.1  \n1   99993.882436                0.1  \n2   99994.718282                0.1  \n3   99989.270314                0.1  \n4  100008.654076                0.1  ",
      "text/html": "<div>\n<style scoped>\n    .dataframe tbody tr th:only-of-type {\n        vertical-align: middle;\n    }\n\n    .dataframe tbody tr th {\n        vertical-align: top;\n    }\n\n    .dataframe thead th {\n        text-align: right;\n    }\n</style>\n<table border=\"1\" class=\"dataframe\">\n  <thead>\n    <tr style=\"text-align: right;\">\n      <th></th>\n      <th>headbreadth</th>\n      <th>headcircumference</th>\n      <th>headlength</th>\n      <th>tragiontopofhead</th>\n      <th>n_hairs</th>\n      <th>measurement_error</th>\n    </tr>\n  </thead>\n  <tbody>\n    <tr>\n      <th>0</th>\n      <td>150</td>\n      <td>583</td>\n      <td>206</td>\n      <td>140</td>\n      <td>100016.243454</td>\n      <td>0.1</td>\n    </tr>\n    <tr>\n      <th>1</th>\n      <td>146</td>\n      <td>568</td>\n      <td>201</td>\n      <td>120</td>\n      <td>99993.882436</td>\n      <td>0.1</td>\n    </tr>\n    <tr>\n      <th>2</th>\n      <td>148</td>\n      <td>573</td>\n      <td>202</td>\n      <td>125</td>\n      <td>99994.718282</td>\n      <td>0.1</td>\n    </tr>\n    <tr>\n      <th>3</th>\n      <td>158</td>\n      <td>576</td>\n      <td>199</td>\n      <td>127</td>\n      <td>99989.270314</td>\n      <td>0.1</td>\n    </tr>\n    <tr>\n      <th>4</th>\n      <td>153</td>\n      <td>566</td>\n      <td>197</td>\n      <td>122</td>\n      <td>100008.654076</td>\n      <td>0.1</td>\n    </tr>\n  </tbody>\n</table>\n</div>"
     },
     "execution_count": 35,
     "metadata": {},
     "output_type": "execute_result"
    }
   ],
   "source": [
    "head_df = pd.read_csv('dataset/head_df.csv')\n",
    "head_df.head()"
   ],
   "metadata": {
    "collapsed": false
   }
  },
  {
   "cell_type": "code",
   "execution_count": 36,
   "outputs": [
    {
     "data": {
      "text/plain": "<Figure size 720x360 with 1 Axes>",
      "image/png": "[encoded data removed]"
     },
     "metadata": {
      "needs_background": "light"
     },
     "output_type": "display_data"
    }
   ],
   "source": [
    "# Create the boxplot\n",
    "fig, ax = plt.subplots(figsize=(10, 5));\n",
    "head_df.boxplot(ax=ax);"
   ],
   "metadata": {
    "collapsed": false
   }
  },
  {
   "cell_type": "code",
   "execution_count": 37,
   "outputs": [
    {
     "name": "stdout",
     "output_type": "stream",
     "text": [
      "headbreadth          1.678952e-03\n",
      "headcircumference    1.029623e-03\n",
      "headlength           1.867872e-03\n",
      "tragiontopofhead     2.639840e-03\n",
      "n_hairs              1.002552e-08\n",
      "measurement_error    0.000000e+00\n",
      "dtype: float64\n"
     ]
    },
    {
     "data": {
      "text/plain": "<Figure size 720x720 with 1 Axes>",
      "image/png": "[encoded data removed]"
     },
     "metadata": {
      "needs_background": "light"
     },
     "output_type": "display_data"
    }
   ],
   "source": [
    "# Normalize the data\n",
    "normalized_df = head_df / head_df.mean()\n",
    "\n",
    "# Print the variances of the normalized data\n",
    "print(normalized_df.var())\n",
    "\n",
    "fig, ax = plt.subplots(figsize=(10, 10));\n",
    "normalized_df.boxplot(ax=ax);"
   ],
   "metadata": {
    "collapsed": false
   }
  },
  {
   "cell_type": "markdown",
   "source": [
    "### Features with low variance\n",
    "Earlier we established that 0.001 is a good threshold to filter out low variance features in `head_df` after normalization. Now use the `VarianceThreshold` feature selector to remove these features."
   ],
   "metadata": {
    "collapsed": false
   }
  },
  {
   "cell_type": "code",
   "execution_count": 38,
   "outputs": [
    {
     "name": "stdout",
     "output_type": "stream",
     "text": [
      "Dimensionality reduced from 6 to 4\n"
     ]
    }
   ],
   "source": [
    "from sklearn.feature_selection import VarianceThreshold\n",
    "\n",
    "# Create a VarianceThreshold feature selector\n",
    "sel = VarianceThreshold(threshold=0.001)\n",
    "\n",
    "# Fit the selector to normalized head_df\n",
    "sel.fit(head_df / head_df.mean())\n",
    "\n",
    "# Create a boolean mask\n",
    "mask = sel.get_support()\n",
    "\n",
    "# Apply the mask to create a reduced dataframe\n",
    "reduced_df = head_df.loc[:, mask]\n",
    "\n",
    "print(\"Dimensionality reduced from {} to {}\".format(head_df.shape[1], reduced_df.shape[1]))"
   ],
   "metadata": {
    "collapsed": false
   }
  },
  {
   "cell_type": "markdown",
   "source": [
    "### Removing features with many missing values\n",
    "We will apply feature selection on the Boston Public Schools dataset which has been pre-loaded as school_df. Calculate the missing value ratio per feature and then create a mask to remove features with many missing values."
   ],
   "metadata": {
    "collapsed": false
   }
  },
  {
   "cell_type": "code",
   "execution_count": 39,
   "outputs": [],
   "source": [
    "school_df = pd.read_csv('dataset/Public_Schools2.csv')"
   ],
   "metadata": {
    "collapsed": false
   }
  },
  {
   "cell_type": "code",
   "execution_count": 40,
   "outputs": [
    {
     "name": "stdout",
     "output_type": "stream",
     "text": [
      "(131, 21)\n",
      "(131, 19)\n"
     ]
    }
   ],
   "source": [
    "# Create a boolean mask on whether each feature less than 50% missing values\n",
    "mask = school_df.isna().sum() / len(school_df) < 0.5\n",
    "\n",
    "# Create a reduced dataset by applying the mask\n",
    "reduced_df = school_df.loc[:, mask]\n",
    "\n",
    "print(school_df.shape)\n",
    "print(reduced_df.shape)"
   ],
   "metadata": {
    "collapsed": false
   }
  },
  {
   "cell_type": "markdown",
   "source": [
    "## Pairwise correlation\n",
    "- Correlation coefficient (r)\n",
    "![corr_coef](correlation_coef.png)"
   ],
   "metadata": {
    "collapsed": false
   }
  },
  {
   "cell_type": "markdown",
   "source": [
    "### Visualizing the correlation matrix\n",
    "Reading the correlation matrix of `ansur_df` in its raw, numeric format doesn't allow us to get a quick overview. Let's improve this by removing redundant values and visualizing the matrix using seaborn."
   ],
   "metadata": {
    "collapsed": false
   }
  },
  {
   "cell_type": "code",
   "execution_count": 41,
   "outputs": [
    {
     "data": {
      "text/plain": "   Elbow rest height  Wrist circumference  Ankle circumference  \\\n0                247                  175                  222   \n1                232                  167                  220   \n2                237                  180                  230   \n3                272                  176                  230   \n4                188                  188                  247   \n\n   Buttock height  Crotch height  \n0             882            877  \n1             870            851  \n2             901            854  \n3             821            769  \n4            1080           1014  ",
      "text/html": "<div>\n<style scoped>\n    .dataframe tbody tr th:only-of-type {\n        vertical-align: middle;\n    }\n\n    .dataframe tbody tr th {\n        vertical-align: top;\n    }\n\n    .dataframe thead th {\n        text-align: right;\n    }\n</style>\n<table border=\"1\" class=\"dataframe\">\n  <thead>\n    <tr style=\"text-align: right;\">\n      <th></th>\n      <th>Elbow rest height</th>\n      <th>Wrist circumference</th>\n      <th>Ankle circumference</th>\n      <th>Buttock height</th>\n      <th>Crotch height</th>\n    </tr>\n  </thead>\n  <tbody>\n    <tr>\n      <th>0</th>\n      <td>247</td>\n      <td>175</td>\n      <td>222</td>\n      <td>882</td>\n      <td>877</td>\n    </tr>\n    <tr>\n      <th>1</th>\n      <td>232</td>\n      <td>167</td>\n      <td>220</td>\n      <td>870</td>\n      <td>851</td>\n    </tr>\n    <tr>\n      <th>2</th>\n      <td>237</td>\n      <td>180</td>\n      <td>230</td>\n      <td>901</td>\n      <td>854</td>\n    </tr>\n    <tr>\n      <th>3</th>\n      <td>272</td>\n      <td>176</td>\n      <td>230</td>\n      <td>821</td>\n      <td>769</td>\n    </tr>\n    <tr>\n      <th>4</th>\n      <td>188</td>\n      <td>188</td>\n      <td>247</td>\n      <td>1080</td>\n      <td>1014</td>\n    </tr>\n  </tbody>\n</table>\n</div>"
     },
     "execution_count": 41,
     "metadata": {},
     "output_type": "execute_result"
    }
   ],
   "source": [
    "ansur_df_sample = ansur_df[['elbowrestheight', 'wristcircumference', 'anklecircumference',\n",
    "                            'buttockheight', 'crotchheight']]\n",
    "ansur_df_sample.columns = ['Elbow rest height', 'Wrist circumference',\n",
    "                           'Ankle circumference', 'Buttock height', 'Crotch height']\n",
    "ansur_df_sample.head()"
   ],
   "metadata": {
    "collapsed": false
   }
  },
  {
   "cell_type": "code",
   "execution_count": 42,
   "outputs": [
    {
     "data": {
      "text/plain": "<Figure size 504x504 with 2 Axes>",
      "image/png": "[encoded data removed]"
     },
     "metadata": {
      "needs_background": "light"
     },
     "output_type": "display_data"
    }
   ],
   "source": [
    "# Create the correlation matrix\n",
    "corr = ansur_df_sample.corr()\n",
    "\n",
    "cmap = sns.diverging_palette(h_neg=10, h_pos=240, as_cmap=True)\n",
    "\n",
    "# Draw the heatmap\n",
    "sns.heatmap(corr,  cmap=cmap, center=0, linewidths=1, annot=True, fmt=\".2f\");"
   ],
   "metadata": {
    "collapsed": false
   }
  },
  {
   "cell_type": "code",
   "execution_count": 43,
   "outputs": [
    {
     "data": {
      "text/plain": "<Figure size 504x504 with 2 Axes>",
      "image/png": "[encoded data removed]"
     },
     "metadata": {
      "needs_background": "light"
     },
     "output_type": "display_data"
    }
   ],
   "source": [
    "# Generate a mask for the upper triangle\n",
    "mask = np.triu(np.ones_like(corr, dtype=bool))\n",
    "\n",
    "# Add the mask to the heatmap\n",
    "sns.heatmap(corr, mask=mask, cmap=cmap, center=0, linewidths=1, annot=True, fmt='.2f');"
   ],
   "metadata": {
    "collapsed": false
   }
  },
  {
   "cell_type": "markdown",
   "source": [
    "## Removing highly correlated features\n"
   ],
   "metadata": {
    "collapsed": false
   }
  },
  {
   "cell_type": "markdown",
   "source": [
    "### Filtering out highly correlated features\n",
    "We're going to automate the removal of highly correlated features in the numeric ANSUR dataset. We'll calculate the correlation matrix and filter out columns that have a correlation coefficient of more than 0.95 or less than -0.95.\n",
    "\n",
    "Since each correlation coefficient occurs twice in the matrix (correlation of A to B equals correlation of B to A) you'll want to ignore half of the correlation matrix so that only one of the two correlated features is removed. Use a mask trick for this purpose."
   ],
   "metadata": {
    "collapsed": false
   }
  },
  {
   "cell_type": "code",
   "execution_count": 44,
   "outputs": [],
   "source": [
    "ansur_male = pd.read_csv('dataset/ANSUR_II_MALE.csv')\n",
    "ansur_df = ansur_male"
   ],
   "metadata": {
    "collapsed": false
   }
  },
  {
   "cell_type": "code",
   "execution_count": 45,
   "outputs": [
    {
     "name": "stdout",
     "output_type": "stream",
     "text": [
      "The reduced dataframe has 88 columns.\n"
     ]
    }
   ],
   "source": [
    "# Calculate the correlation matrix and take the absolute value\n",
    "corr_matrix = ansur_df.corr().abs()\n",
    "\n",
    "# Create a True/False mask and apply it\n",
    "mask = np.triu(np.ones_like(corr_matrix, dtype=bool))\n",
    "tri_df = corr_matrix.mask(mask)\n",
    "\n",
    "# List column names of highly correlated features (r > 0.95)\n",
    "to_drop = [c for c in tri_df.columns if any(tri_df[c] > 0.95)]\n",
    "\n",
    "# Drop the features in the to_drop list\n",
    "reduced_df = ansur_df.drop(to_drop, axis=1)\n",
    "\n",
    "print(\"The reduced dataframe has {} columns.\".format(reduced_df.shape[1]))"
   ],
   "metadata": {
    "collapsed": false
   }
  },
  {
   "cell_type": "markdown",
   "source": [
    "### Nuclear energy and pool drownings\n",
    "The dataset that has been pre-loaded for you as `weird_df` contains actual data provided by the US Centers for Disease Control & Prevention and Department of Energy.\n",
    "\n",
    "Let's see if we can find a pattern."
   ],
   "metadata": {
    "collapsed": false
   }
  },
  {
   "cell_type": "code",
   "execution_count": 46,
   "outputs": [],
   "source": [
    "weird_df = pd.read_csv('dataset/weird_df.csv')"
   ],
   "metadata": {
    "collapsed": false
   }
  },
  {
   "cell_type": "code",
   "execution_count": 47,
   "outputs": [
    {
     "name": "stdout",
     "output_type": "stream",
     "text": [
      "   pool_drownings  nuclear_energy\n",
      "0             421           728.3\n",
      "1             465           753.9\n",
      "2             494           768.8\n",
      "3             538           780.1\n",
      "4             430           763.7\n"
     ]
    }
   ],
   "source": [
    "# Print the first five lines of weird_df\n",
    "print(weird_df.head())"
   ],
   "metadata": {
    "collapsed": false
   }
  },
  {
   "cell_type": "code",
   "execution_count": 48,
   "outputs": [
    {
     "data": {
      "text/plain": "<Figure size 504x504 with 1 Axes>",
      "image/png": "[encoded data removed]"
     },
     "metadata": {
      "needs_background": "light"
     },
     "output_type": "display_data"
    }
   ],
   "source": [
    "# Put nuclear energy production on the x-axis and the number of pool drownings on the y-axis\n",
    "sns.scatterplot(x='nuclear_energy', y='pool_drownings', data=weird_df);"
   ],
   "metadata": {
    "collapsed": false
   }
  },
  {
   "cell_type": "code",
   "execution_count": 49,
   "outputs": [
    {
     "name": "stdout",
     "output_type": "stream",
     "text": [
      "                pool_drownings  nuclear_energy\n",
      "pool_drownings        1.000000        0.901179\n",
      "nuclear_energy        0.901179        1.000000\n"
     ]
    }
   ],
   "source": [
    "# Print out the correlation matrix of weird_df\n",
    "print(weird_df.corr())"
   ],
   "metadata": {
    "collapsed": false
   }
  },
  {
   "cell_type": "code",
   "execution_count": 49,
   "outputs": [],
   "source": [],
   "metadata": {
    "collapsed": false
   }
  }
 ],
 "metadata": {
  "kernelspec": {
   "display_name": "Python 3",
   "language": "python",
   "name": "python3"
  },
  "language_info": {
   "codemirror_mode": {
    "name": "ipython",
    "version": 2
   },
   "file_extension": ".py",
   "mimetype": "text/x-python",
   "name": "python",
   "nbconvert_exporter": "python",
   "pygments_lexer": "ipython2",
   "version": "2.7.6"
  }
 },
 "nbformat": 4,
 "nbformat_minor": 0
}
