{
 "cells": [
  {
   "cell_type": "markdown",
   "source": [
    "---\n",
    "title: \"Assessing model fit\"\n",
    "format:\n",
    "  html:\n",
    "    code-fold: true\n",
    "jupyter: python3\n",
    "author: \"kakamana\"\n",
    "date: \"2023-01-013\"\n",
    "categories: [python, datacamp, statistics, machine learning, linear regression]\n",
    "image: \"assessingModelFit.jpg\"\n",
    "\n",
    "---"
   ],
   "metadata": {
    "collapsed": false,
    "pycharm": {
     "name": "#%% md\n"
    }
   }
  },
  {
   "cell_type": "markdown",
   "source": [
    "# Assessing model fit\n",
    "\n",
    "What questions to ask your model to determine its fit. We will discuss how to quantify how well a linear regression model fits, how to diagnose problems with the model using visualizations, and how each observation impacts the model.\n",
    "\n",
    "This **Assessing model fit** is part of [Datacamp course: Introduction to Regression with statsmodels in Python](https://app.datacamp.com/learn/courses/introduction-to-regression-with-statsmodels-in-python)\n",
    "\n",
    "This is my learning experience of data science through DataCamp"
   ],
   "metadata": {
    "collapsed": false,
    "pycharm": {
     "name": "#%% md\n"
    }
   }
  },
  {
   "cell_type": "code",
   "execution_count": 1,
   "outputs": [],
   "source": [
    "# Import numpy with alias np\n",
    "import numpy as np\n",
    "# Import seaborn with alias sns\n",
    "import pandas as pd\n",
    "import seaborn as sns\n",
    "# Import matplotlib.pyplot with alias plt\n",
    "import matplotlib.pyplot as plt\n",
    "# Import the ols function\n",
    "from statsmodels.formula.api import ols"
   ],
   "metadata": {
    "collapsed": false,
    "pycharm": {
     "name": "#%%\n"
    }
   }
  },
  {
   "cell_type": "markdown",
   "source": [
    "## Quantifying model fit\n",
    "\n",
    "Analyze and assess the accuracy of model predictions.\n",
    "\n",
    "Coefficient of determination: R-squared (1 is the best, 0 is as good as randomness).\n",
    "\n",
    "The proportion of variance in the response variable that is predictable (explainable) by the explanatory variable. This information indicates whether the model at hand is effective in resuming our data or not. Data, context, and the way we transform variables heavily impact r-squared interpretation.\n",
    "\n",
    "Accessible inside .summary() or .rsquared\n",
    "\n",
    "Residual standard error (RSE)\n",
    "\n",
    "The residual is the difference between the predicted and observed response values (the distance). It has the same unit as the response.\n",
    "\n",
    "MSE = RSE**2 RSE = np.sqrt(MSE)\n",
    "\n",
    "Accessible with .mse_resid()\n",
    "\n",
    "RSE is calculated manually by taking the square of each residual. The degrees of freedom are calculated (# of observations minus # of model coefficients). Then we take the square root of the sum divided by the deg_freedom.\n",
    "\n",
    "Root mean square error\n",
    "\n",
    "Unlike MSE, we do not remove degrees of freedom (we divide only by the number of observations)."
   ],
   "metadata": {
    "collapsed": false,
    "pycharm": {
     "name": "#%% md\n"
    }
   }
  },
  {
   "cell_type": "markdown",
   "source": [
    "## Coefficient of determination\n",
    "\n",
    "A coefficient of determination measures how well the linear regression line fits the observed values. It is equal to the square root of the correlation between the explanatory and response variables in a simple linear regression.\n"
   ],
   "metadata": {
    "collapsed": false,
    "pycharm": {
     "name": "#%% md\n"
    }
   }
  },
  {
   "cell_type": "code",
   "execution_count": 2,
   "outputs": [
    {
     "data": {
      "text/plain": "   spent_usd  n_impressions  n_clicks\n0       1.43           7350         1\n1       1.82          17861         2\n2       1.25           4259         1\n3       1.29           4133         1\n4       4.77          15615         3",
      "text/html": "<div>\n<style scoped>\n    .dataframe tbody tr th:only-of-type {\n        vertical-align: middle;\n    }\n\n    .dataframe tbody tr th {\n        vertical-align: top;\n    }\n\n    .dataframe thead th {\n        text-align: right;\n    }\n</style>\n<table border=\"1\" class=\"dataframe\">\n  <thead>\n    <tr style=\"text-align: right;\">\n      <th></th>\n      <th>spent_usd</th>\n      <th>n_impressions</th>\n      <th>n_clicks</th>\n    </tr>\n  </thead>\n  <tbody>\n    <tr>\n      <th>0</th>\n      <td>1.43</td>\n      <td>7350</td>\n      <td>1</td>\n    </tr>\n    <tr>\n      <th>1</th>\n      <td>1.82</td>\n      <td>17861</td>\n      <td>2</td>\n    </tr>\n    <tr>\n      <th>2</th>\n      <td>1.25</td>\n      <td>4259</td>\n      <td>1</td>\n    </tr>\n    <tr>\n      <th>3</th>\n      <td>1.29</td>\n      <td>4133</td>\n      <td>1</td>\n    </tr>\n    <tr>\n      <th>4</th>\n      <td>4.77</td>\n      <td>15615</td>\n      <td>3</td>\n    </tr>\n  </tbody>\n</table>\n</div>"
     },
     "execution_count": 2,
     "metadata": {},
     "output_type": "execute_result"
    }
   ],
   "source": [
    "# fetch data for which model is created\n",
    "ad_conversion=pd.read_csv('dataset/ad_conversion.csv')\n",
    "ad_conversion.head()"
   ],
   "metadata": {
    "collapsed": false,
    "pycharm": {
     "name": "#%%\n"
    }
   }
  },
  {
   "cell_type": "code",
   "execution_count": 3,
   "outputs": [
    {
     "name": "stdout",
     "output_type": "stream",
     "text": [
      "                            OLS Regression Results                            \n",
      "==============================================================================\n",
      "Dep. Variable:               n_clicks   R-squared:                       0.892\n",
      "Model:                            OLS   Adj. R-squared:                  0.891\n",
      "Method:                 Least Squares   F-statistic:                     7683.\n",
      "Date:                Fri, 13 Jan 2023   Prob (F-statistic):               0.00\n",
      "Time:                        09:10:19   Log-Likelihood:                -4126.7\n",
      "No. Observations:                 936   AIC:                             8257.\n",
      "Df Residuals:                     934   BIC:                             8267.\n",
      "Df Model:                           1                                         \n",
      "Covariance Type:            nonrobust                                         \n",
      "=================================================================================\n",
      "                    coef    std err          t      P>|t|      [0.025      0.975]\n",
      "---------------------------------------------------------------------------------\n",
      "Intercept         1.6829      0.789      2.133      0.033       0.135       3.231\n",
      "n_impressions     0.0002   1.96e-06     87.654      0.000       0.000       0.000\n",
      "==============================================================================\n",
      "Omnibus:                      247.038   Durbin-Watson:                   0.870\n",
      "Prob(Omnibus):                  0.000   Jarque-Bera (JB):            13215.277\n",
      "Skew:                          -0.258   Prob(JB):                         0.00\n",
      "Kurtosis:                      21.401   Cond. No.                     4.88e+05\n",
      "==============================================================================\n",
      "\n",
      "Notes:\n",
      "[1] Standard Errors assume that the covariance matrix of the errors is correctly specified.\n",
      "[2] The condition number is large, 4.88e+05. This might indicate that there are\n",
      "strong multicollinearity or other numerical problems.\n",
      "                            OLS Regression Results                            \n",
      "==============================================================================\n",
      "Dep. Variable:          qdrt_n_clicks   R-squared:                       0.945\n",
      "Model:                            OLS   Adj. R-squared:                  0.944\n",
      "Method:                 Least Squares   F-statistic:                 1.590e+04\n",
      "Date:                Fri, 13 Jan 2023   Prob (F-statistic):               0.00\n",
      "Time:                        09:10:19   Log-Likelihood:                 193.90\n",
      "No. Observations:                 936   AIC:                            -383.8\n",
      "Df Residuals:                     934   BIC:                            -374.1\n",
      "Df Model:                           1                                         \n",
      "Covariance Type:            nonrobust                                         \n",
      "======================================================================================\n",
      "                         coef    std err          t      P>|t|      [0.025      0.975]\n",
      "--------------------------------------------------------------------------------------\n",
      "Intercept              0.0717      0.017      4.171      0.000       0.038       0.106\n",
      "qdrt_n_impressions     0.1115      0.001    126.108      0.000       0.110       0.113\n",
      "==============================================================================\n",
      "Omnibus:                       11.447   Durbin-Watson:                   0.568\n",
      "Prob(Omnibus):                  0.003   Jarque-Bera (JB):               10.637\n",
      "Skew:                          -0.216   Prob(JB):                      0.00490\n",
      "Kurtosis:                       2.707   Cond. No.                         52.1\n",
      "==============================================================================\n",
      "\n",
      "Notes:\n",
      "[1] Standard Errors assume that the covariance matrix of the errors is correctly specified.\n"
     ]
    }
   ],
   "source": [
    "# click vs impression model\n",
    "mdl_click_vs_impression_orig = ols('n_clicks ~ n_impressions' , data = ad_conversion).fit()\n",
    "# Print a summary of mdl_click_vs_impression_orig\n",
    "print(mdl_click_vs_impression_orig.summary())\n",
    "\n",
    "# Create qdrt_n_impressions and qdrt_n_clicks\n",
    "ad_conversion[\"qdrt_n_impressions\"] = ad_conversion['n_impressions'] ** 0.25\n",
    "ad_conversion[\"qdrt_n_clicks\"] = ad_conversion['n_clicks'] ** 0.25\n",
    "\n",
    "# qdrnt click vs impression model\n",
    "mdl_click_vs_impression_trans = ols('qdrt_n_clicks ~ qdrt_n_impressions  ' , data = ad_conversion).fit()\n",
    "# Print a summary of mdl_click_vs_impression_trans\n",
    "print(mdl_click_vs_impression_trans.summary())"
   ],
   "metadata": {
    "collapsed": false,
    "pycharm": {
     "name": "#%%\n"
    }
   }
  },
  {
   "cell_type": "code",
   "execution_count": 6,
   "outputs": [
    {
     "name": "stdout",
     "output_type": "stream",
     "text": [
      "0.8916134973508041\n",
      "0.9445272817143905\n",
      "\n",
      " The transformed model has a higher coefficient of determination than the original model, suggesting that it gives a better fit to the data.\n"
     ]
    }
   ],
   "source": [
    "# Print the coeff of determination for mdl_click_vs_impression_orig\n",
    "print(mdl_click_vs_impression_orig.rsquared)\n",
    "\n",
    "# Print the coeff of determination for mdl_click_vs_impression_trans\n",
    "print(mdl_click_vs_impression_trans.rsquared)\n",
    "\n",
    "print(\"\\n The transformed model has a higher coefficient of determination than the original model, suggesting that it gives a better fit to the data.\")"
   ],
   "metadata": {
    "collapsed": false,
    "pycharm": {
     "name": "#%%\n"
    }
   }
  },
  {
   "cell_type": "markdown",
   "source": [
    "## Residual standard error\n",
    "\n",
    "The residual standard error (RSE) measures the typical residual size. Predictions are measured by how wrong they can be. The data fits better with smaller numbers, with zero being perfect"
   ],
   "metadata": {
    "collapsed": false,
    "pycharm": {
     "name": "#%% md\n"
    }
   }
  },
  {
   "cell_type": "code",
   "execution_count": 8,
   "outputs": [
    {
     "name": "stdout",
     "output_type": "stream",
     "text": [
      "RSE of original model:  19.905838862478134\n",
      "RSE of transformed model:  0.19690640896875722\n"
     ]
    }
   ],
   "source": [
    "# Calculate mse_orig for mdl_click_vs_impression_orig\n",
    "mse_orig = mdl_click_vs_impression_orig.mse_resid\n",
    "\n",
    "# Calculate rse_orig for mdl_click_vs_impression_orig and print it\n",
    "rse_orig = np.sqrt(mse_orig)\n",
    "print(\"RSE of original model: \", rse_orig)\n",
    "\n",
    "# Calculate mse_trans for mdl_click_vs_impression_trans\n",
    "mse_trans = mdl_click_vs_impression_trans.mse_resid\n",
    "\n",
    "# Calculate rse_trans for mdl_click_vs_impression_trans and print it\n",
    "rse_trans = np.sqrt(mse_trans)\n",
    "print(\"RSE of transformed model: \", rse_trans)"
   ],
   "metadata": {
    "collapsed": false,
    "pycharm": {
     "name": "#%%\n"
    }
   }
  },
  {
   "cell_type": "markdown",
   "source": [
    "## Visual model fit\n",
    "\n",
    "If the model is well fitted, the residuals should be normally distributed along the line/curve, and the mean should be zero. In addition, it indicates when the fitted residuals are positive or negative (above/below the straight line).\n",
    "\n",
    "Residual VS fitted values chart\n",
    "\n",
    "Trends can be visualized using this tool. The best accuracy is achieved by following the y=0 line. There is a problem if the curve goes all over the place.\n",
    "\n",
    "sns.residplot()\n",
    "\n",
    "Q-Q Plot\n",
    "\n",
    "The best conditions are validated if the points track along a straight line and are normally distributed. Otherwise, they are not.\n",
    "\n",
    "qqplot() (from statsmodels.api import qqplot)\n",
    "\n",
    "Square root of Standardized Residuals VS fitted values, Scale-location plot\n",
    "\n",
    "As the fitted values change, the residuals change in size and whether they become smaller or larger. If it bounces all over or is irregular, it means residuals tend to vary randomly or in an inconsistent manner as fitted values change."
   ],
   "metadata": {
    "collapsed": false,
    "pycharm": {
     "name": "#%% md\n"
    }
   }
  },
  {
   "cell_type": "markdown",
   "source": [
    "## Drawing diagnostic plots\n",
    "\n",
    "Let's draw diagnostic plots using the Taiwan real estate dataset and the model of house prices versus number of convenience stores."
   ],
   "metadata": {
    "collapsed": false,
    "pycharm": {
     "name": "#%% md\n"
    }
   }
  },
  {
   "cell_type": "code",
   "execution_count": 9,
   "outputs": [
    {
     "data": {
      "text/plain": "   dist_to_mrt_m  n_convenience house_age_years  price_twd_msq\n0       84.87882             10        30 to 45      11.467474\n1      306.59470              9        15 to 30      12.768533\n2      561.98450              5         0 to 15      14.311649\n3      561.98450              5         0 to 15      16.580938\n4      390.56840              5         0 to 15      13.040847",
      "text/html": "<div>\n<style scoped>\n    .dataframe tbody tr th:only-of-type {\n        vertical-align: middle;\n    }\n\n    .dataframe tbody tr th {\n        vertical-align: top;\n    }\n\n    .dataframe thead th {\n        text-align: right;\n    }\n</style>\n<table border=\"1\" class=\"dataframe\">\n  <thead>\n    <tr style=\"text-align: right;\">\n      <th></th>\n      <th>dist_to_mrt_m</th>\n      <th>n_convenience</th>\n      <th>house_age_years</th>\n      <th>price_twd_msq</th>\n    </tr>\n  </thead>\n  <tbody>\n    <tr>\n      <th>0</th>\n      <td>84.87882</td>\n      <td>10</td>\n      <td>30 to 45</td>\n      <td>11.467474</td>\n    </tr>\n    <tr>\n      <th>1</th>\n      <td>306.59470</td>\n      <td>9</td>\n      <td>15 to 30</td>\n      <td>12.768533</td>\n    </tr>\n    <tr>\n      <th>2</th>\n      <td>561.98450</td>\n      <td>5</td>\n      <td>0 to 15</td>\n      <td>14.311649</td>\n    </tr>\n    <tr>\n      <th>3</th>\n      <td>561.98450</td>\n      <td>5</td>\n      <td>0 to 15</td>\n      <td>16.580938</td>\n    </tr>\n    <tr>\n      <th>4</th>\n      <td>390.56840</td>\n      <td>5</td>\n      <td>0 to 15</td>\n      <td>13.040847</td>\n    </tr>\n  </tbody>\n</table>\n</div>"
     },
     "execution_count": 9,
     "metadata": {},
     "output_type": "execute_result"
    }
   ],
   "source": [
    "taiwan_real_estate=pd.read_csv(\"dataset/taiwan_real_estate2.csv\")\n",
    "taiwan_real_estate.head()"
   ],
   "metadata": {
    "collapsed": false,
    "pycharm": {
     "name": "#%%\n"
    }
   }
  },
  {
   "cell_type": "code",
   "execution_count": 10,
   "outputs": [],
   "source": [
    "mdl_price_vs_conv=ols(\"price_twd_msq ~ n_convenience\",data=taiwan_real_estate).fit()"
   ],
   "metadata": {
    "collapsed": false,
    "pycharm": {
     "name": "#%%\n"
    }
   }
  },
  {
   "cell_type": "code",
   "execution_count": 12,
   "outputs": [
    {
     "data": {
      "text/plain": "<Figure size 432x288 with 1 Axes>",
      "image/png": "[encoded data removed]"
     },
     "metadata": {
      "needs_background": "light"
     },
     "output_type": "display_data"
    }
   ],
   "source": [
    "# Plot the residuals vs. fitted values\n",
    "sns.residplot(x='n_convenience', y='price_twd_msq', data=taiwan_real_estate, lowess=True)\n",
    "plt.xlabel(\"Fitted values\")\n",
    "plt.ylabel(\"Residuals\")\n",
    "\n",
    "# Show the plot\n",
    "plt.show()"
   ],
   "metadata": {
    "collapsed": false,
    "pycharm": {
     "name": "#%%\n"
    }
   }
  },
  {
   "cell_type": "code",
   "execution_count": 13,
   "outputs": [
    {
     "data": {
      "text/plain": "<Figure size 432x288 with 1 Axes>",
      "image/png": "[encoded data removed]"
     },
     "metadata": {
      "needs_background": "light"
     },
     "output_type": "display_data"
    }
   ],
   "source": [
    "# Import qqplot\n",
    "from statsmodels.api import qqplot\n",
    "\n",
    "# Create the Q-Q plot of the residuals\n",
    "qqplot(data=mdl_price_vs_conv.resid, fit=True, line=\"45\")\n",
    "\n",
    "# Show the plot\n",
    "plt.show()"
   ],
   "metadata": {
    "collapsed": false,
    "pycharm": {
     "name": "#%%\n"
    }
   }
  },
  {
   "cell_type": "code",
   "execution_count": 14,
   "outputs": [
    {
     "data": {
      "text/plain": "<Figure size 432x288 with 1 Axes>",
      "image/png": "[encoded data removed]"
     },
     "metadata": {
      "needs_background": "light"
     },
     "output_type": "display_data"
    }
   ],
   "source": [
    "# Preprocessing steps\n",
    "model_norm_residuals = mdl_price_vs_conv.get_influence().resid_studentized_internal\n",
    "model_norm_residuals_abs_sqrt = np.sqrt(np.abs(model_norm_residuals))\n",
    "\n",
    "# Create the scale-location plot\n",
    "sns.regplot(x=mdl_price_vs_conv.fittedvalues, y=model_norm_residuals_abs_sqrt, ci=None, lowess=True)\n",
    "plt.xlabel(\"Fitted values\")\n",
    "plt.ylabel(\"Sqrt of abs val of stdized residuals\")\n",
    "\n",
    "# Show the plot\n",
    "plt.show()"
   ],
   "metadata": {
    "collapsed": false,
    "pycharm": {
     "name": "#%%\n"
    }
   }
  },
  {
   "cell_type": "code",
   "execution_count": 15,
   "outputs": [
    {
     "name": "stdout",
     "output_type": "stream",
     "text": [
      "Above three diagnostic plots are excellent for sanity-checking the quality of your models\n"
     ]
    }
   ],
   "source": [
    "print(\"Above three diagnostic plots are excellent for sanity-checking the quality of your models\")"
   ],
   "metadata": {
    "collapsed": false,
    "pycharm": {
     "name": "#%%\n"
    }
   }
  },
  {
   "cell_type": "markdown",
   "source": [
    "# Outliers, leverage & influence\n",
    "\n",
    "Our models can be significantly affected by some special values. A slope can be completely altered by removing one or two extreme datapoints.\n",
    "\n",
    "Unusual datapoints, outliers, data is extreme\n",
    "\n",
    "There are two ways to visualize them, they can be either far away from the model fit, or they can be far away from the datapoint along the fit (horizontally / vertically).\n",
    "\n",
    "Leverage & influence\n",
    "\n",
    "The concepts of leverage and influence are important when determining whether some unusual data points are negatively affecting your model.\n",
    "\n",
    "Leverage measures the extreme values of the explanatory variables. Since most of the observations have a short distance to the nearest MRT station, observations with long distances are more extreme. High leverage points are those with explanatory variables that are farthest away from one another.\n",
    "\n",
    "In modeling, influence is the amount that the model would change if the observation were not included in the dataset. Due to their large residuals and distance from other observations, observations far from the trend line are expected to have a high influence. There was a majority of influential houses with prices that were higher than the model predicted (and one with a lower price)."
   ],
   "metadata": {
    "collapsed": false,
    "pycharm": {
     "name": "#%% md\n"
    }
   }
  },
  {
   "cell_type": "markdown",
   "source": [
    "## Extracting leverage and influence\n",
    "\n",
    "Lets find leverage and influence for taiwan real estate data"
   ],
   "metadata": {
    "collapsed": false,
    "pycharm": {
     "name": "#%% md\n"
    }
   }
  },
  {
   "cell_type": "code",
   "execution_count": 16,
   "outputs": [],
   "source": [
    "# Create sqrt_dist_to_mrt_m\n",
    "taiwan_real_estate[\"sqrt_dist_to_mrt_m\"] = np.sqrt(taiwan_real_estate[\"dist_to_mrt_m\"])\n",
    "\n",
    "# Run a linear regression of price_twd_msq vs. sqrt_dist_to_mrt_m\n",
    "mdl_price_vs_dist = ols(\"price_twd_msq ~ sqrt_dist_to_mrt_m\", data=taiwan_real_estate).fit()"
   ],
   "metadata": {
    "collapsed": false,
    "pycharm": {
     "name": "#%%\n"
    }
   }
  },
  {
   "cell_type": "code",
   "execution_count": 17,
   "outputs": [
    {
     "name": "stdout",
     "output_type": "stream",
     "text": [
      "   dfb_Intercept  dfb_sqrt_dist_to_mrt_m       cooks_d  standard_resid  \\\n",
      "0      -0.094893                0.073542  4.648246e-03       -1.266363   \n",
      "1      -0.013981                0.008690  1.216711e-04       -0.262996   \n",
      "2       0.025510               -0.009963  6.231096e-04        0.688143   \n",
      "3       0.055525               -0.021686  2.939394e-03        1.494602   \n",
      "4      -0.000932                0.000518  6.055123e-07       -0.019716   \n",
      "5      -0.012257                0.029560  7.976174e-04        0.544490   \n",
      "6       0.000592               -0.000187  3.896928e-07        0.017531   \n",
      "7       0.010115               -0.006428  6.232088e-05        0.185284   \n",
      "8      -0.087118                0.126666  9.060428e-03        0.915959   \n",
      "9       0.009041               -0.033610  1.378024e-03       -0.818660   \n",
      "\n",
      "   hat_diag  dffits_internal  student_resid    dffits  \n",
      "0  0.005764        -0.096418      -1.267294 -0.096489  \n",
      "1  0.003506        -0.015599      -0.262699 -0.015582  \n",
      "2  0.002625         0.035302       0.687703  0.035279  \n",
      "3  0.002625         0.076673       1.496850  0.076789  \n",
      "4  0.003106        -0.001100      -0.019692 -0.001099  \n",
      "5  0.005352         0.039940       0.544024  0.039906  \n",
      "6  0.002530         0.000883       0.017509  0.000882  \n",
      "7  0.003618         0.011164       0.185067  0.011151  \n",
      "8  0.021142         0.134614       0.915780  0.134587  \n",
      "9  0.004095        -0.052498      -0.818332 -0.052477  \n"
     ]
    }
   ],
   "source": [
    "# Create summary_info\n",
    "summary_info = mdl_price_vs_dist.get_influence().summary_frame()\n",
    "print(summary_info.head(n=10))"
   ],
   "metadata": {
    "collapsed": false,
    "pycharm": {
     "name": "#%%\n"
    }
   }
  },
  {
   "cell_type": "code",
   "execution_count": 18,
   "outputs": [
    {
     "name": "stdout",
     "output_type": "stream",
     "text": [
      "     dist_to_mrt_m  n_convenience house_age_years  price_twd_msq  \\\n",
      "347       6488.021              1        15 to 30       3.388805   \n",
      "116       6396.283              1        30 to 45       3.691377   \n",
      "249       6306.153              1        15 to 30       4.538578   \n",
      "255       5512.038              1        30 to 45       5.264750   \n",
      "8         5512.038              1        30 to 45       5.688351   \n",
      "\n",
      "     sqrt_dist_to_mrt_m  leverage  \n",
      "347           80.548253  0.026665  \n",
      "116           79.976765  0.026135  \n",
      "249           79.411290  0.025617  \n",
      "255           74.243101  0.021142  \n",
      "8             74.243101  0.021142  \n"
     ]
    }
   ],
   "source": [
    "# Add the hat_diag column to taiwan_real_estate, name it leverage\n",
    "taiwan_real_estate[\"leverage\"] = summary_info['hat_diag']\n",
    "\n",
    "# Sort taiwan_real_estate by leverage in descending order and print the head\n",
    "print(taiwan_real_estate.sort_values(by='leverage', ascending=False).head())"
   ],
   "metadata": {
    "collapsed": false,
    "pycharm": {
     "name": "#%%\n"
    }
   }
  },
  {
   "cell_type": "code",
   "execution_count": 19,
   "outputs": [
    {
     "name": "stdout",
     "output_type": "stream",
     "text": [
      "     dist_to_mrt_m  n_convenience house_age_years  price_twd_msq  \\\n",
      "270       252.5822              1         0 to 15      35.552194   \n",
      "148      3780.5900              0        15 to 30      13.645991   \n",
      "228      3171.3290              0         0 to 15      14.099849   \n",
      "220       186.5101              9        30 to 45      23.691377   \n",
      "113       393.2606              6         0 to 15       2.299546   \n",
      "\n",
      "     sqrt_dist_to_mrt_m  leverage  cooks_dist  \n",
      "270           15.892835  0.003849    0.115549  \n",
      "148           61.486503  0.012147    0.052440  \n",
      "228           56.314554  0.009332    0.035384  \n",
      "220           13.656870  0.004401    0.025123  \n",
      "113           19.830799  0.003095    0.022813  \n"
     ]
    }
   ],
   "source": [
    "# Add the cooks_d column to taiwan_real_estate, name it cooks_dist\n",
    "taiwan_real_estate['cooks_dist'] = summary_info['cooks_d']\n",
    "\n",
    "# Sort taiwan_real_estate by cooks_dist in descending order and print the head.\n",
    "print(taiwan_real_estate.sort_values(\"cooks_dist\", ascending=False).head())"
   ],
   "metadata": {
    "collapsed": false,
    "pycharm": {
     "name": "#%%\n"
    }
   }
  },
  {
   "cell_type": "code",
   "execution_count": null,
   "outputs": [],
   "source": [],
   "metadata": {
    "collapsed": false,
    "pycharm": {
     "name": "#%%\n"
    }
   }
  }
 ],
 "metadata": {
  "kernelspec": {
   "display_name": "Python 3",
   "language": "python",
   "name": "python3"
  },
  "language_info": {
   "codemirror_mode": {
    "name": "ipython",
    "version": 2
   },
   "file_extension": ".py",
   "mimetype": "text/x-python",
   "name": "python",
   "nbconvert_exporter": "python",
   "pygments_lexer": "ipython2",
   "version": "2.7.6"
  }
 },
 "nbformat": 4,
 "nbformat_minor": 0
}