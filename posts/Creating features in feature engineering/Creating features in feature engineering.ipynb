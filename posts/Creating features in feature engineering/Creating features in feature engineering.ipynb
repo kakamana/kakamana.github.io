{
 "cells": [
  {
   "cell_type": "markdown",
   "source": [
    "---\n",
    "title: \"Creating Features - Feature Engineering for Machine Learning\"\n",
    "format:\n",
    "  html:\n",
    "    code-fold: true\n",
    "jupyter: python3\n",
    "author: \"kakamana\"\n",
    "date: \"2023-03-19\"\n",
    "categories: [python, datacamp, feature engineering, machine learning]\n",
    "image: \"creatingFeatures.png\"\n",
    "\n",
    "---"
   ],
   "metadata": {
    "collapsed": false
   }
  },
  {
   "cell_type": "markdown",
   "source": [
    "# Creating features\n",
    "\n",
    "This course will teach us the basics of feature engineering and how to use it. We'll load, explore, and visualize a survey response dataset, and we'll see what types of data it contains, and why those types influence how you build your feature set. We'll make new features from both categorical and continuous columns with the pandas package\n",
    "\n",
    "This **Creating features** is part of [Datacamp course: Feature engineering for machine learning in Python]\n",
    "\n",
    "This is my learning experience of data science through DataCamp. These repository contributions are part of my learning journey through my graduate program masters of applied data sciences (MADS) at University Of Michigan, [DeepLearning.AI], [Coursera] & [DataCamp]. You can find my similar articles & more stories at my [medium] & [LinkedIn] profile. I am available at [kaggle] & [github blogs] & [github repos]. Thank you for your motivation, support & valuable feedback.\n",
    "\n",
    "These include projects, coursework & notebook which I learned through my data science journey. They are created for reproducible & future reference purpose only. All source code, slides or screenshot are intellactual property of respective content authors. If you find these contents beneficial, kindly consider learning subscription from [DeepLearning.AI Subscription], [Coursera], [DataCamp]\n",
    "\n",
    "\n",
    "\n",
    "[DeepLearning.AI]: https://www.deeplearning.ai\n",
    "[DeepLearning.AI Subscription]: https://www.deeplearning.ai\n",
    "[Coursera]: https://www.coursera.org\n",
    "[DataCamp]: https://www.datacamp.com\n",
    "[medium]: https://medium.com/@kamig4u\n",
    "[LinkedIn]: https://www.linkedin.com/in/asadenterprisearchitect\n",
    "[kaggle]: https://www.kaggle.com/kakamana\n",
    "[github blogs]: https://kakamana.github.io\n",
    "[github repos]: https://github.com/kakamana\n",
    "[Datacamp course: Feature engineering for machine learning in Python]: (https://campus.datacamp.com/courses/feature-engineering-for-machine-learning-in-python)"
   ],
   "metadata": {
    "collapsed": false
   }
  },
  {
   "cell_type": "code",
   "execution_count": 1,
   "outputs": [],
   "source": [
    "import pandas as pd"
   ],
   "metadata": {
    "collapsed": false
   }
  },
  {
   "cell_type": "markdown",
   "source": [
    "## Feature generation: why do it?\n",
    "\n",
    "    * Different types of data:\n",
    "\n",
    "      *  Continuous: either integers (or whole numbers) or floats (decimals)\n",
    "      *  Categorical: one of a limited set of values, e.g., gender, country of birth\n",
    "      *  Ordinal: ranked values often with no details of distance between them\n",
    "      *  Boolean: True/False values\n",
    "      *  Datetime: dates and times"
   ],
   "metadata": {
    "collapsed": false
   }
  },
  {
   "cell_type": "code",
   "execution_count": 2,
   "outputs": [
    {
     "data": {
      "text/plain": "      SurveyDate                                    FormalEducation  \\\n0  2/28/18 20:20           Bachelor's degree (BA. BS. B.Eng.. etc.)   \n1  6/28/18 13:26           Bachelor's degree (BA. BS. B.Eng.. etc.)   \n2    6/6/18 3:37           Bachelor's degree (BA. BS. B.Eng.. etc.)   \n3    5/9/18 1:06  Some college/university study without earning ...   \n4  4/12/18 22:41           Bachelor's degree (BA. BS. B.Eng.. etc.)   \n\n   ConvertedSalary Hobby       Country  StackOverflowJobsRecommend  \\\n0              NaN   Yes  South Africa                         NaN   \n1          70841.0   Yes       Sweeden                         7.0   \n2              NaN    No       Sweeden                         8.0   \n3          21426.0   Yes       Sweeden                         NaN   \n4          41671.0   Yes            UK                         8.0   \n\n      VersionControl  Age  Years Experience Gender   RawSalary  \n0                Git   21                13   Male         NaN  \n1     Git;Subversion   38                 9   Male   70,841.00  \n2                Git   45                11    NaN         NaN  \n3  Zip file back-ups   46                12   Male   21,426.00  \n4                Git   39                 7   Male  £41,671.00  ",
      "text/html": "<div>\n<style scoped>\n    .dataframe tbody tr th:only-of-type {\n        vertical-align: middle;\n    }\n\n    .dataframe tbody tr th {\n        vertical-align: top;\n    }\n\n    .dataframe thead th {\n        text-align: right;\n    }\n</style>\n<table border=\"1\" class=\"dataframe\">\n  <thead>\n    <tr style=\"text-align: right;\">\n      <th></th>\n      <th>SurveyDate</th>\n      <th>FormalEducation</th>\n      <th>ConvertedSalary</th>\n      <th>Hobby</th>\n      <th>Country</th>\n      <th>StackOverflowJobsRecommend</th>\n      <th>VersionControl</th>\n      <th>Age</th>\n      <th>Years Experience</th>\n      <th>Gender</th>\n      <th>RawSalary</th>\n    </tr>\n  </thead>\n  <tbody>\n    <tr>\n      <th>0</th>\n      <td>2/28/18 20:20</td>\n      <td>Bachelor's degree (BA. BS. B.Eng.. etc.)</td>\n      <td>NaN</td>\n      <td>Yes</td>\n      <td>South Africa</td>\n      <td>NaN</td>\n      <td>Git</td>\n      <td>21</td>\n      <td>13</td>\n      <td>Male</td>\n      <td>NaN</td>\n    </tr>\n    <tr>\n      <th>1</th>\n      <td>6/28/18 13:26</td>\n      <td>Bachelor's degree (BA. BS. B.Eng.. etc.)</td>\n      <td>70841.0</td>\n      <td>Yes</td>\n      <td>Sweeden</td>\n      <td>7.0</td>\n      <td>Git;Subversion</td>\n      <td>38</td>\n      <td>9</td>\n      <td>Male</td>\n      <td>70,841.00</td>\n    </tr>\n    <tr>\n      <th>2</th>\n      <td>6/6/18 3:37</td>\n      <td>Bachelor's degree (BA. BS. B.Eng.. etc.)</td>\n      <td>NaN</td>\n      <td>No</td>\n      <td>Sweeden</td>\n      <td>8.0</td>\n      <td>Git</td>\n      <td>45</td>\n      <td>11</td>\n      <td>NaN</td>\n      <td>NaN</td>\n    </tr>\n    <tr>\n      <th>3</th>\n      <td>5/9/18 1:06</td>\n      <td>Some college/university study without earning ...</td>\n      <td>21426.0</td>\n      <td>Yes</td>\n      <td>Sweeden</td>\n      <td>NaN</td>\n      <td>Zip file back-ups</td>\n      <td>46</td>\n      <td>12</td>\n      <td>Male</td>\n      <td>21,426.00</td>\n    </tr>\n    <tr>\n      <th>4</th>\n      <td>4/12/18 22:41</td>\n      <td>Bachelor's degree (BA. BS. B.Eng.. etc.)</td>\n      <td>41671.0</td>\n      <td>Yes</td>\n      <td>UK</td>\n      <td>8.0</td>\n      <td>Git</td>\n      <td>39</td>\n      <td>7</td>\n      <td>Male</td>\n      <td>£41,671.00</td>\n    </tr>\n  </tbody>\n</table>\n</div>"
     },
     "execution_count": 2,
     "metadata": {},
     "output_type": "execute_result"
    }
   ],
   "source": [
    "so_survey_df = pd.read_csv('dataset\\Combined_DS_v10.csv')\n",
    "so_survey_df.head()"
   ],
   "metadata": {
    "collapsed": false
   }
  },
  {
   "cell_type": "code",
   "execution_count": 3,
   "outputs": [
    {
     "name": "stdout",
     "output_type": "stream",
     "text": [
      "SurveyDate                     object\n",
      "FormalEducation                object\n",
      "ConvertedSalary               float64\n",
      "Hobby                          object\n",
      "Country                        object\n",
      "StackOverflowJobsRecommend    float64\n",
      "VersionControl                 object\n",
      "Age                             int64\n",
      "Years Experience                int64\n",
      "Gender                         object\n",
      "RawSalary                      object\n",
      "dtype: object\n"
     ]
    }
   ],
   "source": [
    "print(so_survey_df.dtypes)"
   ],
   "metadata": {
    "collapsed": false
   }
  },
  {
   "cell_type": "markdown",
   "source": [
    "## Choosing specific data types\n",
    "\n",
    "Datasets often have columns with multiple data types (like the one you're working with). Most machine learning models require a consistent data type across features. Most feature engineering techniques only work with one type of data at a time. When working with DataFrames, you'll often want to access just certain types of columns.\n",
    "\n"
   ],
   "metadata": {
    "collapsed": false
   }
  },
  {
   "cell_type": "code",
   "execution_count": 4,
   "outputs": [
    {
     "name": "stdout",
     "output_type": "stream",
     "text": [
      "Index(['ConvertedSalary', 'StackOverflowJobsRecommend', 'Age',\n",
      "       'Years Experience'],\n",
      "      dtype='object')\n"
     ]
    }
   ],
   "source": [
    "# Create subset of only the numeric columns\n",
    "so_numeric_df = so_survey_df.select_dtypes(include=['int','float'])\n",
    "\n",
    "# Print the column names contained in so_survey_df_num\n",
    "print(so_numeric_df.columns)"
   ],
   "metadata": {
    "collapsed": false
   }
  },
  {
   "cell_type": "markdown",
   "source": [
    "## Dealing with categorical features\n",
    "\n",
    "    Encoding categorical features\n",
    "        One-hot encoding\n",
    "        Dummy encoding\n",
    "    One-hot vs. dummies\n",
    "        One-hot encoding: Explainable features\n",
    "        Dummy encoding: Necessary information without duplication\n",
    "\n",
    "One-hot encoding and dummy variables\n",
    "\n",
    "To use categorical variables in a machine learning model, you first need to represent them in a quantitative way. The two most common approaches are to one-hot encode the variables using or to use dummy variables. In this exercise, you will create both types of encoding, and compare the created column sets.\n"
   ],
   "metadata": {
    "collapsed": false
   }
  },
  {
   "cell_type": "code",
   "execution_count": 5,
   "outputs": [
    {
     "name": "stdout",
     "output_type": "stream",
     "text": [
      "Index(['SurveyDate', 'FormalEducation', 'ConvertedSalary', 'Hobby',\n",
      "       'StackOverflowJobsRecommend', 'VersionControl', 'Age',\n",
      "       'Years Experience', 'Gender', 'RawSalary', 'OH_France', 'OH_India',\n",
      "       'OH_Ireland', 'OH_Russia', 'OH_South Africa', 'OH_Spain', 'OH_Sweeden',\n",
      "       'OH_UK', 'OH_USA', 'OH_Ukraine'],\n",
      "      dtype='object')\n"
     ]
    }
   ],
   "source": [
    "# Convert the Country column to a one hot encoded Data Frame\n",
    "one_hot_encoded = pd.get_dummies(so_survey_df, columns=['Country'], prefix='OH')\n",
    "\n",
    "# Print the columns names\n",
    "print(one_hot_encoded.columns)"
   ],
   "metadata": {
    "collapsed": false
   }
  },
  {
   "cell_type": "code",
   "execution_count": 6,
   "outputs": [
    {
     "name": "stdout",
     "output_type": "stream",
     "text": [
      "Index(['SurveyDate', 'FormalEducation', 'ConvertedSalary', 'Hobby',\n",
      "       'StackOverflowJobsRecommend', 'VersionControl', 'Age',\n",
      "       'Years Experience', 'Gender', 'RawSalary', 'DM_India', 'DM_Ireland',\n",
      "       'DM_Russia', 'DM_South Africa', 'DM_Spain', 'DM_Sweeden', 'DM_UK',\n",
      "       'DM_USA', 'DM_Ukraine'],\n",
      "      dtype='object')\n"
     ]
    }
   ],
   "source": [
    "# Create dummy variables for the Country column\n",
    "dummy = pd.get_dummies(so_survey_df, columns=['Country'], drop_first=True, prefix='DM')\n",
    "\n",
    "# Print the columns names\n",
    "print(dummy.columns)"
   ],
   "metadata": {
    "collapsed": false
   }
  },
  {
   "cell_type": "markdown",
   "source": [
    "## Dealing with unusual categories\n",
    "\n",
    "There can be a lot of different categories for some features, but they're not evenly distributed. For instance, Data Science's favorite languages include Python, R, and Julia. But some people have their own bespoke choices, like FORTRAN, C, and so on. You might not want to create a feature for every value, but just for the ones that show up most often."
   ],
   "metadata": {
    "collapsed": false
   }
  },
  {
   "cell_type": "code",
   "execution_count": 7,
   "outputs": [
    {
     "name": "stdout",
     "output_type": "stream",
     "text": [
      "South Africa    166\n",
      "USA             164\n",
      "Spain           134\n",
      "Sweeden         119\n",
      "France          115\n",
      "Russia           97\n",
      "UK               95\n",
      "India            95\n",
      "Ukraine           9\n",
      "Ireland           5\n",
      "Name: Country, dtype: int64\n"
     ]
    }
   ],
   "source": [
    "countries = so_survey_df.Country\n",
    "\n",
    "# Get the counts of each category\n",
    "country_counts = countries.value_counts()\n",
    "\n",
    "# Print the count values for each category\n",
    "print(country_counts)"
   ],
   "metadata": {
    "collapsed": false
   }
  },
  {
   "cell_type": "code",
   "execution_count": 8,
   "outputs": [
    {
     "name": "stdout",
     "output_type": "stream",
     "text": [
      "0    False\n",
      "1    False\n",
      "2    False\n",
      "3    False\n",
      "4    False\n",
      "Name: Country, dtype: bool\n"
     ]
    }
   ],
   "source": [
    "mask = countries.isin(country_counts[country_counts < 10].index)\n",
    "\n",
    "# Print the top 5 rows in the mask series\n",
    "print(mask.head())"
   ],
   "metadata": {
    "collapsed": false
   }
  },
  {
   "cell_type": "code",
   "execution_count": 9,
   "outputs": [
    {
     "name": "stdout",
     "output_type": "stream",
     "text": [
      "South Africa    166\n",
      "USA             164\n",
      "Spain           134\n",
      "Sweeden         119\n",
      "France          115\n",
      "Russia           97\n",
      "UK               95\n",
      "India            95\n",
      "Other            14\n",
      "Name: Country, dtype: int64\n"
     ]
    },
    {
     "name": "stderr",
     "output_type": "stream",
     "text": [
      "C:\\Users\\dghr201\\AppData\\Local\\Temp\\ipykernel_37200\\753486482.py:2: SettingWithCopyWarning: \n",
      "A value is trying to be set on a copy of a slice from a DataFrame\n",
      "\n",
      "See the caveats in the documentation: https://pandas.pydata.org/pandas-docs/stable/user_guide/indexing.html#returning-a-view-versus-a-copy\n",
      "  countries[mask] = 'Other'\n"
     ]
    }
   ],
   "source": [
    "# Label all other categories as Other\n",
    "countries[mask] = 'Other'\n",
    "\n",
    "# Print the updated category counts\n",
    "print(countries.value_counts())"
   ],
   "metadata": {
    "collapsed": false
   }
  },
  {
   "cell_type": "markdown",
   "source": [
    "## Numeric variables\n",
    "\n",
    "**Binarizing columns**\n",
    "\n",
    "Even though numeric values can often be used without feature engineering, there will be times when manipulation can be useful. For example, sometimes you don't care about the magnitude of a value, just its direction, or even if it exists. You'll want to binarize a column in these cases. The so_survey_df data has a lot of survey respondents who are working for free (without pay). Adding a new column titled Paid_Job will let you know whether each person is paid (their salary is greater than zero)."
   ],
   "metadata": {
    "collapsed": false
   }
  },
  {
   "cell_type": "code",
   "execution_count": 10,
   "outputs": [
    {
     "name": "stdout",
     "output_type": "stream",
     "text": [
      "   Paid_Job  ConvertedSalary\n",
      "0         0              NaN\n",
      "1         1          70841.0\n",
      "2         0              NaN\n",
      "3         1          21426.0\n",
      "4         1          41671.0\n"
     ]
    }
   ],
   "source": [
    "# Create the Paid_Job column filled with zeros\n",
    "so_survey_df['Paid_Job'] = 0\n",
    "\n",
    "# Replace all the Paid_Job values where ConvertedSalary is > 0\n",
    "so_survey_df.loc[so_survey_df['ConvertedSalary'] > 0, 'Paid_Job'] = 1\n",
    "\n",
    "# Print the first five rows of the columns\n",
    "print(so_survey_df[['Paid_Job', 'ConvertedSalary']].head())"
   ],
   "metadata": {
    "collapsed": false
   }
  },
  {
   "cell_type": "markdown",
   "source": [
    "## Binning values\n",
    "\n",
    "You don't really care about the exact value of a numeric column, but rather the bucket it falls into. You can use this when plotting values or simplifying machine learning models. Most of the time, it's used on continuous variables where accuracy isn't as important e.g. age, height, wages."
   ],
   "metadata": {
    "collapsed": false
   }
  },
  {
   "cell_type": "code",
   "execution_count": 11,
   "outputs": [
    {
     "name": "stdout",
     "output_type": "stream",
     "text": [
      "          equal_binned  ConvertedSalary\n",
      "0                  NaN              NaN\n",
      "1  (-2000.0, 400000.0]          70841.0\n",
      "2                  NaN              NaN\n",
      "3  (-2000.0, 400000.0]          21426.0\n",
      "4  (-2000.0, 400000.0]          41671.0\n"
     ]
    }
   ],
   "source": [
    "# Bin the continuous variable ConvertedSalary into 5 bins\n",
    "so_survey_df['equal_binned'] = pd.cut(so_survey_df['ConvertedSalary'], bins=5)\n",
    "\n",
    "# Print the first 5 rows of the equal_binned column\n",
    "print(so_survey_df[['equal_binned', 'ConvertedSalary']].head())"
   ],
   "metadata": {
    "collapsed": false
   }
  },
  {
   "cell_type": "code",
   "execution_count": 12,
   "outputs": [
    {
     "name": "stdout",
     "output_type": "stream",
     "text": [
      "  boundary_binned  ConvertedSalary\n",
      "0             NaN              NaN\n",
      "1          Medium          70841.0\n",
      "2             NaN              NaN\n",
      "3             Low          21426.0\n",
      "4             Low          41671.0\n"
     ]
    }
   ],
   "source": [
    "# Import numpy\n",
    "import numpy as np\n",
    "\n",
    "# Specify the boundaries of the bins\n",
    "bins = [-np.inf, 10000, 50000, 100000, 150000, np.inf]\n",
    "\n",
    "# Bin labels\n",
    "labels = ['Very low', 'Low', 'Medium', 'High', 'Very high']\n",
    "\n",
    "# Bin the continuous variable ConvertedSalary using these boundaries\n",
    "so_survey_df['boundary_binned'] = pd.cut(so_survey_df['ConvertedSalary'],\n",
    "                                         bins, bins,labels=labels)\n",
    "\n",
    "# Print the first 5 rows of the boundary_binned column\n",
    "print(so_survey_df[['boundary_binned', 'ConvertedSalary']].head())"
   ],
   "metadata": {
    "collapsed": false
   }
  },
  {
   "cell_type": "code",
   "execution_count": null,
   "outputs": [],
   "source": [],
   "metadata": {
    "collapsed": false
   }
  }
 ],
 "metadata": {
  "kernelspec": {
   "display_name": "Python 3",
   "language": "python",
   "name": "python3"
  },
  "language_info": {
   "codemirror_mode": {
    "name": "ipython",
    "version": 2
   },
   "file_extension": ".py",
   "mimetype": "text/x-python",
   "name": "python",
   "nbconvert_exporter": "python",
   "pygments_lexer": "ipython2",
   "version": "2.7.6"
  }
 },
 "nbformat": 4,
 "nbformat_minor": 0
}
