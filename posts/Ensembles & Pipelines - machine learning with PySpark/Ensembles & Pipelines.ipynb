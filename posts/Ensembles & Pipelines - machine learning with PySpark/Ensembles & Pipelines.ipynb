{
 "cells": [
  {
   "cell_type": "markdown",
   "source": [
    "---\n",
    "title: \"Ensembles & Pipelines\"\n",
    "format:\n",
    "  html:\n",
    "    code-fold: true\n",
    "jupyter: python3\n",
    "author: \"kakamana\"\n",
    "date: \"2023-04-11\"\n",
    "categories: [python, datacamp, machine learning, pyspark, ensemble, pipeline]\n",
    "image: \"ensembleAndPipeline.png\"\n",
    "\n",
    "---"
   ],
   "metadata": {
    "collapsed": false
   }
  },
  {
   "cell_type": "markdown",
   "source": [
    "# Ensembles & Pipelines\n",
    "\n",
    "Finally, you will learn how to improve the efficiency of your models. By using pipelines, you will be able to make your code more clear and easier to maintain. To test your models more effectively and select good model parameters, you will use cross-validation. Last but not least, you will experiment with two types of ensemble models.\n",
    "\n",
    "This **Ensembles & Pipelines** is part of [Datacamp course: Machine Learning with PySpark] Spark is a powerful, general-purpose tool for working with large data sets. Spark transparently distributes compute tasks across a cluster. By doing this, operations are fast, but you can also focus on the analysis rather than worry about technical details. This course will teach you how to get data into Spark, and then dive into three fundamental Spark Machine Learning algorithms: Linear Regression, Logistic Regression/Classifiers, and creating pipelines. You will analyze a large dataset of flight delays and spam text messages along the way. With this background, you will be able to harness the power of Spark and apply it to your own Machine Learning projects.\n",
    "\n",
    "This is my learning experience of data science through DataCamp. These repository contributions are part of my learning journey through my graduate program masters of applied data sciences (MADS) at University Of Michigan, [DeepLearning.AI], [Coursera] & [DataCamp]. You can find my similar articles & more stories at my [medium] & [LinkedIn] profile. I am available at [kaggle] & [github blogs] & [github repos]. Thank you for your motivation, support & valuable feedback.\n",
    "\n",
    "These include projects, coursework & notebook which I learned through my data science journey. They are created for reproducible & future reference purpose only. All source code, slides or screenshot are intellactual property of respective content authors. If you find these contents beneficial, kindly consider learning subscription from [DeepLearning.AI Subscription], [Coursera], [DataCamp]\n",
    "\n",
    "\n",
    "\n",
    "[DeepLearning.AI]: https://www.deeplearning.ai\n",
    "[DeepLearning.AI Subscription]: https://www.deeplearning.ai\n",
    "[Coursera]: https://www.coursera.org\n",
    "[DataCamp]: https://www.datacamp.com\n",
    "[medium]: https://medium.com/@kamig4u\n",
    "[LinkedIn]: https://www.linkedin.com/in/asadenterprisearchitect\n",
    "[kaggle]: https://www.kaggle.com/kakamana\n",
    "[github blogs]: https://kakamana.github.io\n",
    "[github repos]: https://github.com/kakamana\n",
    "[Datacamp course: Machine Learning with PySpark]: (https://app.datacamp.com/learn/courses/machine-learning-with-pyspark)"
   ],
   "metadata": {
    "collapsed": false
   }
  },
  {
   "cell_type": "code",
   "execution_count": 1,
   "outputs": [],
   "source": [
    "import pyspark\n",
    "from pyspark.sql import SparkSession\n",
    "\n",
    "import pandas as pd\n",
    "import numpy as np"
   ],
   "metadata": {
    "collapsed": false,
    "ExecuteTime": {
     "start_time": "2023-04-11T01:09:58.945070Z",
     "end_time": "2023-04-11T01:09:59.736883Z"
    }
   }
  },
  {
   "cell_type": "markdown",
   "source": [
    "# Pipeline\n",
    "\n",
    "![](ensemble-1.png)\n",
    "\n",
    "## Flight duration model - Pipeline stages\n",
    "You're going to create the stages for the flights duration model pipeline. You will use these in the next exercise to build a pipeline and to create a regression model."
   ],
   "metadata": {
    "collapsed": false
   }
  },
  {
   "cell_type": "code",
   "execution_count": 2,
   "outputs": [
    {
     "name": "stdout",
     "output_type": "stream",
     "text": [
      "23/04/11 01:11:44 WARN Utils: Your hostname, kamrans-Mac-mini.local resolves to a loopback address: 127.0.0.1; using 192.168.1.18 instead (on interface en1)\n",
      "23/04/11 01:11:44 WARN Utils: Set SPARK_LOCAL_IP if you need to bind to another address\n"
     ]
    },
    {
     "name": "stderr",
     "output_type": "stream",
     "text": [
      "Setting default log level to \"WARN\".\n",
      "To adjust logging level use sc.setLogLevel(newLevel). For SparkR, use setLogLevel(newLevel).\n"
     ]
    },
    {
     "name": "stdout",
     "output_type": "stream",
     "text": [
      "23/04/11 01:11:44 WARN NativeCodeLoader: Unable to load native-hadoop library for your platform... using builtin-java classes where applicable\n",
      "23/04/11 01:11:45 WARN Utils: Service 'SparkUI' could not bind on port 4040. Attempting port 4041.\n",
      "23/04/11 01:11:45 WARN Utils: Service 'SparkUI' could not bind on port 4041. Attempting port 4042.\n",
      "23/04/11 01:11:45 WARN Utils: Service 'SparkUI' could not bind on port 4042. Attempting port 4043.\n",
      "The data contain 275000 records.\n",
      "+---+---+---+-------+------+---+----+------+--------+-----+\n",
      "|mon|dom|dow|carrier|flight|org|mile|depart|duration|delay|\n",
      "+---+---+---+-------+------+---+----+------+--------+-----+\n",
      "| 10| 10|  1|     OO|  5836|ORD| 157|  8.18|      51|   27|\n",
      "|  1|  4|  1|     OO|  5866|ORD| 466|  15.5|     102| null|\n",
      "| 11| 22|  1|     OO|  6016|ORD| 738|  7.17|     127|  -19|\n",
      "|  2| 14|  5|     B6|   199|JFK|2248| 21.17|     365|   60|\n",
      "|  5| 25|  3|     WN|  1675|SJC| 386| 12.92|      85|   22|\n",
      "+---+---+---+-------+------+---+----+------+--------+-----+\n",
      "only showing top 5 rows\n",
      "\n",
      "root\n",
      " |-- mon: integer (nullable = true)\n",
      " |-- dom: integer (nullable = true)\n",
      " |-- dow: integer (nullable = true)\n",
      " |-- carrier: string (nullable = true)\n",
      " |-- flight: integer (nullable = true)\n",
      " |-- org: string (nullable = true)\n",
      " |-- mile: integer (nullable = true)\n",
      " |-- depart: double (nullable = true)\n",
      " |-- duration: integer (nullable = true)\n",
      " |-- delay: integer (nullable = true)\n",
      "\n",
      "None\n",
      "[('mon', 'int'), ('dom', 'int'), ('dow', 'int'), ('carrier', 'string'), ('flight', 'int'), ('org', 'string'), ('mile', 'int'), ('depart', 'double'), ('duration', 'int'), ('delay', 'int')]\n"
     ]
    }
   ],
   "source": [
    "spark = SparkSession.builder.master('local[*]').appName('flights').getOrCreate()\n",
    "\n",
    "# Read data from CSV file\n",
    "flights = spark.read.csv('dataset/flights-larger.csv', sep=',', header=True, inferSchema=True,\n",
    "                         nullValue='NA')\n",
    "\n",
    "# Get number of records\n",
    "print(\"The data contain %d records.\" % flights.count())\n",
    "\n",
    "# View the first five records\n",
    "flights.show(5)\n",
    "\n",
    "# Check column data types\n",
    "print(flights.printSchema())\n",
    "print(flights.dtypes)"
   ],
   "metadata": {
    "collapsed": false,
    "ExecuteTime": {
     "start_time": "2023-04-11T01:11:43.827312Z",
     "end_time": "2023-04-11T01:11:48.903794Z"
    }
   }
  },
  {
   "cell_type": "code",
   "execution_count": 3,
   "outputs": [],
   "source": [
    "from pyspark.sql.functions import round\n",
    "\n",
    "# Convert 'mile' to 'km' and drop 'mile' column\n",
    "flights = flights.withColumn('km', round(flights.mile * 1.60934, 0)).drop('mile')"
   ],
   "metadata": {
    "collapsed": false,
    "ExecuteTime": {
     "start_time": "2023-04-11T01:12:16.165059Z",
     "end_time": "2023-04-11T01:12:16.190368Z"
    }
   }
  },
  {
   "cell_type": "code",
   "execution_count": 4,
   "outputs": [],
   "source": [
    "from pyspark.ml.feature import StringIndexer, OneHotEncoder, VectorAssembler\n",
    "from pyspark.ml.regression import LinearRegression\n",
    "\n",
    "# Convert categorical strings to index values\n",
    "indexer = StringIndexer(inputCol='org', outputCol='org_idx')\n",
    "\n",
    "# One-hot encode index values\n",
    "onehot = OneHotEncoder(\n",
    "    inputCols=['org_idx', 'dow'],\n",
    "    outputCols=['org_dummy', 'dow_dummy']\n",
    ")\n",
    "\n",
    "# Assemble predictors into a single column\n",
    "assembler = VectorAssembler(inputCols=['km', 'org_dummy', 'dow_dummy'], outputCol='features')\n",
    "\n",
    "# A linear regression object\n",
    "regression = LinearRegression(labelCol='duration')"
   ],
   "metadata": {
    "collapsed": false,
    "ExecuteTime": {
     "start_time": "2023-04-11T01:12:32.148574Z",
     "end_time": "2023-04-11T01:12:32.330990Z"
    }
   }
  },
  {
   "cell_type": "markdown",
   "source": [
    "## Flight duration model: Pipeline model\n",
    "You're now ready to put those stages together in a pipeline.\n",
    "\n",
    "You'll construct the pipeline and then train the pipeline on the training data. This will apply each of the individual stages in the pipeline to the training data in turn. None of the stages will be exposed to the testing data at all: there will be no leakage!\n",
    "\n",
    "Once the entire pipeline has been trained it will then be used to make predictions on the testing data."
   ],
   "metadata": {
    "collapsed": false
   }
  },
  {
   "cell_type": "code",
   "execution_count": 5,
   "outputs": [
    {
     "name": "stdout",
     "output_type": "stream",
     "text": [
      "23/04/11 01:14:23 WARN Instrumentation: [8d3fcef9] regParam is zero, which might cause numerical instability and overfitting.\n",
      "23/04/11 01:14:23 WARN InstanceBuilder$JavaBLAS: Failed to load implementation from:dev.ludovic.netlib.blas.VectorBLAS\n",
      "23/04/11 01:14:24 WARN InstanceBuilder$NativeLAPACK: Failed to load implementation from:dev.ludovic.netlib.lapack.JNILAPACK\n"
     ]
    }
   ],
   "source": [
    "from pyspark.ml import Pipeline\n",
    "\n",
    "flights_train, flights_test = flights.randomSplit([0.8, 0.2])\n",
    "\n",
    "# Construct a pipeline\n",
    "pipeline = Pipeline(stages=[indexer, onehot, assembler, regression])\n",
    "\n",
    "# Train the pipeline on the training data\n",
    "pipeline = pipeline.fit(flights_train)\n",
    "\n",
    "# Make predictions on the test data\n",
    "predictions = pipeline.transform(flights_test)"
   ],
   "metadata": {
    "collapsed": false,
    "ExecuteTime": {
     "start_time": "2023-04-11T01:14:22.078679Z",
     "end_time": "2023-04-11T01:14:24.801306Z"
    }
   }
  },
  {
   "cell_type": "markdown",
   "source": [
    "## SMS spam pipeline\n",
    "You haven't looked at the SMS data for quite a while. Last time we did the following:\n",
    "\n",
    "* split the text into tokens\n",
    "* removed stop words\n",
    "* applied the hashing trick\n",
    "* converted the data from counts to IDF and\n",
    "* trained a linear regression model.\n",
    "\n",
    "Each of these steps was done independently. This seems like a great application for a pipeline!"
   ],
   "metadata": {
    "collapsed": false
   }
  },
  {
   "cell_type": "code",
   "execution_count": 6,
   "outputs": [
    {
     "name": "stdout",
     "output_type": "stream",
     "text": [
      "+---+--------------------+-----+\n",
      "| id|                text|label|\n",
      "+---+--------------------+-----+\n",
      "|  1|Sorry, I'll call ...|    0|\n",
      "|  2|Dont worry. I gue...|    0|\n",
      "|  3|Call FREEPHONE 08...|    1|\n",
      "|  4|Win a 1000 cash p...|    1|\n",
      "|  5|Go until jurong p...|    0|\n",
      "+---+--------------------+-----+\n",
      "only showing top 5 rows\n",
      "\n"
     ]
    }
   ],
   "source": [
    "from pyspark.sql.types import StructType, StructField, IntegerType, StringType\n",
    "\n",
    "# Specify column names and types\n",
    "schema = StructType([\n",
    "    StructField(\"id\", IntegerType()),\n",
    "    StructField(\"text\", StringType()),\n",
    "    StructField(\"label\", IntegerType())\n",
    "])\n",
    "\n",
    "# Read data from CSV file\n",
    "sms = spark.read.csv('dataset/sms.csv', sep=';', header=False, schema=schema, nullValue='NA')\n",
    "\n",
    "sms.show(5)"
   ],
   "metadata": {
    "collapsed": false,
    "ExecuteTime": {
     "start_time": "2023-04-11T01:17:18.346268Z",
     "end_time": "2023-04-11T01:17:18.419115Z"
    }
   }
  },
  {
   "cell_type": "code",
   "execution_count": 7,
   "outputs": [],
   "source": [
    "from pyspark.ml.feature import Tokenizer, StopWordsRemover, HashingTF, IDF\n",
    "from pyspark.ml.classification import LogisticRegression\n",
    "\n",
    "# Break text into tokens at non-word characters\n",
    "tokenizer = Tokenizer(inputCol='text', outputCol='words')\n",
    "\n",
    "# Remove stop words\n",
    "remover = StopWordsRemover(inputCol=tokenizer.getOutputCol(), outputCol='terms')\n",
    "\n",
    "# Apply the hashing trick and transform to TF-IDF\n",
    "hasher = HashingTF(inputCol=remover.getOutputCol(), outputCol='hash')\n",
    "idf = IDF(inputCol=hasher.getOutputCol(), outputCol='features')\n",
    "\n",
    "# Create a logistic regression object and add everything to a pipeline\n",
    "logistic = LogisticRegression()\n",
    "pipeline = Pipeline(stages=[tokenizer, remover, hasher, idf, logistic])"
   ],
   "metadata": {
    "collapsed": false,
    "ExecuteTime": {
     "start_time": "2023-04-11T01:17:34.544038Z",
     "end_time": "2023-04-11T01:17:34.608753Z"
    }
   }
  },
  {
   "cell_type": "markdown",
   "source": [
    "# Cross-Validation\n",
    "\n",
    "![](ensemble-2.png)\n",
    "\n",
    "## Cross validating simple flight duration model\n",
    "You've already built a few models for predicting flight duration and evaluated them with a simple train/test split. However, cross-validation provides a much better way to evaluate model performance.\n",
    "\n",
    "In this exercise you're going to train a simple model for flight duration using cross-validation. Travel time is usually strongly correlated with distance, so using the km column alone should give a decent model."
   ],
   "metadata": {
    "collapsed": false
   }
  },
  {
   "cell_type": "code",
   "execution_count": 8,
   "outputs": [
    {
     "name": "stdout",
     "output_type": "stream",
     "text": [
      "+---+---+---+-------+------+---+------+--------+-----+------+--------+\n",
      "|mon|dom|dow|carrier|flight|org|depart|duration|delay|    km|features|\n",
      "+---+---+---+-------+------+---+------+--------+-----+------+--------+\n",
      "| 10| 10|  1|     OO|  5836|ORD|  8.18|      51|   27| 253.0| [253.0]|\n",
      "|  1|  4|  1|     OO|  5866|ORD|  15.5|     102| null| 750.0| [750.0]|\n",
      "| 11| 22|  1|     OO|  6016|ORD|  7.17|     127|  -19|1188.0|[1188.0]|\n",
      "|  2| 14|  5|     B6|   199|JFK| 21.17|     365|   60|3618.0|[3618.0]|\n",
      "|  5| 25|  3|     WN|  1675|SJC| 12.92|      85|   22| 621.0| [621.0]|\n",
      "+---+---+---+-------+------+---+------+--------+-----+------+--------+\n",
      "only showing top 5 rows\n",
      "\n"
     ]
    }
   ],
   "source": [
    "assembler = VectorAssembler(inputCols=['km'], outputCol='features')\n",
    "\n",
    "flights = assembler.transform(flights.drop('features'))\n",
    "\n",
    "flights.show(5)"
   ],
   "metadata": {
    "collapsed": false,
    "ExecuteTime": {
     "start_time": "2023-04-11T01:23:43.308915Z",
     "end_time": "2023-04-11T01:23:43.392566Z"
    }
   }
  },
  {
   "cell_type": "code",
   "execution_count": 9,
   "outputs": [
    {
     "name": "stdout",
     "output_type": "stream",
     "text": [
      "23/04/11 01:25:42 WARN Instrumentation: [9bf6d099] regParam is zero, which might cause numerical instability and overfitting.\n",
      "23/04/11 01:25:42 WARN InstanceBuilder$NativeBLAS: Failed to load implementation from:dev.ludovic.netlib.blas.JNIBLAS\n",
      "23/04/11 01:25:42 WARN InstanceBuilder$NativeBLAS: Failed to load implementation from:dev.ludovic.netlib.blas.ForeignLinkerBLAS\n"
     ]
    },
    {
     "name": "stderr",
     "output_type": "stream",
     "text": [
      "                                                                                \r"
     ]
    },
    {
     "name": "stdout",
     "output_type": "stream",
     "text": [
      "23/04/11 01:25:43 WARN Instrumentation: [27679707] regParam is zero, which might cause numerical instability and overfitting.\n",
      "23/04/11 01:25:44 WARN Instrumentation: [09ebdce0] regParam is zero, which might cause numerical instability and overfitting.\n",
      "23/04/11 01:25:45 WARN Instrumentation: [27307a36] regParam is zero, which might cause numerical instability and overfitting.\n",
      "23/04/11 01:25:46 WARN Instrumentation: [ab50fc5c] regParam is zero, which might cause numerical instability and overfitting.\n",
      "23/04/11 01:25:47 WARN Instrumentation: [9fadf9ca] regParam is zero, which might cause numerical instability and overfitting.\n"
     ]
    }
   ],
   "source": [
    "from pyspark.ml.tuning import ParamGridBuilder, CrossValidator\n",
    "from pyspark.ml.evaluation import RegressionEvaluator\n",
    "\n",
    "flights_train, flights_test = flights.randomSplit([0.8, 0.2])\n",
    "\n",
    "# Create an empty parameter grid\n",
    "params = ParamGridBuilder().build()\n",
    "\n",
    "# Create objects for building and evaluating a regression model\n",
    "regression = LinearRegression(labelCol='duration')\n",
    "evaluator = RegressionEvaluator(labelCol='duration')\n",
    "\n",
    "# Create a cross validator\n",
    "cv = CrossValidator(estimator=regression, estimatorParamMaps=params,\n",
    "                    evaluator=evaluator, numFolds=5)\n",
    "\n",
    "# Train and test model on multiple folds of the training data\n",
    "cv = cv.fit(flights_train)"
   ],
   "metadata": {
    "collapsed": false,
    "ExecuteTime": {
     "start_time": "2023-04-11T01:25:41.996774Z",
     "end_time": "2023-04-11T01:25:48.056386Z"
    }
   }
  },
  {
   "cell_type": "markdown",
   "source": [
    "## Cross validating flight duration model pipeline\n",
    "The cross-validated model that you just built was simple, using km alone to predict duration.\n",
    "\n",
    "Another important predictor of flight duration is the origin airport. Flights generally take longer to get into the air from busy airports. Let's see if adding this predictor improves the model!\n",
    "\n",
    "In this exercise you'll add the org field to the model. However, since org is categorical, there's more work to be done before it can be included: it must first be transformed to an index and then one-hot encoded before being assembled with km and used to build the regression model. We'll wrap these operations up in a pipeline."
   ],
   "metadata": {
    "collapsed": false
   }
  },
  {
   "cell_type": "code",
   "execution_count": 10,
   "outputs": [],
   "source": [
    "params = ParamGridBuilder().build()\n",
    "\n",
    "# Create regression model\n",
    "regression = LinearRegression(labelCol='duration')\n",
    "evaluator = RegressionEvaluator(labelCol='duration')\n",
    "\n",
    "# Create an indexer for the org field\n",
    "indexer = StringIndexer(inputCol='org', outputCol='org_idx')\n",
    "\n",
    "# Create an one-hot encoder for the indexed org field\n",
    "onehot = OneHotEncoder(inputCol='org_idx', outputCol='org_dummy')\n",
    "\n",
    "# Assemble the km and one-hot encoded fields\n",
    "assembler = VectorAssembler(inputCols=['km', 'org_dummy'], outputCol='features')\n",
    "\n",
    "# Create a pipeline and cross-validator\n",
    "pipeline = Pipeline(stages=[indexer, onehot, assembler, regression])\n",
    "cv = CrossValidator(estimator=pipeline,\n",
    "                    estimatorParamMaps=params,\n",
    "                    evaluator=evaluator)"
   ],
   "metadata": {
    "collapsed": false,
    "ExecuteTime": {
     "start_time": "2023-04-11T01:26:11.005203Z",
     "end_time": "2023-04-11T01:26:11.014540Z"
    }
   }
  },
  {
   "cell_type": "markdown",
   "source": [
    "# Grid Search\n",
    "\n",
    "## Optimizing flights linear regression\n",
    "Up until now you've been using the default hyper-parameters when building your models. In this exercise you'll use cross validation to choose an optimal (or close to optimal) set of model hyper-parameters."
   ],
   "metadata": {
    "collapsed": false
   }
  },
  {
   "cell_type": "code",
   "execution_count": 11,
   "outputs": [
    {
     "name": "stdout",
     "output_type": "stream",
     "text": [
      "Number of models to be tested:  12\n"
     ]
    }
   ],
   "source": [
    "params = ParamGridBuilder()\n",
    "\n",
    "# Add grids for two parameters\n",
    "params = params.addGrid(regression.regParam, [0.01, 0.1, 1.0, 10.0])\\\n",
    "               .addGrid(regression.elasticNetParam, [0.0, 0.5, 1.0])\n",
    "\n",
    "# Build the parameter grid\n",
    "params = params.build()\n",
    "print('Number of models to be tested: ', len(params))\n",
    "\n",
    "# Create cross-validator\n",
    "cv = CrossValidator(estimator=pipeline, estimatorParamMaps=params,\n",
    "                    evaluator=evaluator, numFolds=5)"
   ],
   "metadata": {
    "collapsed": false,
    "ExecuteTime": {
     "start_time": "2023-04-11T01:28:44.985840Z",
     "end_time": "2023-04-11T01:28:44.991869Z"
    }
   }
  },
  {
   "cell_type": "markdown",
   "source": [
    "## Dissecting the best flight duration model\n",
    "You just set up a CrossValidator to find good parameters for the linear regression model predicting flight duration.\n",
    "\n",
    "Now you're going to take a closer look at the resulting model, split out the stages and use it to make predictions on the testing data."
   ],
   "metadata": {
    "collapsed": false
   }
  },
  {
   "cell_type": "code",
   "execution_count": 12,
   "outputs": [
    {
     "name": "stderr",
     "output_type": "stream",
     "text": [
      "                                                                                \r"
     ]
    },
    {
     "name": "stdout",
     "output_type": "stream",
     "text": [
      "[StringIndexerModel: uid=StringIndexer_6ba5766c4966, handleInvalid=error, OneHotEncoderModel: uid=OneHotEncoder_7f073152869e, dropLast=true, handleInvalid=error, VectorAssembler_3bc868859403, LinearRegressionModel: uid=LinearRegression_ee4edce3c1eb, numFeatures=8]\n"
     ]
    },
    {
     "data": {
      "text/plain": "11.143207254742897"
     },
     "execution_count": 12,
     "metadata": {},
     "output_type": "execute_result"
    }
   ],
   "source": [
    "flights_train, flights_test = flights.drop('features').randomSplit([0.8, 0.2])\n",
    "\n",
    "# Train the data\n",
    "cvModel = cv.fit(flights_train)\n",
    "\n",
    "# Get the best model from cross validation\n",
    "best_model = cvModel.bestModel\n",
    "\n",
    "# Look at the stages in the best model\n",
    "print(best_model.stages)\n",
    "\n",
    "# Get the parameters for the LinearRegression object in the best model\n",
    "best_model.stages[3].extractParamMap()\n",
    "\n",
    "# Generate predictions on test data using the best model then calculate RMSE\n",
    "predictions = best_model.transform(flights_test)\n",
    "evaluator.evaluate(predictions)"
   ],
   "metadata": {
    "collapsed": false,
    "ExecuteTime": {
     "start_time": "2023-04-11T01:30:12.782560Z",
     "end_time": "2023-04-11T01:30:41.964535Z"
    }
   }
  },
  {
   "cell_type": "markdown",
   "source": [
    "## SMS spam optimized\n",
    "The pipeline you built earlier for the SMS spam model used the default parameters for all of the elements in the pipeline. It's very unlikely that these parameters will give a particularly good model though.\n",
    "\n",
    "In this exercise you'll set up a parameter grid which can be used with cross validation to choose a good set of parameters for the SMS spam classifier."
   ],
   "metadata": {
    "collapsed": false
   }
  },
  {
   "cell_type": "code",
   "execution_count": 13,
   "outputs": [
    {
     "name": "stdout",
     "output_type": "stream",
     "text": [
      "Number of models to be tested:  72\n"
     ]
    }
   ],
   "source": [
    "params = ParamGridBuilder()\n",
    "\n",
    "# Add grid for hashing trick parameters\n",
    "params = params.addGrid(hasher.numFeatures, (1024, 4096, 16384))\\\n",
    "               .addGrid(hasher.binary, (True, False))\n",
    "\n",
    "# Add grid for logistic regression parameters\n",
    "params = params.addGrid(logistic.regParam, (0.01, 0.1, 1.0, 10.0))\\\n",
    "               .addGrid(logistic.elasticNetParam, (0.0, 0.5, 1.0))\n",
    "\n",
    "# Build parameter grid\n",
    "params = params.build()\n",
    "\n",
    "print('Number of models to be tested: ', len(params))"
   ],
   "metadata": {
    "collapsed": false,
    "ExecuteTime": {
     "start_time": "2023-04-11T01:34:12.527173Z",
     "end_time": "2023-04-11T01:34:12.534198Z"
    }
   }
  },
  {
   "cell_type": "markdown",
   "source": [
    "# Ensemble\n",
    "\n",
    "![](ensemble-3.png)\n",
    "\n",
    "* collection of models\n",
    "* Wisdom of the Crowd - collective opinion of a group better than that of a single expert\n",
    "* Random Forest\n",
    "    * an ensemble of Decision Tree\n",
    "    * Creating model diversity\n",
    "        * each tree trained on random subset of data\n",
    "        * random subset of features used for splitting at each node\n",
    "    * No two trees in the forest should be the same\n",
    "* Gradient-Boosted Trees\n",
    "    * Iterative boosting algorithm:\n",
    "    a. Build a Decision Tree and add to ensemble\n",
    "    b. Predict label for each training instance using ensemble\n",
    "    c. Compare predictions with known labels\n",
    "    d. Emphasize training instances with incorrect predictions\n",
    "    e. return to 1."
   ],
   "metadata": {
    "collapsed": false
   }
  },
  {
   "cell_type": "markdown",
   "source": [
    "## Delayed flights with Gradient-Boosted Trees\n",
    "You've previously built a classifier for flights likely to be delayed using a Decision Tree. In this exercise you'll compare a Decision Tree model to a Gradient-Boosted Trees model."
   ],
   "metadata": {
    "collapsed": false
   }
  },
  {
   "cell_type": "code",
   "execution_count": 14,
   "outputs": [
    {
     "name": "stdout",
     "output_type": "stream",
     "text": [
      "+---+------+--------+-----------------+-----+\n",
      "|mon|depart|duration|         features|label|\n",
      "+---+------+--------+-----------------+-----+\n",
      "| 10|  8.18|      51| [10.0,8.18,51.0]|    1|\n",
      "| 11|  7.17|     127|[11.0,7.17,127.0]|    0|\n",
      "|  2| 21.17|     365|[2.0,21.17,365.0]|    1|\n",
      "|  5| 12.92|      85| [5.0,12.92,85.0]|    1|\n",
      "|  3| 13.33|     182|[3.0,13.33,182.0]|    1|\n",
      "+---+------+--------+-----------------+-----+\n",
      "only showing top 5 rows\n",
      "\n"
     ]
    }
   ],
   "source": [
    "from pyspark.ml.classification import RandomForestClassifier, GBTClassifier\n",
    "from pyspark.ml.evaluation import BinaryClassificationEvaluator\n",
    "\n",
    "assembler = VectorAssembler(inputCols=['mon', 'depart', 'duration'], outputCol='features')\n",
    "flights = assembler.transform(flights.drop('features'))\n",
    "flights = flights.withColumn('label', (flights.delay >= 15).cast('integer'))\n",
    "flights = flights.select('mon', 'depart', 'duration', 'features', 'label')\n",
    "flights = flights.dropna()\n",
    "\n",
    "flights.show(5)"
   ],
   "metadata": {
    "collapsed": false,
    "ExecuteTime": {
     "start_time": "2023-04-11T01:39:24.227412Z",
     "end_time": "2023-04-11T01:39:24.315769Z"
    }
   }
  },
  {
   "cell_type": "code",
   "execution_count": 15,
   "outputs": [
    {
     "name": "stderr",
     "output_type": "stream",
     "text": [
      "                                                                                \r"
     ]
    },
    {
     "name": "stdout",
     "output_type": "stream",
     "text": [
      "[DecisionTreeRegressionModel: uid=dtr_da5cb5beddbf, depth=5, numNodes=63, numFeatures=3,\n",
      " DecisionTreeRegressionModel: uid=dtr_9ba36e5b4550, depth=5, numNodes=63, numFeatures=3,\n",
      " DecisionTreeRegressionModel: uid=dtr_b2a777f5a16c, depth=5, numNodes=63, numFeatures=3,\n",
      " DecisionTreeRegressionModel: uid=dtr_209795a3a14f, depth=5, numNodes=63, numFeatures=3,\n",
      " DecisionTreeRegressionModel: uid=dtr_b71c35fabc6b, depth=5, numNodes=63, numFeatures=3,\n",
      " DecisionTreeRegressionModel: uid=dtr_cc236de45a82, depth=5, numNodes=63, numFeatures=3,\n",
      " DecisionTreeRegressionModel: uid=dtr_19450b882bd5, depth=5, numNodes=63, numFeatures=3,\n",
      " DecisionTreeRegressionModel: uid=dtr_515b0f246121, depth=5, numNodes=63, numFeatures=3,\n",
      " DecisionTreeRegressionModel: uid=dtr_37eb7de293be, depth=5, numNodes=63, numFeatures=3,\n",
      " DecisionTreeRegressionModel: uid=dtr_5e7c64f779f3, depth=5, numNodes=63, numFeatures=3,\n",
      " DecisionTreeRegressionModel: uid=dtr_e275675a9245, depth=5, numNodes=63, numFeatures=3,\n",
      " DecisionTreeRegressionModel: uid=dtr_7b15c8d4ff36, depth=5, numNodes=63, numFeatures=3,\n",
      " DecisionTreeRegressionModel: uid=dtr_57fab16b6718, depth=5, numNodes=63, numFeatures=3,\n",
      " DecisionTreeRegressionModel: uid=dtr_55e31beee3e3, depth=5, numNodes=61, numFeatures=3,\n",
      " DecisionTreeRegressionModel: uid=dtr_8db1b1896898, depth=5, numNodes=63, numFeatures=3,\n",
      " DecisionTreeRegressionModel: uid=dtr_013906547839, depth=5, numNodes=63, numFeatures=3,\n",
      " DecisionTreeRegressionModel: uid=dtr_a7e676c3fe85, depth=5, numNodes=63, numFeatures=3,\n",
      " DecisionTreeRegressionModel: uid=dtr_a586a5bf8967, depth=5, numNodes=63, numFeatures=3,\n",
      " DecisionTreeRegressionModel: uid=dtr_3dd45367e24c, depth=5, numNodes=63, numFeatures=3,\n",
      " DecisionTreeRegressionModel: uid=dtr_a5a3ad28722b, depth=5, numNodes=63, numFeatures=3]\n",
      "(3,[0,1,2],[0.3982045188114991,0.3047020752257714,0.29709340596272954])\n"
     ]
    }
   ],
   "source": [
    "from pyspark.ml.classification import DecisionTreeClassifier, GBTClassifier\n",
    "from pyspark.ml.evaluation import BinaryClassificationEvaluator\n",
    "from pprint import pprint\n",
    "\n",
    "flights_train, flights_test = flights.randomSplit([0.8, 0.2])\n",
    "\n",
    "# Create model objects and train on training data\n",
    "tree = DecisionTreeClassifier().fit(flights_train)\n",
    "gbt = GBTClassifier().fit(flights_train)\n",
    "\n",
    "# Compare AUC on test data\n",
    "evaluator = BinaryClassificationEvaluator()\n",
    "evaluator.evaluate(tree.transform(flights_test))\n",
    "evaluator.evaluate(gbt.transform(flights_test))\n",
    "\n",
    "# Find the number of trees and the relative importance of features\n",
    "pprint(gbt.trees)\n",
    "print(gbt.featureImportances)"
   ],
   "metadata": {
    "collapsed": false,
    "ExecuteTime": {
     "start_time": "2023-04-11T01:40:25.093760Z",
     "end_time": "2023-04-11T01:40:33.856578Z"
    }
   }
  },
  {
   "cell_type": "markdown",
   "source": [
    "## Delayed flights with a Random Forest\n",
    "In this exercise you'll bring together cross validation and ensemble methods. You'll be training a Random Forest classifier to predict delayed flights, using cross validation to choose the best values for model parameters.\n",
    "\n",
    "You'll find good values for the following parameters:\n",
    "\n",
    "featureSubsetStrategy — the number of features to consider for splitting at each node and\n",
    "maxDepth — the maximum number of splits along any branch."
   ],
   "metadata": {
    "collapsed": false
   }
  },
  {
   "cell_type": "code",
   "execution_count": 16,
   "outputs": [],
   "source": [
    "from pyspark.ml.classification import RandomForestClassifier\n",
    "\n",
    "# Create a random forest classifier\n",
    "forest = RandomForestClassifier()\n",
    "\n",
    "# Create a parameter grid\n",
    "params = ParamGridBuilder() \\\n",
    "        .addGrid(forest.featureSubsetStrategy, ['all', 'onethird', 'sqrt', 'log2']) \\\n",
    "        .addGrid(forest.maxDepth, [2, 5, 10]) \\\n",
    "        .build()\n",
    "\n",
    "# Create a binary classification evaluator\n",
    "evaluator = BinaryClassificationEvaluator()\n",
    "\n",
    "# Create a cross-validator\n",
    "cv = CrossValidator(estimator=forest, estimatorParamMaps=params,\n",
    "                    evaluator=evaluator, numFolds=5)"
   ],
   "metadata": {
    "collapsed": false,
    "ExecuteTime": {
     "start_time": "2023-04-11T01:43:33.948396Z",
     "end_time": "2023-04-11T01:43:33.962260Z"
    }
   }
  },
  {
   "cell_type": "markdown",
   "source": [
    "## Evaluating Random Forest\n",
    "In this final exercise you'll be evaluating the results of cross-validation on a Random Forest model"
   ],
   "metadata": {
    "collapsed": false
   }
  },
  {
   "cell_type": "code",
   "execution_count": 17,
   "outputs": [
    {
     "name": "stdout",
     "output_type": "stream",
     "text": [
      "23/04/11 01:44:53 WARN DAGScheduler: Broadcasting large task binary with size 1350.9 KiB\n",
      "23/04/11 01:44:53 WARN DAGScheduler: Broadcasting large task binary with size 2.4 MiB\n",
      "23/04/11 01:44:54 WARN DAGScheduler: Broadcasting large task binary with size 1378.0 KiB\n",
      "23/04/11 01:44:58 WARN DAGScheduler: Broadcasting large task binary with size 1524.6 KiB\n",
      "23/04/11 01:45:02 WARN DAGScheduler: Broadcasting large task binary with size 1392.3 KiB\n",
      "23/04/11 01:45:02 WARN DAGScheduler: Broadcasting large task binary with size 2.4 MiB\n",
      "23/04/11 01:45:03 WARN DAGScheduler: Broadcasting large task binary with size 1208.6 KiB\n",
      "23/04/11 01:45:06 WARN DAGScheduler: Broadcasting large task binary with size 1392.3 KiB\n",
      "23/04/11 01:45:06 WARN DAGScheduler: Broadcasting large task binary with size 2.4 MiB\n",
      "23/04/11 01:45:07 WARN DAGScheduler: Broadcasting large task binary with size 1208.6 KiB\n",
      "23/04/11 01:45:11 WARN DAGScheduler: Broadcasting large task binary with size 1355.6 KiB\n",
      "23/04/11 01:45:12 WARN DAGScheduler: Broadcasting large task binary with size 2.4 MiB\n",
      "23/04/11 01:45:12 WARN DAGScheduler: Broadcasting large task binary with size 1355.0 KiB\n",
      "23/04/11 01:45:16 WARN DAGScheduler: Broadcasting large task binary with size 1451.9 KiB\n",
      "23/04/11 01:45:19 WARN DAGScheduler: Broadcasting large task binary with size 1382.8 KiB\n",
      "23/04/11 01:45:20 WARN DAGScheduler: Broadcasting large task binary with size 2.4 MiB\n",
      "23/04/11 01:45:20 WARN DAGScheduler: Broadcasting large task binary with size 1202.0 KiB\n",
      "23/04/11 01:45:24 WARN DAGScheduler: Broadcasting large task binary with size 1382.8 KiB\n",
      "23/04/11 01:45:24 WARN DAGScheduler: Broadcasting large task binary with size 2.4 MiB\n",
      "23/04/11 01:45:25 WARN DAGScheduler: Broadcasting large task binary with size 1202.0 KiB\n",
      "23/04/11 01:45:29 WARN DAGScheduler: Broadcasting large task binary with size 1346.4 KiB\n",
      "23/04/11 01:45:29 WARN DAGScheduler: Broadcasting large task binary with size 2.4 MiB\n",
      "23/04/11 01:45:30 WARN DAGScheduler: Broadcasting large task binary with size 1350.7 KiB\n",
      "23/04/11 01:45:33 WARN DAGScheduler: Broadcasting large task binary with size 1486.4 KiB\n",
      "23/04/11 01:45:37 WARN DAGScheduler: Broadcasting large task binary with size 1386.7 KiB\n",
      "23/04/11 01:45:37 WARN DAGScheduler: Broadcasting large task binary with size 2.4 MiB\n",
      "23/04/11 01:45:38 WARN DAGScheduler: Broadcasting large task binary with size 1213.8 KiB\n",
      "23/04/11 01:45:41 WARN DAGScheduler: Broadcasting large task binary with size 1386.7 KiB\n",
      "23/04/11 01:45:42 WARN DAGScheduler: Broadcasting large task binary with size 2.4 MiB\n",
      "23/04/11 01:45:42 WARN DAGScheduler: Broadcasting large task binary with size 1213.8 KiB\n",
      "23/04/11 01:45:46 WARN DAGScheduler: Broadcasting large task binary with size 1352.6 KiB\n",
      "23/04/11 01:45:46 WARN DAGScheduler: Broadcasting large task binary with size 2.4 MiB\n",
      "23/04/11 01:45:47 WARN DAGScheduler: Broadcasting large task binary with size 1352.5 KiB\n",
      "23/04/11 01:45:50 WARN DAGScheduler: Broadcasting large task binary with size 1455.6 KiB\n",
      "23/04/11 01:45:54 WARN DAGScheduler: Broadcasting large task binary with size 1396.3 KiB\n",
      "23/04/11 01:45:55 WARN DAGScheduler: Broadcasting large task binary with size 2.5 MiB\n",
      "23/04/11 01:45:55 WARN DAGScheduler: Broadcasting large task binary with size 1216.2 KiB\n",
      "23/04/11 01:45:58 WARN DAGScheduler: Broadcasting large task binary with size 1396.3 KiB\n",
      "23/04/11 01:45:59 WARN DAGScheduler: Broadcasting large task binary with size 2.5 MiB\n",
      "23/04/11 01:45:59 WARN DAGScheduler: Broadcasting large task binary with size 1216.2 KiB\n",
      "23/04/11 01:46:03 WARN DAGScheduler: Broadcasting large task binary with size 1340.2 KiB\n",
      "23/04/11 01:46:04 WARN DAGScheduler: Broadcasting large task binary with size 2.4 MiB\n",
      "23/04/11 01:46:04 WARN DAGScheduler: Broadcasting large task binary with size 1333.2 KiB\n",
      "23/04/11 01:46:08 WARN DAGScheduler: Broadcasting large task binary with size 1460.4 KiB\n",
      "23/04/11 01:46:11 WARN DAGScheduler: Broadcasting large task binary with size 1384.7 KiB\n",
      "23/04/11 01:46:12 WARN DAGScheduler: Broadcasting large task binary with size 2.4 MiB\n",
      "23/04/11 01:46:12 WARN DAGScheduler: Broadcasting large task binary with size 1167.4 KiB\n",
      "23/04/11 01:46:15 WARN DAGScheduler: Broadcasting large task binary with size 1384.7 KiB\n",
      "23/04/11 01:46:16 WARN DAGScheduler: Broadcasting large task binary with size 2.4 MiB\n",
      "23/04/11 01:46:16 WARN DAGScheduler: Broadcasting large task binary with size 1167.4 KiB\n",
      "23/04/11 01:46:20 WARN DAGScheduler: Broadcasting large task binary with size 1368.7 KiB\n",
      "23/04/11 01:46:20 WARN DAGScheduler: Broadcasting large task binary with size 2.4 MiB\n",
      "23/04/11 01:46:21 WARN DAGScheduler: Broadcasting large task binary with size 1182.1 KiB\n",
      "0.6838135218254684\n"
     ]
    }
   ],
   "source": [
    "cvModel = cv.fit(flights_train)\n",
    "\n",
    "# Average AUC for each parameter combination in grid\n",
    "avg_auc = cvModel.avgMetrics\n",
    "\n",
    "# Average AUC for the best model\n",
    "best_model_auc = max(avg_auc)\n",
    "\n",
    "# What's the optimal paramter value?\n",
    "opt_max_depth = cvModel.bestModel.explainParam('maxDepth')\n",
    "opt_feat_substrat = cvModel.bestModel.explainParam('featureSubsetStrategy')\n",
    "\n",
    "# AUC for best model on test data\n",
    "best_auc = evaluator.evaluate(cvModel.transform(flights_test))\n",
    "print(best_auc)"
   ],
   "metadata": {
    "collapsed": false,
    "ExecuteTime": {
     "start_time": "2023-04-11T01:44:48.636682Z",
     "end_time": "2023-04-11T01:46:21.455969Z"
    }
   }
  },
  {
   "cell_type": "code",
   "execution_count": null,
   "outputs": [],
   "source": [],
   "metadata": {
    "collapsed": false
   }
  }
 ],
 "metadata": {
  "kernelspec": {
   "display_name": "Python 3",
   "language": "python",
   "name": "python3"
  },
  "language_info": {
   "codemirror_mode": {
    "name": "ipython",
    "version": 2
   },
   "file_extension": ".py",
   "mimetype": "text/x-python",
   "name": "python",
   "nbconvert_exporter": "python",
   "pygments_lexer": "ipython2",
   "version": "2.7.6"
  }
 },
 "nbformat": 4,
 "nbformat_minor": 0
}
