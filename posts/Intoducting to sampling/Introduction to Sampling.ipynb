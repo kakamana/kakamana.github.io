{
 "cells": [
  {
   "cell_type": "markdown",
   "source": [
    "---\n",
    "title: \"Introduction to sampling\"\n",
    "format:\n",
    "  html:\n",
    "    code-fold: true\n",
    "jupyter: python3\n",
    "author: \"kakamana\"\n",
    "date: \"2023-01-08\"\n",
    "categories: [python, datacamp, statistics, machine learning, sampling ]\n",
    "image: \"samplingIntroduction.jpg\"\n",
    "\n",
    "---"
   ],
   "metadata": {
    "collapsed": false,
    "pycharm": {
     "name": "#%% md\n"
    }
   }
  },
  {
   "cell_type": "markdown",
   "source": [
    "# Introduction to sampling\n",
    "\n",
    "Get a better understanding of what sampling is and why it is so powerful. Additionally, We will learn about the problems associated with convenience sampling and what the difference between true randomness and pseudo-randomness is.\n",
    "\n",
    "This **Introduction to sampling** is part of [Datacamp course: Introduction to sampling](https://app.datacamp.com/learn/courses/sampling-in-python)\n",
    "\n",
    "This is my learning experience of data science through DataCamp"
   ],
   "metadata": {
    "collapsed": false,
    "pycharm": {
     "name": "#%% md\n"
    }
   }
  },
  {
   "cell_type": "code",
   "execution_count": 25,
   "outputs": [],
   "source": [
    "# Import seaborn with alias sns\n",
    "import pandas as pd\n",
    "import seaborn as sns\n",
    "import numpy as np\n",
    "\n",
    "# Import matplotlib.pyplot with alias plt\n",
    "import matplotlib.pyplot as plt"
   ],
   "metadata": {
    "collapsed": false,
    "pycharm": {
     "name": "#%%\n"
    }
   }
  },
  {
   "cell_type": "markdown",
   "source": [
    "## Sampling and point estimates\n",
    "\n",
    "* Population: It is complete dataset\n",
    "* Sample: It is subset of data you calculate on\n",
    "\n",
    "Population parameter: It is a calculation on population dataset\n",
    "Points vs. flavor: population\n",
    "pts_vs_flavor_pop = coffee_ratings[[\"total_cup_points\", \"flavor\"]]\n",
    "np.mean(pts_vs_flavor_pop['total_cup_points'])\n",
    "\n",
    "Point estimate: Or sample statistic is a calculation made on sample dataset\n",
    "Points vs. flavor: 10 row sample\n",
    "pts_vs_flavor_samp = pts_vs_flavor_pop.sample(n=10)\n",
    "cup_points_samp = coffee_ratings['total_cup_points'].sample(n=10)\n",
    "np.mean(cup_points_samp)"
   ],
   "metadata": {
    "collapsed": false,
    "pycharm": {
     "name": "#%% md\n"
    }
   }
  },
  {
   "cell_type": "markdown",
   "source": [
    "## Simple sampling with pandas\n",
    "\n",
    "The purpose of this exercise is to explore Spotify song data. There are over 40,000 rows in this population dataset, each representing a song. These columns include the title of the song, the artists who performed it, the release year, and attributes of the song, such as its duration, tempo, and danceability. To begin, you should examine the durations.\n",
    "\n",
    "The Spotify dataset will be sampled and the mean duration of the sample will be compared with the mean duration of the population."
   ],
   "metadata": {
    "collapsed": false,
    "pycharm": {
     "name": "#%% md\n"
    }
   }
  },
  {
   "cell_type": "code",
   "execution_count": 26,
   "outputs": [
    {
     "data": {
      "text/plain": "   acousticness          artists  danceability  duration_ms  duration_minutes  \\\n0       0.97200  ['David Bauer']         0.567     313293.0          5.221550   \n1       0.32100   ['Etta James']         0.821     360240.0          6.004000   \n2       0.00659    ['Quasimoto']         0.706     202507.0          3.375117   \n3       0.00390  ['Millencolin']         0.368     173360.0          2.889333   \n4       0.12200   ['Steve Chou']         0.501     344200.0          5.736667   \n\n   energy  explicit                      id  instrumentalness   key  liveness  \\\n0   0.227       0.0  0w0D8H1ubRerCXHWYJkinO          0.601000  10.0     0.110   \n1   0.418       0.0  4JVeqfE2tpi7Pv63LJZtPh          0.000372   9.0     0.222   \n2   0.602       1.0  5pxtdhLAi0RTh1gNqhGMNA          0.000138  11.0     0.400   \n3   0.977       0.0  3jRsoe4Vkxa4BMYqGHX8L0          0.000000  11.0     0.350   \n4   0.511       0.0  4mronxcllhfyhBRqyZi8kU          0.000000   7.0     0.279   \n\n   loudness  mode                   name  popularity release_date  \\\n0   -13.441   1.0      Shout to the Lord        47.0         2000   \n1    -9.841   0.0               Miss You        51.0   2000-12-12   \n2    -8.306   0.0              Real Eyes        44.0   2000-06-13   \n3    -2.757   0.0  Penguins & Polarbears        52.0   2000-02-22   \n4    -9.836   0.0                     黃昏        53.0   2000-12-25   \n\n   speechiness    tempo  valence    year  \n0       0.0290  136.123   0.0396  2000.0  \n1       0.0407  117.382   0.8030  2000.0  \n2       0.3420   89.692   0.4790  2000.0  \n3       0.1270  165.889   0.5480  2000.0  \n4       0.0291   78.045   0.1130  2000.0  ",
      "text/html": "<div>\n<style scoped>\n    .dataframe tbody tr th:only-of-type {\n        vertical-align: middle;\n    }\n\n    .dataframe tbody tr th {\n        vertical-align: top;\n    }\n\n    .dataframe thead th {\n        text-align: right;\n    }\n</style>\n<table border=\"1\" class=\"dataframe\">\n  <thead>\n    <tr style=\"text-align: right;\">\n      <th></th>\n      <th>acousticness</th>\n      <th>artists</th>\n      <th>danceability</th>\n      <th>duration_ms</th>\n      <th>duration_minutes</th>\n      <th>energy</th>\n      <th>explicit</th>\n      <th>id</th>\n      <th>instrumentalness</th>\n      <th>key</th>\n      <th>liveness</th>\n      <th>loudness</th>\n      <th>mode</th>\n      <th>name</th>\n      <th>popularity</th>\n      <th>release_date</th>\n      <th>speechiness</th>\n      <th>tempo</th>\n      <th>valence</th>\n      <th>year</th>\n    </tr>\n  </thead>\n  <tbody>\n    <tr>\n      <th>0</th>\n      <td>0.97200</td>\n      <td>['David Bauer']</td>\n      <td>0.567</td>\n      <td>313293.0</td>\n      <td>5.221550</td>\n      <td>0.227</td>\n      <td>0.0</td>\n      <td>0w0D8H1ubRerCXHWYJkinO</td>\n      <td>0.601000</td>\n      <td>10.0</td>\n      <td>0.110</td>\n      <td>-13.441</td>\n      <td>1.0</td>\n      <td>Shout to the Lord</td>\n      <td>47.0</td>\n      <td>2000</td>\n      <td>0.0290</td>\n      <td>136.123</td>\n      <td>0.0396</td>\n      <td>2000.0</td>\n    </tr>\n    <tr>\n      <th>1</th>\n      <td>0.32100</td>\n      <td>['Etta James']</td>\n      <td>0.821</td>\n      <td>360240.0</td>\n      <td>6.004000</td>\n      <td>0.418</td>\n      <td>0.0</td>\n      <td>4JVeqfE2tpi7Pv63LJZtPh</td>\n      <td>0.000372</td>\n      <td>9.0</td>\n      <td>0.222</td>\n      <td>-9.841</td>\n      <td>0.0</td>\n      <td>Miss You</td>\n      <td>51.0</td>\n      <td>2000-12-12</td>\n      <td>0.0407</td>\n      <td>117.382</td>\n      <td>0.8030</td>\n      <td>2000.0</td>\n    </tr>\n    <tr>\n      <th>2</th>\n      <td>0.00659</td>\n      <td>['Quasimoto']</td>\n      <td>0.706</td>\n      <td>202507.0</td>\n      <td>3.375117</td>\n      <td>0.602</td>\n      <td>1.0</td>\n      <td>5pxtdhLAi0RTh1gNqhGMNA</td>\n      <td>0.000138</td>\n      <td>11.0</td>\n      <td>0.400</td>\n      <td>-8.306</td>\n      <td>0.0</td>\n      <td>Real Eyes</td>\n      <td>44.0</td>\n      <td>2000-06-13</td>\n      <td>0.3420</td>\n      <td>89.692</td>\n      <td>0.4790</td>\n      <td>2000.0</td>\n    </tr>\n    <tr>\n      <th>3</th>\n      <td>0.00390</td>\n      <td>['Millencolin']</td>\n      <td>0.368</td>\n      <td>173360.0</td>\n      <td>2.889333</td>\n      <td>0.977</td>\n      <td>0.0</td>\n      <td>3jRsoe4Vkxa4BMYqGHX8L0</td>\n      <td>0.000000</td>\n      <td>11.0</td>\n      <td>0.350</td>\n      <td>-2.757</td>\n      <td>0.0</td>\n      <td>Penguins &amp; Polarbears</td>\n      <td>52.0</td>\n      <td>2000-02-22</td>\n      <td>0.1270</td>\n      <td>165.889</td>\n      <td>0.5480</td>\n      <td>2000.0</td>\n    </tr>\n    <tr>\n      <th>4</th>\n      <td>0.12200</td>\n      <td>['Steve Chou']</td>\n      <td>0.501</td>\n      <td>344200.0</td>\n      <td>5.736667</td>\n      <td>0.511</td>\n      <td>0.0</td>\n      <td>4mronxcllhfyhBRqyZi8kU</td>\n      <td>0.000000</td>\n      <td>7.0</td>\n      <td>0.279</td>\n      <td>-9.836</td>\n      <td>0.0</td>\n      <td>黃昏</td>\n      <td>53.0</td>\n      <td>2000-12-25</td>\n      <td>0.0291</td>\n      <td>78.045</td>\n      <td>0.1130</td>\n      <td>2000.0</td>\n    </tr>\n  </tbody>\n</table>\n</div>"
     },
     "execution_count": 26,
     "metadata": {},
     "output_type": "execute_result"
    }
   ],
   "source": [
    "spotify_population=pd.read_feather(\"dataset/spotify_2000_2020.feather\")\n",
    "spotify_population.head()"
   ],
   "metadata": {
    "collapsed": false,
    "pycharm": {
     "name": "#%%\n"
    }
   }
  },
  {
   "cell_type": "code",
   "execution_count": 27,
   "outputs": [
    {
     "name": "stdout",
     "output_type": "stream",
     "text": [
      "       acousticness                                            artists  \\\n",
      "7874        0.66400                                    ['The Walters']   \n",
      "2664        0.01020                    ['Beastie Boys', 'Fatboy Slim']   \n",
      "1683        0.00241                                          ['batta']   \n",
      "14491       0.11400            ['AJ Mitchell', 'Ava Max', 'Sam Feldt']   \n",
      "34495       0.96800                                         ['Yiruma']   \n",
      "...             ...                                                ...   \n",
      "25541       0.85400  ['Andrew Lloyd Webber', 'Patrick Wilson', 'Emm...   \n",
      "904         0.71900                                   ['Carl Carlton']   \n",
      "26932       0.02910                                    ['Cory Asbury']   \n",
      "30144       0.14900                              ['Twenty One Pilots']   \n",
      "12676       0.35000                                  ['Grupo Intenso']   \n",
      "\n",
      "       danceability  duration_ms  duration_minutes  energy  explicit  \\\n",
      "7874          0.747     151683.0          2.528050   0.422       0.0   \n",
      "2664          0.650     248507.0          4.141783   0.942       0.0   \n",
      "1683          0.389     145400.0          2.423333   0.988       0.0   \n",
      "14491         0.732     193548.0          3.225800   0.850       0.0   \n",
      "34495         0.287     218293.0          3.638217   0.292       0.0   \n",
      "...             ...          ...               ...     ...       ...   \n",
      "25541         0.194     294160.0          4.902667   0.119       0.0   \n",
      "904           0.546     153947.0          2.565783   0.828       0.0   \n",
      "26932         0.572     333386.0          5.556433   0.685       0.0   \n",
      "30144         0.550     277013.0          4.616883   0.625       0.0   \n",
      "12676         0.718     219960.0          3.666000   0.529       0.0   \n",
      "\n",
      "                           id  instrumentalness  key  liveness  loudness  \\\n",
      "7874   70QqoQ3krRFUHfEzit7vjT          0.002770  7.0    0.3920   -10.008   \n",
      "2664   2WGGxhsc2WtPNkhsXWVcYb          0.000000  1.0    0.1220    -6.609   \n",
      "1683   5V5akuBxKpIlTUPaueNpyy          0.000615  6.0    0.3460    -1.949   \n",
      "14491  2wenGTypSYHXl1sN1pNC7X          0.000002  1.0    0.0388    -5.999   \n",
      "34495  3xr8COed4nPPn6XWZ0iCGr          0.978000  9.0    0.0900   -19.285   \n",
      "...                       ...               ...  ...       ...       ...   \n",
      "25541  5klrh466oGToybceGHPGAX          0.000737  1.0    0.1090   -20.926   \n",
      "904    5i7rT8lbGzjj1n7TTXR5U8          0.030000  4.0    0.3720    -4.771   \n",
      "26932  0rH0mprtecH3grD9HFM5AD          0.000000  6.0    0.0963    -7.290   \n",
      "30144  4IN3imzEuTsiHO6tOwDQu5          0.000000  1.0    0.1610    -8.213   \n",
      "12676  0l7q7H1zYiJ9XHVqim2Uwc          0.000000  7.0    0.1510    -8.769   \n",
      "\n",
      "       mode                                           name  popularity  \\\n",
      "7874    1.0                                   Goodbye Baby        55.0   \n",
      "2664    1.0  Body Movin' - Fatboy Slim Remix/2005 Remaster        48.0   \n",
      "1683    0.0                                          chase        61.0   \n",
      "14491   1.0   Slow Dance (feat. Ava Max) - Sam Feldt Remix        72.0   \n",
      "34495   1.0                             River Flows in You        62.0   \n",
      "...     ...                                            ...         ...   \n",
      "25541   1.0                               All I Ask Of You        57.0   \n",
      "904     1.0                               Everlasting Love        48.0   \n",
      "26932   1.0                                  Reckless Love        71.0   \n",
      "30144   0.0                                       Trapdoor        56.0   \n",
      "12676   1.0                                         Y Volo        45.0   \n",
      "\n",
      "      release_date  speechiness    tempo  valence    year  \n",
      "7874    2015-10-20       0.0294  111.141   0.5950  2015.0  \n",
      "2664    2005-01-01       0.0754  101.786   0.7850  2005.0  \n",
      "1683    2016-07-27       0.1070  111.975   0.0996  2016.0  \n",
      "14491   2019-10-25       0.0444  124.024   0.3720  2019.0  \n",
      "34495   2011-12-09       0.0541  145.703   0.3460  2011.0  \n",
      "...            ...          ...      ...      ...     ...  \n",
      "25541   2004-12-10       0.0398   85.698   0.1400  2004.0  \n",
      "904     2009-01-01       0.0394  121.418   0.4010  2009.0  \n",
      "26932   2018-01-26       0.0356  110.698   0.2320  2018.0  \n",
      "30144   2009-12-29       0.0399  149.927   0.3170  2009.0  \n",
      "12676   2001-10-16       0.0325  142.069   0.9440  2001.0  \n",
      "\n",
      "[1000 rows x 20 columns]\n"
     ]
    }
   ],
   "source": [
    "# Sample 1000 rows from spotify_population\n",
    "spotify_sample = spotify_population.sample(n=1000)\n",
    "\n",
    "# Print the sample\n",
    "print(spotify_sample)"
   ],
   "metadata": {
    "collapsed": false,
    "pycharm": {
     "name": "#%%\n"
    }
   }
  },
  {
   "cell_type": "code",
   "execution_count": 28,
   "outputs": [
    {
     "name": "stdout",
     "output_type": "stream",
     "text": [
      "3.8521519140900073\n",
      "3.8048647333333334\n",
      "\n",
      " Notice that the mean song duration in the sample is similar, but not identical to the mean song duration in the whole population.\n"
     ]
    }
   ],
   "source": [
    "# Calculate the mean duration in mins from spotify_population\n",
    "mean_dur_pop = spotify_population['duration_minutes'].mean()\n",
    "\n",
    "# Calculate the mean duration in mins from spotify_sample\n",
    "mean_dur_samp = spotify_sample['duration_minutes'].mean()\n",
    "\n",
    "# Print the means\n",
    "print(mean_dur_pop)\n",
    "print(mean_dur_samp)\n",
    "print(\"\\n Notice that the mean song duration in the sample is similar, but not identical to the mean song duration in the whole population.\")"
   ],
   "metadata": {
    "collapsed": false,
    "pycharm": {
     "name": "#%%\n"
    }
   }
  },
  {
   "cell_type": "markdown",
   "source": [
    "## Simple sampling and calculating with NumPy"
   ],
   "metadata": {
    "collapsed": false,
    "pycharm": {
     "name": "#%% md\n"
    }
   }
  },
  {
   "cell_type": "code",
   "execution_count": 29,
   "outputs": [
    {
     "name": "stdout",
     "output_type": "stream",
     "text": [
      "28889   -6.697\n",
      "41542   -3.166\n",
      "24096   -8.327\n",
      "38021   -5.596\n",
      "29360   -3.779\n",
      "         ...  \n",
      "34958   -7.206\n",
      "41513   -7.560\n",
      "28413   -7.113\n",
      "41429   -6.073\n",
      "38857   -4.433\n",
      "Name: loudness, Length: 100, dtype: float64\n"
     ]
    }
   ],
   "source": [
    "# Subset the loudness column of spotify_population\n",
    "loudness_pop = spotify_population['loudness']\n",
    "\n",
    "# Sample 100 values of loudness_pop\n",
    "loudness_samp = loudness_pop.sample(n=100)\n",
    "\n",
    "# Print the sample\n",
    "print(loudness_samp)"
   ],
   "metadata": {
    "collapsed": false,
    "pycharm": {
     "name": "#%%\n"
    }
   }
  },
  {
   "cell_type": "code",
   "execution_count": 30,
   "outputs": [
    {
     "name": "stdout",
     "output_type": "stream",
     "text": [
      "-7.366856851353947\n",
      "-7.385839999999999\n",
      "\n",
      " Again, notice that the calculated value (the mean) is close but not identical in each case\n"
     ]
    }
   ],
   "source": [
    "# Calculate the mean of loudness_pop\n",
    "mean_loudness_pop = np.mean(loudness_pop)\n",
    "\n",
    "# Calculate the mean of loudness_samp\n",
    "mean_loudness_samp = np.mean(loudness_samp)\n",
    "\n",
    "# Print the means\n",
    "print(mean_loudness_pop)\n",
    "print(mean_loudness_samp)\n",
    "print(\"\\n Again, notice that the calculated value (the mean) is close but not identical in each case\")"
   ],
   "metadata": {
    "collapsed": false,
    "pycharm": {
     "name": "#%%\n"
    }
   }
  },
  {
   "cell_type": "markdown",
   "source": [
    "## Convenience sampling\n",
    "Collecting data by easiest method is convenience sampling\n",
    "\n",
    "Sample bias: sample not true representation of population\n",
    "Selection bias"
   ],
   "metadata": {
    "collapsed": false,
    "pycharm": {
     "name": "#%% md\n"
    }
   }
  },
  {
   "cell_type": "markdown",
   "source": [
    "## Are findings from the sample generalizable?\n",
    "\n",
    "In your previous example, you saw that convenience sampling, which is the collection of data using the simplest method, can lead to samples that are not representative of the population. In other words, the findings of the sample cannot be generalized to the entire population. It is possible to determine whether or not a sample is representative of the population by examining the distributions of the population and the sample"
   ],
   "metadata": {
    "collapsed": false,
    "pycharm": {
     "name": "#%% md\n"
    }
   }
  },
  {
   "cell_type": "code",
   "execution_count": 31,
   "outputs": [
    {
     "data": {
      "text/plain": "<Figure size 432x288 with 1 Axes>",
      "image/png": "[encoded data removed]"
     },
     "metadata": {
      "needs_background": "light"
     },
     "output_type": "display_data"
    }
   ],
   "source": [
    "# Visualize the distribution of acousticness with a histogram\n",
    "width = 0.01\n",
    "spotify_population['acousticness'].hist(bins=np.arange(0,1.01,width))\n",
    "plt.show()"
   ],
   "metadata": {
    "collapsed": false,
    "pycharm": {
     "name": "#%%\n"
    }
   }
  },
  {
   "cell_type": "code",
   "execution_count": 32,
   "outputs": [
    {
     "data": {
      "text/plain": "<Figure size 432x288 with 1 Axes>",
      "image/png": "[encoded data removed]"
     },
     "metadata": {
      "needs_background": "light"
     },
     "output_type": "display_data"
    }
   ],
   "source": [
    "spotify_mysterious_sample=spotify_population.sample(n=1107)\n",
    "# Update the histogram to use spotify_mysterious_sample\n",
    "spotify_mysterious_sample['acousticness'].hist(bins=np.arange(0, 1.01, 0.01))\n",
    "plt.show()"
   ],
   "metadata": {
    "collapsed": false,
    "pycharm": {
     "name": "#%%\n"
    }
   }
  },
  {
   "cell_type": "code",
   "execution_count": 33,
   "outputs": [
    {
     "data": {
      "text/plain": "<Figure size 432x288 with 1 Axes>",
      "image/png": "[encoded data removed]"
     },
     "metadata": {
      "needs_background": "light"
     },
     "output_type": "display_data"
    }
   ],
   "source": [
    "# Visualize the distribution of duration_minutes as a histogram\n",
    "spotify_population['duration_minutes'].hist(bins=np.arange(0,15.5,0.5))\n",
    "plt.show()"
   ],
   "metadata": {
    "collapsed": false,
    "pycharm": {
     "name": "#%%\n"
    }
   }
  },
  {
   "cell_type": "code",
   "execution_count": 34,
   "outputs": [
    {
     "data": {
      "text/plain": "<Figure size 432x288 with 1 Axes>",
      "image/png": "[encoded data removed]"
     },
     "metadata": {
      "needs_background": "light"
     },
     "output_type": "display_data"
    }
   ],
   "source": [
    "spotify_mysterious_sample2=spotify_population.sample(n=50)\n",
    "# Update the histogram to use spotify_mysterious_sample2\n",
    "spotify_mysterious_sample2['duration_minutes'].hist(bins=np.arange(0, 15.5, 0.5))\n",
    "plt.show()"
   ],
   "metadata": {
    "collapsed": false,
    "pycharm": {
     "name": "#%%\n"
    }
   }
  },
  {
   "cell_type": "markdown",
   "source": [
    "## Pseudo-random number generation\n"
   ],
   "metadata": {
    "collapsed": false,
    "pycharm": {
     "name": "#%% md\n"
    }
   }
  },
  {
   "cell_type": "code",
   "execution_count": 35,
   "outputs": [
    {
     "name": "stdout",
     "output_type": "stream",
     "text": [
      "[ 0.46978238 -1.66176314  1.31080161 ...  0.27384823  0.57683707\n",
      "  1.94834767]\n"
     ]
    },
    {
     "data": {
      "text/plain": "<Figure size 432x288 with 1 Axes>",
      "image/png": "[encoded data removed]"
     },
     "metadata": {
      "needs_background": "light"
     },
     "output_type": "display_data"
    }
   ],
   "source": [
    "# Generate random numbers from a Uniform(-3, 3)\n",
    "uniforms = np.random.uniform(low=-3, high=3, size=5000)\n",
    "\n",
    "# Print uniforms\n",
    "print(uniforms)\n",
    "\n",
    "# Plot a histogram of uniform values, binwidth 0.25\n",
    "plt.hist(uniforms, bins=np.arange(-3,3.25,0.25))\n",
    "plt.show()"
   ],
   "metadata": {
    "collapsed": false,
    "pycharm": {
     "name": "#%%\n"
    }
   }
  },
  {
   "cell_type": "code",
   "execution_count": 36,
   "outputs": [
    {
     "name": "stdout",
     "output_type": "stream",
     "text": [
      "[0.37088348 5.46510043 5.6804744  ... 5.06268094 7.1989964  4.26078515]\n"
     ]
    },
    {
     "data": {
      "text/plain": "<Figure size 432x288 with 1 Axes>",
      "image/png": "[encoded data removed]"
     },
     "metadata": {
      "needs_background": "light"
     },
     "output_type": "display_data"
    }
   ],
   "source": [
    "# Generate random numbers from a Normal(5, 2)\n",
    "normals = np.random.normal(loc=5,scale=2,size=5000)\n",
    "\n",
    "# Print normals\n",
    "print(normals)\n",
    "\n",
    "# Plot a histogram of normal values, binwidth 0.5\n",
    "plt.hist(normals,np.arange(-2,13.5,0.5))\n",
    "plt.show()"
   ],
   "metadata": {
    "collapsed": false,
    "pycharm": {
     "name": "#%%\n"
    }
   }
  },
  {
   "cell_type": "code",
   "execution_count": 36,
   "outputs": [],
   "source": [],
   "metadata": {
    "collapsed": false,
    "pycharm": {
     "name": "#%%\n"
    }
   }
  },
  {
   "cell_type": "code",
   "execution_count": 36,
   "outputs": [],
   "source": [],
   "metadata": {
    "collapsed": false,
    "pycharm": {
     "name": "#%%\n"
    }
   }
  }
 ],
 "metadata": {
  "kernelspec": {
   "display_name": "Python 3",
   "language": "python",
   "name": "python3"
  },
  "language_info": {
   "codemirror_mode": {
    "name": "ipython",
    "version": 2
   },
   "file_extension": ".py",
   "mimetype": "text/x-python",
   "name": "python",
   "nbconvert_exporter": "python",
   "pygments_lexer": "ipython2",
   "version": "2.7.6"
  }
 },
 "nbformat": 4,
 "nbformat_minor": 0
}