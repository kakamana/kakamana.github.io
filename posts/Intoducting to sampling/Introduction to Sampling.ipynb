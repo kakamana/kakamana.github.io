{
 "cells": [
  {
   "cell_type": "markdown",
   "source": [
    "---\n",
    "title: \"Introduction to sampling\"\n",
    "format:\n",
    "  html:\n",
    "    code-fold: true\n",
    "jupyter: python3\n",
    "author: \"kakamana\"\n",
    "date: \"2023-01-08\"\n",
    "categories: [python, datacamp, statistics, machine learning, linear regression, logistic regression ]\n",
    "image: \"samplingIntroduction.jpg\"\n",
    "\n",
    "---"
   ],
   "metadata": {
    "collapsed": false,
    "pycharm": {
     "name": "#%% md\n"
    }
   }
  },
  {
   "cell_type": "markdown",
   "source": [
    "# Introduction to sampling\n",
    "\n",
    "Get a better understanding of what sampling is and why it is so powerful. Additionally, We will learn about the problems associated with convenience sampling and what the difference between true randomness and pseudo-randomness is.\n",
    "\n",
    "This **Introduction to sampling** is part of [Datacamp course: Introduction to sampling](https://app.datacamp.com/learn/courses/sampling-in-python)\n",
    "\n",
    "This is my learning experience of data science through DataCamp"
   ],
   "metadata": {
    "collapsed": false,
    "pycharm": {
     "name": "#%% md\n"
    }
   }
  },
  {
   "cell_type": "code",
   "execution_count": 9,
   "outputs": [],
   "source": [
    "# Import seaborn with alias sns\n",
    "import pandas as pd\n",
    "import seaborn as sns\n",
    "import numpy as np\n",
    "\n",
    "# Import matplotlib.pyplot with alias plt\n",
    "import matplotlib.pyplot as plt"
   ],
   "metadata": {
    "collapsed": false,
    "pycharm": {
     "name": "#%%\n"
    }
   }
  },
  {
   "cell_type": "markdown",
   "source": [
    "## Sampling and point estimates\n",
    "\n",
    "* Population: It is complete dataset\n",
    "* Sample: It is subset of data you calculate on\n",
    "\n",
    "Population parameter: It is a calculation on population dataset\n",
    "Points vs. flavor: population\n",
    "pts_vs_flavor_pop = coffee_ratings[[\"total_cup_points\", \"flavor\"]]\n",
    "np.mean(pts_vs_flavor_pop['total_cup_points'])\n",
    "\n",
    "Point estimate: Or sample statistic is a calculation made on sample dataset\n",
    "Points vs. flavor: 10 row sample\n",
    "pts_vs_flavor_samp = pts_vs_flavor_pop.sample(n=10)\n",
    "cup_points_samp = coffee_ratings['total_cup_points'].sample(n=10)\n",
    "np.mean(cup_points_samp)"
   ],
   "metadata": {
    "collapsed": false,
    "pycharm": {
     "name": "#%% md\n"
    }
   }
  },
  {
   "cell_type": "markdown",
   "source": [
    "## Simple sampling with pandas\n",
    "\n",
    "The purpose of this exercise is to explore Spotify song data. There are over 40,000 rows in this population dataset, each representing a song. These columns include the title of the song, the artists who performed it, the release year, and attributes of the song, such as its duration, tempo, and danceability. To begin, you should examine the durations.\n",
    "\n",
    "The Spotify dataset will be sampled and the mean duration of the sample will be compared with the mean duration of the population."
   ],
   "metadata": {
    "collapsed": false,
    "pycharm": {
     "name": "#%% md\n"
    }
   }
  },
  {
   "cell_type": "code",
   "execution_count": 10,
   "outputs": [
    {
     "data": {
      "text/plain": "   acousticness          artists  danceability  duration_ms  duration_minutes  \\\n0       0.97200  ['David Bauer']         0.567     313293.0          5.221550   \n1       0.32100   ['Etta James']         0.821     360240.0          6.004000   \n2       0.00659    ['Quasimoto']         0.706     202507.0          3.375117   \n3       0.00390  ['Millencolin']         0.368     173360.0          2.889333   \n4       0.12200   ['Steve Chou']         0.501     344200.0          5.736667   \n\n   energy  explicit                      id  instrumentalness   key  liveness  \\\n0   0.227       0.0  0w0D8H1ubRerCXHWYJkinO          0.601000  10.0     0.110   \n1   0.418       0.0  4JVeqfE2tpi7Pv63LJZtPh          0.000372   9.0     0.222   \n2   0.602       1.0  5pxtdhLAi0RTh1gNqhGMNA          0.000138  11.0     0.400   \n3   0.977       0.0  3jRsoe4Vkxa4BMYqGHX8L0          0.000000  11.0     0.350   \n4   0.511       0.0  4mronxcllhfyhBRqyZi8kU          0.000000   7.0     0.279   \n\n   loudness  mode                   name  popularity release_date  \\\n0   -13.441   1.0      Shout to the Lord        47.0         2000   \n1    -9.841   0.0               Miss You        51.0   2000-12-12   \n2    -8.306   0.0              Real Eyes        44.0   2000-06-13   \n3    -2.757   0.0  Penguins & Polarbears        52.0   2000-02-22   \n4    -9.836   0.0                     黃昏        53.0   2000-12-25   \n\n   speechiness    tempo  valence    year  \n0       0.0290  136.123   0.0396  2000.0  \n1       0.0407  117.382   0.8030  2000.0  \n2       0.3420   89.692   0.4790  2000.0  \n3       0.1270  165.889   0.5480  2000.0  \n4       0.0291   78.045   0.1130  2000.0  ",
      "text/html": "<div>\n<style scoped>\n    .dataframe tbody tr th:only-of-type {\n        vertical-align: middle;\n    }\n\n    .dataframe tbody tr th {\n        vertical-align: top;\n    }\n\n    .dataframe thead th {\n        text-align: right;\n    }\n</style>\n<table border=\"1\" class=\"dataframe\">\n  <thead>\n    <tr style=\"text-align: right;\">\n      <th></th>\n      <th>acousticness</th>\n      <th>artists</th>\n      <th>danceability</th>\n      <th>duration_ms</th>\n      <th>duration_minutes</th>\n      <th>energy</th>\n      <th>explicit</th>\n      <th>id</th>\n      <th>instrumentalness</th>\n      <th>key</th>\n      <th>liveness</th>\n      <th>loudness</th>\n      <th>mode</th>\n      <th>name</th>\n      <th>popularity</th>\n      <th>release_date</th>\n      <th>speechiness</th>\n      <th>tempo</th>\n      <th>valence</th>\n      <th>year</th>\n    </tr>\n  </thead>\n  <tbody>\n    <tr>\n      <th>0</th>\n      <td>0.97200</td>\n      <td>['David Bauer']</td>\n      <td>0.567</td>\n      <td>313293.0</td>\n      <td>5.221550</td>\n      <td>0.227</td>\n      <td>0.0</td>\n      <td>0w0D8H1ubRerCXHWYJkinO</td>\n      <td>0.601000</td>\n      <td>10.0</td>\n      <td>0.110</td>\n      <td>-13.441</td>\n      <td>1.0</td>\n      <td>Shout to the Lord</td>\n      <td>47.0</td>\n      <td>2000</td>\n      <td>0.0290</td>\n      <td>136.123</td>\n      <td>0.0396</td>\n      <td>2000.0</td>\n    </tr>\n    <tr>\n      <th>1</th>\n      <td>0.32100</td>\n      <td>['Etta James']</td>\n      <td>0.821</td>\n      <td>360240.0</td>\n      <td>6.004000</td>\n      <td>0.418</td>\n      <td>0.0</td>\n      <td>4JVeqfE2tpi7Pv63LJZtPh</td>\n      <td>0.000372</td>\n      <td>9.0</td>\n      <td>0.222</td>\n      <td>-9.841</td>\n      <td>0.0</td>\n      <td>Miss You</td>\n      <td>51.0</td>\n      <td>2000-12-12</td>\n      <td>0.0407</td>\n      <td>117.382</td>\n      <td>0.8030</td>\n      <td>2000.0</td>\n    </tr>\n    <tr>\n      <th>2</th>\n      <td>0.00659</td>\n      <td>['Quasimoto']</td>\n      <td>0.706</td>\n      <td>202507.0</td>\n      <td>3.375117</td>\n      <td>0.602</td>\n      <td>1.0</td>\n      <td>5pxtdhLAi0RTh1gNqhGMNA</td>\n      <td>0.000138</td>\n      <td>11.0</td>\n      <td>0.400</td>\n      <td>-8.306</td>\n      <td>0.0</td>\n      <td>Real Eyes</td>\n      <td>44.0</td>\n      <td>2000-06-13</td>\n      <td>0.3420</td>\n      <td>89.692</td>\n      <td>0.4790</td>\n      <td>2000.0</td>\n    </tr>\n    <tr>\n      <th>3</th>\n      <td>0.00390</td>\n      <td>['Millencolin']</td>\n      <td>0.368</td>\n      <td>173360.0</td>\n      <td>2.889333</td>\n      <td>0.977</td>\n      <td>0.0</td>\n      <td>3jRsoe4Vkxa4BMYqGHX8L0</td>\n      <td>0.000000</td>\n      <td>11.0</td>\n      <td>0.350</td>\n      <td>-2.757</td>\n      <td>0.0</td>\n      <td>Penguins &amp; Polarbears</td>\n      <td>52.0</td>\n      <td>2000-02-22</td>\n      <td>0.1270</td>\n      <td>165.889</td>\n      <td>0.5480</td>\n      <td>2000.0</td>\n    </tr>\n    <tr>\n      <th>4</th>\n      <td>0.12200</td>\n      <td>['Steve Chou']</td>\n      <td>0.501</td>\n      <td>344200.0</td>\n      <td>5.736667</td>\n      <td>0.511</td>\n      <td>0.0</td>\n      <td>4mronxcllhfyhBRqyZi8kU</td>\n      <td>0.000000</td>\n      <td>7.0</td>\n      <td>0.279</td>\n      <td>-9.836</td>\n      <td>0.0</td>\n      <td>黃昏</td>\n      <td>53.0</td>\n      <td>2000-12-25</td>\n      <td>0.0291</td>\n      <td>78.045</td>\n      <td>0.1130</td>\n      <td>2000.0</td>\n    </tr>\n  </tbody>\n</table>\n</div>"
     },
     "execution_count": 10,
     "metadata": {},
     "output_type": "execute_result"
    }
   ],
   "source": [
    "spotify_population=pd.read_feather(\"dataset/spotify_2000_2020.feather\")\n",
    "spotify_population.head()"
   ],
   "metadata": {
    "collapsed": false,
    "pycharm": {
     "name": "#%%\n"
    }
   }
  },
  {
   "cell_type": "code",
   "execution_count": 11,
   "outputs": [
    {
     "name": "stdout",
     "output_type": "stream",
     "text": [
      "       acousticness                        artists  danceability  duration_ms  \\\n",
      "23850      0.001130                  ['Lil Wayne']         0.769     199427.0   \n",
      "41092      0.121000  ['Justin Bieber', 'Big Sean']         0.644     286853.0   \n",
      "25592      0.000120                     ['O.A.R.']         0.652     207493.0   \n",
      "15256      0.974000          [\"Dustin O'Halloran\"]         0.429     188400.0   \n",
      "40880      0.280000       ['Two Door Cinema Club']         0.731     286093.0   \n",
      "...             ...                            ...           ...          ...   \n",
      "5239       0.082500               ['Matt and Kim']         0.549     212560.0   \n",
      "37135      0.354000                         ['NF']         0.501     221573.0   \n",
      "36982      0.244000               ['Lil Uzi Vert']         0.626     248175.0   \n",
      "38148      0.562000    ['Tego Calderon', 'Yandel']         0.848     184480.0   \n",
      "40085      0.000078                  ['Rammstein']         0.496     235627.0   \n",
      "\n",
      "       duration_minutes  energy  explicit                      id  \\\n",
      "23850          3.323783  0.6600       1.0  58PWl2rA7lU90UBvDufzWm   \n",
      "41092          4.780883  0.5950       0.0  23UV8pJEvRnAZd6ZAXBC0H   \n",
      "25592          3.458217  0.7070       0.0  7n9GxM3guijiK2isLfUgJt   \n",
      "15256          3.140000  0.0245       0.0  6CngZA32wwYDbfY0f3pVj2   \n",
      "40880          4.768217  0.7300       0.0  7GDDxCiTyiQuC1kig8AqFH   \n",
      "...                 ...     ...       ...                     ...   \n",
      "5239           3.542667  0.8820       0.0  7vLeZPIeblZLz04hLRRAES   \n",
      "37135          3.692883  0.3540       0.0  0wf9rSX8ds3yEI2gf2QdPs   \n",
      "36982          4.136250  0.7700       1.0  2p2DLGuXtnLLClzpmKkyCx   \n",
      "38148          3.074667  0.8010       1.0  4UxD6L5uah5Dvzs5kQwThG   \n",
      "40085          3.927117  0.9340       0.0  4hLS1e3mrL0gbm8BqX1VvN   \n",
      "\n",
      "       instrumentalness   key  liveness  loudness  mode  \\\n",
      "23850          0.000000   9.0    0.0780    -7.375   1.0   \n",
      "41092          0.000000   1.0    0.2790    -6.877   1.0   \n",
      "25592          0.000003   4.0    0.4850    -4.552   1.0   \n",
      "15256          0.917000   5.0    0.1100   -31.444   1.0   \n",
      "40880          0.000000   7.0    0.0880    -6.728   1.0   \n",
      "...                 ...   ...       ...       ...   ...   \n",
      "5239           0.000000   7.0    0.3720    -4.911   1.0   \n",
      "37135          0.000003  11.0    0.1110   -13.031   0.0   \n",
      "36982          0.000000   2.0    0.2290    -6.368   1.0   \n",
      "38148          0.000011  10.0    0.0624    -6.821   1.0   \n",
      "40085          0.344000   5.0    0.1150    -5.305   1.0   \n",
      "\n",
      "                         name  popularity release_date  speechiness    tempo  \\\n",
      "23850                  3 Peat        58.0   2008-06-10       0.3310  153.092   \n",
      "41092             No Pressure        63.0   2015-11-13       0.2150  148.889   \n",
      "25592       Love and Memories        55.0   2005-10-04       0.0297  121.998   \n",
      "15256                 Opus 23        44.0   2006-10-10       0.0364   71.187   \n",
      "40880   Next Year - RAC Remix        50.0   2013-01-01       0.0489  123.051   \n",
      "...                       ...         ...          ...          ...      ...   \n",
      "5239                  Cameras        46.0   2010-11-02       0.0505  169.994   \n",
      "37135                  Dreams        65.0   2017-10-06       0.1770   86.289   \n",
      "36982                 Enemies        57.0   2015-12-18       0.2500  155.738   \n",
      "38148  Cuando Baila Reggaeton        55.0   2006-08-29       0.1020   95.027   \n",
      "40085         TE QUIERO PUTA!        53.0   2005-10-27       0.1450  159.931   \n",
      "\n",
      "       valence    year  \n",
      "23850    0.471  2008.0  \n",
      "41092    0.554  2015.0  \n",
      "25592    0.655  2005.0  \n",
      "15256    0.197  2006.0  \n",
      "40880    0.397  2013.0  \n",
      "...        ...     ...  \n",
      "5239     0.645  2010.0  \n",
      "37135    0.301  2017.0  \n",
      "36982    0.478  2015.0  \n",
      "38148    0.908  2006.0  \n",
      "40085    0.268  2005.0  \n",
      "\n",
      "[1000 rows x 20 columns]\n"
     ]
    }
   ],
   "source": [
    "# Sample 1000 rows from spotify_population\n",
    "spotify_sample = spotify_population.sample(n=1000)\n",
    "\n",
    "# Print the sample\n",
    "print(spotify_sample)"
   ],
   "metadata": {
    "collapsed": false,
    "pycharm": {
     "name": "#%%\n"
    }
   }
  },
  {
   "cell_type": "code",
   "execution_count": 12,
   "outputs": [
    {
     "name": "stdout",
     "output_type": "stream",
     "text": [
      "3.8521519140900073\n",
      "3.8350666166666665\n",
      "\n",
      " Notice that the mean song duration in the sample is similar, but not identical to the mean song duration in the whole population.\n"
     ]
    }
   ],
   "source": [
    "# Calculate the mean duration in mins from spotify_population\n",
    "mean_dur_pop = spotify_population['duration_minutes'].mean()\n",
    "\n",
    "# Calculate the mean duration in mins from spotify_sample\n",
    "mean_dur_samp = spotify_sample['duration_minutes'].mean()\n",
    "\n",
    "# Print the means\n",
    "print(mean_dur_pop)\n",
    "print(mean_dur_samp)\n",
    "print(\"\\n Notice that the mean song duration in the sample is similar, but not identical to the mean song duration in the whole population.\")"
   ],
   "metadata": {
    "collapsed": false,
    "pycharm": {
     "name": "#%%\n"
    }
   }
  },
  {
   "cell_type": "markdown",
   "source": [
    "## Simple sampling and calculating with NumPy"
   ],
   "metadata": {
    "collapsed": false,
    "pycharm": {
     "name": "#%% md\n"
    }
   }
  },
  {
   "cell_type": "code",
   "execution_count": 13,
   "outputs": [
    {
     "name": "stdout",
     "output_type": "stream",
     "text": [
      "9068     -9.554\n",
      "16607   -26.071\n",
      "6391    -10.661\n",
      "29709    -4.182\n",
      "32548    -3.494\n",
      "          ...  \n",
      "11177    -5.791\n",
      "18327    -6.229\n",
      "35183    -5.448\n",
      "3999    -11.212\n",
      "38095    -6.221\n",
      "Name: loudness, Length: 100, dtype: float64\n"
     ]
    }
   ],
   "source": [
    "# Subset the loudness column of spotify_population\n",
    "loudness_pop = spotify_population['loudness']\n",
    "\n",
    "# Sample 100 values of loudness_pop\n",
    "loudness_samp = loudness_pop.sample(n=100)\n",
    "\n",
    "# Print the sample\n",
    "print(loudness_samp)"
   ],
   "metadata": {
    "collapsed": false,
    "pycharm": {
     "name": "#%%\n"
    }
   }
  },
  {
   "cell_type": "code",
   "execution_count": 15,
   "outputs": [
    {
     "name": "stdout",
     "output_type": "stream",
     "text": [
      "-7.366856851353947\n",
      "-7.382759999999999\n",
      "\n",
      " Again, notice that the calculated value (the mean) is close but not identical in each case\n"
     ]
    }
   ],
   "source": [
    "# Calculate the mean of loudness_pop\n",
    "mean_loudness_pop = np.mean(loudness_pop)\n",
    "\n",
    "# Calculate the mean of loudness_samp\n",
    "mean_loudness_samp = np.mean(loudness_samp)\n",
    "\n",
    "# Print the means\n",
    "print(mean_loudness_pop)\n",
    "print(mean_loudness_samp)\n",
    "print(\"\\n Again, notice that the calculated value (the mean) is close but not identical in each case\")"
   ],
   "metadata": {
    "collapsed": false,
    "pycharm": {
     "name": "#%%\n"
    }
   }
  },
  {
   "cell_type": "markdown",
   "source": [
    "## Convenience sampling\n",
    "Collecting data by easiest method is convenience sampling\n",
    "\n",
    "Sample bias: sample not true representation of population\n",
    "Selection bias"
   ],
   "metadata": {
    "collapsed": false,
    "pycharm": {
     "name": "#%% md\n"
    }
   }
  },
  {
   "cell_type": "markdown",
   "source": [
    "## Are findings from the sample generalizable?\n",
    "\n",
    "In your previous example, you saw that convenience sampling, which is the collection of data using the simplest method, can lead to samples that are not representative of the population. In other words, the findings of the sample cannot be generalized to the entire population. It is possible to determine whether or not a sample is representative of the population by examining the distributions of the population and the sample"
   ],
   "metadata": {
    "collapsed": false,
    "pycharm": {
     "name": "#%% md\n"
    }
   }
  },
  {
   "cell_type": "code",
   "execution_count": 16,
   "outputs": [
    {
     "data": {
      "text/plain": "<Figure size 432x288 with 1 Axes>",
      "image/png": "[encoded data removed]"
     },
     "metadata": {
      "needs_background": "light"
     },
     "output_type": "display_data"
    }
   ],
   "source": [
    "# Visualize the distribution of acousticness with a histogram\n",
    "width = 0.01\n",
    "spotify_population['acousticness'].hist(bins=np.arange(0,1.01,width))\n",
    "plt.show()"
   ],
   "metadata": {
    "collapsed": false,
    "pycharm": {
     "name": "#%%\n"
    }
   }
  },
  {
   "cell_type": "code",
   "execution_count": 17,
   "outputs": [
    {
     "data": {
      "text/plain": "<Figure size 432x288 with 1 Axes>",
      "image/png": "[encoded data removed]"
     },
     "metadata": {
      "needs_background": "light"
     },
     "output_type": "display_data"
    }
   ],
   "source": [
    "spotify_mysterious_sample=spotify_population.sample(n=1107)\n",
    "# Update the histogram to use spotify_mysterious_sample\n",
    "spotify_mysterious_sample['acousticness'].hist(bins=np.arange(0, 1.01, 0.01))\n",
    "plt.show()"
   ],
   "metadata": {
    "collapsed": false,
    "pycharm": {
     "name": "#%%\n"
    }
   }
  },
  {
   "cell_type": "code",
   "execution_count": 18,
   "outputs": [
    {
     "data": {
      "text/plain": "<Figure size 432x288 with 1 Axes>",
      "image/png": "[encoded data removed]"
     },
     "metadata": {
      "needs_background": "light"
     },
     "output_type": "display_data"
    }
   ],
   "source": [
    "# Visualize the distribution of duration_minutes as a histogram\n",
    "spotify_population['duration_minutes'].hist(bins=np.arange(0,15.5,0.5))\n",
    "plt.show()"
   ],
   "metadata": {
    "collapsed": false,
    "pycharm": {
     "name": "#%%\n"
    }
   }
  },
  {
   "cell_type": "code",
   "execution_count": 19,
   "outputs": [
    {
     "data": {
      "text/plain": "<Figure size 432x288 with 1 Axes>",
      "image/png": "[encoded data removed]"
     },
     "metadata": {
      "needs_background": "light"
     },
     "output_type": "display_data"
    }
   ],
   "source": [
    "spotify_mysterious_sample2=spotify_population.sample(n=50)\n",
    "# Update the histogram to use spotify_mysterious_sample2\n",
    "spotify_mysterious_sample2['duration_minutes'].hist(bins=np.arange(0, 15.5, 0.5))\n",
    "plt.show()"
   ],
   "metadata": {
    "collapsed": false,
    "pycharm": {
     "name": "#%%\n"
    }
   }
  },
  {
   "cell_type": "markdown",
   "source": [
    "## Pseudo-random number generation\n"
   ],
   "metadata": {
    "collapsed": false,
    "pycharm": {
     "name": "#%% md\n"
    }
   }
  },
  {
   "cell_type": "code",
   "execution_count": 23,
   "outputs": [
    {
     "name": "stdout",
     "output_type": "stream",
     "text": [
      "[-2.12436214  0.26133352  2.10798367 ... -2.25488851 -1.16266127\n",
      " -1.16448391]\n"
     ]
    },
    {
     "data": {
      "text/plain": "<Figure size 432x288 with 1 Axes>",
      "image/png": "[encoded data removed]"
     },
     "metadata": {
      "needs_background": "light"
     },
     "output_type": "display_data"
    }
   ],
   "source": [
    "# Generate random numbers from a Uniform(-3, 3)\n",
    "uniforms = np.random.uniform(low=-3, high=3, size=5000)\n",
    "\n",
    "# Print uniforms\n",
    "print(uniforms)\n",
    "\n",
    "# Plot a histogram of uniform values, binwidth 0.25\n",
    "plt.hist(uniforms, bins=np.arange(-3,3.25,0.25))\n",
    "plt.show()"
   ],
   "metadata": {
    "collapsed": false,
    "pycharm": {
     "name": "#%%\n"
    }
   }
  },
  {
   "cell_type": "code",
   "execution_count": 24,
   "outputs": [
    {
     "name": "stdout",
     "output_type": "stream",
     "text": [
      "[2.06050457 2.77955126 1.88655315 ... 6.44834334 6.68448638 7.13942115]\n"
     ]
    },
    {
     "data": {
      "text/plain": "<Figure size 432x288 with 1 Axes>",
      "image/png": "[encoded data removed]"
     },
     "metadata": {
      "needs_background": "light"
     },
     "output_type": "display_data"
    }
   ],
   "source": [
    "# Generate random numbers from a Normal(5, 2)\n",
    "normals = np.random.normal(loc=5,scale=2,size=5000)\n",
    "\n",
    "# Print normals\n",
    "print(normals)\n",
    "\n",
    "# Plot a histogram of normal values, binwidth 0.5\n",
    "plt.hist(normals,np.arange(-2,13.5,0.5))\n",
    "plt.show()"
   ],
   "metadata": {
    "collapsed": false,
    "pycharm": {
     "name": "#%%\n"
    }
   }
  },
  {
   "cell_type": "code",
   "execution_count": 22,
   "outputs": [
    {
     "data": {
      "text/plain": "<Figure size 432x288 with 1 Axes>",
      "image/png": "[encoded data removed]"
     },
     "metadata": {
      "needs_background": "light"
     },
     "output_type": "display_data"
    }
   ],
   "source": [],
   "metadata": {
    "collapsed": false,
    "pycharm": {
     "name": "#%%\n"
    }
   }
  },
  {
   "cell_type": "code",
   "execution_count": null,
   "outputs": [],
   "source": [],
   "metadata": {
    "collapsed": false,
    "pycharm": {
     "name": "#%%\n"
    }
   }
  }
 ],
 "metadata": {
  "kernelspec": {
   "display_name": "Python 3",
   "language": "python",
   "name": "python3"
  },
  "language_info": {
   "codemirror_mode": {
    "name": "ipython",
    "version": 2
   },
   "file_extension": ".py",
   "mimetype": "text/x-python",
   "name": "python",
   "nbconvert_exporter": "python",
   "pygments_lexer": "ipython2",
   "version": "2.7.6"
  }
 },
 "nbformat": 4,
 "nbformat_minor": 0
}