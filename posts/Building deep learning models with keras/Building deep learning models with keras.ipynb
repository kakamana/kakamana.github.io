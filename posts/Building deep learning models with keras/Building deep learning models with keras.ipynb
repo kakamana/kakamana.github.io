{
 "cells": [
  {
   "cell_type": "markdown",
   "source": [
    "---\n",
    "title: \"Building deep learning models with keras\"\n",
    "format:\n",
    "  html:\n",
    "    code-fold: true\n",
    "jupyter: python3\n",
    "author: \"kakamana\"\n",
    "date: \"2023-04-05\"\n",
    "categories: [python, datacamp, machine learning, deep learning, keras]\n",
    "image: \"buildingDeepLearningModelWithKeras.png\"\n",
    "\n",
    "---"
   ],
   "metadata": {
    "collapsed": false
   }
  },
  {
   "cell_type": "markdown",
   "source": [
    "# Building deep learning models with keras\n",
    "\n",
    "Throughout this chapter, you will build deep learning models for both regression and classification using the Keras library. In this chapter, you will learn about the Specify-Compile-Fit workflow, which can be used to make predictions, and by the end of the chapter, you will have all the tools necessary to construct deep neural networks.\n",
    "\n",
    "This **Building deep learning models with keras** is part of [Datacamp course: Introduction to Deep Learning in Python] In a wide range of fields such as robotics, natural language processing, image recognition, and artificial intelligence, including AlphaGo, deep learning is the technique behind the most exciting capabilities. As part of this course, you will gain hands-on, practical experience using deep learning with Keras 2.0, the latest version of a cutting-edge Python library for deep learning.\n",
    "\n",
    "This is my learning experience of data science through DataCamp. These repository contributions are part of my learning journey through my graduate program masters of applied data sciences (MADS) at University Of Michigan, [DeepLearning.AI], [Coursera] & [DataCamp]. You can find my similar articles & more stories at my [medium] & [LinkedIn] profile. I am available at [kaggle] & [github blogs] & [github repos]. Thank you for your motivation, support & valuable feedback.\n",
    "\n",
    "These include projects, coursework & notebook which I learned through my data science journey. They are created for reproducible & future reference purpose only. All source code, slides or screenshot are intellactual property of respective content authors. If you find these contents beneficial, kindly consider learning subscription from [DeepLearning.AI Subscription], [Coursera], [DataCamp]\n",
    "\n",
    "\n",
    "\n",
    "[DeepLearning.AI]: https://www.deeplearning.ai\n",
    "[DeepLearning.AI Subscription]: https://www.deeplearning.ai\n",
    "[Coursera]: https://www.coursera.org\n",
    "[DataCamp]: https://www.datacamp.com\n",
    "[medium]: https://medium.com/@kamig4u\n",
    "[LinkedIn]: https://www.linkedin.com/in/asadenterprisearchitect\n",
    "[kaggle]: https://www.kaggle.com/kakamana\n",
    "[github blogs]: https://kakamana.github.io\n",
    "[github repos]: https://github.com/kakamana\n",
    "[Datacamp course: Introduction to Natural Language Processing in Python]: (https://app.datacamp.com/learn/courses/introduction-to-deep-learning-in-python)"
   ],
   "metadata": {
    "collapsed": false
   }
  },
  {
   "cell_type": "code",
   "execution_count": 1,
   "outputs": [],
   "source": [
    "import numpy as np\n",
    "import pandas as pd\n",
    "import matplotlib.pyplot as plt\n",
    "\n",
    "plt.rcParams['figure.figsize'] = (8, 8)"
   ],
   "metadata": {
    "collapsed": false
   }
  },
  {
   "cell_type": "markdown",
   "source": [
    "# Creating a keras model\n",
    "\n",
    "* Model building steps\n",
    "    * Specify Architecture\n",
    "    * Compile\n",
    "    * Fit\n",
    "    * Predict"
   ],
   "metadata": {
    "collapsed": false
   }
  },
  {
   "cell_type": "markdown",
   "source": [
    "## Understanding your data\n",
    "\n",
    "it's good to understand your data by performing some exploratory analysis."
   ],
   "metadata": {
    "collapsed": false
   }
  },
  {
   "cell_type": "code",
   "execution_count": 2,
   "outputs": [
    {
     "data": {
      "text/plain": "   wage_per_hour  union  education_yrs  experience_yrs  age  female  marr  \\\n0           5.10      0              8              21   35       1     1   \n1           4.95      0              9              42   57       1     1   \n2           6.67      0             12               1   19       0     0   \n3           4.00      0             12               4   22       0     0   \n4           7.50      0             12              17   35       0     1   \n\n   south  manufacturing  construction  \n0      0              1             0  \n1      0              1             0  \n2      0              1             0  \n3      0              0             0  \n4      0              0             0  ",
      "text/html": "<div>\n<style scoped>\n    .dataframe tbody tr th:only-of-type {\n        vertical-align: middle;\n    }\n\n    .dataframe tbody tr th {\n        vertical-align: top;\n    }\n\n    .dataframe thead th {\n        text-align: right;\n    }\n</style>\n<table border=\"1\" class=\"dataframe\">\n  <thead>\n    <tr style=\"text-align: right;\">\n      <th></th>\n      <th>wage_per_hour</th>\n      <th>union</th>\n      <th>education_yrs</th>\n      <th>experience_yrs</th>\n      <th>age</th>\n      <th>female</th>\n      <th>marr</th>\n      <th>south</th>\n      <th>manufacturing</th>\n      <th>construction</th>\n    </tr>\n  </thead>\n  <tbody>\n    <tr>\n      <th>0</th>\n      <td>5.10</td>\n      <td>0</td>\n      <td>8</td>\n      <td>21</td>\n      <td>35</td>\n      <td>1</td>\n      <td>1</td>\n      <td>0</td>\n      <td>1</td>\n      <td>0</td>\n    </tr>\n    <tr>\n      <th>1</th>\n      <td>4.95</td>\n      <td>0</td>\n      <td>9</td>\n      <td>42</td>\n      <td>57</td>\n      <td>1</td>\n      <td>1</td>\n      <td>0</td>\n      <td>1</td>\n      <td>0</td>\n    </tr>\n    <tr>\n      <th>2</th>\n      <td>6.67</td>\n      <td>0</td>\n      <td>12</td>\n      <td>1</td>\n      <td>19</td>\n      <td>0</td>\n      <td>0</td>\n      <td>0</td>\n      <td>1</td>\n      <td>0</td>\n    </tr>\n    <tr>\n      <th>3</th>\n      <td>4.00</td>\n      <td>0</td>\n      <td>12</td>\n      <td>4</td>\n      <td>22</td>\n      <td>0</td>\n      <td>0</td>\n      <td>0</td>\n      <td>0</td>\n      <td>0</td>\n    </tr>\n    <tr>\n      <th>4</th>\n      <td>7.50</td>\n      <td>0</td>\n      <td>12</td>\n      <td>17</td>\n      <td>35</td>\n      <td>0</td>\n      <td>1</td>\n      <td>0</td>\n      <td>0</td>\n      <td>0</td>\n    </tr>\n  </tbody>\n</table>\n</div>"
     },
     "execution_count": 2,
     "metadata": {},
     "output_type": "execute_result"
    }
   ],
   "source": [
    "df = pd.read_csv('dataset/hourly_wages.csv')\n",
    "df.head()"
   ],
   "metadata": {
    "collapsed": false
   }
  },
  {
   "cell_type": "code",
   "execution_count": 3,
   "outputs": [
    {
     "data": {
      "text/plain": "       wage_per_hour       union  education_yrs  experience_yrs         age  \\\ncount     534.000000  534.000000     534.000000      534.000000  534.000000   \nmean        9.024064    0.179775      13.018727       17.822097   36.833333   \nstd         5.139097    0.384360       2.615373       12.379710   11.726573   \nmin         1.000000    0.000000       2.000000        0.000000   18.000000   \n25%         5.250000    0.000000      12.000000        8.000000   28.000000   \n50%         7.780000    0.000000      12.000000       15.000000   35.000000   \n75%        11.250000    0.000000      15.000000       26.000000   44.000000   \nmax        44.500000    1.000000      18.000000       55.000000   64.000000   \n\n           female        marr       south  manufacturing  construction  \ncount  534.000000  534.000000  534.000000     534.000000    534.000000  \nmean     0.458801    0.655431    0.292135       0.185393      0.044944  \nstd      0.498767    0.475673    0.455170       0.388981      0.207375  \nmin      0.000000    0.000000    0.000000       0.000000      0.000000  \n25%      0.000000    0.000000    0.000000       0.000000      0.000000  \n50%      0.000000    1.000000    0.000000       0.000000      0.000000  \n75%      1.000000    1.000000    1.000000       0.000000      0.000000  \nmax      1.000000    1.000000    1.000000       1.000000      1.000000  ",
      "text/html": "<div>\n<style scoped>\n    .dataframe tbody tr th:only-of-type {\n        vertical-align: middle;\n    }\n\n    .dataframe tbody tr th {\n        vertical-align: top;\n    }\n\n    .dataframe thead th {\n        text-align: right;\n    }\n</style>\n<table border=\"1\" class=\"dataframe\">\n  <thead>\n    <tr style=\"text-align: right;\">\n      <th></th>\n      <th>wage_per_hour</th>\n      <th>union</th>\n      <th>education_yrs</th>\n      <th>experience_yrs</th>\n      <th>age</th>\n      <th>female</th>\n      <th>marr</th>\n      <th>south</th>\n      <th>manufacturing</th>\n      <th>construction</th>\n    </tr>\n  </thead>\n  <tbody>\n    <tr>\n      <th>count</th>\n      <td>534.000000</td>\n      <td>534.000000</td>\n      <td>534.000000</td>\n      <td>534.000000</td>\n      <td>534.000000</td>\n      <td>534.000000</td>\n      <td>534.000000</td>\n      <td>534.000000</td>\n      <td>534.000000</td>\n      <td>534.000000</td>\n    </tr>\n    <tr>\n      <th>mean</th>\n      <td>9.024064</td>\n      <td>0.179775</td>\n      <td>13.018727</td>\n      <td>17.822097</td>\n      <td>36.833333</td>\n      <td>0.458801</td>\n      <td>0.655431</td>\n      <td>0.292135</td>\n      <td>0.185393</td>\n      <td>0.044944</td>\n    </tr>\n    <tr>\n      <th>std</th>\n      <td>5.139097</td>\n      <td>0.384360</td>\n      <td>2.615373</td>\n      <td>12.379710</td>\n      <td>11.726573</td>\n      <td>0.498767</td>\n      <td>0.475673</td>\n      <td>0.455170</td>\n      <td>0.388981</td>\n      <td>0.207375</td>\n    </tr>\n    <tr>\n      <th>min</th>\n      <td>1.000000</td>\n      <td>0.000000</td>\n      <td>2.000000</td>\n      <td>0.000000</td>\n      <td>18.000000</td>\n      <td>0.000000</td>\n      <td>0.000000</td>\n      <td>0.000000</td>\n      <td>0.000000</td>\n      <td>0.000000</td>\n    </tr>\n    <tr>\n      <th>25%</th>\n      <td>5.250000</td>\n      <td>0.000000</td>\n      <td>12.000000</td>\n      <td>8.000000</td>\n      <td>28.000000</td>\n      <td>0.000000</td>\n      <td>0.000000</td>\n      <td>0.000000</td>\n      <td>0.000000</td>\n      <td>0.000000</td>\n    </tr>\n    <tr>\n      <th>50%</th>\n      <td>7.780000</td>\n      <td>0.000000</td>\n      <td>12.000000</td>\n      <td>15.000000</td>\n      <td>35.000000</td>\n      <td>0.000000</td>\n      <td>1.000000</td>\n      <td>0.000000</td>\n      <td>0.000000</td>\n      <td>0.000000</td>\n    </tr>\n    <tr>\n      <th>75%</th>\n      <td>11.250000</td>\n      <td>0.000000</td>\n      <td>15.000000</td>\n      <td>26.000000</td>\n      <td>44.000000</td>\n      <td>1.000000</td>\n      <td>1.000000</td>\n      <td>1.000000</td>\n      <td>0.000000</td>\n      <td>0.000000</td>\n    </tr>\n    <tr>\n      <th>max</th>\n      <td>44.500000</td>\n      <td>1.000000</td>\n      <td>18.000000</td>\n      <td>55.000000</td>\n      <td>64.000000</td>\n      <td>1.000000</td>\n      <td>1.000000</td>\n      <td>1.000000</td>\n      <td>1.000000</td>\n      <td>1.000000</td>\n    </tr>\n  </tbody>\n</table>\n</div>"
     },
     "execution_count": 3,
     "metadata": {},
     "output_type": "execute_result"
    }
   ],
   "source": [
    "df.describe()"
   ],
   "metadata": {
    "collapsed": false
   }
  },
  {
   "cell_type": "markdown",
   "source": [
    "## Specifying a model\n",
    "\n",
    "Now that you have worked with your first Keras model, you will be able to run more complex neural network models on larger datasets than you were able to do in the first two chapters.\n",
    "\n",
    "To begin, you will take the skeleton of a neural network and add a hidden layer and an output layer. Following the fitting, Keras will perform the optimization so that your model continues to improve.\n",
    "\n",
    "As a starting point, you will predict workers' wages based on factors such as their industry, education, and level of experience. A pandas dataframe called df contains the dataset. Everything in df except for the target has been converted to a NumPy matrix called predictors for convenience. In NumPy, wage_per_hour is available as a matrix called target."
   ],
   "metadata": {
    "collapsed": false
   }
  },
  {
   "cell_type": "code",
   "execution_count": 4,
   "outputs": [],
   "source": [
    "import tensorflow as tf\n",
    "\n",
    "predictors = df.iloc[:, 1:].to_numpy()\n",
    "target = df.iloc[:, 0].to_numpy()"
   ],
   "metadata": {
    "collapsed": false
   }
  },
  {
   "cell_type": "code",
   "execution_count": 5,
   "outputs": [
    {
     "name": "stdout",
     "output_type": "stream",
     "text": [
      "Metal device set to: Apple M2 Pro\n"
     ]
    }
   ],
   "source": [
    "n_cols = predictors.shape[1]\n",
    "\n",
    "# Set up the model: model\n",
    "model = tf.keras.Sequential()\n",
    "\n",
    "# Add the first layer\n",
    "model.add(tf.keras.layers.Dense(50, activation='relu', input_shape=(n_cols, )))\n",
    "\n",
    "# Add the second layer\n",
    "model.add(tf.keras.layers.Dense(32, activation='relu'))\n",
    "\n",
    "# Add the output layer\n",
    "model.add(tf.keras.layers.Dense(1))"
   ],
   "metadata": {
    "collapsed": false
   }
  },
  {
   "cell_type": "markdown",
   "source": [
    "# Compiling and fitting a model\n",
    "\n",
    "* Why you need to compile your model\n",
    "    * Specify the optimizer\n",
    "        * Many options and mathematically complex\n",
    "        * \"Adam\" is usually a good choice\n",
    "    * Loss function\n",
    "        * \"mean_squared_error\"\n",
    "* Fitting a model\n",
    "    * Applying backpropagation and gradient descent with your data to update the weights\n",
    "    * Scaling data before fitting can ease optimization\n",
    "\n",
    "## Compiling the model\n",
    "\n",
    "You're now going to compile the model you specified earlier. To compile the model, you need to specify the optimizer and loss function to use. You can read more about 'adam' optimizer as well as other keras optimizers [here], and if you are really curious to learn more, you can read the [original paper] that introduced the Adam optimizer.\n",
    "\n",
    "[here]: https://keras.io/optimizers/#adam\n",
    "[original paper]: https://arxiv.org/abs/1412.6980v8\n"
   ],
   "metadata": {
    "collapsed": false
   }
  },
  {
   "cell_type": "code",
   "execution_count": 6,
   "outputs": [
    {
     "name": "stdout",
     "output_type": "stream",
     "text": [
      "Loss function: mean_squared_error\n"
     ]
    }
   ],
   "source": [
    "model.compile(optimizer='adam', loss='mean_squared_error')\n",
    "\n",
    "# Verify that model contains information from compiling\n",
    "print(\"Loss function: \" + model.loss)"
   ],
   "metadata": {
    "collapsed": false
   }
  },
  {
   "cell_type": "markdown",
   "source": [
    "## Fitting the model\n",
    "\n",
    "You have reached the most exciting part of the process. The model will now be fitted. It is important to recall that the data to be used as predictive features is loaded into a NumPy array called predictors, while the data to be predicted is stored in a NumPy array called target"
   ],
   "metadata": {
    "collapsed": false
   }
  },
  {
   "cell_type": "code",
   "execution_count": 7,
   "outputs": [
    {
     "name": "stdout",
     "output_type": "stream",
     "text": [
      "Epoch 1/10\n"
     ]
    },
    {
     "name": "stderr",
     "output_type": "stream",
     "text": [
      "2023-04-06 00:03:18.217275: W tensorflow/tsl/platform/profile_utils/cpu_utils.cc:128] Failed to get CPU frequency: 0 Hz\n"
     ]
    },
    {
     "name": "stdout",
     "output_type": "stream",
     "text": [
      "17/17 [==============================] - 2s 14ms/step - loss: 94.7410\n",
      "Epoch 2/10\n",
      "17/17 [==============================] - 0s 4ms/step - loss: 30.0728\n",
      "Epoch 3/10\n",
      "17/17 [==============================] - 0s 4ms/step - loss: 26.5535\n",
      "Epoch 4/10\n",
      "17/17 [==============================] - 0s 4ms/step - loss: 23.3664\n",
      "Epoch 5/10\n",
      "17/17 [==============================] - 0s 4ms/step - loss: 22.3079\n",
      "Epoch 6/10\n",
      "17/17 [==============================] - 0s 4ms/step - loss: 21.9069\n",
      "Epoch 7/10\n",
      "17/17 [==============================] - 0s 4ms/step - loss: 21.7943\n",
      "Epoch 8/10\n",
      "17/17 [==============================] - 0s 4ms/step - loss: 21.6478\n",
      "Epoch 9/10\n",
      "17/17 [==============================] - 0s 4ms/step - loss: 21.4921\n",
      "Epoch 10/10\n",
      "17/17 [==============================] - 0s 4ms/step - loss: 21.5042\n"
     ]
    }
   ],
   "source": [
    "model.fit(predictors, target, epochs=10);"
   ],
   "metadata": {
    "collapsed": false
   }
  },
  {
   "cell_type": "markdown",
   "source": [
    "# Classification models\n",
    "\n",
    "* Classification\n",
    "    * categorical_crossentropy loss function\n",
    "    * Similar to log loss: Lower is better\n",
    "    * Add metrics=['accuracy'] to compile step for easy-to-understand diagnostics\n",
    "    * Output layers has separate node for each possible outcome, and uses softmax activation\n",
    "\n",
    "## Understanding your classification data\n",
    "\n",
    "Now you will start modeling with a new dataset for a classification problem. This data includes information about passengers on the Titanic. You will use predictors such as age, fare and where each passenger embarked from to predict who will survive. This data is from a [tutorial on data science competitions]. Look [here] for descriptions of the features.\n",
    "\n",
    "[tutorial on data science competitions]: https://www.kaggle.com/c/titanic\n",
    "[here]: https://www.kaggle.com/c/titanic/data"
   ],
   "metadata": {
    "collapsed": false
   }
  },
  {
   "cell_type": "code",
   "execution_count": 8,
   "outputs": [
    {
     "data": {
      "text/plain": "   survived  pclass   age  sibsp  parch     fare  male  age_was_missing  \\\n0         0       3  22.0      1      0   7.2500     1            False   \n1         1       1  38.0      1      0  71.2833     0            False   \n2         1       3  26.0      0      0   7.9250     0            False   \n3         1       1  35.0      1      0  53.1000     0            False   \n4         0       3  35.0      0      0   8.0500     1            False   \n\n   embarked_from_cherbourg  embarked_from_queenstown  \\\n0                        0                         0   \n1                        1                         0   \n2                        0                         0   \n3                        0                         0   \n4                        0                         0   \n\n   embarked_from_southampton  \n0                          1  \n1                          0  \n2                          1  \n3                          1  \n4                          1  ",
      "text/html": "<div>\n<style scoped>\n    .dataframe tbody tr th:only-of-type {\n        vertical-align: middle;\n    }\n\n    .dataframe tbody tr th {\n        vertical-align: top;\n    }\n\n    .dataframe thead th {\n        text-align: right;\n    }\n</style>\n<table border=\"1\" class=\"dataframe\">\n  <thead>\n    <tr style=\"text-align: right;\">\n      <th></th>\n      <th>survived</th>\n      <th>pclass</th>\n      <th>age</th>\n      <th>sibsp</th>\n      <th>parch</th>\n      <th>fare</th>\n      <th>male</th>\n      <th>age_was_missing</th>\n      <th>embarked_from_cherbourg</th>\n      <th>embarked_from_queenstown</th>\n      <th>embarked_from_southampton</th>\n    </tr>\n  </thead>\n  <tbody>\n    <tr>\n      <th>0</th>\n      <td>0</td>\n      <td>3</td>\n      <td>22.0</td>\n      <td>1</td>\n      <td>0</td>\n      <td>7.2500</td>\n      <td>1</td>\n      <td>False</td>\n      <td>0</td>\n      <td>0</td>\n      <td>1</td>\n    </tr>\n    <tr>\n      <th>1</th>\n      <td>1</td>\n      <td>1</td>\n      <td>38.0</td>\n      <td>1</td>\n      <td>0</td>\n      <td>71.2833</td>\n      <td>0</td>\n      <td>False</td>\n      <td>1</td>\n      <td>0</td>\n      <td>0</td>\n    </tr>\n    <tr>\n      <th>2</th>\n      <td>1</td>\n      <td>3</td>\n      <td>26.0</td>\n      <td>0</td>\n      <td>0</td>\n      <td>7.9250</td>\n      <td>0</td>\n      <td>False</td>\n      <td>0</td>\n      <td>0</td>\n      <td>1</td>\n    </tr>\n    <tr>\n      <th>3</th>\n      <td>1</td>\n      <td>1</td>\n      <td>35.0</td>\n      <td>1</td>\n      <td>0</td>\n      <td>53.1000</td>\n      <td>0</td>\n      <td>False</td>\n      <td>0</td>\n      <td>0</td>\n      <td>1</td>\n    </tr>\n    <tr>\n      <th>4</th>\n      <td>0</td>\n      <td>3</td>\n      <td>35.0</td>\n      <td>0</td>\n      <td>0</td>\n      <td>8.0500</td>\n      <td>1</td>\n      <td>False</td>\n      <td>0</td>\n      <td>0</td>\n      <td>1</td>\n    </tr>\n  </tbody>\n</table>\n</div>"
     },
     "execution_count": 8,
     "metadata": {},
     "output_type": "execute_result"
    }
   ],
   "source": [
    "df = pd.read_csv('dataset/titanic_all_numeric.csv')\n",
    "df.head()"
   ],
   "metadata": {
    "collapsed": false
   }
  },
  {
   "cell_type": "code",
   "execution_count": 9,
   "outputs": [
    {
     "data": {
      "text/plain": "         survived      pclass         age       sibsp       parch        fare  \\\ncount  891.000000  891.000000  891.000000  891.000000  891.000000  891.000000   \nmean     0.383838    2.308642   29.699118    0.523008    0.381594   32.204208   \nstd      0.486592    0.836071   13.002015    1.102743    0.806057   49.693429   \nmin      0.000000    1.000000    0.420000    0.000000    0.000000    0.000000   \n25%      0.000000    2.000000   22.000000    0.000000    0.000000    7.910400   \n50%      0.000000    3.000000   29.699118    0.000000    0.000000   14.454200   \n75%      1.000000    3.000000   35.000000    1.000000    0.000000   31.000000   \nmax      1.000000    3.000000   80.000000    8.000000    6.000000  512.329200   \n\n             male  embarked_from_cherbourg  embarked_from_queenstown  \\\ncount  891.000000               891.000000                891.000000   \nmean     0.647587                 0.188552                  0.086420   \nstd      0.477990                 0.391372                  0.281141   \nmin      0.000000                 0.000000                  0.000000   \n25%      0.000000                 0.000000                  0.000000   \n50%      1.000000                 0.000000                  0.000000   \n75%      1.000000                 0.000000                  0.000000   \nmax      1.000000                 1.000000                  1.000000   \n\n       embarked_from_southampton  \ncount                 891.000000  \nmean                    0.722783  \nstd                     0.447876  \nmin                     0.000000  \n25%                     0.000000  \n50%                     1.000000  \n75%                     1.000000  \nmax                     1.000000  ",
      "text/html": "<div>\n<style scoped>\n    .dataframe tbody tr th:only-of-type {\n        vertical-align: middle;\n    }\n\n    .dataframe tbody tr th {\n        vertical-align: top;\n    }\n\n    .dataframe thead th {\n        text-align: right;\n    }\n</style>\n<table border=\"1\" class=\"dataframe\">\n  <thead>\n    <tr style=\"text-align: right;\">\n      <th></th>\n      <th>survived</th>\n      <th>pclass</th>\n      <th>age</th>\n      <th>sibsp</th>\n      <th>parch</th>\n      <th>fare</th>\n      <th>male</th>\n      <th>embarked_from_cherbourg</th>\n      <th>embarked_from_queenstown</th>\n      <th>embarked_from_southampton</th>\n    </tr>\n  </thead>\n  <tbody>\n    <tr>\n      <th>count</th>\n      <td>891.000000</td>\n      <td>891.000000</td>\n      <td>891.000000</td>\n      <td>891.000000</td>\n      <td>891.000000</td>\n      <td>891.000000</td>\n      <td>891.000000</td>\n      <td>891.000000</td>\n      <td>891.000000</td>\n      <td>891.000000</td>\n    </tr>\n    <tr>\n      <th>mean</th>\n      <td>0.383838</td>\n      <td>2.308642</td>\n      <td>29.699118</td>\n      <td>0.523008</td>\n      <td>0.381594</td>\n      <td>32.204208</td>\n      <td>0.647587</td>\n      <td>0.188552</td>\n      <td>0.086420</td>\n      <td>0.722783</td>\n    </tr>\n    <tr>\n      <th>std</th>\n      <td>0.486592</td>\n      <td>0.836071</td>\n      <td>13.002015</td>\n      <td>1.102743</td>\n      <td>0.806057</td>\n      <td>49.693429</td>\n      <td>0.477990</td>\n      <td>0.391372</td>\n      <td>0.281141</td>\n      <td>0.447876</td>\n    </tr>\n    <tr>\n      <th>min</th>\n      <td>0.000000</td>\n      <td>1.000000</td>\n      <td>0.420000</td>\n      <td>0.000000</td>\n      <td>0.000000</td>\n      <td>0.000000</td>\n      <td>0.000000</td>\n      <td>0.000000</td>\n      <td>0.000000</td>\n      <td>0.000000</td>\n    </tr>\n    <tr>\n      <th>25%</th>\n      <td>0.000000</td>\n      <td>2.000000</td>\n      <td>22.000000</td>\n      <td>0.000000</td>\n      <td>0.000000</td>\n      <td>7.910400</td>\n      <td>0.000000</td>\n      <td>0.000000</td>\n      <td>0.000000</td>\n      <td>0.000000</td>\n    </tr>\n    <tr>\n      <th>50%</th>\n      <td>0.000000</td>\n      <td>3.000000</td>\n      <td>29.699118</td>\n      <td>0.000000</td>\n      <td>0.000000</td>\n      <td>14.454200</td>\n      <td>1.000000</td>\n      <td>0.000000</td>\n      <td>0.000000</td>\n      <td>1.000000</td>\n    </tr>\n    <tr>\n      <th>75%</th>\n      <td>1.000000</td>\n      <td>3.000000</td>\n      <td>35.000000</td>\n      <td>1.000000</td>\n      <td>0.000000</td>\n      <td>31.000000</td>\n      <td>1.000000</td>\n      <td>0.000000</td>\n      <td>0.000000</td>\n      <td>1.000000</td>\n    </tr>\n    <tr>\n      <th>max</th>\n      <td>1.000000</td>\n      <td>3.000000</td>\n      <td>80.000000</td>\n      <td>8.000000</td>\n      <td>6.000000</td>\n      <td>512.329200</td>\n      <td>1.000000</td>\n      <td>1.000000</td>\n      <td>1.000000</td>\n      <td>1.000000</td>\n    </tr>\n  </tbody>\n</table>\n</div>"
     },
     "execution_count": 9,
     "metadata": {},
     "output_type": "execute_result"
    }
   ],
   "source": [
    "df.describe()"
   ],
   "metadata": {
    "collapsed": false
   }
  },
  {
   "cell_type": "markdown",
   "source": [
    "## Last steps in classification models\n",
    "You'll now create a classification model using the titanic dataset, which has been pre-loaded into a DataFrame called df. You'll take information about the passengers and predict which ones survived.\n",
    "\n",
    "The predictive variables are stored in a NumPy array predictors. The target to predict is in df.survived, though you'll have to manipulate it for keras. The number of predictive features is stored in n_cols.\n",
    "\n",
    "Here, you'll use the 'sgd' optimizer, which stands for [Stochastic Gradient Descent]\n",
    "\n",
    "[Stochastic Gradient Descent]: https://en.wikipedia.org/wiki/Stochastic_gradient_descent"
   ],
   "metadata": {
    "collapsed": false
   }
  },
  {
   "cell_type": "code",
   "execution_count": 10,
   "outputs": [],
   "source": [
    "predictors = df.iloc[:, 1:].astype(np.float32).to_numpy()\n",
    "target = df.survived.astype(np.float32).to_numpy()\n",
    "n_cols = predictors.shape[1]"
   ],
   "metadata": {
    "collapsed": false
   }
  },
  {
   "cell_type": "code",
   "execution_count": 11,
   "outputs": [
    {
     "name": "stdout",
     "output_type": "stream",
     "text": [
      "Epoch 1/10\n",
      "28/28 [==============================] - 1s 12ms/step - loss: 2.9438 - accuracy: 0.5859\n",
      "Epoch 2/10\n",
      "28/28 [==============================] - 0s 6ms/step - loss: 0.8443 - accuracy: 0.6588\n",
      "Epoch 3/10\n",
      "28/28 [==============================] - 0s 6ms/step - loss: 0.7318 - accuracy: 0.6790\n",
      "Epoch 4/10\n",
      "28/28 [==============================] - 0s 6ms/step - loss: 0.6796 - accuracy: 0.6936\n",
      "Epoch 5/10\n",
      "28/28 [==============================] - 0s 7ms/step - loss: 0.6132 - accuracy: 0.6992\n",
      "Epoch 6/10\n",
      "28/28 [==============================] - 0s 6ms/step - loss: 0.6118 - accuracy: 0.6936\n",
      "Epoch 7/10\n",
      "28/28 [==============================] - 0s 6ms/step - loss: 0.6035 - accuracy: 0.6992\n",
      "Epoch 8/10\n",
      "28/28 [==============================] - 0s 7ms/step - loss: 0.5826 - accuracy: 0.7015\n",
      "Epoch 9/10\n",
      "28/28 [==============================] - 0s 6ms/step - loss: 0.5817 - accuracy: 0.6970\n",
      "Epoch 10/10\n",
      "28/28 [==============================] - 0s 6ms/step - loss: 0.5917 - accuracy: 0.6891\n"
     ]
    }
   ],
   "source": [
    "from tensorflow.keras.utils import to_categorical\n",
    "\n",
    "# Convert the target to categorical: target\n",
    "target = to_categorical(target)\n",
    "\n",
    "# Set up the model\n",
    "model = tf.keras.Sequential()\n",
    "\n",
    "# Add the first layer\n",
    "model.add(tf.keras.layers.Dense(32, activation='relu', input_shape=(n_cols, )))\n",
    "\n",
    "# Add the second layer\n",
    "model.add(tf.keras.layers.Dense(2, activation='softmax'))\n",
    "\n",
    "# Compile the model\n",
    "model.compile(optimizer='sgd', loss='categorical_crossentropy', metrics=['accuracy'])\n",
    "\n",
    "# Fit the model\n",
    "model.fit(predictors, target, epochs=10);\n"
   ],
   "metadata": {
    "collapsed": false
   }
  },
  {
   "cell_type": "markdown",
   "source": [
    "# Using models\n",
    "\n",
    "* Using models\n",
    "    * Save\n",
    "    * Load\n",
    "    * Make predictions\n",
    "\n",
    "## Making predictions\n",
    "The trained network from your previous coding exercise is now stored as model. New data to make predictions is stored in a NumPy array as pred_data. Use model to make predictions on your new data.\n",
    "\n",
    "In this exercise, your predictions will be probabilities, which is the most common way for data scientists to communicate their predictions to colleagues."
   ],
   "metadata": {
    "collapsed": false
   }
  },
  {
   "cell_type": "code",
   "execution_count": 12,
   "outputs": [],
   "source": [
    "pred_data = pd.read_csv('dataset/titanic_pred.csv').astype(np.float32).to_numpy()"
   ],
   "metadata": {
    "collapsed": false
   }
  },
  {
   "cell_type": "code",
   "execution_count": 13,
   "outputs": [
    {
     "name": "stdout",
     "output_type": "stream",
     "text": [
      "3/3 [==============================] - 0s 5ms/step\n",
      "[0.28089795 0.5369367  0.8194578  0.43969733 0.2429138  0.22338603\n",
      " 0.09212727 0.4757859  0.23406765 0.7769634  0.26234588 0.43050936\n",
      " 0.22952308 0.40452078 0.23025243 0.14099503 0.42768195 0.5521629\n",
      " 0.13858092 0.36927137 0.8736501  0.2646314  0.09594445 0.37949288\n",
      " 0.38556737 0.25240952 0.727409   0.56477743 0.2628111  0.9068939\n",
      " 0.61755836 0.45026004 0.2687303  0.2879128  0.34966743 0.801498\n",
      " 0.3239651  0.24471253 0.7468566  0.60672486 0.3203911  0.41660646\n",
      " 0.7004056  0.21700425 0.3683664  0.15297973 0.43684775 0.23067285\n",
      " 0.57805747 0.83401185 0.34824163 0.04445559 0.5003279  0.6631353\n",
      " 0.5117625  0.40352866 0.94096553 0.37212968 0.3529382  0.2687303\n",
      " 0.23548837 0.37054414 0.50150293 0.47871944 0.3895826  0.31755432\n",
      " 0.53184533 0.74690145 0.2692734  0.4110315  0.26245508 0.7669255\n",
      " 0.17477356 0.13974458 0.63087267 0.54621756 0.358591   0.33060008\n",
      " 0.2421917  0.87394214 0.6014025  0.21087462 0.4814627  0.29580712\n",
      " 0.25925612 0.25033543 0.35517913 0.6868682  0.43503323 0.6165654\n",
      " 0.23913547]\n"
     ]
    }
   ],
   "source": [
    "predictions = model.predict(pred_data)\n",
    "\n",
    "# Calculate predicted probability of survival: predicted_prob_true\n",
    "predicted_prob_true = predictions[:, 1]\n",
    "\n",
    "# Print predicted_prob_true\n",
    "print(predicted_prob_true)"
   ],
   "metadata": {
    "collapsed": false
   }
  },
  {
   "cell_type": "code",
   "execution_count": null,
   "outputs": [],
   "source": [],
   "metadata": {
    "collapsed": false
   }
  }
 ],
 "metadata": {
  "kernelspec": {
   "display_name": "Python 3",
   "language": "python",
   "name": "python3"
  },
  "language_info": {
   "codemirror_mode": {
    "name": "ipython",
    "version": 2
   },
   "file_extension": ".py",
   "mimetype": "text/x-python",
   "name": "python",
   "nbconvert_exporter": "python",
   "pygments_lexer": "ipython2",
   "version": "2.7.6"
  }
 },
 "nbformat": 4,
 "nbformat_minor": 0
}
