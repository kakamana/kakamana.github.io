{
 "cells": [
  {
   "cell_type": "markdown",
   "source": [
    "---\n",
    "title: \"Classification with XGBoost\"\n",
    "format:\n",
    "  html:\n",
    "    code-fold: true\n",
    "jupyter: python3\n",
    "author: \"kakamana\"\n",
    "date: \"2023-01-21\"\n",
    "categories: [python, datacamp, classification, machine learning, XGBoost ]\n",
    "image: \"classifiationXGBoost.jpg\"\n",
    "\n",
    "---"
   ],
   "metadata": {
    "collapsed": false,
    "pycharm": {
     "name": "#%% md\n"
    }
   }
  },
  {
   "cell_type": "markdown",
   "source": [
    "# Classification with XGBoost\n",
    "\n",
    "The fundamental idea behind XGBoost—boosted learners—will be introduced to you in this module. After gaining an understanding of how XGBoost works, we'll apply it to solving one of the most common classification problems in the industry: predicting when customers will stop being customers.\n",
    "\n",
    "This **Classification with XGBoost** is part of [Datacamp course: Extreme Gradient Boosting with XGBoost](https://app.datacamp.com/learn/courses/extreme-gradient-boosting-with-xgboost)\n",
    "\n",
    "This is my learning experience of data science through DataCamp"
   ],
   "metadata": {
    "collapsed": false,
    "pycharm": {
     "name": "#%% md\n"
    }
   }
  },
  {
   "cell_type": "markdown",
   "source": [
    "## Introduction\n",
    "- Supervised Learning\n",
    "    - Relies on labeled data\n",
    "    - Have some understanding of past behavior\n",
    "    - Examples\n",
    "        - does a specific image contains person's face?\n",
    "        - Traning data, vectors of pixel values\n",
    "        - Labels, 1 or 0\n",
    "    - Classification: binary or multi-class\n",
    "        - binary: will a person purchase insurance package given some quote\n",
    "        - multi-class: classifying species of a given bird\n",
    "- AUC: Metric for binary classification models\n",
    "    - Area Under the ROC Curve (AUC)\n",
    "        - Larger area under the ROC curve = better model\n",
    "    ![](Images/accuracy score confusion matrix.jpg)\n",
    "- Other supervised learning considerations\n",
    "    - Features can be either numeric or categorical\n",
    "    - Numeric features should be scaled (Z-scored)\n",
    "    - Categorical features should be encoded (one-hot)\n"
   ],
   "metadata": {
    "collapsed": false,
    "pycharm": {
     "name": "#%% md\n"
    }
   }
  },
  {
   "cell_type": "markdown",
   "source": [
    "## Introducing XGBoost\n",
    "- What is XGBoost? (eXtreme Gradient Boosting)\n",
    "    - Optimized gradient-boosting machine learning library\n",
    "    - Originally written in C++\n",
    "    - Has APIs in several languages:\n",
    "        - Python, R, Scala, Julia, Java\n",
    "- What makes XGBoost so popular?\n",
    "    - Speed and performance\n",
    "    - Core algorithm is parallelizable\n",
    "    - Consistently outperforms single-algorithm methods\n",
    "    - State-of-the-art performance in many ML tasks"
   ],
   "metadata": {
    "collapsed": false,
    "pycharm": {
     "name": "#%% md\n"
    }
   }
  },
  {
   "cell_type": "code",
   "execution_count": 3,
   "outputs": [],
   "source": [
    "import numpy as np\n",
    "import pandas as pd\n",
    "import matplotlib.pyplot as plt\n",
    "import xgboost as xgb\n",
    "\n",
    "plt.rcParams['figure.figsize'] = (10, 5)"
   ],
   "metadata": {
    "collapsed": false,
    "pycharm": {
     "name": "#%%\n"
    }
   }
  },
  {
   "cell_type": "markdown",
   "source": [
    "### XGBoost - Fit/Predict\n",
    "It's time to create our first XGBoost model! We can use the scikit-learn `.fit()` / `.predict()` paradigm that you are already familiar to build your XGBoost models, as the xgboost library has a scikit-learn compatible API!\n",
    "\n",
    "Here, we'll be working with churn data. This dataset contains imaginary data from a ride-sharing app with user behaviors over their first month of app usage in a set of imaginary cities as well as whether they used the service 5 months after sign-up.\n",
    "\n",
    "Our goal is to use the first month's worth of data to predict whether the app's users will remain users of the service at the 5 month mark. This is a typical setup for a churn prediction problem. To do this, you'll split the data into training and test sets, fit a small xgboost model on the training set, and evaluate its performance on the test set by computing its accuracy."
   ],
   "metadata": {
    "collapsed": false,
    "pycharm": {
     "name": "#%% md\n"
    }
   }
  },
  {
   "cell_type": "code",
   "execution_count": 4,
   "outputs": [],
   "source": [
    "churn_data = pd.read_csv('dataset/churn_data.csv')"
   ],
   "metadata": {
    "collapsed": false,
    "pycharm": {
     "name": "#%%\n"
    }
   }
  },
  {
   "cell_type": "code",
   "execution_count": 5,
   "outputs": [
    {
     "data": {
      "text/plain": "   avg_dist  avg_rating_by_driver  avg_rating_of_driver  avg_inc_price  \\\n0      3.67                   5.0                   4.7           1.10   \n1      8.26                   5.0                   5.0           1.00   \n2      0.77                   5.0                   4.3           1.00   \n3      2.36                   4.9                   4.6           1.14   \n4      3.13                   4.9                   4.4           1.19   \n\n   inc_pct  weekday_pct  fancy_car_user  city_Carthag  city_Harko  \\\n0     15.4         46.2            True             0           1   \n1      0.0         50.0           False             1           0   \n2      0.0        100.0           False             1           0   \n3     20.0         80.0            True             0           1   \n4     11.8         82.4           False             0           0   \n\n   phone_iPhone  first_month_cat_more_1_trip  first_month_cat_no_trips  \\\n0             1                            1                         0   \n1             0                            0                         1   \n2             1                            1                         0   \n3             1                            1                         0   \n4             0                            1                         0   \n\n   month_5_still_here  \n0                   1  \n1                   0  \n2                   0  \n3                   1  \n4                   0  ",
      "text/html": "<div>\n<style scoped>\n    .dataframe tbody tr th:only-of-type {\n        vertical-align: middle;\n    }\n\n    .dataframe tbody tr th {\n        vertical-align: top;\n    }\n\n    .dataframe thead th {\n        text-align: right;\n    }\n</style>\n<table border=\"1\" class=\"dataframe\">\n  <thead>\n    <tr style=\"text-align: right;\">\n      <th></th>\n      <th>avg_dist</th>\n      <th>avg_rating_by_driver</th>\n      <th>avg_rating_of_driver</th>\n      <th>avg_inc_price</th>\n      <th>inc_pct</th>\n      <th>weekday_pct</th>\n      <th>fancy_car_user</th>\n      <th>city_Carthag</th>\n      <th>city_Harko</th>\n      <th>phone_iPhone</th>\n      <th>first_month_cat_more_1_trip</th>\n      <th>first_month_cat_no_trips</th>\n      <th>month_5_still_here</th>\n    </tr>\n  </thead>\n  <tbody>\n    <tr>\n      <th>0</th>\n      <td>3.67</td>\n      <td>5.0</td>\n      <td>4.7</td>\n      <td>1.10</td>\n      <td>15.4</td>\n      <td>46.2</td>\n      <td>True</td>\n      <td>0</td>\n      <td>1</td>\n      <td>1</td>\n      <td>1</td>\n      <td>0</td>\n      <td>1</td>\n    </tr>\n    <tr>\n      <th>1</th>\n      <td>8.26</td>\n      <td>5.0</td>\n      <td>5.0</td>\n      <td>1.00</td>\n      <td>0.0</td>\n      <td>50.0</td>\n      <td>False</td>\n      <td>1</td>\n      <td>0</td>\n      <td>0</td>\n      <td>0</td>\n      <td>1</td>\n      <td>0</td>\n    </tr>\n    <tr>\n      <th>2</th>\n      <td>0.77</td>\n      <td>5.0</td>\n      <td>4.3</td>\n      <td>1.00</td>\n      <td>0.0</td>\n      <td>100.0</td>\n      <td>False</td>\n      <td>1</td>\n      <td>0</td>\n      <td>1</td>\n      <td>1</td>\n      <td>0</td>\n      <td>0</td>\n    </tr>\n    <tr>\n      <th>3</th>\n      <td>2.36</td>\n      <td>4.9</td>\n      <td>4.6</td>\n      <td>1.14</td>\n      <td>20.0</td>\n      <td>80.0</td>\n      <td>True</td>\n      <td>0</td>\n      <td>1</td>\n      <td>1</td>\n      <td>1</td>\n      <td>0</td>\n      <td>1</td>\n    </tr>\n    <tr>\n      <th>4</th>\n      <td>3.13</td>\n      <td>4.9</td>\n      <td>4.4</td>\n      <td>1.19</td>\n      <td>11.8</td>\n      <td>82.4</td>\n      <td>False</td>\n      <td>0</td>\n      <td>0</td>\n      <td>0</td>\n      <td>1</td>\n      <td>0</td>\n      <td>0</td>\n    </tr>\n  </tbody>\n</table>\n</div>"
     },
     "execution_count": 5,
     "metadata": {},
     "output_type": "execute_result"
    }
   ],
   "source": [
    "churn_data.head()"
   ],
   "metadata": {
    "collapsed": false,
    "pycharm": {
     "name": "#%%\n"
    }
   }
  },
  {
   "cell_type": "code",
   "execution_count": 6,
   "outputs": [
    {
     "name": "stdout",
     "output_type": "stream",
     "text": [
      "<class 'pandas.core.frame.DataFrame'>\n",
      "RangeIndex: 50000 entries, 0 to 49999\n",
      "Data columns (total 13 columns):\n",
      " #   Column                       Non-Null Count  Dtype  \n",
      "---  ------                       --------------  -----  \n",
      " 0   avg_dist                     50000 non-null  float64\n",
      " 1   avg_rating_by_driver         49799 non-null  float64\n",
      " 2   avg_rating_of_driver         41878 non-null  float64\n",
      " 3   avg_inc_price                50000 non-null  float64\n",
      " 4   inc_pct                      50000 non-null  float64\n",
      " 5   weekday_pct                  50000 non-null  float64\n",
      " 6   fancy_car_user               50000 non-null  bool   \n",
      " 7   city_Carthag                 50000 non-null  int64  \n",
      " 8   city_Harko                   50000 non-null  int64  \n",
      " 9   phone_iPhone                 50000 non-null  int64  \n",
      " 10  first_month_cat_more_1_trip  50000 non-null  int64  \n",
      " 11  first_month_cat_no_trips     50000 non-null  int64  \n",
      " 12  month_5_still_here           50000 non-null  int64  \n",
      "dtypes: bool(1), float64(6), int64(6)\n",
      "memory usage: 4.6 MB\n"
     ]
    }
   ],
   "source": [
    "churn_data.info()"
   ],
   "metadata": {
    "collapsed": false,
    "pycharm": {
     "name": "#%%\n"
    }
   }
  },
  {
   "cell_type": "code",
   "execution_count": 8,
   "outputs": [
    {
     "name": "stdout",
     "output_type": "stream",
     "text": [
      "accuracy: 0.758200\n",
      "\n",
      "Our model has an accuracy of around 74%. Later we'll learn about ways to fine tune our XGBoost models\n"
     ]
    }
   ],
   "source": [
    "from sklearn.model_selection import train_test_split\n",
    "\n",
    "# Create arrays for the features and the target: X, y\n",
    "X, y = churn_data.iloc[:, :-1], churn_data.iloc[:, -1]\n",
    "\n",
    "# Create the training and test sets\n",
    "X_train, X_test, y_train, y_test = train_test_split(X, y, test_size=0.2, random_state=123)\n",
    "\n",
    "# Instantiate the XGBClassifier: xg_cl\n",
    "xg_cl = xgb.XGBClassifier(objective='binary:logistic', n_estimators=10, seed=123)\n",
    "\n",
    "# Fit the classifier to the training set\n",
    "xg_cl.fit(X_train, y_train)\n",
    "\n",
    "# Predict the labels of the test set: preds\n",
    "preds = xg_cl.predict(X_test)\n",
    "\n",
    "# Compute the accuracy: accuracy\n",
    "accuracy = float(np.sum(preds == y_test)) / y_test.shape[0]\n",
    "print(\"accuracy: %f\" % (accuracy))\n",
    "print(\"\\nOur model has an accuracy of around 74%. Later we'll learn about ways to fine tune our XGBoost models\")"
   ],
   "metadata": {
    "collapsed": false,
    "pycharm": {
     "name": "#%%\n"
    }
   }
  },
  {
   "cell_type": "markdown",
   "source": [
    "## What is a decision tree?\n",
    "- Decision trees as base learners\n",
    "    - Base learner : Individual learning algorithm in an ensemble algorithm\n",
    "    - Composed of a series of binary questions\n",
    "    - Predictions happen at the \"leaves\" of the tree\n",
    "- CART: Classification And Regression Trees\n",
    "    - Each leaf always contains a real-valued score\n",
    "    - Can later be converted into categories"
   ],
   "metadata": {
    "collapsed": false,
    "pycharm": {
     "name": "#%% md\n"
    }
   }
  },
  {
   "cell_type": "markdown",
   "source": [
    "### Decision trees\n",
    "Your task in this exercise is to make a simple decision tree using scikit-learn's `DecisionTreeClassifier` on the breast cancer dataset.\n",
    "\n",
    "This dataset contains numeric measurements of various dimensions of individual tumors (such as perimeter and texture) from breast biopsies and a single outcome value (the tumor is either malignant, or benign).\n",
    "\n",
    "We've preloaded the dataset of samples (measurements) into `X` and the target values per tumor into `y`. Now, you have to split the complete dataset into training and testing sets, and then train a `DecisionTreeClassifier`. You'll specify a parameter called `max_depth`. Many other parameters can be modified within this model, and you can check all of them out here."
   ],
   "metadata": {
    "collapsed": false,
    "pycharm": {
     "name": "#%% md\n"
    }
   }
  },
  {
   "cell_type": "code",
   "execution_count": 11,
   "outputs": [],
   "source": [
    "X = pd.read_csv('dataset/breast_X.csv').to_numpy()\n",
    "y = pd.read_csv('dataset/breast_y.csv').to_numpy().ravel()"
   ],
   "metadata": {
    "collapsed": false,
    "pycharm": {
     "name": "#%%\n"
    }
   }
  },
  {
   "cell_type": "code",
   "execution_count": 12,
   "outputs": [
    {
     "name": "stdout",
     "output_type": "stream",
     "text": [
      "Accuracy: 0.9736842105263158\n"
     ]
    }
   ],
   "source": [
    "from sklearn.tree import DecisionTreeClassifier\n",
    "\n",
    "# Create the training and test sets\n",
    "X_train, X_test, y_train, y_test = train_test_split(X, y, test_size=0.2, random_state=123)\n",
    "\n",
    "# Instantiate the classifier: dt_clf_4\n",
    "dt_clf_4 = DecisionTreeClassifier(max_depth=4)\n",
    "\n",
    "# Fit the classifier to the training set\n",
    "dt_clf_4.fit(X_train, y_train)\n",
    "\n",
    "# Predict the labels of the test set: y_pred_4\n",
    "y_pred_4 = dt_clf_4.predict(X_test)\n",
    "\n",
    "# Compute the accuracy of the predictions: accuracy\n",
    "accuracy = float(np.sum(y_pred_4 == y_test)) / y_test.shape[0]\n",
    "print(\"Accuracy:\", accuracy)"
   ],
   "metadata": {
    "collapsed": false,
    "pycharm": {
     "name": "#%%\n"
    }
   }
  },
  {
   "cell_type": "markdown",
   "source": [
    "## What is Boosting?\n",
    "- Boosting overview\n",
    "    - Not a specific machine learning algorithm\n",
    "    - Concept that can be applied to a set of machine learning models\n",
    "        - \"Meta-algorithm\"\n",
    "    - Ensemble meta-algorithm used to convert many weak learners into a strong learner\n",
    "- Weak learners and strong learners\n",
    "    - Weak learner: ML algorithm that is slightly better than chance\n",
    "    - Boosting converts a collection of weak learners into a strong learner\n",
    "    - Strong learner: Any algorithm that can be tuned to achieve good performance.\n",
    "- How boosting is accomplished?\n",
    "    - Iteratively learning a set of week models on subsets of the data\n",
    "    - Weighting each weak prediction according to each weak learner's performance\n",
    "    - Combine the weighted predictions to obtain a single weighted prediction\n",
    "    - that is much better than the individual predictions themselves!\n",
    "- Model evaluation through cross-validation\n",
    "    - Cross-validation: Robust method for estimating the performance of a model on unseen data\n",
    "    - Generates many non-overlapping train/test splits on training data\n",
    "    - Reports the average test set performance across all data splits"
   ],
   "metadata": {
    "collapsed": false,
    "pycharm": {
     "name": "#%% md\n"
    }
   }
  },
  {
   "cell_type": "markdown",
   "source": [
    "### Measuring accuracy\n",
    "We'll now practice using XGBoost's learning API through its baked in cross-validation capabilities. As Sergey discussed in the previous video, XGBoost gets its lauded performance and efficiency gains by utilizing its own optimized data structure for datasets called a `DMatrix`.\n",
    "\n",
    "In the previous exercise, the input datasets were converted into `DMatrix` data on the fly, but when you use the `xgboost` `cv` object, you have to first explicitly convert your data into a `DMatrix`. So, that's what you will do here before running cross-validation on `churn_data`."
   ],
   "metadata": {
    "collapsed": false,
    "pycharm": {
     "name": "#%% md\n"
    }
   }
  },
  {
   "cell_type": "code",
   "execution_count": 13,
   "outputs": [],
   "source": [
    "churn_data = pd.read_csv('dataset/churn_data.csv')"
   ],
   "metadata": {
    "collapsed": false,
    "pycharm": {
     "name": "#%%\n"
    }
   }
  },
  {
   "cell_type": "code",
   "execution_count": 15,
   "outputs": [
    {
     "name": "stdout",
     "output_type": "stream",
     "text": [
      "   train-error-mean  train-error-std  test-error-mean  test-error-std\n",
      "0           0.28232         0.002366          0.28378        0.001932\n",
      "1           0.26951         0.001855          0.27190        0.001932\n",
      "2           0.25605         0.003213          0.25798        0.003963\n",
      "3           0.25090         0.001844          0.25434        0.003827\n",
      "4           0.24654         0.001981          0.24852        0.000934\n",
      "0.751480015401492\n",
      "\n",
      "cv_results stores the training and test mean and standard deviation of the error per boosting round (tree built) as a DataFrame. From cv_results, the final round 'test-error-mean' is extracted and converted into an accuracy, where accuracy is 1-error. The final accuracy of around 75% is an improvement from earlier!\n"
     ]
    }
   ],
   "source": [
    "# Create arrays for the features and the target: X, y\n",
    "X, y = churn_data.iloc[:, :-1], churn_data.iloc[:, -1]\n",
    "\n",
    "# Create the DMatrix from X and y: churn_dmatrix\n",
    "churn_dmatrix = xgb.DMatrix(data=X, label=y)\n",
    "\n",
    "# Create the parameter dictionary: params\n",
    "params = {'objective':\"reg:logistic\", \"max_depth\":3}\n",
    "\n",
    "# Perform cross-validation: cv_results\n",
    "cv_results = xgb.cv(dtrain=churn_dmatrix, params=params,\n",
    "                   nfold=3, num_boost_round=5,\n",
    "                   metrics=\"error\", as_pandas=True, seed=123)\n",
    "\n",
    "# Pint cv_results\n",
    "print(cv_results)\n",
    "\n",
    "# Print the accuracy\n",
    "print(((1 - cv_results['test-error-mean']).iloc[-1]))\n",
    "print(\"\\ncv_results stores the training and test mean and standard deviation of the error per boosting round (tree built) as a DataFrame. From cv_results, the final round 'test-error-mean' is extracted and converted into an accuracy, where accuracy is 1-error. The final accuracy of around 75% is an improvement from earlier!\")"
   ],
   "metadata": {
    "collapsed": false,
    "pycharm": {
     "name": "#%%\n"
    }
   }
  },
  {
   "cell_type": "markdown",
   "source": [
    "### Measuring AUC\n",
    "Now that you've used cross-validation to compute average out-of-sample accuracy (after converting from an error), it's very easy to compute any other metric you might be interested in. All you have to do is pass it (or a list of metrics) in as an argument to the metrics parameter of `xgb.cv()`.\n",
    "\n",
    "Your job in this exercise is to compute another common metric used in binary classification - the area under the curve (`\"auc\"`)."
   ],
   "metadata": {
    "collapsed": false,
    "pycharm": {
     "name": "#%% md\n"
    }
   }
  },
  {
   "cell_type": "code",
   "execution_count": 17,
   "outputs": [
    {
     "name": "stdout",
     "output_type": "stream",
     "text": [
      "   train-auc-mean  train-auc-std  test-auc-mean  test-auc-std\n",
      "0        0.768893       0.001544       0.767863      0.002819\n",
      "1        0.790864       0.006758       0.789156      0.006846\n",
      "2        0.815872       0.003900       0.814476      0.005997\n",
      "3        0.822959       0.002018       0.821682      0.003912\n",
      "4        0.827528       0.000769       0.826191      0.001937\n",
      "0.8261911413597645\n",
      "\n",
      "An AUC of 0.84 is quite strong. As you have seen, XGBoost's learning API makes it very easy to compute any metric you may be interested in. Later, you'll learn about techniques to fine-tune your XGBoost models to improve their performance even further. For now, it's time to learn a little about exactly when to use XGBoost\n"
     ]
    }
   ],
   "source": [
    "# Perform cross_validation: cv_results\n",
    "cv_results = xgb.cv(dtrain=churn_dmatrix, params=params,\n",
    "                    nfold=3, num_boost_round=5,\n",
    "                    metrics=\"auc\", as_pandas=True, seed=123)\n",
    "\n",
    "# Print cv_results\n",
    "print(cv_results)\n",
    "\n",
    "# Print the AUC\n",
    "print((cv_results[\"test-auc-mean\"]).iloc[-1])\n",
    "print(\"\\nAn AUC of 0.84 is quite strong. As you have seen, XGBoost's learning API makes it very easy to compute any metric you may be interested in. Later, you'll learn about techniques to fine-tune your XGBoost models to improve their performance even further. For now, it's time to learn a little about exactly when to use XGBoost\")"
   ],
   "metadata": {
    "collapsed": false,
    "pycharm": {
     "name": "#%%\n"
    }
   }
  },
  {
   "cell_type": "markdown",
   "source": [
    "## When should I use XGBoost?\n",
    "- When to use XGBoost\n",
    "    - You have a large number of training samples\n",
    "        - Greater than 1000 training samples and less 100 features\n",
    "        - The number of features < number of training samples\n",
    "    - You have a mixture of categorical and numeric features\n",
    "        - Or just numeric features\n",
    "- When to NOT use XGBoost\n",
    "    - Image recognition\n",
    "    - Computer vision\n",
    "    - Natural language processing and understanding problems\n",
    "    - When the number of training samples is significantly smaller than the number of features"
   ],
   "metadata": {
    "collapsed": false,
    "pycharm": {
     "name": "#%% md\n"
    }
   }
  },
  {
   "cell_type": "code",
   "execution_count": null,
   "outputs": [],
   "source": [],
   "metadata": {
    "collapsed": false,
    "pycharm": {
     "name": "#%%\n"
    }
   }
  }
 ],
 "metadata": {
  "kernelspec": {
   "display_name": "Python 3",
   "language": "python",
   "name": "python3"
  },
  "language_info": {
   "codemirror_mode": {
    "name": "ipython",
    "version": 2
   },
   "file_extension": ".py",
   "mimetype": "text/x-python",
   "name": "python",
   "nbconvert_exporter": "python",
   "pygments_lexer": "ipython2",
   "version": "2.7.6"
  }
 },
 "nbformat": 4,
 "nbformat_minor": 0
}