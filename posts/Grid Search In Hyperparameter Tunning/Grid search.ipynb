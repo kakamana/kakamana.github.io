{
 "cells": [
  {
   "cell_type": "markdown",
   "source": [
    "---\n",
    "title: \"Grid Search\"\n",
    "format:\n",
    "  html:\n",
    "    code-fold: true\n",
    "jupyter: python3\n",
    "author: \"kakamana\"\n",
    "date: \"2023-04-09\"\n",
    "categories: [python, datacamp, machine learning, deep learning, hyperparameter, gridsearch]\n",
    "image: \"gridSearch.png\"\n",
    "\n",
    "---"
   ],
   "metadata": {
    "collapsed": false
   }
  },
  {
   "cell_type": "markdown",
   "source": [
    "# Grid search\n",
    "\n",
    "The purpose of this chapter is to introduce you to a popular automated hyperparameter tuning method referred to as Grid Search. In this lesson, you will gain an understanding of what it is, how it works, and how to conduct a Grid Search using Scikit Learn. Afterwards, you will learn how to analyze the output of a Grid Search and gain practical experience in doing so.\n",
    "\n",
    "This **Grid search** is part of [Datacamp course: Hyperparameter Tuning in Python] Hyperparameters play a significant role in the development of powerful machine learning models. However, with increasingly complex models with numerous options available, how can you efficiently identify the best settings for your particular issue? You will gain practical experience using some common methodologies for automated hyperparameter tuning in Python using Scikit Learn. Among these are Grid Search, Random Search, and advanced optimization methodologies such as Bayesian and Genetic algorithms. To dramatically increase the efficiency and effectiveness of your machine learning model creation, you will use a dataset predicting credit card defaults.\n",
    "\n",
    "This is my learning experience of data science through DataCamp. These repository contributions are part of my learning journey through my graduate program masters of applied data sciences (MADS) at University Of Michigan, [DeepLearning.AI], [Coursera] & [DataCamp]. You can find my similar articles & more stories at my [medium] & [LinkedIn] profile. I am available at [kaggle] & [github blogs] & [github repos]. Thank you for your motivation, support & valuable feedback.\n",
    "\n",
    "These include projects, coursework & notebook which I learned through my data science journey. They are created for reproducible & future reference purpose only. All source code, slides or screenshot are intellactual property of respective content authors. If you find these contents beneficial, kindly consider learning subscription from [DeepLearning.AI Subscription], [Coursera], [DataCamp]\n",
    "\n",
    "\n",
    "\n",
    "[DeepLearning.AI]: https://www.deeplearning.ai\n",
    "[DeepLearning.AI Subscription]: https://www.deeplearning.ai\n",
    "[Coursera]: https://www.coursera.org\n",
    "[DataCamp]: https://www.datacamp.com\n",
    "[medium]: https://medium.com/@kamig4u\n",
    "[LinkedIn]: https://www.linkedin.com/in/asadenterprisearchitect\n",
    "[kaggle]: https://www.kaggle.com/kakamana\n",
    "[github blogs]: https://kakamana.github.io\n",
    "[github repos]: https://github.com/kakamana\n",
    "[Datacamp course: Hyperparameter Tuning in Python]: (https://app.datacamp.com/learn/courses/hyperparameter-tuning-in-python)"
   ],
   "metadata": {
    "collapsed": false
   }
  },
  {
   "cell_type": "code",
   "execution_count": 1,
   "outputs": [],
   "source": [
    "import pandas as pd\n",
    "import numpy as np\n",
    "from pprint import pprint"
   ],
   "metadata": {
    "collapsed": false
   }
  },
  {
   "cell_type": "markdown",
   "source": [
    "# Introducing Grid Search\n",
    "## Build Grid Search functions\n",
    "In data science it is a great idea to try building algorithms, models and processes 'from scratch' so you can really understand what is happening at a deeper level. Of course there are great packages and libraries for this work (and we will get to that very soon!) but building from scratch will give you a great edge in your data science work.\n",
    "\n",
    "In this exercise, you will create a function to take in 2 hyperparameters, build models and return results. You will use this function in a future exercise."
   ],
   "metadata": {
    "collapsed": false
   }
  },
  {
   "cell_type": "code",
   "execution_count": 4,
   "outputs": [],
   "source": [
    "from sklearn.model_selection import train_test_split\n",
    "\n",
    "credit_card = pd.read_csv('dataset/credit-card-full.csv')\n",
    "# To change categorical variable with dummy variables\n",
    "credit_card = pd.get_dummies(credit_card, columns=['SEX', 'EDUCATION', 'MARRIAGE'], drop_first=True)\n",
    "\n",
    "X = credit_card.drop(['ID', 'default payment next month'], axis=1)\n",
    "y = credit_card['default payment next month']\n",
    "\n",
    "X_train, X_test, y_train, y_test = train_test_split(X, y, test_size=0.3, shuffle=True)"
   ],
   "metadata": {
    "collapsed": false
   }
  },
  {
   "cell_type": "code",
   "execution_count": 5,
   "outputs": [
    {
     "data": {
      "text/plain": "   ID  LIMIT_BAL  AGE  PAY_0  PAY_2  PAY_3  PAY_4  PAY_5  PAY_6  BILL_AMT1  \\\n0   1      20000   24      2      2     -1     -1     -2     -2       3913   \n1   2     120000   26     -1      2      0      0      0      2       2682   \n2   3      90000   34      0      0      0      0      0      0      29239   \n3   4      50000   37      0      0      0      0      0      0      46990   \n4   5      50000   57     -1      0     -1      0      0      0       8617   \n\n   ...  SEX_2  EDUCATION_1  EDUCATION_2  EDUCATION_3  EDUCATION_4  \\\n0  ...      1            0            1            0            0   \n1  ...      1            0            1            0            0   \n2  ...      1            0            1            0            0   \n3  ...      1            0            1            0            0   \n4  ...      0            0            1            0            0   \n\n   EDUCATION_5  EDUCATION_6  MARRIAGE_1  MARRIAGE_2  MARRIAGE_3  \n0            0            0           1           0           0  \n1            0            0           0           1           0  \n2            0            0           0           1           0  \n3            0            0           1           0           0  \n4            0            0           1           0           0  \n\n[5 rows x 32 columns]",
      "text/html": "<div>\n<style scoped>\n    .dataframe tbody tr th:only-of-type {\n        vertical-align: middle;\n    }\n\n    .dataframe tbody tr th {\n        vertical-align: top;\n    }\n\n    .dataframe thead th {\n        text-align: right;\n    }\n</style>\n<table border=\"1\" class=\"dataframe\">\n  <thead>\n    <tr style=\"text-align: right;\">\n      <th></th>\n      <th>ID</th>\n      <th>LIMIT_BAL</th>\n      <th>AGE</th>\n      <th>PAY_0</th>\n      <th>PAY_2</th>\n      <th>PAY_3</th>\n      <th>PAY_4</th>\n      <th>PAY_5</th>\n      <th>PAY_6</th>\n      <th>BILL_AMT1</th>\n      <th>...</th>\n      <th>SEX_2</th>\n      <th>EDUCATION_1</th>\n      <th>EDUCATION_2</th>\n      <th>EDUCATION_3</th>\n      <th>EDUCATION_4</th>\n      <th>EDUCATION_5</th>\n      <th>EDUCATION_6</th>\n      <th>MARRIAGE_1</th>\n      <th>MARRIAGE_2</th>\n      <th>MARRIAGE_3</th>\n    </tr>\n  </thead>\n  <tbody>\n    <tr>\n      <th>0</th>\n      <td>1</td>\n      <td>20000</td>\n      <td>24</td>\n      <td>2</td>\n      <td>2</td>\n      <td>-1</td>\n      <td>-1</td>\n      <td>-2</td>\n      <td>-2</td>\n      <td>3913</td>\n      <td>...</td>\n      <td>1</td>\n      <td>0</td>\n      <td>1</td>\n      <td>0</td>\n      <td>0</td>\n      <td>0</td>\n      <td>0</td>\n      <td>1</td>\n      <td>0</td>\n      <td>0</td>\n    </tr>\n    <tr>\n      <th>1</th>\n      <td>2</td>\n      <td>120000</td>\n      <td>26</td>\n      <td>-1</td>\n      <td>2</td>\n      <td>0</td>\n      <td>0</td>\n      <td>0</td>\n      <td>2</td>\n      <td>2682</td>\n      <td>...</td>\n      <td>1</td>\n      <td>0</td>\n      <td>1</td>\n      <td>0</td>\n      <td>0</td>\n      <td>0</td>\n      <td>0</td>\n      <td>0</td>\n      <td>1</td>\n      <td>0</td>\n    </tr>\n    <tr>\n      <th>2</th>\n      <td>3</td>\n      <td>90000</td>\n      <td>34</td>\n      <td>0</td>\n      <td>0</td>\n      <td>0</td>\n      <td>0</td>\n      <td>0</td>\n      <td>0</td>\n      <td>29239</td>\n      <td>...</td>\n      <td>1</td>\n      <td>0</td>\n      <td>1</td>\n      <td>0</td>\n      <td>0</td>\n      <td>0</td>\n      <td>0</td>\n      <td>0</td>\n      <td>1</td>\n      <td>0</td>\n    </tr>\n    <tr>\n      <th>3</th>\n      <td>4</td>\n      <td>50000</td>\n      <td>37</td>\n      <td>0</td>\n      <td>0</td>\n      <td>0</td>\n      <td>0</td>\n      <td>0</td>\n      <td>0</td>\n      <td>46990</td>\n      <td>...</td>\n      <td>1</td>\n      <td>0</td>\n      <td>1</td>\n      <td>0</td>\n      <td>0</td>\n      <td>0</td>\n      <td>0</td>\n      <td>1</td>\n      <td>0</td>\n      <td>0</td>\n    </tr>\n    <tr>\n      <th>4</th>\n      <td>5</td>\n      <td>50000</td>\n      <td>57</td>\n      <td>-1</td>\n      <td>0</td>\n      <td>-1</td>\n      <td>0</td>\n      <td>0</td>\n      <td>0</td>\n      <td>8617</td>\n      <td>...</td>\n      <td>0</td>\n      <td>0</td>\n      <td>1</td>\n      <td>0</td>\n      <td>0</td>\n      <td>0</td>\n      <td>0</td>\n      <td>1</td>\n      <td>0</td>\n      <td>0</td>\n    </tr>\n  </tbody>\n</table>\n<p>5 rows × 32 columns</p>\n</div>"
     },
     "execution_count": 5,
     "metadata": {},
     "output_type": "execute_result"
    }
   ],
   "source": [
    "credit_card.head()"
   ],
   "metadata": {
    "collapsed": false
   }
  },
  {
   "cell_type": "code",
   "execution_count": 6,
   "outputs": [],
   "source": [
    "from sklearn.ensemble import GradientBoostingClassifier\n",
    "from sklearn.metrics import accuracy_score\n",
    "\n",
    "# Create the function\n",
    "def gbm_grid_search(learn_rate, max_depth):\n",
    "    # Create the model\n",
    "    model = GradientBoostingClassifier(learning_rate=learn_rate, max_depth=max_depth)\n",
    "\n",
    "    # Use the model to make predictions\n",
    "    predictions = model.fit(X_train, y_train).predict(X_test)\n",
    "\n",
    "    # Return the hyperparameters and score\n",
    "    return ([learn_rate, max_depth, accuracy_score(y_test, predictions)])"
   ],
   "metadata": {
    "collapsed": false
   }
  },
  {
   "cell_type": "markdown",
   "source": [
    "## Iteratively tune multiple hyperparameters\n",
    "In this exercise, you will build on the function you previously created to take in 2 hyperparameters, build a model and return the results. You will now use that to loop through some values and then extend this function and loop with another hyperparameter."
   ],
   "metadata": {
    "collapsed": false
   }
  },
  {
   "cell_type": "code",
   "execution_count": 7,
   "outputs": [
    {
     "name": "stdout",
     "output_type": "stream",
     "text": [
      "[[0.01, 2, 0.8245555555555556],\n",
      " [0.01, 4, 0.8201111111111111],\n",
      " [0.01, 6, 0.8184444444444444],\n",
      " [0.1, 2, 0.8254444444444444],\n",
      " [0.1, 4, 0.8235555555555556],\n",
      " [0.1, 6, 0.8197777777777778],\n",
      " [0.5, 2, 0.8208888888888889],\n",
      " [0.5, 4, 0.8041111111111111],\n",
      " [0.5, 6, 0.79]]\n"
     ]
    }
   ],
   "source": [
    "results_list = []\n",
    "learn_rate_list = [0.01, 0.1, 0.5]\n",
    "max_depth_list = [2, 4, 6]\n",
    "\n",
    "# Create the for loop\n",
    "for learn_rate in learn_rate_list:\n",
    "    for max_depth in max_depth_list:\n",
    "        results_list.append(gbm_grid_search(learn_rate, max_depth))\n",
    "\n",
    "# Print the results\n",
    "pprint(results_list)"
   ],
   "metadata": {
    "collapsed": false
   }
  },
  {
   "cell_type": "code",
   "execution_count": 8,
   "outputs": [],
   "source": [
    "def gbm_grid_search_extended(learn_rate, max_depth, subsample):\n",
    "    # Extend the model creation section\n",
    "    model = GradientBoostingClassifier(learning_rate=learn_rate, max_depth=max_depth,\n",
    "                                       subsample=subsample)\n",
    "\n",
    "    predictions = model.fit(X_train, y_train).predict(X_test)\n",
    "\n",
    "    # Extend the return part\n",
    "    return([learn_rate, max_depth, subsample, accuracy_score(y_test, predictions)])"
   ],
   "metadata": {
    "collapsed": false
   }
  },
  {
   "cell_type": "code",
   "execution_count": 9,
   "outputs": [
    {
     "name": "stdout",
     "output_type": "stream",
     "text": [
      "[[0.01, 2, 0.8245555555555556],\n",
      " [0.01, 4, 0.8201111111111111],\n",
      " [0.01, 6, 0.8184444444444444],\n",
      " [0.1, 2, 0.8254444444444444],\n",
      " [0.1, 4, 0.8235555555555556],\n",
      " [0.1, 6, 0.8197777777777778],\n",
      " [0.5, 2, 0.8208888888888889],\n",
      " [0.5, 4, 0.8041111111111111],\n",
      " [0.5, 6, 0.79],\n",
      " [0.01, 2, 0.4, 0.8244444444444444],\n",
      " [0.01, 2, 0.6, 0.8245555555555556],\n",
      " [0.01, 4, 0.4, 0.8213333333333334],\n",
      " [0.01, 4, 0.6, 0.8212222222222222],\n",
      " [0.01, 6, 0.4, 0.8182222222222222],\n",
      " [0.01, 6, 0.6, 0.8193333333333334],\n",
      " [0.1, 2, 0.4, 0.8246666666666667],\n",
      " [0.1, 2, 0.6, 0.8247777777777778],\n",
      " [0.1, 4, 0.4, 0.8232222222222222],\n",
      " [0.1, 4, 0.6, 0.8232222222222222],\n",
      " [0.1, 6, 0.4, 0.8168888888888889],\n",
      " [0.1, 6, 0.6, 0.8202222222222222],\n",
      " [0.5, 2, 0.4, 0.8164444444444444],\n",
      " [0.5, 2, 0.6, 0.8182222222222222],\n",
      " [0.5, 4, 0.4, 0.806],\n",
      " [0.5, 4, 0.6, 0.802],\n",
      " [0.5, 6, 0.4, 0.7744444444444445],\n",
      " [0.5, 6, 0.6, 0.779]]\n"
     ]
    }
   ],
   "source": [
    "subsample_list = [0.4, 0.6]\n",
    "\n",
    "for learn_rate in learn_rate_list:\n",
    "    for max_depth in max_depth_list:\n",
    "        # Extend the for loop\n",
    "        for subsample in subsample_list:\n",
    "            # Extend the results to include the new hyperparameter\n",
    "            results_list.append(gbm_grid_search_extended(learn_rate, max_depth, subsample))\n",
    "\n",
    "# Print the results\n",
    "pprint(results_list)"
   ],
   "metadata": {
    "collapsed": false
   }
  },
  {
   "cell_type": "code",
   "execution_count": 10,
   "outputs": [],
   "source": [
    "def gbm_grid_search_extended(learn_rate, max_depth, subsample):\n",
    "    # Extend the model creation section\n",
    "    model = GradientBoostingClassifier(learning_rate=learn_rate, max_depth=max_depth,\n",
    "                                       subsample=subsample)\n",
    "\n",
    "    predictions = model.fit(X_train, y_train).predict(X_test)\n",
    "\n",
    "    # Extend the return part\n",
    "    return([learn_rate, max_depth, subsample, accuracy_score(y_test, predictions)])"
   ],
   "metadata": {
    "collapsed": false
   }
  },
  {
   "cell_type": "code",
   "execution_count": 11,
   "outputs": [
    {
     "name": "stdout",
     "output_type": "stream",
     "text": [
      "[[0.01, 2, 0.8245555555555556],\n",
      " [0.01, 4, 0.8201111111111111],\n",
      " [0.01, 6, 0.8184444444444444],\n",
      " [0.1, 2, 0.8254444444444444],\n",
      " [0.1, 4, 0.8235555555555556],\n",
      " [0.1, 6, 0.8197777777777778],\n",
      " [0.5, 2, 0.8208888888888889],\n",
      " [0.5, 4, 0.8041111111111111],\n",
      " [0.5, 6, 0.79],\n",
      " [0.01, 2, 0.4, 0.8244444444444444],\n",
      " [0.01, 2, 0.6, 0.8245555555555556],\n",
      " [0.01, 4, 0.4, 0.8213333333333334],\n",
      " [0.01, 4, 0.6, 0.8212222222222222],\n",
      " [0.01, 6, 0.4, 0.8182222222222222],\n",
      " [0.01, 6, 0.6, 0.8193333333333334],\n",
      " [0.1, 2, 0.4, 0.8246666666666667],\n",
      " [0.1, 2, 0.6, 0.8247777777777778],\n",
      " [0.1, 4, 0.4, 0.8232222222222222],\n",
      " [0.1, 4, 0.6, 0.8232222222222222],\n",
      " [0.1, 6, 0.4, 0.8168888888888889],\n",
      " [0.1, 6, 0.6, 0.8202222222222222],\n",
      " [0.5, 2, 0.4, 0.8164444444444444],\n",
      " [0.5, 2, 0.6, 0.8182222222222222],\n",
      " [0.5, 4, 0.4, 0.806],\n",
      " [0.5, 4, 0.6, 0.802],\n",
      " [0.5, 6, 0.4, 0.7744444444444445],\n",
      " [0.5, 6, 0.6, 0.779],\n",
      " [0.01, 2, 0.4, 0.8242222222222222],\n",
      " [0.01, 2, 0.6, 0.8245555555555556],\n",
      " [0.01, 4, 0.4, 0.8191111111111111],\n",
      " [0.01, 4, 0.6, 0.8221111111111111],\n",
      " [0.01, 6, 0.4, 0.8193333333333334],\n",
      " [0.01, 6, 0.6, 0.8191111111111111],\n",
      " [0.1, 2, 0.4, 0.8252222222222222],\n",
      " [0.1, 2, 0.6, 0.8263333333333334],\n",
      " [0.1, 4, 0.4, 0.8225555555555556],\n",
      " [0.1, 4, 0.6, 0.824],\n",
      " [0.1, 6, 0.4, 0.819],\n",
      " [0.1, 6, 0.6, 0.8203333333333334],\n",
      " [0.5, 2, 0.4, 0.818],\n",
      " [0.5, 2, 0.6, 0.8183333333333334],\n",
      " [0.5, 4, 0.4, 0.8055555555555556],\n",
      " [0.5, 4, 0.6, 0.7985555555555556],\n",
      " [0.5, 6, 0.4, 0.7787777777777778],\n",
      " [0.5, 6, 0.6, 0.7761111111111111]]\n"
     ]
    }
   ],
   "source": [
    "subsample_list = [0.4, 0.6]\n",
    "\n",
    "for learn_rate in learn_rate_list:\n",
    "    for max_depth in max_depth_list:\n",
    "        # Extend the for loop\n",
    "        for subsample in subsample_list:\n",
    "            # Extend the results to include the new hyperparameter\n",
    "            results_list.append(gbm_grid_search_extended(learn_rate, max_depth, subsample))\n",
    "\n",
    "# Print the results\n",
    "pprint(results_list)"
   ],
   "metadata": {
    "collapsed": false
   }
  },
  {
   "cell_type": "markdown",
   "source": [
    "# Grid Search with Scikit Learn\n",
    "\n",
    "* Steps in a Grid Search\n",
    "    * An algorithm to tune the hyperparameters (or estimator)\n",
    "    * Defining which hyperparameters to tune\n",
    "    * Defining a range of values for each hyperparameter\n",
    "    * Setting a cross-validatoin scheme\n",
    "    * Defining a score function so we can decide which square on our grid was 'the best'\n",
    "    * Include extra useful information or functions\n",
    "\n",
    "## GridSearchCV with Scikit Learn\n",
    "The GridSearchCV module from Scikit Learn provides many useful features to assist with efficiently undertaking a grid search. You will now put your learning into practice by creating a GridSearchCV object with certain parameters.\n",
    "\n",
    "The desired options are:\n",
    "\n",
    "* A Random Forest Estimator, with the split criterion as 'entropy'\n",
    "* 5-fold cross validation\n",
    "* The hyperparameters max_depth (2, 4, 8, 15) and max_features ('auto' vs 'sqrt')\n",
    "* Use roc_auc to score the models\n",
    "* Use 4 cores for processing in parallel\n",
    "* Ensure you refit the best model and return training scores"
   ],
   "metadata": {
    "collapsed": false
   }
  },
  {
   "cell_type": "code",
   "execution_count": 12,
   "outputs": [
    {
     "name": "stdout",
     "output_type": "stream",
     "text": [
      "GridSearchCV(cv=5, estimator=RandomForestClassifier(criterion='entropy'),\n",
      "             n_jobs=4,\n",
      "             param_grid={'max_depth': [2, 4, 8, 15],\n",
      "                         'max_features': ['auto', 'sqrt']},\n",
      "             return_train_score=True, scoring='roc_auc')\n"
     ]
    }
   ],
   "source": [
    "from sklearn.model_selection import GridSearchCV\n",
    "from sklearn.ensemble import RandomForestClassifier\n",
    "\n",
    "# Create a Random Forest Classifier with specified criterion\n",
    "rf_class = RandomForestClassifier(criterion='entropy')\n",
    "\n",
    "# Create the parametergrid\n",
    "param_grid = {\n",
    "    'max_depth':[2, 4, 8, 15],\n",
    "    'max_features':['auto', 'sqrt']\n",
    "}\n",
    "\n",
    "# Create a GridSearchCV object\n",
    "grid_rf_class = GridSearchCV(\n",
    "    estimator=rf_class,\n",
    "    param_grid=param_grid,\n",
    "    scoring='roc_auc',\n",
    "    n_jobs=4,\n",
    "    cv=5,\n",
    "    refit=True,\n",
    "    return_train_score=True\n",
    ")\n",
    "\n",
    "print(grid_rf_class)"
   ],
   "metadata": {
    "collapsed": false
   }
  },
  {
   "cell_type": "markdown",
   "source": [
    "# Understanding a grid search output\n",
    "## Exploring the grid search results\n",
    "You will now explore the cv_results_ property of the GridSearchCV object defined in the video. This is a dictionary that we can read into a pandas DataFrame and contains a lot of useful information about the grid search we just undertook.\n",
    "\n",
    "A reminder of the different column types in this property:\n",
    "\n",
    "* time_ columns\n",
    "* param_ columns (one for each hyperparameter) and the singular params column (with all hyperparameter settings)\n",
    "* a train_score column for each cv fold including the mean_train_score and std_train_score columns\n",
    "* a test_score column for each cv fold including the mean_test_score and std_test_score columns\n",
    "* a rank_test_score column with a number from 1 to n (number of iterations) ranking the rows based on their mean_test_score"
   ],
   "metadata": {
    "collapsed": false
   }
  },
  {
   "cell_type": "code",
   "execution_count": 13,
   "outputs": [
    {
     "name": "stderr",
     "output_type": "stream",
     "text": [
      "/Users/kakamana/opt/anaconda3/lib/python3.9/site-packages/sklearn/ensemble/_forest.py:424: FutureWarning: `max_features='auto'` has been deprecated in 1.1 and will be removed in 1.3. To keep the past behaviour, explicitly set `max_features='sqrt'` or remove this parameter as it is also the default value for RandomForestClassifiers and ExtraTreesClassifiers.\n",
      "  warn(\n",
      "/Users/kakamana/opt/anaconda3/lib/python3.9/site-packages/sklearn/ensemble/_forest.py:424: FutureWarning: `max_features='auto'` has been deprecated in 1.1 and will be removed in 1.3. To keep the past behaviour, explicitly set `max_features='sqrt'` or remove this parameter as it is also the default value for RandomForestClassifiers and ExtraTreesClassifiers.\n",
      "  warn(\n",
      "/Users/kakamana/opt/anaconda3/lib/python3.9/site-packages/sklearn/ensemble/_forest.py:424: FutureWarning: `max_features='auto'` has been deprecated in 1.1 and will be removed in 1.3. To keep the past behaviour, explicitly set `max_features='sqrt'` or remove this parameter as it is also the default value for RandomForestClassifiers and ExtraTreesClassifiers.\n",
      "  warn(\n",
      "/Users/kakamana/opt/anaconda3/lib/python3.9/site-packages/sklearn/ensemble/_forest.py:424: FutureWarning: `max_features='auto'` has been deprecated in 1.1 and will be removed in 1.3. To keep the past behaviour, explicitly set `max_features='sqrt'` or remove this parameter as it is also the default value for RandomForestClassifiers and ExtraTreesClassifiers.\n",
      "  warn(\n",
      "/Users/kakamana/opt/anaconda3/lib/python3.9/site-packages/sklearn/ensemble/_forest.py:424: FutureWarning: `max_features='auto'` has been deprecated in 1.1 and will be removed in 1.3. To keep the past behaviour, explicitly set `max_features='sqrt'` or remove this parameter as it is also the default value for RandomForestClassifiers and ExtraTreesClassifiers.\n",
      "  warn(\n",
      "/Users/kakamana/opt/anaconda3/lib/python3.9/site-packages/sklearn/ensemble/_forest.py:424: FutureWarning: `max_features='auto'` has been deprecated in 1.1 and will be removed in 1.3. To keep the past behaviour, explicitly set `max_features='sqrt'` or remove this parameter as it is also the default value for RandomForestClassifiers and ExtraTreesClassifiers.\n",
      "  warn(\n",
      "/Users/kakamana/opt/anaconda3/lib/python3.9/site-packages/sklearn/ensemble/_forest.py:424: FutureWarning: `max_features='auto'` has been deprecated in 1.1 and will be removed in 1.3. To keep the past behaviour, explicitly set `max_features='sqrt'` or remove this parameter as it is also the default value for RandomForestClassifiers and ExtraTreesClassifiers.\n",
      "  warn(\n",
      "/Users/kakamana/opt/anaconda3/lib/python3.9/site-packages/sklearn/ensemble/_forest.py:424: FutureWarning: `max_features='auto'` has been deprecated in 1.1 and will be removed in 1.3. To keep the past behaviour, explicitly set `max_features='sqrt'` or remove this parameter as it is also the default value for RandomForestClassifiers and ExtraTreesClassifiers.\n",
      "  warn(\n",
      "/Users/kakamana/opt/anaconda3/lib/python3.9/site-packages/sklearn/ensemble/_forest.py:424: FutureWarning: `max_features='auto'` has been deprecated in 1.1 and will be removed in 1.3. To keep the past behaviour, explicitly set `max_features='sqrt'` or remove this parameter as it is also the default value for RandomForestClassifiers and ExtraTreesClassifiers.\n",
      "  warn(\n",
      "/Users/kakamana/opt/anaconda3/lib/python3.9/site-packages/sklearn/ensemble/_forest.py:424: FutureWarning: `max_features='auto'` has been deprecated in 1.1 and will be removed in 1.3. To keep the past behaviour, explicitly set `max_features='sqrt'` or remove this parameter as it is also the default value for RandomForestClassifiers and ExtraTreesClassifiers.\n",
      "  warn(\n",
      "/Users/kakamana/opt/anaconda3/lib/python3.9/site-packages/sklearn/ensemble/_forest.py:424: FutureWarning: `max_features='auto'` has been deprecated in 1.1 and will be removed in 1.3. To keep the past behaviour, explicitly set `max_features='sqrt'` or remove this parameter as it is also the default value for RandomForestClassifiers and ExtraTreesClassifiers.\n",
      "  warn(\n",
      "/Users/kakamana/opt/anaconda3/lib/python3.9/site-packages/sklearn/ensemble/_forest.py:424: FutureWarning: `max_features='auto'` has been deprecated in 1.1 and will be removed in 1.3. To keep the past behaviour, explicitly set `max_features='sqrt'` or remove this parameter as it is also the default value for RandomForestClassifiers and ExtraTreesClassifiers.\n",
      "  warn(\n",
      "/Users/kakamana/opt/anaconda3/lib/python3.9/site-packages/sklearn/ensemble/_forest.py:424: FutureWarning: `max_features='auto'` has been deprecated in 1.1 and will be removed in 1.3. To keep the past behaviour, explicitly set `max_features='sqrt'` or remove this parameter as it is also the default value for RandomForestClassifiers and ExtraTreesClassifiers.\n",
      "  warn(\n",
      "/Users/kakamana/opt/anaconda3/lib/python3.9/site-packages/sklearn/ensemble/_forest.py:424: FutureWarning: `max_features='auto'` has been deprecated in 1.1 and will be removed in 1.3. To keep the past behaviour, explicitly set `max_features='sqrt'` or remove this parameter as it is also the default value for RandomForestClassifiers and ExtraTreesClassifiers.\n",
      "  warn(\n",
      "/Users/kakamana/opt/anaconda3/lib/python3.9/site-packages/sklearn/ensemble/_forest.py:424: FutureWarning: `max_features='auto'` has been deprecated in 1.1 and will be removed in 1.3. To keep the past behaviour, explicitly set `max_features='sqrt'` or remove this parameter as it is also the default value for RandomForestClassifiers and ExtraTreesClassifiers.\n",
      "  warn(\n",
      "/Users/kakamana/opt/anaconda3/lib/python3.9/site-packages/sklearn/ensemble/_forest.py:424: FutureWarning: `max_features='auto'` has been deprecated in 1.1 and will be removed in 1.3. To keep the past behaviour, explicitly set `max_features='sqrt'` or remove this parameter as it is also the default value for RandomForestClassifiers and ExtraTreesClassifiers.\n",
      "  warn(\n",
      "/Users/kakamana/opt/anaconda3/lib/python3.9/site-packages/sklearn/ensemble/_forest.py:424: FutureWarning: `max_features='auto'` has been deprecated in 1.1 and will be removed in 1.3. To keep the past behaviour, explicitly set `max_features='sqrt'` or remove this parameter as it is also the default value for RandomForestClassifiers and ExtraTreesClassifiers.\n",
      "  warn(\n",
      "/Users/kakamana/opt/anaconda3/lib/python3.9/site-packages/sklearn/ensemble/_forest.py:424: FutureWarning: `max_features='auto'` has been deprecated in 1.1 and will be removed in 1.3. To keep the past behaviour, explicitly set `max_features='sqrt'` or remove this parameter as it is also the default value for RandomForestClassifiers and ExtraTreesClassifiers.\n",
      "  warn(\n",
      "/Users/kakamana/opt/anaconda3/lib/python3.9/site-packages/sklearn/ensemble/_forest.py:424: FutureWarning: `max_features='auto'` has been deprecated in 1.1 and will be removed in 1.3. To keep the past behaviour, explicitly set `max_features='sqrt'` or remove this parameter as it is also the default value for RandomForestClassifiers and ExtraTreesClassifiers.\n",
      "  warn(\n",
      "/Users/kakamana/opt/anaconda3/lib/python3.9/site-packages/sklearn/ensemble/_forest.py:424: FutureWarning: `max_features='auto'` has been deprecated in 1.1 and will be removed in 1.3. To keep the past behaviour, explicitly set `max_features='sqrt'` or remove this parameter as it is also the default value for RandomForestClassifiers and ExtraTreesClassifiers.\n",
      "  warn(\n",
      "/Users/kakamana/opt/anaconda3/lib/python3.9/site-packages/sklearn/ensemble/_forest.py:424: FutureWarning: `max_features='auto'` has been deprecated in 1.1 and will be removed in 1.3. To keep the past behaviour, explicitly set `max_features='sqrt'` or remove this parameter as it is also the default value for RandomForestClassifiers and ExtraTreesClassifiers.\n",
      "  warn(\n"
     ]
    },
    {
     "name": "stdout",
     "output_type": "stream",
     "text": [
      "   mean_fit_time  std_fit_time  mean_score_time  std_score_time  \\\n",
      "0       0.553439      0.009132         0.013463        0.000448   \n",
      "1       0.531026      0.009878         0.013239        0.000555   \n",
      "2       0.914235      0.011106         0.017581        0.000717   \n",
      "3       0.945417      0.020631         0.017516        0.000926   \n",
      "4       1.644313      0.017119         0.026537        0.000673   \n",
      "5       1.627506      0.009529         0.026094        0.000421   \n",
      "6       2.613335      0.021025         0.041663        0.000498   \n",
      "7       2.599870      0.028571         0.041664        0.000323   \n",
      "\n",
      "  param_max_depth param_max_features  \\\n",
      "0               2               auto   \n",
      "1               2               sqrt   \n",
      "2               4               auto   \n",
      "3               4               sqrt   \n",
      "4               8               auto   \n",
      "5               8               sqrt   \n",
      "6              15               auto   \n",
      "7              15               sqrt   \n",
      "\n",
      "                                      params  split0_test_score  \\\n",
      "0   {'max_depth': 2, 'max_features': 'auto'}           0.766386   \n",
      "1   {'max_depth': 2, 'max_features': 'sqrt'}           0.763033   \n",
      "2   {'max_depth': 4, 'max_features': 'auto'}           0.770331   \n",
      "3   {'max_depth': 4, 'max_features': 'sqrt'}           0.769073   \n",
      "4   {'max_depth': 8, 'max_features': 'auto'}           0.774115   \n",
      "5   {'max_depth': 8, 'max_features': 'sqrt'}           0.772641   \n",
      "6  {'max_depth': 15, 'max_features': 'auto'}           0.766062   \n",
      "7  {'max_depth': 15, 'max_features': 'sqrt'}           0.769417   \n",
      "\n",
      "   split1_test_score  split2_test_score  ...  mean_test_score  std_test_score  \\\n",
      "0           0.762023           0.763215  ...         0.766701        0.003842   \n",
      "1           0.762789           0.761229  ...         0.765009        0.003320   \n",
      "2           0.766002           0.766667  ...         0.771341        0.004908   \n",
      "3           0.766696           0.768804  ...         0.771745        0.004521   \n",
      "4           0.770093           0.777018  ...         0.777718        0.005363   \n",
      "5           0.769696           0.774317  ...         0.776565        0.005625   \n",
      "6           0.765904           0.773864  ...         0.774454        0.007813   \n",
      "7           0.767425           0.775033  ...         0.775002        0.005939   \n",
      "\n",
      "   rank_test_score  split0_train_score  split1_train_score  \\\n",
      "0                7            0.768926            0.770673   \n",
      "1                8            0.770699            0.768162   \n",
      "2                6            0.779433            0.779525   \n",
      "3                5            0.777827            0.780215   \n",
      "4                1            0.829605            0.830069   \n",
      "5                2            0.828698            0.827135   \n",
      "6                4            0.974661            0.973459   \n",
      "7                3            0.975158            0.971872   \n",
      "\n",
      "   split2_train_score  split3_train_score  split4_train_score  \\\n",
      "0            0.770016            0.768063            0.769712   \n",
      "1            0.768304            0.767662            0.766671   \n",
      "2            0.777968            0.777477            0.777491   \n",
      "3            0.779218            0.777710            0.777653   \n",
      "4            0.828715            0.826782            0.825327   \n",
      "5            0.827792            0.825685            0.827783   \n",
      "6            0.972964            0.973317            0.975256   \n",
      "7            0.974634            0.972400            0.974306   \n",
      "\n",
      "   mean_train_score  std_train_score  \n",
      "0          0.769478         0.000903  \n",
      "1          0.768300         0.001329  \n",
      "2          0.778379         0.000916  \n",
      "3          0.778525         0.001025  \n",
      "4          0.828100         0.001786  \n",
      "5          0.827418         0.001000  \n",
      "6          0.973932         0.000874  \n",
      "7          0.973674         0.001296  \n",
      "\n",
      "[8 rows x 22 columns]\n",
      "                                      params\n",
      "0   {'max_depth': 2, 'max_features': 'auto'}\n",
      "1   {'max_depth': 2, 'max_features': 'sqrt'}\n",
      "2   {'max_depth': 4, 'max_features': 'auto'}\n",
      "3   {'max_depth': 4, 'max_features': 'sqrt'}\n",
      "4   {'max_depth': 8, 'max_features': 'auto'}\n",
      "5   {'max_depth': 8, 'max_features': 'sqrt'}\n",
      "6  {'max_depth': 15, 'max_features': 'auto'}\n",
      "7  {'max_depth': 15, 'max_features': 'sqrt'}\n",
      "   mean_fit_time  std_fit_time  mean_score_time  std_score_time  \\\n",
      "4       1.644313      0.017119         0.026537        0.000673   \n",
      "\n",
      "  param_max_depth param_max_features  \\\n",
      "4               8               auto   \n",
      "\n",
      "                                     params  split0_test_score  \\\n",
      "4  {'max_depth': 8, 'max_features': 'auto'}           0.774115   \n",
      "\n",
      "   split1_test_score  split2_test_score  ...  mean_test_score  std_test_score  \\\n",
      "4           0.770093           0.777018  ...         0.777718        0.005363   \n",
      "\n",
      "   rank_test_score  split0_train_score  split1_train_score  \\\n",
      "4                1            0.829605            0.830069   \n",
      "\n",
      "   split2_train_score  split3_train_score  split4_train_score  \\\n",
      "4            0.828715            0.826782            0.825327   \n",
      "\n",
      "   mean_train_score  std_train_score  \n",
      "4            0.8281         0.001786  \n",
      "\n",
      "[1 rows x 22 columns]\n"
     ]
    }
   ],
   "source": [
    "grid_rf_class.fit(X_train, y_train)\n",
    "\n",
    "# Read the cv_results property into adataframe & print it out\n",
    "cv_results_df = pd.DataFrame(grid_rf_class.cv_results_)\n",
    "print(cv_results_df)\n",
    "\n",
    "# Extract and print the column with a dictionary of hyperparameters used\n",
    "column = cv_results_df.loc[:, [\"params\"]]\n",
    "print(column)\n",
    "\n",
    "# Extract and print the row that had the best mean test score\n",
    "best_row = cv_results_df[cv_results_df['rank_test_score'] == 1]\n",
    "print(best_row)"
   ],
   "metadata": {
    "collapsed": false
   }
  },
  {
   "cell_type": "markdown",
   "source": [
    "## Analyzing the best results\n",
    "At the end of the day, we primarily care about the best performing 'square' in a grid search. Luckily Scikit Learn's gridSearchCV objects have a number of parameters that provide key information on just the best square (or row in cv_results_).\n",
    "\n",
    "Three properties you will explore are:\n",
    "\n",
    "* best_score_ – The score (here ROC_AUC) from the best-performing square.\n",
    "* best_index_ – The index of the row in cv_results_ containing information on the best-performing square.\n",
    "* best_params_ – A dictionary of the parameters that gave the best score, for example 'max_depth': 10"
   ],
   "metadata": {
    "collapsed": false
   }
  },
  {
   "cell_type": "code",
   "execution_count": 14,
   "outputs": [
    {
     "name": "stdout",
     "output_type": "stream",
     "text": [
      "0.777717676012218\n",
      "   mean_fit_time  std_fit_time  mean_score_time  std_score_time  \\\n",
      "4       1.644313      0.017119         0.026537        0.000673   \n",
      "\n",
      "  param_max_depth param_max_features  \\\n",
      "4               8               auto   \n",
      "\n",
      "                                     params  split0_test_score  \\\n",
      "4  {'max_depth': 8, 'max_features': 'auto'}           0.774115   \n",
      "\n",
      "   split1_test_score  split2_test_score  ...  mean_test_score  std_test_score  \\\n",
      "4           0.770093           0.777018  ...         0.777718        0.005363   \n",
      "\n",
      "   rank_test_score  split0_train_score  split1_train_score  \\\n",
      "4                1            0.829605            0.830069   \n",
      "\n",
      "   split2_train_score  split3_train_score  split4_train_score  \\\n",
      "4            0.828715            0.826782            0.825327   \n",
      "\n",
      "   mean_train_score  std_train_score  \n",
      "4            0.8281         0.001786  \n",
      "\n",
      "[1 rows x 22 columns]\n",
      "8\n"
     ]
    }
   ],
   "source": [
    "best_score = grid_rf_class.best_score_\n",
    "print(best_score)\n",
    "\n",
    "# Create a variable from the row related to the best-performing square\n",
    "cv_results_df = pd.DataFrame(grid_rf_class.cv_results_)\n",
    "best_row = cv_results_df.loc[[grid_rf_class.best_index_]]\n",
    "print(best_row)\n",
    "\n",
    "# Get the max_depth parameter from the best-performing square and print\n",
    "best_max_depth = grid_rf_class.best_params_['max_depth']\n",
    "print(best_max_depth)"
   ],
   "metadata": {
    "collapsed": false
   }
  },
  {
   "cell_type": "markdown",
   "source": [
    "## Using the best results\n",
    "While it is interesting to analyze the results of our grid search, our final goal is practical in nature; we want to make predictions on our test set using our estimator object.\n",
    "\n",
    "We can access this object through the best_estimator_ property of our grid search object.\n",
    "\n",
    "In this exercise we will take a look inside the best_estimator_ property and then use this to make predictions on our test set for credit card defaults and generate a variety of scores. Remember to use predict_proba rather than predict since we need probability values rather than class labels for our roc_auc score. We use a slice [:,1] to get probabilities of the positive class."
   ],
   "metadata": {
    "collapsed": false
   }
  },
  {
   "cell_type": "code",
   "execution_count": 15,
   "outputs": [
    {
     "name": "stdout",
     "output_type": "stream",
     "text": [
      "<class 'sklearn.ensemble._forest.RandomForestClassifier'>\n",
      "[0 0 0 0 0]\n",
      "Confusion Matrix \n",
      " [[6712  331]\n",
      " [1248  709]]\n",
      "ROC-AUC Score \n",
      " 0.7819188805230386\n"
     ]
    }
   ],
   "source": [
    "from sklearn.metrics import confusion_matrix, roc_auc_score\n",
    "\n",
    "# See what type of object the best_estimator_property is\n",
    "print(type(grid_rf_class.best_estimator_))\n",
    "\n",
    "# Create an array of predictions directly using the best_estimator_property\n",
    "predictions = grid_rf_class.best_estimator_.predict(X_test)\n",
    "\n",
    "# Take a look to confirm it worked, this should be an array of 1's and 0's\n",
    "print(predictions[0:5])\n",
    "\n",
    "# Now create a confusion matrix\n",
    "print(\"Confusion Matrix \\n\", confusion_matrix(y_test, predictions))\n",
    "\n",
    "# Get the ROC-AUC score\n",
    "predictions_proba = grid_rf_class.best_estimator_.predict_proba(X_test)[:, 1]\n",
    "print(\"ROC-AUC Score \\n\", roc_auc_score(y_test, predictions_proba))"
   ],
   "metadata": {
    "collapsed": false
   }
  },
  {
   "cell_type": "code",
   "execution_count": null,
   "outputs": [],
   "source": [],
   "metadata": {
    "collapsed": false
   }
  }
 ],
 "metadata": {
  "kernelspec": {
   "display_name": "Python 3",
   "language": "python",
   "name": "python3"
  },
  "language_info": {
   "codemirror_mode": {
    "name": "ipython",
    "version": 2
   },
   "file_extension": ".py",
   "mimetype": "text/x-python",
   "name": "python",
   "nbconvert_exporter": "python",
   "pygments_lexer": "ipython2",
   "version": "2.7.6"
  }
 },
 "nbformat": 4,
 "nbformat_minor": 0
}
