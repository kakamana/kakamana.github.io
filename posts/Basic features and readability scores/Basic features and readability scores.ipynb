{
 "cells": [
  {
   "cell_type": "markdown",
   "source": [
    "---\n",
    "title: \"Basic features and readability scores\"\n",
    "format:\n",
    "  html:\n",
    "    code-fold: true\n",
    "jupyter: python3\n",
    "author: \"kakamana\"\n",
    "date: \"2023-03-30\"\n",
    "categories: [python, datacamp, machine learning, nlp, feature engineering]\n",
    "image: \"readabilityScore.png\"\n",
    "\n",
    "---"
   ],
   "metadata": {
    "collapsed": false
   }
  },
  {
   "cell_type": "markdown",
   "source": [
    "# Basic features and readability scores\n",
    "\n",
    "You will learn how to calculate basic features such as word count, character count, average word length, and special characters (such as Twitter hashtags and mentions). In addition, you will be taught how to compute readability scores and how much education is required to comprehend text.\n",
    "\n",
    "This **Basic features and readability scores\" classifier** is part of [Datacamp course: Introduction to Natural Language Processing in Python] This course teaches techniques for extracting useful information from text and converting it into a format suitable for ML models. You will learn about POS tagging, named entity recognition, readability scores, n-gram and tf-idf models, and how to implement them using scikit-learn and spaCy. Additionally, you will learn how to calculate the similarity between two documents. During this process, you will be able to predict the sentiment of movie reviews and build recommenders for movies and Ted Talks. In the course of this course, you will learn how to engineer critical features from any text and solve some of the most challenging problems in data science.\n",
    "\n",
    "This is my learning experience of data science through DataCamp. These repository contributions are part of my learning journey through my graduate program masters of applied data sciences (MADS) at University Of Michigan, [DeepLearning.AI], [Coursera] & [DataCamp]. You can find my similar articles & more stories at my [medium] & [LinkedIn] profile. I am available at [kaggle] & [github blogs] & [github repos]. Thank you for your motivation, support & valuable feedback.\n",
    "\n",
    "These include projects, coursework & notebook which I learned through my data science journey. They are created for reproducible & future reference purpose only. All source code, slides or screenshot are intellactual property of respective content authors. If you find these contents beneficial, kindly consider learning subscription from [DeepLearning.AI Subscription], [Coursera], [DataCamp]\n",
    "\n",
    "\n",
    "\n",
    "[DeepLearning.AI]: https://www.deeplearning.ai\n",
    "[DeepLearning.AI Subscription]: https://www.deeplearning.ai\n",
    "[Coursera]: https://www.coursera.org\n",
    "[DataCamp]: https://www.datacamp.com\n",
    "[medium]: https://medium.com/@kamig4u\n",
    "[LinkedIn]: https://www.linkedin.com/in/asadenterprisearchitect\n",
    "[kaggle]: https://www.kaggle.com/kakamana\n",
    "[github blogs]: https://kakamana.github.io\n",
    "[github repos]: https://github.com/kakamana\n",
    "[Datacamp course: Introduction to Natural Language Processing in Python]: (https://app.datacamp.com/learn/courses/feature-engineering-for-nlp-in-python)"
   ],
   "metadata": {
    "collapsed": false
   }
  },
  {
   "cell_type": "code",
   "execution_count": 2,
   "outputs": [],
   "source": [
    "import pandas as pd\n",
    "import numpy as np\n",
    "import matplotlib.pyplot as plt\n",
    "\n",
    "plt.rcParams['figure.figsize'] = (8, 8)"
   ],
   "metadata": {
    "collapsed": false
   }
  },
  {
   "cell_type": "markdown",
   "source": [
    "# Introduction to NLP feature engineering\n",
    "\n",
    "## One-hot encoding\n",
    "\n",
    "We encountered a dataframe df1 which contained categorical features and therefore, was unsuitable for applying ML algorithms to.\n",
    "\n",
    "In this exercise, your task is to convert df1 into a format that is suitable for machine learning."
   ],
   "metadata": {
    "collapsed": false
   }
  },
  {
   "cell_type": "code",
   "execution_count": 4,
   "outputs": [
    {
     "data": {
      "text/plain": "   feature 1  feature 2  feature 3  feature 4 feature 5  label\n0     29.000          0          0    211.338    female      1\n1      0.917          1          2    151.550      male      1\n2      2.000          1          2    151.550    female      0\n3     30.000          1          2    151.550      male      0\n4     25.000          1          2    151.550    female      0",
      "text/html": "<div>\n<style scoped>\n    .dataframe tbody tr th:only-of-type {\n        vertical-align: middle;\n    }\n\n    .dataframe tbody tr th {\n        vertical-align: top;\n    }\n\n    .dataframe thead th {\n        text-align: right;\n    }\n</style>\n<table border=\"1\" class=\"dataframe\">\n  <thead>\n    <tr style=\"text-align: right;\">\n      <th></th>\n      <th>feature 1</th>\n      <th>feature 2</th>\n      <th>feature 3</th>\n      <th>feature 4</th>\n      <th>feature 5</th>\n      <th>label</th>\n    </tr>\n  </thead>\n  <tbody>\n    <tr>\n      <th>0</th>\n      <td>29.000</td>\n      <td>0</td>\n      <td>0</td>\n      <td>211.338</td>\n      <td>female</td>\n      <td>1</td>\n    </tr>\n    <tr>\n      <th>1</th>\n      <td>0.917</td>\n      <td>1</td>\n      <td>2</td>\n      <td>151.550</td>\n      <td>male</td>\n      <td>1</td>\n    </tr>\n    <tr>\n      <th>2</th>\n      <td>2.000</td>\n      <td>1</td>\n      <td>2</td>\n      <td>151.550</td>\n      <td>female</td>\n      <td>0</td>\n    </tr>\n    <tr>\n      <th>3</th>\n      <td>30.000</td>\n      <td>1</td>\n      <td>2</td>\n      <td>151.550</td>\n      <td>male</td>\n      <td>0</td>\n    </tr>\n    <tr>\n      <th>4</th>\n      <td>25.000</td>\n      <td>1</td>\n      <td>2</td>\n      <td>151.550</td>\n      <td>female</td>\n      <td>0</td>\n    </tr>\n  </tbody>\n</table>\n</div>"
     },
     "execution_count": 4,
     "metadata": {},
     "output_type": "execute_result"
    }
   ],
   "source": [
    "df1 = pd.read_csv('dataset/FE_df1.csv')\n",
    "df1.head()"
   ],
   "metadata": {
    "collapsed": false
   }
  },
  {
   "cell_type": "code",
   "execution_count": 5,
   "outputs": [
    {
     "name": "stdout",
     "output_type": "stream",
     "text": [
      "Index(['feature 1', 'feature 2', 'feature 3', 'feature 4', 'feature 5',\n",
      "       'label'],\n",
      "      dtype='object')\n",
      "Index(['feature 1', 'feature 2', 'feature 3', 'feature 4', 'label',\n",
      "       'feature 5_female', 'feature 5_male'],\n",
      "      dtype='object')\n",
      "   feature 1  feature 2  feature 3  feature 4  label  feature 5_female  \\\n",
      "0     29.000          0          0    211.338      1                 1   \n",
      "1      0.917          1          2    151.550      1                 0   \n",
      "2      2.000          1          2    151.550      0                 1   \n",
      "3     30.000          1          2    151.550      0                 0   \n",
      "4     25.000          1          2    151.550      0                 1   \n",
      "\n",
      "   feature 5_male  \n",
      "0               0  \n",
      "1               1  \n",
      "2               0  \n",
      "3               1  \n",
      "4               0  \n"
     ]
    }
   ],
   "source": [
    "print(df1.columns)\n",
    "\n",
    "# Perform one-hot encoding\n",
    "df1 = pd.get_dummies(df1, columns=['feature 5'])\n",
    "\n",
    "# Print the new features of df1\n",
    "print(df1.columns)\n",
    "\n",
    "# Print first five rows of df1\n",
    "print(df1.head())"
   ],
   "metadata": {
    "collapsed": false
   }
  },
  {
   "cell_type": "markdown",
   "source": [
    "# Basic feature extraction\n",
    "## Character count of Russian tweets\n",
    "\n",
    "In this exercise, you have been given a dataframe tweets which contains some tweets associated with Russia's Internet Research Agency and compiled by FiveThirtyEight.\n",
    "\n",
    "Your task is to create a new feature 'char_count' in tweets which computes the number of characters for each tweet. Also, compute the average length of each tweet. The tweets are available in the content feature of tweets."
   ],
   "metadata": {
    "collapsed": false
   }
  },
  {
   "cell_type": "code",
   "execution_count": 6,
   "outputs": [
    {
     "data": {
      "text/plain": "   Unnamed: 0                                            content\n0      127447  LIVE STREAM VIDEO=> Donald Trump Rallies in Co...\n1      123642  Muslim Attacks NYPD Cops with Meat Cleaver. Me...\n2      226970  .@vfpatlas well that's a swella word there (di...\n3      138339  RT wehking_pamela: Bobby_Axelrod2k MMFlint don...\n4      161610  Жители обстреливаемых районов Донецка проводят...",
      "text/html": "<div>\n<style scoped>\n    .dataframe tbody tr th:only-of-type {\n        vertical-align: middle;\n    }\n\n    .dataframe tbody tr th {\n        vertical-align: top;\n    }\n\n    .dataframe thead th {\n        text-align: right;\n    }\n</style>\n<table border=\"1\" class=\"dataframe\">\n  <thead>\n    <tr style=\"text-align: right;\">\n      <th></th>\n      <th>Unnamed: 0</th>\n      <th>content</th>\n    </tr>\n  </thead>\n  <tbody>\n    <tr>\n      <th>0</th>\n      <td>127447</td>\n      <td>LIVE STREAM VIDEO=&gt; Donald Trump Rallies in Co...</td>\n    </tr>\n    <tr>\n      <th>1</th>\n      <td>123642</td>\n      <td>Muslim Attacks NYPD Cops with Meat Cleaver. Me...</td>\n    </tr>\n    <tr>\n      <th>2</th>\n      <td>226970</td>\n      <td>.@vfpatlas well that's a swella word there (di...</td>\n    </tr>\n    <tr>\n      <th>3</th>\n      <td>138339</td>\n      <td>RT wehking_pamela: Bobby_Axelrod2k MMFlint don...</td>\n    </tr>\n    <tr>\n      <th>4</th>\n      <td>161610</td>\n      <td>Жители обстреливаемых районов Донецка проводят...</td>\n    </tr>\n  </tbody>\n</table>\n</div>"
     },
     "execution_count": 6,
     "metadata": {},
     "output_type": "execute_result"
    }
   ],
   "source": [
    "tweets = pd.read_csv('dataset/russian_tweets.csv')\n",
    "tweets.head()"
   ],
   "metadata": {
    "collapsed": false
   }
  },
  {
   "cell_type": "code",
   "execution_count": 9,
   "outputs": [
    {
     "name": "stdout",
     "output_type": "stream",
     "text": [
      "103.462\n",
      "\n",
      "Notice that the average character count of these tweets is approximately 104, which is much higher than the overall average tweet length of around 40 characters. Depending on what you're working on, this may be something worth investigating into. For your information, there is research that indicates that fake news articles tend to have longer titles! Therefore, even extremely basic features such as character counts can prove to be very useful in certain applications.\n"
     ]
    }
   ],
   "source": [
    "# Create a feature char_count\n",
    "tweets['char_count'] = tweets['content'].apply(len)\n",
    "\n",
    "# Print the average character count\n",
    "print(tweets['char_count'].mean())\n",
    "\n",
    "print(\"\\nNotice that the average character count of these tweets is approximately 104, which is much higher than the overall average tweet length of around 40 characters. Depending on what you're working on, this may be something worth investigating into. For your information, there is research that indicates that fake news articles tend to have longer titles! Therefore, even extremely basic features such as character counts can prove to be very useful in certain applications.\")"
   ],
   "metadata": {
    "collapsed": false
   }
  },
  {
   "cell_type": "markdown",
   "source": [
    "## Word count of TED talks\n",
    "\n",
    "ted is a dataframe that contains the transcripts of 500 TED talks. Your job is to compute a new feature word_count which contains the approximate number of words for each talk. Consequently, you also need to compute the average word count of the talks. The transcripts are available as the transcript feature in ted."
   ],
   "metadata": {
    "collapsed": false
   }
  },
  {
   "cell_type": "code",
   "execution_count": 10,
   "outputs": [
    {
     "data": {
      "text/plain": "                                          transcript  \\\n0  We're going to talk — my — a new lecture, just...   \n1  This is a representation of your brain, and yo...   \n2  It's a great honor today to share with you The...   \n3  My passions are music, technology and making t...   \n4  It used to be that if you wanted to get a comp...   \n\n                                                 url  \n0  https://www.ted.com/talks/al_seckel_says_our_b...  \n1  https://www.ted.com/talks/aaron_o_connell_maki...  \n2  https://www.ted.com/talks/carter_emmart_demos_...  \n3  https://www.ted.com/talks/jared_ficklin_new_wa...  \n4  https://www.ted.com/talks/jeremy_howard_the_wo...  ",
      "text/html": "<div>\n<style scoped>\n    .dataframe tbody tr th:only-of-type {\n        vertical-align: middle;\n    }\n\n    .dataframe tbody tr th {\n        vertical-align: top;\n    }\n\n    .dataframe thead th {\n        text-align: right;\n    }\n</style>\n<table border=\"1\" class=\"dataframe\">\n  <thead>\n    <tr style=\"text-align: right;\">\n      <th></th>\n      <th>transcript</th>\n      <th>url</th>\n    </tr>\n  </thead>\n  <tbody>\n    <tr>\n      <th>0</th>\n      <td>We're going to talk — my — a new lecture, just...</td>\n      <td>https://www.ted.com/talks/al_seckel_says_our_b...</td>\n    </tr>\n    <tr>\n      <th>1</th>\n      <td>This is a representation of your brain, and yo...</td>\n      <td>https://www.ted.com/talks/aaron_o_connell_maki...</td>\n    </tr>\n    <tr>\n      <th>2</th>\n      <td>It's a great honor today to share with you The...</td>\n      <td>https://www.ted.com/talks/carter_emmart_demos_...</td>\n    </tr>\n    <tr>\n      <th>3</th>\n      <td>My passions are music, technology and making t...</td>\n      <td>https://www.ted.com/talks/jared_ficklin_new_wa...</td>\n    </tr>\n    <tr>\n      <th>4</th>\n      <td>It used to be that if you wanted to get a comp...</td>\n      <td>https://www.ted.com/talks/jeremy_howard_the_wo...</td>\n    </tr>\n  </tbody>\n</table>\n</div>"
     },
     "execution_count": 10,
     "metadata": {},
     "output_type": "execute_result"
    }
   ],
   "source": [
    "ted = pd.read_csv('dataset/ted.csv')\n",
    "ted.head()"
   ],
   "metadata": {
    "collapsed": false
   }
  },
  {
   "cell_type": "code",
   "execution_count": 12,
   "outputs": [
    {
     "name": "stdout",
     "output_type": "stream",
     "text": [
      "1987.1\n",
      "\n",
      "You now know how to compute the number of words in a given piece of text. Also, notice that the average length of a talk is close to 2000 words. You can use the word_count feature to compute its correlation with other variables such as number of views, number of comments, etc. and derive extremely interesting insights about TED.\n"
     ]
    }
   ],
   "source": [
    "# Function that returns number of words in a string\n",
    "def count_words(string):\n",
    "\t# Split the string into words\n",
    "    words = string.split()\n",
    "\n",
    "    # Return the number of words\n",
    "    return len(words)\n",
    "\n",
    "# Create a new feature word_count\n",
    "ted['word_count'] = ted['transcript'].apply(count_words)\n",
    "\n",
    "# Print the average word count of the talks\n",
    "print(ted['word_count'].mean())\n",
    "\n",
    "print(\"\\nYou now know how to compute the number of words in a given piece of text. Also, notice that the average length of a talk is close to 2000 words. You can use the word_count feature to compute its correlation with other variables such as number of views, number of comments, etc. and derive extremely interesting insights about TED.\")"
   ],
   "metadata": {
    "collapsed": false
   }
  },
  {
   "cell_type": "markdown",
   "source": [
    "## Hashtags and mentions in Russian tweets\n",
    "\n",
    "Let's revisit the tweets dataframe containing the Russian tweets. In this exercise, you will compute the number of hashtags and mentions in each tweet by defining two functions count_hashtags() and count_mentions() respectively and applying them to the content feature of tweets."
   ],
   "metadata": {
    "collapsed": false
   }
  },
  {
   "cell_type": "code",
   "execution_count": 13,
   "outputs": [
    {
     "data": {
      "text/plain": "<Figure size 432x288 with 1 Axes>",
      "image/png": "[encoded data removed]"
     },
     "metadata": {
      "needs_background": "light"
     },
     "output_type": "display_data"
    }
   ],
   "source": [
    "# Function that returns numner of hashtags in a string\n",
    "def count_hashtags(string):\n",
    "\t# Split the string into words\n",
    "    words = string.split()\n",
    "\n",
    "    # Create a list of words that are hashtags\n",
    "    hashtags = [word for word in words if word.startswith('#')]\n",
    "\n",
    "    # Return number of hashtags\n",
    "    return(len(hashtags))\n",
    "\n",
    "# Create a feature hashtag_count and display distribution\n",
    "tweets['hashtag_count'] = tweets['content'].apply(count_hashtags)\n",
    "tweets['hashtag_count'].hist()\n",
    "plt.title('Hashtag count distribution')\n",
    "plt.show()"
   ],
   "metadata": {
    "collapsed": false
   }
  },
  {
   "cell_type": "code",
   "execution_count": 14,
   "outputs": [
    {
     "data": {
      "text/plain": "<Figure size 432x288 with 1 Axes>",
      "image/png": "[encoded data removed]"
     },
     "metadata": {
      "needs_background": "light"
     },
     "output_type": "display_data"
    }
   ],
   "source": [
    "# Function that returns number of mentions in a string\n",
    "def count_mentions(string):\n",
    "\t# Split the string into words\n",
    "    words = string.split()\n",
    "\n",
    "    # Create a list of words that are mentions\n",
    "    mentions = [word for word in words if word.startswith('@')]\n",
    "\n",
    "    # Return number of mentions\n",
    "    return(len(mentions))\n",
    "\n",
    "# Create a feature mention_count and display distribution\n",
    "tweets['mention_count'] = tweets['content'].apply(count_mentions)\n",
    "tweets['mention_count'].hist()\n",
    "plt.title('Mention count distribution')\n",
    "plt.show()"
   ],
   "metadata": {
    "collapsed": false
   }
  },
  {
   "cell_type": "markdown",
   "source": [
    "# Readability tests\n",
    "\n",
    "* Readability test\n",
    "    * Determine readability of an English passage\n",
    "    * Scale ranging from primary school up to college graduate level\n",
    "    * A mathematical formula utilizing word, syllable and sentence count\n",
    "    * Used in fake news and opinion spam detection\n",
    "* Examples\n",
    "    * Flesch reading ease\n",
    "    * Gunning fog index\n",
    "    * Simple Measure of Gobbledygook (SMOG)\n",
    "    * Dale-Chall score\n",
    "* Flesch reading ease\n",
    "    * One of the oldest and most widely used tests\n",
    "    * Dependent on two factors\n",
    "        * Greater the average sentence length, harder the text is to read\n",
    "        * Greater the average number of syllables in a word, harder the text is to read\n",
    "    * Higher the score, greater the readability\n",
    "* Gunning fog index\n",
    "    * Developed in 1954\n",
    "    * Also dependent on average sentence length\n",
    "    * Greater the percentage of complex words, harder the text is to read\n",
    "    * Higher the index, lesser the readability\n",
    "\n"
   ],
   "metadata": {
    "collapsed": false
   }
  },
  {
   "cell_type": "markdown",
   "source": [
    "## Readability of 'The Myth of Sisyphus'\n",
    "\n",
    "In this exercise, you will compute the Flesch reading ease score for Albert Camus' famous essay The Myth of Sisyphus. We will then interpret the value of this score as explained in the video and try to determine the reading level of the essay."
   ],
   "metadata": {
    "collapsed": false
   }
  },
  {
   "cell_type": "code",
   "execution_count": 15,
   "outputs": [
    {
     "data": {
      "text/plain": "'\\\\nThe gods had condemned Sisyphus to ceaselessly rolling a rock to the top of a mountain, whence the'"
     },
     "execution_count": 15,
     "metadata": {},
     "output_type": "execute_result"
    }
   ],
   "source": [
    "with open('dataset/sisyphus_essay.txt', 'r') as f:\n",
    "    sisyphus_essay = f.read()\n",
    "sisyphus_essay[:100]"
   ],
   "metadata": {
    "collapsed": false
   }
  },
  {
   "cell_type": "code",
   "execution_count": 17,
   "outputs": [
    {
     "name": "stdout",
     "output_type": "stream",
     "text": [
      "The Flesch Reading Ease is 81.61\n",
      "\n",
      "Notice that the score for this essay is approximately 81.67. This indicates that the essay is at the readability level of a 6th grade American student.\n"
     ]
    }
   ],
   "source": [
    "# Import Textatistic\n",
    "from textatistic import Textatistic\n",
    "\n",
    "# Compute the readability scores\n",
    "readability_scores = Textatistic(sisyphus_essay).scores\n",
    "\n",
    "# Print the flesch reading ease score\n",
    "flesch = readability_scores['flesch_score']\n",
    "print(\"The Flesch Reading Ease is %.2f\" % (flesch))\n",
    "\n",
    "print(\"\\nNotice that the score for this essay is approximately 81.67. This indicates that the essay is at the readability level of a 6th grade American student.\")"
   ],
   "metadata": {
    "collapsed": false
   }
  },
  {
   "cell_type": "markdown",
   "source": [
    "## Readability of various publications\n",
    "\n",
    "In this exercise, you have been given excerpts of articles from four publications. Your task is to compute the readability of these excerpts using the Gunning fog index and consequently, determine the relative difficulty of reading these publications.\n",
    "\n",
    "The excerpts are available as the following strings:\n",
    "\n",
    "    forbes- An excerpt from an article from Forbes magazine on the Chinese social credit score system.\n",
    "    harvard_law- An excerpt from a book review published in Harvard Law Review.\n",
    "    r_digest- An excerpt from a Reader's Digest article on flight turbulence.\n",
    "    time_kids - An excerpt from an article on the ill effects of salt consumption published in TIME for Kids.\n"
   ],
   "metadata": {
    "collapsed": false
   }
  },
  {
   "cell_type": "code",
   "execution_count": 18,
   "outputs": [
    {
     "data": {
      "text/plain": "['dataset\\\\blog.txt',\n 'dataset\\\\forbes.txt',\n 'dataset\\\\gettysburg.txt',\n 'dataset\\\\harvard_law.txt',\n 'dataset\\\\hey.txt',\n 'dataset\\\\hopes.txt',\n 'dataset\\\\lotf.txt',\n 'dataset\\\\mother.txt',\n 'dataset\\\\r_digest.txt',\n 'dataset\\\\sisyphus_essay.txt',\n 'dataset\\\\tc.txt',\n 'dataset\\\\time_kids.txt']"
     },
     "execution_count": 18,
     "metadata": {},
     "output_type": "execute_result"
    }
   ],
   "source": [
    "import glob\n",
    "texts = []\n",
    "text_list = glob.glob('dataset/*.txt')\n",
    "\n",
    "text_list"
   ],
   "metadata": {
    "collapsed": false
   }
  },
  {
   "cell_type": "code",
   "execution_count": 20,
   "outputs": [],
   "source": [
    "file_list = ['time_kids', 'forbes', 'r_digest', 'harvard_law']\n",
    "for text in text_list:\n",
    "    for f in file_list:\n",
    "        if f in text:\n",
    "            with open(text, 'r',encoding=\"utf8\") as f:\n",
    "                texts.append(f.read())\n",
    "\n",
    "time_kids, forbes, r_digest, harvard_law = texts"
   ],
   "metadata": {
    "collapsed": false
   }
  },
  {
   "cell_type": "code",
   "execution_count": 22,
   "outputs": [
    {
     "name": "stdout",
     "output_type": "stream",
     "text": [
      "[20.735401069518716, 5.926785009861934, 11.085587583148559, 14.436002482929858]\n",
      "\n",
      "Notice that the Harvard Law Review excerpt has the highest Gunning fog index; indicating that it can be comprehended only by readers who have graduated college. On the other hand, the Time for Kids article, intended for children, has a much lower fog index and can be comprehended by 5th grade students.\n"
     ]
    }
   ],
   "source": [
    "# Import Textatistic\n",
    "from textatistic import Textatistic\n",
    "\n",
    "# List of excerpts\n",
    "excerpts = [forbes, harvard_law, r_digest, time_kids]\n",
    "\n",
    "# Loop through excerpts and compute gunning fog index\n",
    "gunning_fog_scores = []\n",
    "for excerpt in excerpts:\n",
    "  readability_scores = Textatistic(excerpt).scores\n",
    "  gunning_fog = readability_scores['gunningfog_score']\n",
    "  gunning_fog_scores.append(gunning_fog)\n",
    "\n",
    "# Print the gunning fog indices\n",
    "print(gunning_fog_scores)\n",
    "print(\"\\nNotice that the Harvard Law Review excerpt has the highest Gunning fog index; indicating that it can be comprehended only by readers who have graduated college. On the other hand, the Time for Kids article, intended for children, has a much lower fog index and can be comprehended by 5th grade students.\")"
   ],
   "metadata": {
    "collapsed": false
   }
  },
  {
   "cell_type": "code",
   "execution_count": null,
   "outputs": [],
   "source": [],
   "metadata": {
    "collapsed": false
   }
  }
 ],
 "metadata": {
  "kernelspec": {
   "display_name": "Python 3",
   "language": "python",
   "name": "python3"
  },
  "language_info": {
   "codemirror_mode": {
    "name": "ipython",
    "version": 2
   },
   "file_extension": ".py",
   "mimetype": "text/x-python",
   "name": "python",
   "nbconvert_exporter": "python",
   "pygments_lexer": "ipython2",
   "version": "2.7.6"
  }
 },
 "nbformat": 4,
 "nbformat_minor": 0
}
