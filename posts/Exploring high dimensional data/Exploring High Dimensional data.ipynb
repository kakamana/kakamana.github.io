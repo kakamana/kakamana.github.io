{
 "cells": [
  {
   "cell_type": "markdown",
   "source": [
    "---\n",
    "title: \"Exploring High Dimensional Data\"\n",
    "title-block-banner: true\n",
    "format:\n",
    "  html:\n",
    "    code-fold: true\n",
    "jupyter: python3\n",
    "author: \"kakamana\"\n",
    "date: \"2023-01-22\"\n",
    "categories: [python, datacamp, feature engineering, machine learning, dimension ]\n",
    "image: \"exploringDimension.jpg\"\n",
    "\n",
    "---"
   ],
   "metadata": {
    "collapsed": false
   }
  },
  {
   "cell_type": "markdown",
   "source": [
    "# Exploring High Dimensional Data\n",
    "\n",
    "It will introduce us to dimensionality reduction and explain why and when it is important. It will also teach us the difference between feature selection and feature extraction, and we'll learn how to apply both techniques for data exploration. Finally, the chapter covers t-SNE, a powerful feature extraction method for analyzing high-dimensional data.\n",
    "\n",
    "This **Exploring High Dimensional Data** is part of [Datacamp course: Hypothesis Testing in Python](https://app.datacamp.com/learn/courses/hypothesis-testing-in-python)\n",
    "\n",
    "This is my learning experience of data science through DataCamp"
   ],
   "metadata": {
    "collapsed": false
   }
  },
  {
   "cell_type": "code",
   "execution_count": 1,
   "outputs": [],
   "source": [
    "import pandas as pd\n",
    "import numpy as np\n",
    "import matplotlib.pyplot as plt\n",
    "import seaborn as sns\n",
    "\n",
    "plt.rcParams['figure.figsize'] = (10, 5)"
   ],
   "metadata": {
    "collapsed": false
   }
  },
  {
   "cell_type": "code",
   "execution_count": 2,
   "outputs": [
    {
     "data": {
      "text/plain": "   HP  Attack  Defense  Generation                   Name   Type  Legendary\n0  45      49       49           1              Bulbasaur  Grass      False\n1  60      62       63           1                Ivysaur  Grass      False\n2  80      82       83           1               Venusaur  Grass      False\n3  80     100      123           1  VenusaurMega Venusaur  Grass      False\n4  39      52       43           1             Charmander   Fire      False",
      "text/html": "<div>\n<style scoped>\n    .dataframe tbody tr th:only-of-type {\n        vertical-align: middle;\n    }\n\n    .dataframe tbody tr th {\n        vertical-align: top;\n    }\n\n    .dataframe thead th {\n        text-align: right;\n    }\n</style>\n<table border=\"1\" class=\"dataframe\">\n  <thead>\n    <tr style=\"text-align: right;\">\n      <th></th>\n      <th>HP</th>\n      <th>Attack</th>\n      <th>Defense</th>\n      <th>Generation</th>\n      <th>Name</th>\n      <th>Type</th>\n      <th>Legendary</th>\n    </tr>\n  </thead>\n  <tbody>\n    <tr>\n      <th>0</th>\n      <td>45</td>\n      <td>49</td>\n      <td>49</td>\n      <td>1</td>\n      <td>Bulbasaur</td>\n      <td>Grass</td>\n      <td>False</td>\n    </tr>\n    <tr>\n      <th>1</th>\n      <td>60</td>\n      <td>62</td>\n      <td>63</td>\n      <td>1</td>\n      <td>Ivysaur</td>\n      <td>Grass</td>\n      <td>False</td>\n    </tr>\n    <tr>\n      <th>2</th>\n      <td>80</td>\n      <td>82</td>\n      <td>83</td>\n      <td>1</td>\n      <td>Venusaur</td>\n      <td>Grass</td>\n      <td>False</td>\n    </tr>\n    <tr>\n      <th>3</th>\n      <td>80</td>\n      <td>100</td>\n      <td>123</td>\n      <td>1</td>\n      <td>VenusaurMega Venusaur</td>\n      <td>Grass</td>\n      <td>False</td>\n    </tr>\n    <tr>\n      <th>4</th>\n      <td>39</td>\n      <td>52</td>\n      <td>43</td>\n      <td>1</td>\n      <td>Charmander</td>\n      <td>Fire</td>\n      <td>False</td>\n    </tr>\n  </tbody>\n</table>\n</div>"
     },
     "execution_count": 2,
     "metadata": {},
     "output_type": "execute_result"
    }
   ],
   "source": [
    "pokemon_df = pd.read_csv('dataset/pokemon_gen1.csv')\n",
    "pokemon_df.head()"
   ],
   "metadata": {
    "collapsed": false
   }
  },
  {
   "cell_type": "code",
   "execution_count": 3,
   "outputs": [
    {
     "data": {
      "text/plain": "              HP     Attack     Defense  Generation\ncount  160.00000  160.00000  160.000000       160.0\nmean    64.61250   74.98125   70.175000         1.0\nstd     27.92127   29.18009   28.883533         0.0\nmin     10.00000    5.00000    5.000000         1.0\n25%     45.00000   52.00000   50.000000         1.0\n50%     60.00000   71.00000   65.000000         1.0\n75%     80.00000   95.00000   85.000000         1.0\nmax    250.00000  155.00000  180.000000         1.0",
      "text/html": "<div>\n<style scoped>\n    .dataframe tbody tr th:only-of-type {\n        vertical-align: middle;\n    }\n\n    .dataframe tbody tr th {\n        vertical-align: top;\n    }\n\n    .dataframe thead th {\n        text-align: right;\n    }\n</style>\n<table border=\"1\" class=\"dataframe\">\n  <thead>\n    <tr style=\"text-align: right;\">\n      <th></th>\n      <th>HP</th>\n      <th>Attack</th>\n      <th>Defense</th>\n      <th>Generation</th>\n    </tr>\n  </thead>\n  <tbody>\n    <tr>\n      <th>count</th>\n      <td>160.00000</td>\n      <td>160.00000</td>\n      <td>160.000000</td>\n      <td>160.0</td>\n    </tr>\n    <tr>\n      <th>mean</th>\n      <td>64.61250</td>\n      <td>74.98125</td>\n      <td>70.175000</td>\n      <td>1.0</td>\n    </tr>\n    <tr>\n      <th>std</th>\n      <td>27.92127</td>\n      <td>29.18009</td>\n      <td>28.883533</td>\n      <td>0.0</td>\n    </tr>\n    <tr>\n      <th>min</th>\n      <td>10.00000</td>\n      <td>5.00000</td>\n      <td>5.000000</td>\n      <td>1.0</td>\n    </tr>\n    <tr>\n      <th>25%</th>\n      <td>45.00000</td>\n      <td>52.00000</td>\n      <td>50.000000</td>\n      <td>1.0</td>\n    </tr>\n    <tr>\n      <th>50%</th>\n      <td>60.00000</td>\n      <td>71.00000</td>\n      <td>65.000000</td>\n      <td>1.0</td>\n    </tr>\n    <tr>\n      <th>75%</th>\n      <td>80.00000</td>\n      <td>95.00000</td>\n      <td>85.000000</td>\n      <td>1.0</td>\n    </tr>\n    <tr>\n      <th>max</th>\n      <td>250.00000</td>\n      <td>155.00000</td>\n      <td>180.000000</td>\n      <td>1.0</td>\n    </tr>\n  </tbody>\n</table>\n</div>"
     },
     "execution_count": 3,
     "metadata": {},
     "output_type": "execute_result"
    }
   ],
   "source": [
    "pokemon_df.describe()"
   ],
   "metadata": {
    "collapsed": false
   }
  },
  {
   "cell_type": "code",
   "execution_count": 4,
   "outputs": [
    {
     "data": {
      "text/plain": "             Name   Type Legendary\ncount         160    160       160\nunique        160     15         1\ntop     Bulbasaur  Water     False\nfreq            1     31       160",
      "text/html": "<div>\n<style scoped>\n    .dataframe tbody tr th:only-of-type {\n        vertical-align: middle;\n    }\n\n    .dataframe tbody tr th {\n        vertical-align: top;\n    }\n\n    .dataframe thead th {\n        text-align: right;\n    }\n</style>\n<table border=\"1\" class=\"dataframe\">\n  <thead>\n    <tr style=\"text-align: right;\">\n      <th></th>\n      <th>Name</th>\n      <th>Type</th>\n      <th>Legendary</th>\n    </tr>\n  </thead>\n  <tbody>\n    <tr>\n      <th>count</th>\n      <td>160</td>\n      <td>160</td>\n      <td>160</td>\n    </tr>\n    <tr>\n      <th>unique</th>\n      <td>160</td>\n      <td>15</td>\n      <td>1</td>\n    </tr>\n    <tr>\n      <th>top</th>\n      <td>Bulbasaur</td>\n      <td>Water</td>\n      <td>False</td>\n    </tr>\n    <tr>\n      <th>freq</th>\n      <td>1</td>\n      <td>31</td>\n      <td>160</td>\n    </tr>\n  </tbody>\n</table>\n</div>"
     },
     "execution_count": 4,
     "metadata": {},
     "output_type": "execute_result"
    }
   ],
   "source": [
    "pokemon_df.describe(exclude='number')"
   ],
   "metadata": {
    "collapsed": false
   }
  },
  {
   "cell_type": "markdown",
   "source": [
    "## Introduction"
   ],
   "metadata": {
    "collapsed": false
   }
  },
  {
   "cell_type": "markdown",
   "source": [
    "### Removing features without variance\n",
    "A sample of the Pokemon dataset has been loaded as `pokemon_df`. To get an idea of which features have little variance  to calculate summary as above statistics on this sample. Then adjust the code to create a smaller, easier to understand, dataset."
   ],
   "metadata": {
    "collapsed": false
   }
  },
  {
   "cell_type": "code",
   "execution_count": 5,
   "outputs": [
    {
     "name": "stdout",
     "output_type": "stream",
     "text": [
      "   HP  Attack  Defense                   Name   Type  Legendary\n",
      "0  45      49       49              Bulbasaur  Grass      False\n",
      "1  60      62       63                Ivysaur  Grass      False\n",
      "2  80      82       83               Venusaur  Grass      False\n",
      "3  80     100      123  VenusaurMega Venusaur  Grass      False\n",
      "4  39      52       43             Charmander   Fire      False\n"
     ]
    }
   ],
   "source": [
    "# Remove the feature without variance from this list\n",
    "number_cols = ['HP', 'Attack', 'Defense']\n",
    "\n",
    "# Leave this list as is for now\n",
    "non_number_cols = ['Name', 'Type', 'Legendary']\n",
    "\n",
    "# Sub-select by combining the lists with chosen features\n",
    "df_selected = pokemon_df[number_cols + non_number_cols]\n",
    "\n",
    "# Prints the first 5 lines of the new DataFrame\n",
    "print(df_selected.head())"
   ],
   "metadata": {
    "collapsed": false
   }
  },
  {
   "cell_type": "code",
   "execution_count": 6,
   "outputs": [
    {
     "name": "stdout",
     "output_type": "stream",
     "text": [
      "   HP  Attack  Defense                   Name   Type\n",
      "0  45      49       49              Bulbasaur  Grass\n",
      "1  60      62       63                Ivysaur  Grass\n",
      "2  80      82       83               Venusaur  Grass\n",
      "3  80     100      123  VenusaurMega Venusaur  Grass\n",
      "4  39      52       43             Charmander   Fire\n"
     ]
    }
   ],
   "source": [
    "# Leave this list as is\n",
    "number_cols = ['HP', 'Attack', 'Defense']\n",
    "\n",
    "# Remove the feature without variance from this list\n",
    "non_number_cols = ['Name', 'Type' ]\n",
    "\n",
    "# Create a new dataframe by subselecting the chosen features\n",
    "df_selected = pokemon_df[number_cols + non_number_cols]\n",
    "\n",
    "# Prints the first 5 lines of the new dataframe\n",
    "print(df_selected.head())"
   ],
   "metadata": {
    "collapsed": false
   }
  },
  {
   "cell_type": "markdown",
   "source": [
    "All Pokemon in this dataset are non-legendary and from generation one so you could choose to drop those two features."
   ],
   "metadata": {
    "collapsed": false
   }
  },
  {
   "cell_type": "markdown",
   "source": [
    "## Feature selection vs feature extraction\n",
    "- Why reduce dimensionality?\n",
    "    - Your dataset will:\n",
    "        - be less complex\n",
    "        - require less disk space\n",
    "        - require less computation time\n",
    "        - have lower chance of model overfitting\n",
    "![feature](Images/feature.png)\n",
    "![feature](feature.png){#fig-feature}"
   ],
   "metadata": {
    "collapsed": false
   }
  },
  {
   "cell_type": "code",
   "execution_count": null,
   "outputs": [],
   "source": [],
   "metadata": {
    "collapsed": false
   }
  }
 ],
 "metadata": {
  "kernelspec": {
   "display_name": "Python 3",
   "language": "python",
   "name": "python3"
  },
  "language_info": {
   "codemirror_mode": {
    "name": "ipython",
    "version": 2
   },
   "file_extension": ".py",
   "mimetype": "text/x-python",
   "name": "python",
   "nbconvert_exporter": "python",
   "pygments_lexer": "ipython2",
   "version": "2.7.6"
  }
 },
 "nbformat": 4,
 "nbformat_minor": 0
}
