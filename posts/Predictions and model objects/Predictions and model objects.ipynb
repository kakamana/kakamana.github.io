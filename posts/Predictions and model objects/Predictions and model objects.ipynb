{
 "cells": [
  {
   "cell_type": "markdown",
   "source": [
    "---\n",
    "title: \"Predictions and model objects in linear regression\"\n",
    "format:\n",
    "  html:\n",
    "    code-fold: true\n",
    "jupyter: python3\n",
    "author: \"kakamana\"\n",
    "date: \"2023-01-08\"\n",
    "categories: [python, datacamp, statistics, machine learning, linear regression, logistic regression ]\n",
    "image: \"predictionModelObjects.jpg\"\n",
    "\n",
    "---"
   ],
   "metadata": {
    "collapsed": false,
    "pycharm": {
     "name": "#%% md\n"
    }
   }
  },
  {
   "cell_type": "markdown",
   "source": [
    "# Predictions and model objects\n",
    "\n",
    "This article explores how linear regression models can be used to predict Taiwanese house prices and Facebook advert clicks. Our regression skills will also be developed through the use of hands-on model objects, as well as the concept of \"regression to the mean\" and how to transform variables within a dataset.\n",
    "\n",
    "This **Simple Linear Regression Modeling** is part of [Datacamp course: Introduction to Regression with statsmodels in Python](https://app.datacamp.com/learn/courses/introduction-to-regression-with-statsmodels-in-python)\n",
    "\n",
    "This is my learning experience of data science through DataCamp"
   ],
   "metadata": {
    "collapsed": false,
    "pycharm": {
     "name": "#%% md\n"
    }
   }
  },
  {
   "cell_type": "markdown",
   "source": [
    "## Predicting house prices\n",
    "\n",
    "Predictions can be made using statistical models like linear regression. In other words, you specify each explanatory variable, feed it into the model, and get a prediction.\n"
   ],
   "metadata": {
    "collapsed": false,
    "pycharm": {
     "name": "#%% md\n"
    }
   }
  },
  {
   "cell_type": "code",
   "execution_count": 136,
   "outputs": [],
   "source": [
    "# Import numpy with alias np\n",
    "import numpy as np\n",
    "# Import seaborn with alias sns\n",
    "import pandas as pd\n",
    "import seaborn as sns\n",
    "# Import matplotlib.pyplot with alias plt\n",
    "import matplotlib.pyplot as plt\n",
    "# Import the ols function\n",
    "from statsmodels.formula.api import ols"
   ],
   "metadata": {
    "collapsed": false,
    "pycharm": {
     "name": "#%%\n"
    }
   }
  },
  {
   "cell_type": "code",
   "execution_count": 137,
   "outputs": [
    {
     "data": {
      "text/plain": "   dist_to_mrt_m  n_convenience house_age_years  price_twd_msq\n0       84.87882             10        30 to 45      11.467474\n1      306.59470              9        15 to 30      12.768533\n2      561.98450              5         0 to 15      14.311649\n3      561.98450              5         0 to 15      16.580938\n4      390.56840              5         0 to 15      13.040847",
      "text/html": "<div>\n<style scoped>\n    .dataframe tbody tr th:only-of-type {\n        vertical-align: middle;\n    }\n\n    .dataframe tbody tr th {\n        vertical-align: top;\n    }\n\n    .dataframe thead th {\n        text-align: right;\n    }\n</style>\n<table border=\"1\" class=\"dataframe\">\n  <thead>\n    <tr style=\"text-align: right;\">\n      <th></th>\n      <th>dist_to_mrt_m</th>\n      <th>n_convenience</th>\n      <th>house_age_years</th>\n      <th>price_twd_msq</th>\n    </tr>\n  </thead>\n  <tbody>\n    <tr>\n      <th>0</th>\n      <td>84.87882</td>\n      <td>10</td>\n      <td>30 to 45</td>\n      <td>11.467474</td>\n    </tr>\n    <tr>\n      <th>1</th>\n      <td>306.59470</td>\n      <td>9</td>\n      <td>15 to 30</td>\n      <td>12.768533</td>\n    </tr>\n    <tr>\n      <th>2</th>\n      <td>561.98450</td>\n      <td>5</td>\n      <td>0 to 15</td>\n      <td>14.311649</td>\n    </tr>\n    <tr>\n      <th>3</th>\n      <td>561.98450</td>\n      <td>5</td>\n      <td>0 to 15</td>\n      <td>16.580938</td>\n    </tr>\n    <tr>\n      <th>4</th>\n      <td>390.56840</td>\n      <td>5</td>\n      <td>0 to 15</td>\n      <td>13.040847</td>\n    </tr>\n  </tbody>\n</table>\n</div>"
     },
     "execution_count": 137,
     "metadata": {},
     "output_type": "execute_result"
    }
   ],
   "source": [
    "taiwan_real_estate=pd.read_csv(\"dataset/taiwan_real_estate2.csv\")\n",
    "taiwan_real_estate.head()"
   ],
   "metadata": {
    "collapsed": false,
    "pycharm": {
     "name": "#%%\n"
    }
   }
  },
  {
   "cell_type": "code",
   "execution_count": 138,
   "outputs": [
    {
     "name": "stdout",
     "output_type": "stream",
     "text": [
      "   n_convenience\n",
      "0              0\n",
      "1              1\n",
      "2              2\n",
      "3              3\n",
      "4              4\n",
      "5              5\n",
      "6              6\n",
      "7              7\n",
      "8              8\n",
      "9              9\n"
     ]
    }
   ],
   "source": [
    "# Create the explanatory_data\n",
    "explanatory_data = pd.DataFrame({'n_convenience': np.arange(0,10)})\n",
    "\n",
    "# Print it\n",
    "print(explanatory_data)"
   ],
   "metadata": {
    "collapsed": false,
    "pycharm": {
     "name": "#%%\n"
    }
   }
  },
  {
   "cell_type": "code",
   "execution_count": 139,
   "outputs": [],
   "source": [
    "mdl_price_vs_conv=ols(\"price_twd_msq ~ n_convenience\",data=taiwan_real_estate).fit()"
   ],
   "metadata": {
    "collapsed": false,
    "pycharm": {
     "name": "#%%\n"
    }
   }
  },
  {
   "cell_type": "code",
   "execution_count": 140,
   "outputs": [
    {
     "name": "stdout",
     "output_type": "stream",
     "text": [
      "0      8.224237\n",
      "1      9.022317\n",
      "2      9.820397\n",
      "3     10.618477\n",
      "4     11.416556\n",
      "5     12.214636\n",
      "6     13.012716\n",
      "7     13.810795\n",
      "8     14.608875\n",
      "9     15.406955\n",
      "10    16.205035\n",
      "dtype: float64\n"
     ]
    }
   ],
   "source": [
    "# Create explanatory_data\n",
    "explanatory_data = pd.DataFrame({'n_convenience': np.arange(0, 11)})\n",
    "\n",
    "# Use mdl_price_vs_conv to predict with explanatory_data, call it price_twd_msq\n",
    "price_twd_msq = mdl_price_vs_conv.predict(explanatory_data)\n",
    "\n",
    "# Print it\n",
    "print(price_twd_msq)"
   ],
   "metadata": {
    "collapsed": false,
    "pycharm": {
     "name": "#%%\n"
    }
   }
  },
  {
   "cell_type": "code",
   "execution_count": 141,
   "outputs": [
    {
     "name": "stdout",
     "output_type": "stream",
     "text": [
      "    n_convenience  price_twd_msq\n",
      "0               0       8.224237\n",
      "1               1       9.022317\n",
      "2               2       9.820397\n",
      "3               3      10.618477\n",
      "4               4      11.416556\n",
      "5               5      12.214636\n",
      "6               6      13.012716\n",
      "7               7      13.810795\n",
      "8               8      14.608875\n",
      "9               9      15.406955\n",
      "10             10      16.205035\n"
     ]
    }
   ],
   "source": [
    "# Create prediction_data\n",
    "prediction_data = explanatory_data.assign(\n",
    "    price_twd_msq = mdl_price_vs_conv.predict(explanatory_data))\n",
    "\n",
    "# Print the result\n",
    "print(prediction_data)"
   ],
   "metadata": {
    "collapsed": false,
    "pycharm": {
     "name": "#%%\n"
    }
   }
  },
  {
   "cell_type": "markdown",
   "source": [
    "## Visualizing predictions\n",
    "\n",
    "The prediction DataFrame you created contains a column of explanatory variable values and a column of response variable values. That means you can plot it on the same scatter plot of response versus explanatory data values"
   ],
   "metadata": {
    "collapsed": false,
    "pycharm": {
     "name": "#%% md\n"
    }
   }
  },
  {
   "cell_type": "code",
   "execution_count": 142,
   "outputs": [
    {
     "data": {
      "text/plain": "<Figure size 432x288 with 1 Axes>",
      "image/png": "[encoded data removed]"
     },
     "metadata": {
      "needs_background": "light"
     },
     "output_type": "display_data"
    },
    {
     "name": "stdout",
     "output_type": "stream",
     "text": [
      "\n",
      " the predicted points lie on the trend lin\n"
     ]
    }
   ],
   "source": [
    "# Create a new figure, fig\n",
    "fig = plt.figure()\n",
    "\n",
    "sns.regplot(x=\"n_convenience\",\n",
    "            y=\"price_twd_msq\",\n",
    "            data=taiwan_real_estate,\n",
    "            ci=None)\n",
    "# Add a scatter plot layer to the regplot\n",
    "sns.scatterplot(x='n_convenience',y='price_twd_msq',data=prediction_data,color='red',marker='s')\n",
    "\n",
    "# Show the layered plot\n",
    "plt.show()\n",
    "print(\"\\n the predicted points lie on the trend lin\")"
   ],
   "metadata": {
    "collapsed": false,
    "pycharm": {
     "name": "#%%\n"
    }
   }
  },
  {
   "cell_type": "markdown",
   "source": [
    "## Extracting model elements\n",
    "\n",
    "The model object created by ols() contains many elements. In order to perform further analysis on the model results, we need to extract its useful bits. The model coefficients, the fitted values, and the residuals are perhaps the most important pieces of the linear model object."
   ],
   "metadata": {
    "collapsed": false,
    "pycharm": {
     "name": "#%% md\n"
    }
   }
  },
  {
   "cell_type": "code",
   "execution_count": 143,
   "outputs": [
    {
     "name": "stdout",
     "output_type": "stream",
     "text": [
      "Intercept        8.224237\n",
      "n_convenience    0.798080\n",
      "dtype: float64\n"
     ]
    }
   ],
   "source": [
    "# Print the model parameters of mdl_price_vs_conv\n",
    "print(mdl_price_vs_conv.params)"
   ],
   "metadata": {
    "collapsed": false,
    "pycharm": {
     "name": "#%%\n"
    }
   }
  },
  {
   "cell_type": "code",
   "execution_count": 144,
   "outputs": [
    {
     "name": "stdout",
     "output_type": "stream",
     "text": [
      "0      16.205035\n",
      "1      15.406955\n",
      "2      12.214636\n",
      "3      12.214636\n",
      "4      12.214636\n",
      "         ...    \n",
      "409     8.224237\n",
      "410    15.406955\n",
      "411    13.810795\n",
      "412    12.214636\n",
      "413    15.406955\n",
      "Length: 414, dtype: float64\n"
     ]
    }
   ],
   "source": [
    "# Print the fitted values of mdl_price_vs_conv\n",
    "print(mdl_price_vs_conv.fittedvalues)"
   ],
   "metadata": {
    "collapsed": false,
    "pycharm": {
     "name": "#%%\n"
    }
   }
  },
  {
   "cell_type": "code",
   "execution_count": 145,
   "outputs": [
    {
     "name": "stdout",
     "output_type": "stream",
     "text": [
      "0     -4.737561\n",
      "1     -2.638422\n",
      "2      2.097013\n",
      "3      4.366302\n",
      "4      0.826211\n",
      "         ...   \n",
      "409   -3.564631\n",
      "410   -0.278362\n",
      "411   -1.526378\n",
      "412    3.670387\n",
      "413    3.927387\n",
      "Length: 414, dtype: float64\n"
     ]
    }
   ],
   "source": [
    "# Print the residuals of mdl_price_vs_conv\n",
    "print(mdl_price_vs_conv.resid)"
   ],
   "metadata": {
    "collapsed": false,
    "pycharm": {
     "name": "#%%\n"
    }
   }
  },
  {
   "cell_type": "code",
   "execution_count": 146,
   "outputs": [
    {
     "name": "stdout",
     "output_type": "stream",
     "text": [
      "                            OLS Regression Results                            \n",
      "==============================================================================\n",
      "Dep. Variable:          price_twd_msq   R-squared:                       0.326\n",
      "Model:                            OLS   Adj. R-squared:                  0.324\n",
      "Method:                 Least Squares   F-statistic:                     199.3\n",
      "Date:                Thu, 12 Jan 2023   Prob (F-statistic):           3.41e-37\n",
      "Time:                        17:11:19   Log-Likelihood:                -1091.1\n",
      "No. Observations:                 414   AIC:                             2186.\n",
      "Df Residuals:                     412   BIC:                             2194.\n",
      "Df Model:                           1                                         \n",
      "Covariance Type:            nonrobust                                         \n",
      "=================================================================================\n",
      "                    coef    std err          t      P>|t|      [0.025      0.975]\n",
      "---------------------------------------------------------------------------------\n",
      "Intercept         8.2242      0.285     28.857      0.000       7.664       8.784\n",
      "n_convenience     0.7981      0.057     14.118      0.000       0.687       0.909\n",
      "==============================================================================\n",
      "Omnibus:                      171.927   Durbin-Watson:                   1.993\n",
      "Prob(Omnibus):                  0.000   Jarque-Bera (JB):             1417.242\n",
      "Skew:                           1.553   Prob(JB):                    1.78e-308\n",
      "Kurtosis:                      11.516   Cond. No.                         8.87\n",
      "==============================================================================\n",
      "\n",
      "Notes:\n",
      "[1] Standard Errors assume that the covariance matrix of the errors is correctly specified.\n"
     ]
    }
   ],
   "source": [
    "# Print a summary of mdl_price_vs_conv\n",
    "print(mdl_price_vs_conv.summary())"
   ],
   "metadata": {
    "collapsed": false,
    "pycharm": {
     "name": "#%%\n"
    }
   }
  },
  {
   "cell_type": "markdown",
   "source": [
    "## Manually predicting house prices\n",
    "\n",
    "Using the model coefficients, you can manually calculate predictions. It's better to use .predict() when making predictions in real life, but doing it manually is helpful for reassuring yourself that predictions aren't magic.\n",
    "\n",
    "For simple linear regressions, the predicted value is the intercept plus the slope times the explanatory variable.\n",
    "\n",
    "response = intercept + slope * explanatory"
   ],
   "metadata": {
    "collapsed": false,
    "pycharm": {
     "name": "#%% md\n"
    }
   }
  },
  {
   "cell_type": "code",
   "execution_count": 147,
   "outputs": [
    {
     "name": "stdout",
     "output_type": "stream",
     "text": [
      "    n_convenience\n",
      "0        8.224237\n",
      "1        9.022317\n",
      "2        9.820397\n",
      "3       10.618477\n",
      "4       11.416556\n",
      "5       12.214636\n",
      "6       13.012716\n",
      "7       13.810795\n",
      "8       14.608875\n",
      "9       15.406955\n",
      "10      16.205035\n",
      "    n_convenience  predictions_auto\n",
      "0        8.224237          8.224237\n",
      "1        9.022317          9.022317\n",
      "2        9.820397          9.820397\n",
      "3       10.618477         10.618477\n",
      "4       11.416556         11.416556\n",
      "5       12.214636         12.214636\n",
      "6       13.012716         13.012716\n",
      "7       13.810795         13.810795\n",
      "8       14.608875         14.608875\n",
      "9       15.406955         15.406955\n",
      "10      16.205035         16.205035\n"
     ]
    }
   ],
   "source": [
    "# Get the coefficients of mdl_price_vs_conv\n",
    "coeffs = mdl_price_vs_conv.params\n",
    "\n",
    "# Get the intercept\n",
    "intercept = coeffs[0]\n",
    "\n",
    "# Get the slope\n",
    "slope = coeffs[1]\n",
    "\n",
    "# Manually calculate the predictions\n",
    "price_twd_msq = intercept + slope * explanatory_data\n",
    "print(price_twd_msq)\n",
    "\n",
    "# Compare to the results from .predict()\n",
    "print(price_twd_msq.assign(predictions_auto=mdl_price_vs_conv.predict(explanatory_data)))"
   ],
   "metadata": {
    "collapsed": false,
    "pycharm": {
     "name": "#%%\n"
    }
   }
  },
  {
   "cell_type": "markdown",
   "source": [
    "## Regression to mean\n",
    "\n",
    "* Response value = fitted value + residual\n",
    "* \"The stuff one can explain\" + \"the stuff once couldn't explain\"\n",
    "* Residuals exist due to problems in model and fundamental randomness\n",
    "* Extreme cases are often due to randomness\n",
    "* Regression to mean indicated extreme cases don't persist over time"
   ],
   "metadata": {
    "collapsed": false,
    "pycharm": {
     "name": "#%% md\n"
    }
   }
  },
  {
   "cell_type": "code",
   "execution_count": 148,
   "outputs": [
    {
     "data": {
      "text/plain": "  symbol  return_2018  return_2019\n0   AAPL    -0.053902     0.889578\n1   MSFT     0.207953     0.575581\n2   AMZN     0.284317     0.230278\n3     FB    -0.257112     0.565718\n4  GOOGL    -0.008012     0.281762",
      "text/html": "<div>\n<style scoped>\n    .dataframe tbody tr th:only-of-type {\n        vertical-align: middle;\n    }\n\n    .dataframe tbody tr th {\n        vertical-align: top;\n    }\n\n    .dataframe thead th {\n        text-align: right;\n    }\n</style>\n<table border=\"1\" class=\"dataframe\">\n  <thead>\n    <tr style=\"text-align: right;\">\n      <th></th>\n      <th>symbol</th>\n      <th>return_2018</th>\n      <th>return_2019</th>\n    </tr>\n  </thead>\n  <tbody>\n    <tr>\n      <th>0</th>\n      <td>AAPL</td>\n      <td>-0.053902</td>\n      <td>0.889578</td>\n    </tr>\n    <tr>\n      <th>1</th>\n      <td>MSFT</td>\n      <td>0.207953</td>\n      <td>0.575581</td>\n    </tr>\n    <tr>\n      <th>2</th>\n      <td>AMZN</td>\n      <td>0.284317</td>\n      <td>0.230278</td>\n    </tr>\n    <tr>\n      <th>3</th>\n      <td>FB</td>\n      <td>-0.257112</td>\n      <td>0.565718</td>\n    </tr>\n    <tr>\n      <th>4</th>\n      <td>GOOGL</td>\n      <td>-0.008012</td>\n      <td>0.281762</td>\n    </tr>\n  </tbody>\n</table>\n</div>"
     },
     "execution_count": 148,
     "metadata": {},
     "output_type": "execute_result"
    }
   ],
   "source": [
    "sp500_yearly_returns=pd.read_csv(\"dataset/sp500_yearly_returns.csv\")\n",
    "sp500_yearly_returns.head()"
   ],
   "metadata": {
    "collapsed": false,
    "pycharm": {
     "name": "#%%\n"
    }
   }
  },
  {
   "cell_type": "code",
   "execution_count": 149,
   "outputs": [
    {
     "data": {
      "text/plain": "<Figure size 432x288 with 1 Axes>",
      "image/png": "[encoded data removed]"
     },
     "metadata": {
      "needs_background": "light"
     },
     "output_type": "display_data"
    },
    {
     "name": "stdout",
     "output_type": "stream",
     "text": [
      "\n",
      " The regression trend line looks very different to the y equals x line. As the financial advisors say, \"Past performance is no guarantee of future results.\"\n"
     ]
    }
   ],
   "source": [
    "# Create a new figure, fig\n",
    "fig = plt.figure()\n",
    "\n",
    "# Plot the first layer: y = x\n",
    "plt.axline(xy1=(0,0), slope=1, linewidth=2, color=\"green\")\n",
    "\n",
    "# Add scatter plot with linear regression trend line\n",
    "sns.regplot(x='return_2018',y='return_2019',data=sp500_yearly_returns,ci=None,line_kws={'color':'black'})\n",
    "\n",
    "# Set the axes so that the distances along the x and y axes look the same\n",
    "plt.axis(\"equal\")\n",
    "\n",
    "# Show the plot\n",
    "plt.show()\n",
    "print('\\n The regression trend line looks very different to the y equals x line. As the financial advisors say, \"Past performance is no guarantee of future results.\"')"
   ],
   "metadata": {
    "collapsed": false,
    "pycharm": {
     "name": "#%%\n"
    }
   }
  },
  {
   "cell_type": "markdown",
   "source": [
    "## Modeling consecutive returns\n",
    "\n",
    "Let's quantify the relationship between returns in 2019 and 2018 by running a linear regression and making predictions. By looking at companies with extremely high or extremely low returns in 2018, we can see if their performance was similar in 2019"
   ],
   "metadata": {
    "collapsed": false,
    "pycharm": {
     "name": "#%% md\n"
    }
   }
  },
  {
   "cell_type": "code",
   "execution_count": 150,
   "outputs": [
    {
     "name": "stdout",
     "output_type": "stream",
     "text": [
      "Intercept      0.321321\n",
      "return_2018    0.020069\n",
      "dtype: float64\n",
      "0    0.301251\n",
      "1    0.321321\n",
      "2    0.341390\n",
      "dtype: float64\n",
      "\n",
      " Investments that gained a lot in value in 2018 on average gained only a small amount in 2019. Similarly, investments that lost a lot of value in 2018 on average also gained a small amount in 2019\n"
     ]
    }
   ],
   "source": [
    "# Run a linear regression on return_2019 vs. return_2018 using sp500_yearly_returns\n",
    "mdl_returns = ols(\"return_2019 ~ return_2018\",data=sp500_yearly_returns).fit()\n",
    "\n",
    "# Print the parameters\n",
    "print(mdl_returns.params)\n",
    "\n",
    "# Create a DataFrame with return_2018 at -1, 0, and 1\n",
    "explanatory_data = pd.DataFrame({'return_2018':[-1,0,1]})\n",
    "\n",
    "# Use mdl_returns to predict with explanatory_data\n",
    "print(mdl_returns.predict(explanatory_data))\n",
    "\n",
    "print(\"\\n Investments that gained a lot in value in 2018 on average gained only a small amount in 2019. Similarly, investments that lost a lot of value in 2018 on average also gained a small amount in 2019\")"
   ],
   "metadata": {
    "collapsed": false,
    "pycharm": {
     "name": "#%%\n"
    }
   }
  },
  {
   "cell_type": "markdown",
   "source": [
    "## Transforming the explanatory variable\n",
    "\n",
    "When there is no straight-line relationship between the response variable and the explanatory variable, it is sometimes possible to create one by transforming one or both. Let's transform the explanatory variable.\n",
    "\n",
    "We'll look at the Taiwan real estate dataset again, but we'll use the distance to the nearest MRT (metro) station as the explanatory variable. By taking the square root, you'll shorten the distance to the metro station for commuters."
   ],
   "metadata": {
    "collapsed": false,
    "pycharm": {
     "name": "#%% md\n"
    }
   }
  },
  {
   "cell_type": "code",
   "execution_count": 151,
   "outputs": [
    {
     "data": {
      "text/plain": "<Figure size 432x288 with 1 Axes>",
      "image/png": "[encoded data removed]"
     },
     "metadata": {
      "needs_background": "light"
     },
     "output_type": "display_data"
    }
   ],
   "source": [
    "# Create sqrt_dist_to_mrt_m\n",
    "taiwan_real_estate[\"sqrt_dist_to_mrt_m\"] = np.sqrt(taiwan_real_estate[\"dist_to_mrt_m\"])\n",
    "\n",
    "plt.figure()\n",
    "\n",
    "# Plot using the transformed variable\n",
    "sns.regplot(x='sqrt_dist_to_mrt_m',y='price_twd_msq',data=taiwan_real_estate)\n",
    "plt.show()"
   ],
   "metadata": {
    "collapsed": false,
    "pycharm": {
     "name": "#%%\n"
    }
   }
  },
  {
   "cell_type": "code",
   "execution_count": 152,
   "outputs": [
    {
     "name": "stdout",
     "output_type": "stream",
     "text": [
      "Intercept             16.709799\n",
      "sqrt_dist_to_mrt_m    -0.182843\n",
      "dtype: float64\n"
     ]
    }
   ],
   "source": [
    "# Run a linear regression of price_twd_msq vs. sqrt_dist_to_mrt_m\n",
    "mdl_price_vs_dist = ols(\"price_twd_msq ~ sqrt_dist_to_mrt_m\", data=taiwan_real_estate).fit()\n",
    "print(mdl_price_vs_dist.params)"
   ],
   "metadata": {
    "collapsed": false,
    "pycharm": {
     "name": "#%%\n"
    }
   }
  },
  {
   "cell_type": "code",
   "execution_count": 153,
   "outputs": [
    {
     "name": "stdout",
     "output_type": "stream",
     "text": [
      "   sqrt_dist_to_mrt_m  dist_to_mrt_m  price_twd_msq\n",
      "0                 0.0              0      16.709799\n",
      "1                10.0            100      14.881370\n",
      "2                20.0            400      13.052942\n",
      "3                30.0            900      11.224513\n",
      "4                40.0           1600       9.396085\n",
      "5                50.0           2500       7.567656\n",
      "6                60.0           3600       5.739227\n",
      "7                70.0           4900       3.910799\n",
      "8                80.0           6400       2.082370\n"
     ]
    }
   ],
   "source": [
    "# Create sqrt_dist_to_mrt_m\n",
    "taiwan_real_estate[\"sqrt_dist_to_mrt_m\"] = np.sqrt(taiwan_real_estate[\"dist_to_mrt_m\"])\n",
    "\n",
    "# Run a linear regression of price_twd_msq vs. sqrt_dist_to_mrt_m\n",
    "mdl_price_vs_dist = ols(\"price_twd_msq ~ sqrt_dist_to_mrt_m\", data=taiwan_real_estate).fit()\n",
    "\n",
    "explanatory_data = pd.DataFrame({\"sqrt_dist_to_mrt_m\": np.sqrt(np.arange(0, 81, 10) ** 2),\n",
    "                                \"dist_to_mrt_m\": np.arange(0, 81, 10) ** 2})\n",
    "\n",
    "# Create prediction_data by adding a column of predictions to explantory_data\n",
    "prediction_data = explanatory_data.assign(\n",
    "    price_twd_msq = mdl_price_vs_dist.predict(explanatory_data)\n",
    ")\n",
    "\n",
    "# Print the result\n",
    "print(prediction_data)"
   ],
   "metadata": {
    "collapsed": false,
    "pycharm": {
     "name": "#%%\n"
    }
   }
  },
  {
   "cell_type": "code",
   "execution_count": 154,
   "outputs": [
    {
     "data": {
      "text/plain": "<Figure size 432x288 with 1 Axes>",
      "image/png": "[encoded data removed]"
     },
     "metadata": {
      "needs_background": "light"
     },
     "output_type": "display_data"
    },
    {
     "name": "stdout",
     "output_type": "stream",
     "text": [
      "\n",
      " By transforming the explanatory variable, the relationship with the response variable became linear, and so a linear regression became an appropriate mode\n"
     ]
    }
   ],
   "source": [
    "# Create sqrt_dist_to_mrt_m\n",
    "taiwan_real_estate[\"sqrt_dist_to_mrt_m\"] = np.sqrt(taiwan_real_estate[\"dist_to_mrt_m\"])\n",
    "\n",
    "# Run a linear regression of price_twd_msq vs. sqrt_dist_to_mrt_m\n",
    "mdl_price_vs_dist = ols(\"price_twd_msq ~ sqrt_dist_to_mrt_m\", data=taiwan_real_estate).fit()\n",
    "\n",
    "# Use this explanatory data\n",
    "explanatory_data = pd.DataFrame({\"sqrt_dist_to_mrt_m\": np.sqrt(np.arange(0, 81, 10) ** 2),\n",
    "                                \"dist_to_mrt_m\": np.arange(0, 81, 10) ** 2})\n",
    "\n",
    "# Use mdl_price_vs_dist to predict explanatory_data\n",
    "prediction_data = explanatory_data.assign(\n",
    "    price_twd_msq = mdl_price_vs_dist.predict(explanatory_data)\n",
    ")\n",
    "\n",
    "fig = plt.figure()\n",
    "sns.regplot(x=\"sqrt_dist_to_mrt_m\", y=\"price_twd_msq\", data=taiwan_real_estate, ci=None)\n",
    "\n",
    "# Add a layer of your prediction points\n",
    "sns.scatterplot(data=prediction_data, x='sqrt_dist_to_mrt_m', y='price_twd_msq', color='red')\n",
    "plt.show()\n",
    "\n",
    "print(\"\\n By transforming the explanatory variable, the relationship with the response variable became linear, and so a linear regression became an appropriate mode\")"
   ],
   "metadata": {
    "collapsed": false,
    "pycharm": {
     "name": "#%%\n"
    }
   }
  },
  {
   "cell_type": "markdown",
   "source": [
    "## Transforming the response variable too\n",
    "\n",
    "The response variable can be transformed too, but this means you need an extra step at the end to undo that transformation. That is, you \"back transform\" the predictions"
   ],
   "metadata": {
    "collapsed": false,
    "pycharm": {
     "name": "#%% md\n"
    }
   }
  },
  {
   "cell_type": "code",
   "execution_count": 155,
   "outputs": [
    {
     "data": {
      "text/plain": "   spent_usd  n_impressions  n_clicks\n0       1.43           7350         1\n1       1.82          17861         2\n2       1.25           4259         1\n3       1.29           4133         1\n4       4.77          15615         3",
      "text/html": "<div>\n<style scoped>\n    .dataframe tbody tr th:only-of-type {\n        vertical-align: middle;\n    }\n\n    .dataframe tbody tr th {\n        vertical-align: top;\n    }\n\n    .dataframe thead th {\n        text-align: right;\n    }\n</style>\n<table border=\"1\" class=\"dataframe\">\n  <thead>\n    <tr style=\"text-align: right;\">\n      <th></th>\n      <th>spent_usd</th>\n      <th>n_impressions</th>\n      <th>n_clicks</th>\n    </tr>\n  </thead>\n  <tbody>\n    <tr>\n      <th>0</th>\n      <td>1.43</td>\n      <td>7350</td>\n      <td>1</td>\n    </tr>\n    <tr>\n      <th>1</th>\n      <td>1.82</td>\n      <td>17861</td>\n      <td>2</td>\n    </tr>\n    <tr>\n      <th>2</th>\n      <td>1.25</td>\n      <td>4259</td>\n      <td>1</td>\n    </tr>\n    <tr>\n      <th>3</th>\n      <td>1.29</td>\n      <td>4133</td>\n      <td>1</td>\n    </tr>\n    <tr>\n      <th>4</th>\n      <td>4.77</td>\n      <td>15615</td>\n      <td>3</td>\n    </tr>\n  </tbody>\n</table>\n</div>"
     },
     "execution_count": 155,
     "metadata": {},
     "output_type": "execute_result"
    }
   ],
   "source": [
    "ad_conversion=pd.read_csv('dataset/ad_conversion.csv')\n",
    "ad_conversion.head()"
   ],
   "metadata": {
    "collapsed": false,
    "pycharm": {
     "name": "#%%\n"
    }
   }
  },
  {
   "cell_type": "code",
   "execution_count": 156,
   "outputs": [
    {
     "data": {
      "text/plain": "<Figure size 432x288 with 1 Axes>",
      "image/png": "[encoded data removed]"
     },
     "metadata": {
      "needs_background": "light"
     },
     "output_type": "display_data"
    }
   ],
   "source": [
    "# Create qdrt_n_impressions and qdrt_n_clicks\n",
    "ad_conversion[\"qdrt_n_impressions\"] = ad_conversion['n_impressions'] ** 0.25\n",
    "ad_conversion[\"qdrt_n_clicks\"] = ad_conversion['n_clicks'] ** 0.25\n",
    "\n",
    "plt.figure()\n",
    "\n",
    "# Plot using the transformed variables\n",
    "sns.regplot(x='qdrt_n_impressions',y='qdrt_n_clicks',data=ad_conversion,ci=None)\n",
    "plt.show()"
   ],
   "metadata": {
    "collapsed": false,
    "pycharm": {
     "name": "#%%\n"
    }
   }
  },
  {
   "cell_type": "code",
   "execution_count": 157,
   "outputs": [
    {
     "name": "stdout",
     "output_type": "stream",
     "text": [
      "                            OLS Regression Results                            \n",
      "==============================================================================\n",
      "Dep. Variable:          qdrt_n_clicks   R-squared:                       0.945\n",
      "Model:                            OLS   Adj. R-squared:                  0.944\n",
      "Method:                 Least Squares   F-statistic:                 1.590e+04\n",
      "Date:                Thu, 12 Jan 2023   Prob (F-statistic):               0.00\n",
      "Time:                        17:11:20   Log-Likelihood:                 193.90\n",
      "No. Observations:                 936   AIC:                            -383.8\n",
      "Df Residuals:                     934   BIC:                            -374.1\n",
      "Df Model:                           1                                         \n",
      "Covariance Type:            nonrobust                                         \n",
      "======================================================================================\n",
      "                         coef    std err          t      P>|t|      [0.025      0.975]\n",
      "--------------------------------------------------------------------------------------\n",
      "Intercept              0.0717      0.017      4.171      0.000       0.038       0.106\n",
      "qdrt_n_impressions     0.1115      0.001    126.108      0.000       0.110       0.113\n",
      "==============================================================================\n",
      "Omnibus:                       11.447   Durbin-Watson:                   0.568\n",
      "Prob(Omnibus):                  0.003   Jarque-Bera (JB):               10.637\n",
      "Skew:                          -0.216   Prob(JB):                      0.00490\n",
      "Kurtosis:                       2.707   Cond. No.                         52.1\n",
      "==============================================================================\n",
      "\n",
      "Notes:\n",
      "[1] Standard Errors assume that the covariance matrix of the errors is correctly specified.\n"
     ]
    }
   ],
   "source": [
    "# From previous step\n",
    "ad_conversion[\"qdrt_n_impressions\"] = ad_conversion[\"n_impressions\"] ** 0.25\n",
    "ad_conversion[\"qdrt_n_clicks\"] = ad_conversion[\"n_clicks\"] ** 0.25\n",
    "\n",
    "# Run a linear regression of your transformed variables\n",
    "mdl_click_vs_impression = ols('qdrt_n_clicks ~ qdrt_n_impressions', data=ad_conversion).fit()\n",
    "print(mdl_click_vs_impression.summary())"
   ],
   "metadata": {
    "collapsed": false,
    "pycharm": {
     "name": "#%%\n"
    }
   }
  },
  {
   "cell_type": "code",
   "execution_count": 158,
   "outputs": [
    {
     "name": "stdout",
     "output_type": "stream",
     "text": [
      "   qdrt_n_impressions  n_impressions  qdrt_n_clicks\n",
      "0            0.000000            0.0       0.071748\n",
      "1           26.591479       500000.0       3.037576\n",
      "2           31.622777      1000000.0       3.598732\n",
      "3           34.996355      1500000.0       3.974998\n",
      "4           37.606031      2000000.0       4.266063\n",
      "5           39.763536      2500000.0       4.506696\n",
      "6           41.617915      3000000.0       4.713520\n",
      "\n",
      " Since the response variable has been transformed, you'll now need to back-transform the predictions to correctly interpret your result\n"
     ]
    },
    {
     "name": "stderr",
     "output_type": "stream",
     "text": [
      "C:\\Users\\dghr201\\AppData\\Local\\Programs\\Python\\Python39\\lib\\site-packages\\statsmodels\\base\\model.py:127: ValueWarning: unknown kwargs ['ci']\n",
      "  warnings.warn(msg, ValueWarning)\n"
     ]
    }
   ],
   "source": [
    "# From previous steps\n",
    "ad_conversion[\"qdrt_n_impressions\"] = ad_conversion[\"n_impressions\"] ** 0.25\n",
    "ad_conversion[\"qdrt_n_clicks\"] = ad_conversion[\"n_clicks\"] ** 0.25\n",
    "\n",
    "mdl_click_vs_impression = ols(\"qdrt_n_clicks ~ qdrt_n_impressions\", data=ad_conversion, ci=None).fit()\n",
    "\n",
    "# Use this explanatory data\n",
    "explanatory_data = pd.DataFrame({\"qdrt_n_impressions\": np.arange(0, 3e6+1, 5e5) ** .25,\n",
    "                                 \"n_impressions\": np.arange(0, 3e6+1, 5e5)})\n",
    "\n",
    "# Complete prediction_data\n",
    "prediction_data = explanatory_data.assign(\n",
    "    qdrt_n_clicks = mdl_click_vs_impression.predict(explanatory_data)\n",
    ")\n",
    "\n",
    "# Print the result\n",
    "print(prediction_data)\n",
    "print(\"\\n Since the response variable has been transformed, you'll now need to back-transform the predictions to correctly interpret your result\")"
   ],
   "metadata": {
    "collapsed": false,
    "pycharm": {
     "name": "#%%\n"
    }
   }
  },
  {
   "cell_type": "markdown",
   "source": [
    "## Back transformation\n",
    "\n",
    "In the previous section, we transformed the response variable, ran a regression, and made predictions. However, we are not yet finished! We will need to perform a back-transformation in order to interpret and visualize your predictions correctly."
   ],
   "metadata": {
    "collapsed": false,
    "pycharm": {
     "name": "#%% md\n"
    }
   }
  },
  {
   "cell_type": "code",
   "execution_count": 159,
   "outputs": [
    {
     "name": "stdout",
     "output_type": "stream",
     "text": [
      "   qdrt_n_impressions  n_impressions  qdrt_n_clicks    n_clicks\n",
      "0            0.000000            0.0       0.071748    0.000026\n",
      "1           26.591479       500000.0       3.037576   85.135121\n",
      "2           31.622777      1000000.0       3.598732  167.725102\n",
      "3           34.996355      1500000.0       3.974998  249.659131\n",
      "4           37.606031      2000000.0       4.266063  331.214159\n",
      "5           39.763536      2500000.0       4.506696  412.508546\n",
      "6           41.617915      3000000.0       4.713520  493.607180\n"
     ]
    }
   ],
   "source": [
    "# Back transform qdrt_n_clicks\n",
    "prediction_data[\"n_clicks\"] = prediction_data['qdrt_n_clicks'] ** 4\n",
    "print(prediction_data)"
   ],
   "metadata": {
    "collapsed": false,
    "pycharm": {
     "name": "#%%\n"
    }
   }
  },
  {
   "cell_type": "code",
   "execution_count": 160,
   "outputs": [
    {
     "data": {
      "text/plain": "<Figure size 432x288 with 1 Axes>",
      "image/png": "[encoded data removed]"
     },
     "metadata": {
      "needs_background": "light"
     },
     "output_type": "display_data"
    },
    {
     "name": "stdout",
     "output_type": "stream",
     "text": [
      "\n",
      " Notice that your back-transformed predictions nicely follow the trend line and allow you to make more accurate predictions\n"
     ]
    }
   ],
   "source": [
    "# Plot the transformed variables\n",
    "fig = plt.figure()\n",
    "sns.regplot(x=\"qdrt_n_impressions\", y=\"qdrt_n_clicks\", data=ad_conversion, ci=None)\n",
    "\n",
    "# Add a layer of your prediction points\n",
    "sns.scatterplot(data=prediction_data, x='qdrt_n_impressions', y='qdrt_n_clicks', color='red')\n",
    "plt.show()\n",
    "print(\"\\n Notice that your back-transformed predictions nicely follow the trend line and allow you to make more accurate predictions\")"
   ],
   "metadata": {
    "collapsed": false,
    "pycharm": {
     "name": "#%%\n"
    }
   }
  },
  {
   "cell_type": "code",
   "execution_count": 160,
   "outputs": [],
   "source": [],
   "metadata": {
    "collapsed": false,
    "pycharm": {
     "name": "#%%\n"
    }
   }
  }
 ],
 "metadata": {
  "kernelspec": {
   "display_name": "Python 3",
   "language": "python",
   "name": "python3"
  },
  "language_info": {
   "codemirror_mode": {
    "name": "ipython",
    "version": 2
   },
   "file_extension": ".py",
   "mimetype": "text/x-python",
   "name": "python",
   "nbconvert_exporter": "python",
   "pygments_lexer": "ipython2",
   "version": "2.7.6"
  }
 },
 "nbformat": 4,
 "nbformat_minor": 0
}